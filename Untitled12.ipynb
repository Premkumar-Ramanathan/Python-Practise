{
 "cells": [
  {
   "cell_type": "code",
   "execution_count": 3,
   "id": "bf7ca205",
   "metadata": {},
   "outputs": [
    {
     "name": "stdout",
     "output_type": "stream",
     "text": [
      "[1, 4, 9, 16, 25, 36, 49, 64, 81, 100]\n"
     ]
    }
   ],
   "source": [
    "l=[1,2,3,4,5,6,7,8,9,10]\n",
    "def sq(num):\n",
    "    return num*num\n",
    "l1=list(map(sq,l))\n",
    "print(l1)"
   ]
  },
  {
   "cell_type": "code",
   "execution_count": 2,
   "id": "e49ca85c",
   "metadata": {},
   "outputs": [],
   "source": [
    "def sq(num):\n",
    "    return num*num"
   ]
  },
  {
   "cell_type": "code",
   "execution_count": null,
   "id": "5b2edefc",
   "metadata": {},
   "outputs": [],
   "source": [
    "sq1=lambda x: x*x"
   ]
  },
  {
   "cell_type": "code",
   "execution_count": null,
   "id": "fdfc7dc9",
   "metadata": {},
   "outputs": [],
   "source": [
    "l2=list(map(sq1,l))"
   ]
  },
  {
   "cell_type": "code",
   "execution_count": 4,
   "id": "ba58fa81",
   "metadata": {},
   "outputs": [
    {
     "name": "stdout",
     "output_type": "stream",
     "text": [
      "[1, 4, 9, 16, 25, 36, 49, 64, 81, 100]\n"
     ]
    }
   ],
   "source": [
    "l3=list(map(lambda x: x*x,l))\n",
    "print(l3)"
   ]
  },
  {
   "cell_type": "code",
   "execution_count": 6,
   "id": "323b52ef",
   "metadata": {},
   "outputs": [
    {
     "name": "stdout",
     "output_type": "stream",
     "text": [
      "[3, 6, 9, 12, 15, 18, 21, 24, 27, 30]\n"
     ]
    }
   ],
   "source": [
    "mul3=list(map(lambda x: x*3,l))\n",
    "print(mul3)"
   ]
  },
  {
   "cell_type": "code",
   "execution_count": 7,
   "id": "5dc5d36c",
   "metadata": {},
   "outputs": [
    {
     "name": "stdout",
     "output_type": "stream",
     "text": [
      "[4, 8, 12, 16, 20, 24, 28, 32, 36, 40]\n"
     ]
    }
   ],
   "source": [
    "mul4=list(map(lambda x: x*4, l))\n",
    "print(mul4)"
   ]
  },
  {
   "cell_type": "code",
   "execution_count": 15,
   "id": "585c0cac",
   "metadata": {},
   "outputs": [
    {
     "name": "stdout",
     "output_type": "stream",
     "text": [
      "['ARAVIND', 'ARPIT', 'MANJEET']\n"
     ]
    }
   ],
   "source": [
    "students=[{'name': 'Aravind', 'rank': 19}, {'name': 'Arpit', 'rank': 20}, {'name': 'Manjeet', 'rank': 20}]\n",
    "students_upper=list(map(lambda x: (x['name']).upper(),students))\n",
    "print(students_upper)\n"
   ]
  },
  {
   "cell_type": "code",
   "execution_count": 21,
   "id": "a025497d",
   "metadata": {},
   "outputs": [
    {
     "name": "stdout",
     "output_type": "stream",
     "text": [
      "[{'name': 'ARAVIND', 'rank': 19}, {'name': 'ARPIT', 'rank': 20}, {'name': 'MANJEET', 'rank': 20}]\n"
     ]
    }
   ],
   "source": [
    "students=[{'name': 'Aravind', 'rank': 19}, {'name': 'Arpit', 'rank': 20}, {'name': 'Manjeet', 'rank': 20}]\n",
    "a={}\n",
    "l=[]\n",
    "for x in students:\n",
    "    a['name']=x['name'].upper()\n",
    "    a['rank']=x['rank']\n",
    "    l.append(a)\n",
    "    a={}\n",
    "print(l)"
   ]
  },
  {
   "cell_type": "code",
   "execution_count": 17,
   "id": "b34d15de",
   "metadata": {},
   "outputs": [
    {
     "name": "stdout",
     "output_type": "stream",
     "text": [
      "[{'name': 'Aravind', 'rank': 19}, {'name': 'Arpit', 'rank': 20}, {'name': 'Manjeet', 'rank': 20}]\n"
     ]
    }
   ],
   "source": [
    "print(students)"
   ]
  },
  {
   "cell_type": "code",
   "execution_count": 22,
   "id": "f78dbf59",
   "metadata": {},
   "outputs": [
    {
     "name": "stdout",
     "output_type": "stream",
     "text": [
      "{'manish': 1, 'prem': 2, 'kiran': 3}\n"
     ]
    }
   ],
   "source": [
    "names=['manish','prem','kiran']\n",
    "roll=[1,2,3]\n",
    "d=dict(zip(names,roll))\n",
    "print(d)"
   ]
  },
  {
   "cell_type": "code",
   "execution_count": 25,
   "id": "2212d7a4",
   "metadata": {},
   "outputs": [
    {
     "name": "stdout",
     "output_type": "stream",
     "text": [
      "[7, 9, 11, 13, 15, 17]\n"
     ]
    }
   ],
   "source": [
    "from functools import reduce\n",
    "l1=[1,2,3,4,5,6]\n",
    "l2=[6,7,8,9,10,11]\n",
    "l3=list(map(lambda x,y: x+y,l1,l2))\n",
    "print(l3)"
   ]
  },
  {
   "cell_type": "code",
   "execution_count": 28,
   "id": "aa76c95a",
   "metadata": {},
   "outputs": [
    {
     "name": "stdout",
     "output_type": "stream",
     "text": [
      "['e']\n"
     ]
    }
   ],
   "source": [
    "name='Prem'\n",
    "x=lambda a:a if a.lower() in 'aeiou' else ''\n",
    "y=list(filter(x,name))\n",
    "print(y)"
   ]
  },
  {
   "cell_type": "code",
   "execution_count": 27,
   "id": "256d33ff",
   "metadata": {},
   "outputs": [
    {
     "name": "stdout",
     "output_type": "stream",
     "text": [
      "Prem\n",
      "['e']\n"
     ]
    }
   ],
   "source": [
    "name=str(input())\n",
    "vowels=['a','e','i','o','u']\n",
    "x= lambda a:a if a in vowels else ''\n",
    "y=list(filter(x,name))\n",
    "print(y)"
   ]
  },
  {
   "cell_type": "code",
   "execution_count": 30,
   "id": "3ffbe0d8",
   "metadata": {},
   "outputs": [
    {
     "ename": "NameError",
     "evalue": "name 'data' is not defined",
     "output_type": "error",
     "traceback": [
      "\u001b[1;31m---------------------------------------------------------------------------\u001b[0m",
      "\u001b[1;31mNameError\u001b[0m                                 Traceback (most recent call last)",
      "Cell \u001b[1;32mIn[30], line 1\u001b[0m\n\u001b[1;32m----> 1\u001b[0m data\u001b[38;5;241m-\u001b[39m{\u001b[38;5;124m'\u001b[39m\u001b[38;5;124ma\u001b[39m\u001b[38;5;124m'\u001b[39m:\u001b[38;5;241m1\u001b[39m,\u001b[38;5;124m'\u001b[39m\u001b[38;5;124mb\u001b[39m\u001b[38;5;124m'\u001b[39m:\u001b[38;5;241m2\u001b[39m}\n\u001b[0;32m      2\u001b[0m \u001b[38;5;28mprint\u001b[39m(data[\u001b[38;5;124m'\u001b[39m\u001b[38;5;124mc\u001b[39m\u001b[38;5;124m'\u001b[39m])\n",
      "\u001b[1;31mNameError\u001b[0m: name 'data' is not defined"
     ]
    }
   ],
   "source": [
    "data-{'a':1,'b':2}\n",
    "print(data['c'])"
   ]
  },
  {
   "cell_type": "code",
   "execution_count": 32,
   "id": "e15822ab",
   "metadata": {},
   "outputs": [
    {
     "data": {
      "text/plain": [
       "[(45, 23), (45, 44), (45, 88), (45, 98)]"
      ]
     },
     "execution_count": 32,
     "metadata": {},
     "output_type": "execute_result"
    }
   ],
   "source": [
    "data=[(45,23),(45,88),(45,98),(45,44)]\n",
    "sorted(data,key=lambda x:x[1],reverse=False)"
   ]
  },
  {
   "cell_type": "code",
   "execution_count": null,
   "id": "51e9e8b0",
   "metadata": {},
   "outputs": [],
   "source": []
  }
 ],
 "metadata": {
  "kernelspec": {
   "display_name": "Python 3 (ipykernel)",
   "language": "python",
   "name": "python3"
  },
  "language_info": {
   "codemirror_mode": {
    "name": "ipython",
    "version": 3
   },
   "file_extension": ".py",
   "mimetype": "text/x-python",
   "name": "python",
   "nbconvert_exporter": "python",
   "pygments_lexer": "ipython3",
   "version": "3.11.4"
  }
 },
 "nbformat": 4,
 "nbformat_minor": 5
}
