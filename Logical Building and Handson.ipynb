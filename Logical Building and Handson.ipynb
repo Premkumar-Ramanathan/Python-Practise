{
 "cells": [
  {
   "cell_type": "code",
   "execution_count": 2,
   "id": "ec54cbf1",
   "metadata": {},
   "outputs": [
    {
     "name": "stdout",
     "output_type": "stream",
     "text": [
      "['Even', 'Odd', 'Even', 'Even', 'Odd', 'Odd']\n"
     ]
    }
   ],
   "source": [
    "list1=[2,1,4,6,3,5]\n",
    "output=[]\n",
    "for i in list1:\n",
    "    if i%2==0:\n",
    "        output.append('Even')\n",
    "    else:\n",
    "        output.append('Odd')\n",
    "print(output)"
   ]
  },
  {
   "cell_type": "code",
   "execution_count": 3,
   "id": "3e085df7",
   "metadata": {},
   "outputs": [
    {
     "name": "stdout",
     "output_type": "stream",
     "text": [
      "Enter User Name:asdasf\n",
      "Enter Password:adsadf\n",
      "Wrong user id, pls enter correct user id\n"
     ]
    }
   ],
   "source": [
    "n=0\n",
    "login=False\n",
    "while n<4:\n",
    "    user=input('Enter User Name:')\n",
    "    password=input('Enter Password:')\n",
    "    n=n+1\n",
    "    if user=='root':\n",
    "        if password=='root':\n",
    "            print('Login Successful')\n",
    "            login=True\n",
    "            break\n",
    "        else:\n",
    "            print('Password entered is wrong, pls try again')\n",
    "    else:\n",
    "        print('Wrong user id, pls enter correct user id')\n",
    "        break\n",
    "if n==4 & login==False:\n",
    "    print('You have exceeded maximum number of attempts, contact System Admin')\n"
   ]
  },
  {
   "cell_type": "code",
   "execution_count": 14,
   "id": "9c075479",
   "metadata": {},
   "outputs": [
    {
     "name": "stdout",
     "output_type": "stream",
     "text": [
      "3\n"
     ]
    },
    {
     "ename": "TypeError",
     "evalue": "'int' object is not iterable",
     "output_type": "error",
     "traceback": [
      "\u001b[1;31m---------------------------------------------------------------------------\u001b[0m",
      "\u001b[1;31mTypeError\u001b[0m                                 Traceback (most recent call last)",
      "Cell \u001b[1;32mIn[14], line 4\u001b[0m\n\u001b[0;32m      2\u001b[0m l\u001b[38;5;241m=\u001b[39m\u001b[38;5;28mlen\u001b[39m(marks)\n\u001b[0;32m      3\u001b[0m \u001b[38;5;28mprint\u001b[39m(l)\n\u001b[1;32m----> 4\u001b[0m \u001b[38;5;28;01mfor\u001b[39;00m i \u001b[38;5;129;01min\u001b[39;00m (l\u001b[38;5;241m-\u001b[39m\u001b[38;5;241m1\u001b[39m):\n\u001b[0;32m      5\u001b[0m     \u001b[38;5;28;01mfor\u001b[39;00m j \u001b[38;5;129;01min\u001b[39;00m (i\u001b[38;5;241m+\u001b[39m\u001b[38;5;241m1\u001b[39m,l):\n\u001b[0;32m      6\u001b[0m         \u001b[38;5;28;01mif\u001b[39;00m marks[i][\u001b[38;5;241m1\u001b[39m]\u001b[38;5;241m>\u001b[39mmarks[j][\u001b[38;5;241m1\u001b[39m]:\n",
      "\u001b[1;31mTypeError\u001b[0m: 'int' object is not iterable"
     ]
    }
   ],
   "source": [
    "marks={'Shyam': 15, 'Ravi': 6, 'Ram': 10}\n",
    "l=len(marks)\n",
    "print(l)\n",
    "for i in (l-1):\n",
    "    for j in (i+1,l):\n",
    "        if marks[i][1]>marks[j][1]:\n",
    "            t=marks[i]\n",
    "            marks[i]=marks[j]\n",
    "            marks[j]=t\n",
    "sortmarks=dict(marks)\n",
    "print(sortmarks)\n",
    "        "
   ]
  },
  {
   "cell_type": "code",
   "execution_count": null,
   "id": "1d49aab7",
   "metadata": {},
   "outputs": [],
   "source": []
  }
 ],
 "metadata": {
  "kernelspec": {
   "display_name": "Python 3 (ipykernel)",
   "language": "python",
   "name": "python3"
  },
  "language_info": {
   "codemirror_mode": {
    "name": "ipython",
    "version": 3
   },
   "file_extension": ".py",
   "mimetype": "text/x-python",
   "name": "python",
   "nbconvert_exporter": "python",
   "pygments_lexer": "ipython3",
   "version": "3.11.4"
  }
 },
 "nbformat": 4,
 "nbformat_minor": 5
}
