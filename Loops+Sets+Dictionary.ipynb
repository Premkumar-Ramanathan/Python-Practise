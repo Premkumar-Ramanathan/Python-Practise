{
 "cells": [
  {
   "cell_type": "code",
   "execution_count": 5,
   "id": "682c56f8",
   "metadata": {},
   "outputs": [
    {
     "name": "stdout",
     "output_type": "stream",
     "text": [
      "0\n",
      "1\n",
      "2\n"
     ]
    }
   ],
   "source": [
    "for i in range(3):\n",
    "    print(i)"
   ]
  },
  {
   "cell_type": "code",
   "execution_count": 6,
   "id": "706ee5f3",
   "metadata": {},
   "outputs": [
    {
     "name": "stdout",
     "output_type": "stream",
     "text": [
      "10\n",
      "9\n",
      "8\n",
      "7\n",
      "6\n",
      "5\n",
      "4\n",
      "3\n",
      "2\n"
     ]
    }
   ],
   "source": [
    "for i in range(10,1,-1):\n",
    "    print(i)"
   ]
  },
  {
   "cell_type": "code",
   "execution_count": null,
   "id": "963ad4f5",
   "metadata": {},
   "outputs": [],
   "source": [
    "i=0\n",
    "while i<10:\n",
    "    print(i)\n",
    "    i+=1"
   ]
  },
  {
   "cell_type": "code",
   "execution_count": null,
   "id": "4c363a89",
   "metadata": {},
   "outputs": [],
   "source": [
    "ch='y'\n",
    "while ch=='y':\n",
    "    print('UpGrad')\n",
    "    ch=input('Enter (y/n)')"
   ]
  },
  {
   "cell_type": "code",
   "execution_count": 2,
   "id": "8fbfc8f4",
   "metadata": {},
   "outputs": [
    {
     "name": "stdout",
     "output_type": "stream",
     "text": [
      "{'UAE', 'USA', 'Germany', 'Switzerland', 'Thailand'}\n",
      "<class 'set'>\n"
     ]
    }
   ],
   "source": [
    "#SETS\n",
    "countries={'USA','Switzerland','Thailand','Germany','UAE'} #not ordered\n",
    "print(countries)\n",
    "print(type(countries))"
   ]
  },
  {
   "cell_type": "code",
   "execution_count": 4,
   "id": "4e5f87c5",
   "metadata": {},
   "outputs": [],
   "source": [
    "countries.add('UAE') #duplicates are not allowed"
   ]
  },
  {
   "cell_type": "code",
   "execution_count": 5,
   "id": "02ed35ac",
   "metadata": {},
   "outputs": [
    {
     "data": {
      "text/plain": [
       "{'Germany', 'Switzerland', 'Thailand', 'UAE', 'USA'}"
      ]
     },
     "execution_count": 5,
     "metadata": {},
     "output_type": "execute_result"
    }
   ],
   "source": [
    "countries"
   ]
  },
  {
   "cell_type": "code",
   "execution_count": 12,
   "id": "8f2128dd",
   "metadata": {},
   "outputs": [],
   "source": [
    "kkkg={'Amitabh','Sharukh','Kajol','Jaya','Hrithik','Kareena'}"
   ]
  },
  {
   "cell_type": "code",
   "execution_count": 7,
   "id": "07d7411d",
   "metadata": {},
   "outputs": [
    {
     "data": {
      "text/plain": [
       "{'Amitabh', 'Hrithik', 'Jaya', 'Kajol', 'Kareena', 'Sharukh'}"
      ]
     },
     "execution_count": 7,
     "metadata": {},
     "output_type": "execute_result"
    }
   ],
   "source": [
    "kkkg"
   ]
  },
  {
   "cell_type": "code",
   "execution_count": 8,
   "id": "87c5edf4",
   "metadata": {},
   "outputs": [
    {
     "ename": "TypeError",
     "evalue": "'set' object is not subscriptable",
     "output_type": "error",
     "traceback": [
      "\u001b[1;31m---------------------------------------------------------------------------\u001b[0m",
      "\u001b[1;31mTypeError\u001b[0m                                 Traceback (most recent call last)",
      "Cell \u001b[1;32mIn[8], line 1\u001b[0m\n\u001b[1;32m----> 1\u001b[0m kkkg[\u001b[38;5;241m2\u001b[39m]\n",
      "\u001b[1;31mTypeError\u001b[0m: 'set' object is not subscriptable"
     ]
    }
   ],
   "source": [
    "kkkg[2] #unordered, no indexing allowed"
   ]
  },
  {
   "cell_type": "code",
   "execution_count": 13,
   "id": "98f91139",
   "metadata": {},
   "outputs": [],
   "source": [
    "mohab={'Amitabh','Sharukh','Jimmy','Anupam','Ambrish','Archana','Aishwarya'}"
   ]
  },
  {
   "cell_type": "code",
   "execution_count": 11,
   "id": "50f5e3e8",
   "metadata": {},
   "outputs": [
    {
     "data": {
      "text/plain": [
       "{'Amitabh', 'Sharukh'}"
      ]
     },
     "execution_count": 11,
     "metadata": {},
     "output_type": "execute_result"
    }
   ],
   "source": [
    "#actors which are present in kkkg and mohabbatein\n",
    "kkkg.intersection(mohab)"
   ]
  },
  {
   "cell_type": "code",
   "execution_count": 12,
   "id": "d841c56e",
   "metadata": {},
   "outputs": [
    {
     "data": {
      "text/plain": [
       "{'Hrithik', 'Jaya', 'Kajol', 'Kareena'}"
      ]
     },
     "execution_count": 12,
     "metadata": {},
     "output_type": "execute_result"
    }
   ],
   "source": [
    "#actors present in kkkg but not in mohabbatein\n",
    "kkkg.difference(mohab)"
   ]
  },
  {
   "cell_type": "code",
   "execution_count": 14,
   "id": "3d2f6694",
   "metadata": {},
   "outputs": [
    {
     "data": {
      "text/plain": [
       "{'Hrithik', 'Jaya', 'Kajol', 'Kareena'}"
      ]
     },
     "execution_count": 14,
     "metadata": {},
     "output_type": "execute_result"
    }
   ],
   "source": [
    "kkkg-mohab"
   ]
  },
  {
   "cell_type": "code",
   "execution_count": null,
   "id": "9f988a71",
   "metadata": {},
   "outputs": [],
   "source": []
  },
  {
   "cell_type": "code",
   "execution_count": 13,
   "id": "72b2f6d1",
   "metadata": {},
   "outputs": [
    {
     "data": {
      "text/plain": [
       "{'Aishwarya', 'Ambrish', 'Anupam', 'Archana', 'Jimmy'}"
      ]
     },
     "execution_count": 13,
     "metadata": {},
     "output_type": "execute_result"
    }
   ],
   "source": [
    "#actors present in mohabbatein but not in kkkg\n",
    "mohab.difference(kkkg)"
   ]
  },
  {
   "cell_type": "code",
   "execution_count": 23,
   "id": "2b93d9aa",
   "metadata": {},
   "outputs": [
    {
     "name": "stdout",
     "output_type": "stream",
     "text": [
      "[4, 5, 6, 7]\n"
     ]
    }
   ],
   "source": [
    "#finding common elements between two lists\n",
    "l=[1,2,3,4,5,6,7]\n",
    "l1=[4,5,6,7,8,9]\n",
    "final=[]\n",
    "\n",
    "for i in l:\n",
    "    if i in l1:\n",
    "        final.append(i)\n",
    "print(final)"
   ]
  },
  {
   "cell_type": "code",
   "execution_count": 17,
   "id": "3ab66bd0",
   "metadata": {},
   "outputs": [],
   "source": [
    "#all the actors present in kkkg and mohabbatein\n",
    "k1=mohab.union(kkkg)"
   ]
  },
  {
   "cell_type": "code",
   "execution_count": 18,
   "id": "2c87caa9",
   "metadata": {},
   "outputs": [
    {
     "name": "stdout",
     "output_type": "stream",
     "text": [
      "{'Kajol', 'Aishwarya', 'Amitabh', 'Kareena', 'Archana', 'Jaya', 'Sharukh', 'Ambrish', 'Hrithik', 'Anupam', 'Jimmy'}\n"
     ]
    }
   ],
   "source": [
    "print(k1)"
   ]
  },
  {
   "cell_type": "code",
   "execution_count": 24,
   "id": "336c7476",
   "metadata": {},
   "outputs": [
    {
     "name": "stdout",
     "output_type": "stream",
     "text": [
      "{4, 5, 6, 7}\n"
     ]
    }
   ],
   "source": [
    "#when a list is assigned to a set, the order of the set elements will be in asc order\n",
    "s1=set(l)\n",
    "s2=set(l1)\n",
    "finalset=s1.intersection(s2)\n",
    "print(finalset)"
   ]
  },
  {
   "cell_type": "code",
   "execution_count": 26,
   "id": "bf73555e",
   "metadata": {},
   "outputs": [
    {
     "data": {
      "text/plain": [
       "{4, 5, 6, 7, 8, 9}"
      ]
     },
     "execution_count": 26,
     "metadata": {},
     "output_type": "execute_result"
    }
   ],
   "source": [
    "s1.clear()\n",
    "s1=s2.copy()\n",
    "s1"
   ]
  },
  {
   "cell_type": "code",
   "execution_count": 33,
   "id": "1449a0ad",
   "metadata": {},
   "outputs": [
    {
     "name": "stdout",
     "output_type": "stream",
     "text": [
      "{2, 3, 4, 5, 6, 7}\n",
      "{4, 5, 6, 7, 8, 9}\n"
     ]
    }
   ],
   "source": [
    "s1={2,3,4,5,6,7}\n",
    "print(s1)\n",
    "print(s2)"
   ]
  },
  {
   "cell_type": "code",
   "execution_count": 28,
   "id": "32339e90",
   "metadata": {},
   "outputs": [
    {
     "name": "stdout",
     "output_type": "stream",
     "text": [
      "{4, 5, 6, 7, 8, 9}\n"
     ]
    }
   ],
   "source": [
    "print(s2)"
   ]
  },
  {
   "cell_type": "code",
   "execution_count": 32,
   "id": "5bf89ea3",
   "metadata": {},
   "outputs": [
    {
     "data": {
      "text/plain": [
       "False"
      ]
     },
     "execution_count": 32,
     "metadata": {},
     "output_type": "execute_result"
    }
   ],
   "source": [
    "s1.issubset(s2)"
   ]
  },
  {
   "cell_type": "code",
   "execution_count": 34,
   "id": "2aea718d",
   "metadata": {},
   "outputs": [
    {
     "data": {
      "text/plain": [
       "4"
      ]
     },
     "execution_count": 34,
     "metadata": {},
     "output_type": "execute_result"
    }
   ],
   "source": [
    "s2.pop() #any element will pop in random"
   ]
  },
  {
   "cell_type": "code",
   "execution_count": 35,
   "id": "ec13c5d1",
   "metadata": {},
   "outputs": [
    {
     "ename": "TypeError",
     "evalue": "set.pop() takes no arguments (1 given)",
     "output_type": "error",
     "traceback": [
      "\u001b[1;31m---------------------------------------------------------------------------\u001b[0m",
      "\u001b[1;31mTypeError\u001b[0m                                 Traceback (most recent call last)",
      "Cell \u001b[1;32mIn[35], line 1\u001b[0m\n\u001b[1;32m----> 1\u001b[0m s2\u001b[38;5;241m.\u001b[39mpop(\u001b[38;5;241m3\u001b[39m)\n",
      "\u001b[1;31mTypeError\u001b[0m: set.pop() takes no arguments (1 given)"
     ]
    }
   ],
   "source": [
    "s2.pop(3) #sets are not indexed, no indexing allowed in SETS"
   ]
  },
  {
   "cell_type": "code",
   "execution_count": 42,
   "id": "6e7600b7",
   "metadata": {},
   "outputs": [
    {
     "data": {
      "text/plain": [
       "{5, 6, 7, 8, 9}"
      ]
     },
     "execution_count": 42,
     "metadata": {},
     "output_type": "execute_result"
    }
   ],
   "source": [
    "s2"
   ]
  },
  {
   "cell_type": "code",
   "execution_count": 43,
   "id": "afe3be24",
   "metadata": {},
   "outputs": [
    {
     "data": {
      "text/plain": [
       "{5, 6, 7, 8}"
      ]
     },
     "execution_count": 43,
     "metadata": {},
     "output_type": "execute_result"
    }
   ],
   "source": [
    "s2.remove(9) #elements by value can be removed from SETS\n",
    "s2"
   ]
  },
  {
   "cell_type": "code",
   "execution_count": 1,
   "id": "f2cdd600",
   "metadata": {},
   "outputs": [
    {
     "name": "stdout",
     "output_type": "stream",
     "text": [
      "{'apple', 'pear', 'orange', 'banana'}\n"
     ]
    }
   ],
   "source": [
    "basket={'apple','orange','apple','pear','orange','banana'}\n",
    "print(basket)"
   ]
  },
  {
   "cell_type": "code",
   "execution_count": 3,
   "id": "f04c1b75",
   "metadata": {},
   "outputs": [
    {
     "data": {
      "text/plain": [
       "True"
      ]
     },
     "execution_count": 3,
     "metadata": {},
     "output_type": "execute_result"
    }
   ],
   "source": [
    "'orange' in basket"
   ]
  },
  {
   "cell_type": "code",
   "execution_count": 4,
   "id": "7aa7a0ff",
   "metadata": {},
   "outputs": [
    {
     "data": {
      "text/plain": [
       "False"
      ]
     },
     "execution_count": 4,
     "metadata": {},
     "output_type": "execute_result"
    }
   ],
   "source": [
    "'crab' in basket"
   ]
  },
  {
   "cell_type": "code",
   "execution_count": 6,
   "id": "9e63a1fb",
   "metadata": {},
   "outputs": [],
   "source": [
    "a=set('abracadabra')\n",
    "b=set('alacazam')"
   ]
  },
  {
   "cell_type": "code",
   "execution_count": 10,
   "id": "e3da4a97",
   "metadata": {},
   "outputs": [
    {
     "data": {
      "text/plain": [
       "{'a', 'b', 'c', 'd', 'r'}"
      ]
     },
     "execution_count": 10,
     "metadata": {},
     "output_type": "execute_result"
    }
   ],
   "source": [
    "a"
   ]
  },
  {
   "cell_type": "code",
   "execution_count": 11,
   "id": "ce16817f",
   "metadata": {},
   "outputs": [
    {
     "data": {
      "text/plain": [
       "{'a', 'c', 'l', 'm', 'z'}"
      ]
     },
     "execution_count": 11,
     "metadata": {},
     "output_type": "execute_result"
    }
   ],
   "source": [
    "b"
   ]
  },
  {
   "cell_type": "code",
   "execution_count": 15,
   "id": "ff9135d0",
   "metadata": {},
   "outputs": [
    {
     "name": "stdout",
     "output_type": "stream",
     "text": [
      "4\n"
     ]
    }
   ],
   "source": [
    "nums = set([1,1,2,3,3,3,4])\n",
    "print(len(nums))"
   ]
  },
  {
   "cell_type": "code",
   "execution_count": 16,
   "id": "61637ad0",
   "metadata": {},
   "outputs": [
    {
     "name": "stdout",
     "output_type": "stream",
     "text": [
      "{'Delhi', 'Kashmir'}\n"
     ]
    }
   ],
   "source": [
    "set1 = {\"Delhi\", \"Mumbai\", \"Kashmir\"}\n",
    "set2 = {\"Mumbai\", \"Chennai\", \"Jaipur\"}\n",
    "\n",
    "set1.difference_update(set2)\n",
    "print(set1)"
   ]
  },
  {
   "cell_type": "code",
   "execution_count": 17,
   "id": "4da14e02",
   "metadata": {},
   "outputs": [
    {
     "name": "stdout",
     "output_type": "stream",
     "text": [
      "{0, 1, 4, 6, 8, 9}\n"
     ]
    }
   ],
   "source": [
    "odd={1,3,5,7,9}\n",
    "even={2,4,6,8,0}\n",
    "prime={2,3,5,7,11}\n",
    "set1=odd.union(even)\n",
    "set2=set1.difference(prime)\n",
    "print(set2)"
   ]
  },
  {
   "cell_type": "code",
   "execution_count": 18,
   "id": "3258a3e0",
   "metadata": {},
   "outputs": [
    {
     "ename": "SyntaxError",
     "evalue": "expression cannot contain assignment, perhaps you meant \"==\"? (3495912307.py, line 1)",
     "output_type": "error",
     "traceback": [
      "\u001b[1;36m  Cell \u001b[1;32mIn[18], line 1\u001b[1;36m\u001b[0m\n\u001b[1;33m    d = dict('a'=1, 'b'=2)\u001b[0m\n\u001b[1;37m             ^\u001b[0m\n\u001b[1;31mSyntaxError\u001b[0m\u001b[1;31m:\u001b[0m expression cannot contain assignment, perhaps you meant \"==\"?\n"
     ]
    }
   ],
   "source": [
    "d = dict('a'=1, 'b'=2)"
   ]
  },
  {
   "cell_type": "code",
   "execution_count": 19,
   "id": "b3ce1edd",
   "metadata": {},
   "outputs": [],
   "source": [
    "d = {'a':1, 'b':2}"
   ]
  },
  {
   "cell_type": "code",
   "execution_count": 20,
   "id": "8c0c18fc",
   "metadata": {},
   "outputs": [
    {
     "name": "stdout",
     "output_type": "stream",
     "text": [
      "<class 'dict'>\n"
     ]
    }
   ],
   "source": [
    "d={}\n",
    "print(type(d))"
   ]
  },
  {
   "cell_type": "code",
   "execution_count": 1,
   "id": "607ccbfc",
   "metadata": {},
   "outputs": [
    {
     "name": "stdout",
     "output_type": "stream",
     "text": [
      "['Python', 'R']\n"
     ]
    }
   ],
   "source": [
    "d = {'Python':40, 'R':45}\n",
    "print(list(d.keys()))"
   ]
  },
  {
   "cell_type": "code",
   "execution_count": 5,
   "id": "bbb50ca9",
   "metadata": {},
   "outputs": [
    {
     "name": "stdout",
     "output_type": "stream",
     "text": [
      "{'a': 1, 'b': 2, 'c': 3, 'd': 4}\n"
     ]
    }
   ],
   "source": [
    "dict1={\"a\":1,\"b\":2}\n",
    "dict2={\"c\":3,\"d\":4}\n",
    "dict1.update(dict2)\n",
    "print(dict1)"
   ]
  },
  {
   "cell_type": "code",
   "execution_count": 4,
   "id": "ba7e97d7",
   "metadata": {},
   "outputs": [],
   "source": [
    "country={\"England\":\"London\",\"Australia\":\"Sydney\"}"
   ]
  },
  {
   "cell_type": "code",
   "execution_count": 5,
   "id": "0acc93a7",
   "metadata": {},
   "outputs": [
    {
     "data": {
      "text/plain": [
       "0"
      ]
     },
     "execution_count": 5,
     "metadata": {},
     "output_type": "execute_result"
    }
   ],
   "source": [
    "country.get(\"India\",0)\n"
   ]
  },
  {
   "cell_type": "code",
   "execution_count": null,
   "id": "354c84b1",
   "metadata": {},
   "outputs": [],
   "source": []
  }
 ],
 "metadata": {
  "kernelspec": {
   "display_name": "Python 3 (ipykernel)",
   "language": "python",
   "name": "python3"
  },
  "language_info": {
   "codemirror_mode": {
    "name": "ipython",
    "version": 3
   },
   "file_extension": ".py",
   "mimetype": "text/x-python",
   "name": "python",
   "nbconvert_exporter": "python",
   "pygments_lexer": "ipython3",
   "version": "3.11.4"
  }
 },
 "nbformat": 4,
 "nbformat_minor": 5
}
