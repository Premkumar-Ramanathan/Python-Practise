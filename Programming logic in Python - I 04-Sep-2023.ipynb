{
 "cells": [
  {
   "cell_type": "code",
   "execution_count": 11,
   "id": "a12f6f9d",
   "metadata": {},
   "outputs": [
    {
     "ename": "SyntaxError",
     "evalue": "invalid syntax (183237405.py, line 5)",
     "output_type": "error",
     "traceback": [
      "\u001b[1;36m  Cell \u001b[1;32mIn[11], line 5\u001b[1;36m\u001b[0m\n\u001b[1;33m    if i % = 0:\u001b[0m\n\u001b[1;37m           ^\u001b[0m\n\u001b[1;31mSyntaxError\u001b[0m\u001b[1;31m:\u001b[0m invalid syntax\n"
     ]
    }
   ],
   "source": [
    "#Write a Python program to create a tuple of the first 10 even numbers and find their sum.\n",
    "sum=0\n",
    "for i in range(1,11):\n",
    "    lst.append(i)\n",
    "    if i % = 0:\n",
    "        sum+=sum\n",
    "tup=tuple(lst)\n",
    "print(tup)\n",
    "print(sum)\n"
   ]
  },
  {
   "cell_type": "code",
   "execution_count": 13,
   "id": "85ce1e1d",
   "metadata": {},
   "outputs": [
    {
     "name": "stdout",
     "output_type": "stream",
     "text": [
      "{1: 1, 2: 4, 3: 9, 4: 16, 5: 25, 6: 36, 7: 49, 8: 64, 9: 81, 10: 100}\n"
     ]
    }
   ],
   "source": [
    "#Dictionary of NUmbers and its squares\n",
    "num={}\n",
    "for i in range(1,11):\n",
    "    num[i]=i**2\n",
    "print(num)"
   ]
  },
  {
   "cell_type": "code",
   "execution_count": 19,
   "id": "1b7047c5",
   "metadata": {},
   "outputs": [
    {
     "name": "stdout",
     "output_type": "stream",
     "text": [
      "17\n",
      "Entered number is a prime number 17\n"
     ]
    }
   ],
   "source": [
    "num=int(input())\n",
    "Pm=False\n",
    "if num > 1:\n",
    "    for i in range(2, num-1):\n",
    "        if(num % i) == 0:\n",
    "            Pm=True\n",
    "            break\n",
    "if Pm:\n",
    "    print('Entered number is not prime', num)\n",
    "else:\n",
    "    print('Entered number is a prime number', num)"
   ]
  },
  {
   "cell_type": "code",
   "execution_count": null,
   "id": "8ea7d888",
   "metadata": {},
   "outputs": [],
   "source": [
    "st=2\n",
    "end=10\n",
    "num=1\n",
    "lst=[]\n",
    "while i<11:\n",
    "    for j in range(st,i):\n",
    "            if(i % j) == 0:\n",
    "                lst.append(i)\n",
    "                \n",
    "\n",
    "print(lst)"
   ]
  },
  {
   "cell_type": "code",
   "execution_count": 1,
   "id": "21251608",
   "metadata": {},
   "outputs": [
    {
     "name": "stdout",
     "output_type": "stream",
     "text": [
      "2 3 5 7 11 13 17 19 23 29 "
     ]
    }
   ],
   "source": [
    "num=10\n",
    "count=0\n",
    "n = 2\n",
    "while count<num:\n",
    "    Pm=True\n",
    "    for i in range(2,(n//2)+1):\n",
    "        if(n%i)==0:\n",
    "            Pm=False\n",
    "            break\n",
    "    if Pm:\n",
    "        print(n,end=\" \")\n",
    "        count+= 1\n",
    "    n+=1"
   ]
  },
  {
   "cell_type": "code",
   "execution_count": 7,
   "id": "52189c47",
   "metadata": {},
   "outputs": [
    {
     "name": "stdout",
     "output_type": "stream",
     "text": [
      "Enter a wordhello\n",
      "['h', 'e', 'l', 'l', 'o']\n"
     ]
    }
   ],
   "source": [
    "word=input('Enter a word')\n",
    "lst=list(word)\n",
    "print(lst)\n",
    "\n",
    "for i in lst:\n",
    "\n",
    "\n"
   ]
  },
  {
   "cell_type": "code",
   "execution_count": null,
   "id": "734b3baa",
   "metadata": {},
   "outputs": [],
   "source": []
  }
 ],
 "metadata": {
  "kernelspec": {
   "display_name": "Python 3 (ipykernel)",
   "language": "python",
   "name": "python3"
  },
  "language_info": {
   "codemirror_mode": {
    "name": "ipython",
    "version": 3
   },
   "file_extension": ".py",
   "mimetype": "text/x-python",
   "name": "python",
   "nbconvert_exporter": "python",
   "pygments_lexer": "ipython3",
   "version": "3.11.4"
  }
 },
 "nbformat": 4,
 "nbformat_minor": 5
}
