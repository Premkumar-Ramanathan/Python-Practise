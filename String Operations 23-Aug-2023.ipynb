{
 "cells": [
  {
   "cell_type": "code",
   "execution_count": null,
   "id": "b507869d",
   "metadata": {},
   "outputs": [],
   "source": [
    "#syntax of print command\n",
    "\n",
    "#print('message',/constant/variable)"
   ]
  },
  {
   "cell_type": "code",
   "execution_count": 1,
   "id": "964bad66",
   "metadata": {},
   "outputs": [
    {
     "name": "stdout",
     "output_type": "stream",
     "text": [
      "10\n"
     ]
    }
   ],
   "source": [
    "a=10\n",
    "print(a)"
   ]
  },
  {
   "cell_type": "code",
   "execution_count": 2,
   "id": "41da5e1d",
   "metadata": {},
   "outputs": [
    {
     "name": "stdout",
     "output_type": "stream",
     "text": [
      "<class 'int'>\n"
     ]
    }
   ],
   "source": [
    "print(type(a))"
   ]
  },
  {
   "cell_type": "code",
   "execution_count": 3,
   "id": "495bfd3f",
   "metadata": {},
   "outputs": [
    {
     "name": "stdout",
     "output_type": "stream",
     "text": [
      "9.4\n"
     ]
    }
   ],
   "source": [
    "a=9.4\n",
    "print(a)"
   ]
  },
  {
   "cell_type": "code",
   "execution_count": 5,
   "id": "89235e4f",
   "metadata": {},
   "outputs": [
    {
     "name": "stdout",
     "output_type": "stream",
     "text": [
      "<class 'float'>\n"
     ]
    }
   ],
   "source": [
    "print(type(a))"
   ]
  },
  {
   "cell_type": "code",
   "execution_count": 6,
   "id": "af6fc002",
   "metadata": {},
   "outputs": [
    {
     "name": "stdout",
     "output_type": "stream",
     "text": [
      "Upgrad\n",
      "<class 'str'>\n"
     ]
    }
   ],
   "source": [
    "a='Upgrad'\n",
    "print(a)\n",
    "print(type(a))"
   ]
  },
  {
   "cell_type": "code",
   "execution_count": 2,
   "id": "406065bb",
   "metadata": {},
   "outputs": [
    {
     "name": "stdout",
     "output_type": "stream",
     "text": [
      "Hello World\n"
     ]
    }
   ],
   "source": [
    "print('Hello World')"
   ]
  },
  {
   "cell_type": "code",
   "execution_count": 2,
   "id": "49247509",
   "metadata": {},
   "outputs": [
    {
     "name": "stdout",
     "output_type": "stream",
     "text": [
      "True\n",
      "<class 'bool'>\n"
     ]
    }
   ],
   "source": [
    "a=True\n",
    "print(a)\n",
    "print(type(a))"
   ]
  },
  {
   "cell_type": "code",
   "execution_count": null,
   "id": "fcbc9fe0",
   "metadata": {},
   "outputs": [],
   "source": [
    "#List, Tuple, Dictionary are data structures"
   ]
  },
  {
   "cell_type": "code",
   "execution_count": 4,
   "id": "0d935ffd",
   "metadata": {},
   "outputs": [
    {
     "name": "stdout",
     "output_type": "stream",
     "text": [
      "False\n"
     ]
    }
   ],
   "source": [
    "print(10==9)"
   ]
  },
  {
   "cell_type": "code",
   "execution_count": 6,
   "id": "10879d77",
   "metadata": {},
   "outputs": [
    {
     "name": "stdout",
     "output_type": "stream",
     "text": [
      "True\n"
     ]
    }
   ],
   "source": [
    "print(10>9)"
   ]
  },
  {
   "cell_type": "code",
   "execution_count": 7,
   "id": "d7d8a0e6",
   "metadata": {},
   "outputs": [
    {
     "name": "stdout",
     "output_type": "stream",
     "text": [
      "<class 'bool'>\n"
     ]
    }
   ],
   "source": [
    "print(type(a))"
   ]
  },
  {
   "cell_type": "code",
   "execution_count": 12,
   "id": "ce1a205c",
   "metadata": {},
   "outputs": [
    {
     "name": "stdout",
     "output_type": "stream",
     "text": [
      "the sum is 15\n",
      "the difference is 5\n",
      "the product is 50\n",
      "the quotient is 2.0\n",
      "the (modulus) reminder is 0\n",
      "the power of 2 is 100\n"
     ]
    }
   ],
   "source": [
    "a=10\n",
    "b=5\n",
    "c=a+b\n",
    "d=a-b\n",
    "e=a*b\n",
    "f=a/b\n",
    "g=a%b\n",
    "i=a**2\n",
    "print('the sum is',c)\n",
    "print('the difference is',d)\n",
    "print('the product is',e)\n",
    "print('the quotient is',f)\n",
    "print('the (modulus) reminder is',g)\n",
    "print('the power of 2 is',i)"
   ]
  },
  {
   "cell_type": "code",
   "execution_count": 13,
   "id": "f96f3387",
   "metadata": {},
   "outputs": [
    {
     "name": "stdout",
     "output_type": "stream",
     "text": [
      "Hello World\n",
      "<class 'str'>\n"
     ]
    }
   ],
   "source": [
    "s='Hello World'\n",
    "print(s)\n",
    "print(type(s))"
   ]
  },
  {
   "cell_type": "code",
   "execution_count": 14,
   "id": "4c8092ca",
   "metadata": {},
   "outputs": [
    {
     "name": "stdout",
     "output_type": "stream",
     "text": [
      "I can write multiple lines\n",
      "in the string and all would be counted as\n",
      "one string\n"
     ]
    }
   ],
   "source": [
    "s1=\"\"\"I can write multiple lines\n",
    "in the string and all would be counted as\n",
    "one string\"\"\"\n",
    "print(s1)"
   ]
  },
  {
   "cell_type": "code",
   "execution_count": 15,
   "id": "c1dee7b6",
   "metadata": {},
   "outputs": [
    {
     "data": {
      "text/plain": [
       "'W'"
      ]
     },
     "execution_count": 15,
     "metadata": {},
     "output_type": "execute_result"
    }
   ],
   "source": [
    "s[6]"
   ]
  },
  {
   "cell_type": "code",
   "execution_count": 16,
   "id": "34e5b78f",
   "metadata": {},
   "outputs": [
    {
     "data": {
      "text/plain": [
       "'H'"
      ]
     },
     "execution_count": 16,
     "metadata": {},
     "output_type": "execute_result"
    }
   ],
   "source": [
    "s[0]"
   ]
  },
  {
   "cell_type": "code",
   "execution_count": 17,
   "id": "0f528a0f",
   "metadata": {},
   "outputs": [
    {
     "data": {
      "text/plain": [
       "' '"
      ]
     },
     "execution_count": 17,
     "metadata": {},
     "output_type": "execute_result"
    }
   ],
   "source": [
    "s[5]"
   ]
  },
  {
   "cell_type": "code",
   "execution_count": 18,
   "id": "d2867cee",
   "metadata": {},
   "outputs": [
    {
     "name": "stdout",
     "output_type": "stream",
     "text": [
      "11\n"
     ]
    }
   ],
   "source": [
    "x=len(s)\n",
    "print(x)"
   ]
  },
  {
   "cell_type": "code",
   "execution_count": 19,
   "id": "9726d3c8",
   "metadata": {},
   "outputs": [
    {
     "name": "stdout",
     "output_type": "stream",
     "text": [
      "the length is 11\n"
     ]
    }
   ],
   "source": [
    "print('the length is',len('Hello world'))"
   ]
  },
  {
   "cell_type": "code",
   "execution_count": 20,
   "id": "bec94aaa",
   "metadata": {},
   "outputs": [
    {
     "name": "stdout",
     "output_type": "stream",
     "text": [
      "UPGRAD\n"
     ]
    }
   ],
   "source": [
    "u='Upgrad'\n",
    "u1=u.upper()\n",
    "print(u1)"
   ]
  },
  {
   "cell_type": "code",
   "execution_count": 22,
   "id": "d9bf9467",
   "metadata": {},
   "outputs": [
    {
     "name": "stdout",
     "output_type": "stream",
     "text": [
      "upgrad\n"
     ]
    }
   ],
   "source": [
    "u2=u1.lower()\n",
    "print(u2)"
   ]
  },
  {
   "cell_type": "code",
   "execution_count": 23,
   "id": "7f0c177a",
   "metadata": {},
   "outputs": [
    {
     "name": "stdout",
     "output_type": "stream",
     "text": [
      "         I am Prem              \n"
     ]
    }
   ],
   "source": [
    "s3='         I am Prem              '\n",
    "print(s3)"
   ]
  },
  {
   "cell_type": "code",
   "execution_count": 24,
   "id": "2ec2eaf8",
   "metadata": {},
   "outputs": [
    {
     "name": "stdout",
     "output_type": "stream",
     "text": [
      "I am Prem\n"
     ]
    }
   ],
   "source": [
    "#strip function is to the trim\n",
    "strip_s3=s3.strip()\n",
    "print(strip_s3)"
   ]
  },
  {
   "cell_type": "code",
   "execution_count": 26,
   "id": "614b6dc4",
   "metadata": {},
   "outputs": [],
   "source": [
    "s4='Prem Mumar'"
   ]
  },
  {
   "cell_type": "code",
   "execution_count": 28,
   "id": "831042f6",
   "metadata": {},
   "outputs": [],
   "source": [
    "s5=s4.replace('M','K')"
   ]
  },
  {
   "cell_type": "code",
   "execution_count": 29,
   "id": "76155fa1",
   "metadata": {},
   "outputs": [
    {
     "name": "stdout",
     "output_type": "stream",
     "text": [
      "Prem Kumar\n"
     ]
    }
   ],
   "source": [
    "print(s5)"
   ]
  },
  {
   "cell_type": "code",
   "execution_count": 31,
   "id": "2fb116a5",
   "metadata": {},
   "outputs": [
    {
     "name": "stdout",
     "output_type": "stream",
     "text": [
      "I'm Prem\n"
     ]
    }
   ],
   "source": [
    "s6='I\\'m Prem'\n",
    "print(s6)"
   ]
  },
  {
   "cell_type": "code",
   "execution_count": 32,
   "id": "f9dcd334",
   "metadata": {},
   "outputs": [],
   "source": [
    "s7=s6.replace('\\'',' a')"
   ]
  },
  {
   "cell_type": "code",
   "execution_count": 33,
   "id": "a5e0132b",
   "metadata": {},
   "outputs": [
    {
     "name": "stdout",
     "output_type": "stream",
     "text": [
      "I am Prem\n"
     ]
    }
   ],
   "source": [
    "print(s7)"
   ]
  },
  {
   "cell_type": "code",
   "execution_count": 39,
   "id": "9c47f5e1",
   "metadata": {},
   "outputs": [
    {
     "name": "stdout",
     "output_type": "stream",
     "text": [
      "Prem Kumar\n"
     ]
    }
   ],
   "source": [
    "s7='Prrem Kumar'\n",
    "s8=s7.replace('r','',1)\n",
    "print(s8)"
   ]
  },
  {
   "cell_type": "code",
   "execution_count": 55,
   "id": "30129499",
   "metadata": {},
   "outputs": [],
   "source": [
    "#split()-splits the sentence on a '' or ','\n",
    "st=\"\"\"I\\'m going to the market\n",
    "I need to buy some vegetables\n",
    "I need to cook the lunch\"\"\""
   ]
  },
  {
   "cell_type": "code",
   "execution_count": 56,
   "id": "2b0b098a",
   "metadata": {},
   "outputs": [
    {
     "name": "stdout",
     "output_type": "stream",
     "text": [
      "I'm going to the market\n",
      "I need to buy some vegetables\n",
      "I need to cook the lunch\n"
     ]
    }
   ],
   "source": [
    "print(st)"
   ]
  },
  {
   "cell_type": "code",
   "execution_count": 57,
   "id": "440b1a77",
   "metadata": {},
   "outputs": [
    {
     "name": "stdout",
     "output_type": "stream",
     "text": [
      "[\"I'm\", 'going', 'to', 'the', 'market\\nI', 'need', 'to', 'buy', 'some', 'vegetables\\nI', 'need', 'to', 'cook', 'the', 'lunch']\n"
     ]
    }
   ],
   "source": [
    "sp=st.split(' ')\n",
    "print(sp)"
   ]
  },
  {
   "cell_type": "code",
   "execution_count": 62,
   "id": "e0e51928",
   "metadata": {},
   "outputs": [
    {
     "name": "stdout",
     "output_type": "stream",
     "text": [
      "[\"I'm going\", ' I will bring some vegetables', ' then I will cook']\n"
     ]
    }
   ],
   "source": [
    "st1='I\\'m going, I will bring some vegetables, then I will cook'\n",
    "stt=st1.split(',')\n",
    "print(stt)"
   ]
  },
  {
   "cell_type": "code",
   "execution_count": 65,
   "id": "d513918e",
   "metadata": {},
   "outputs": [
    {
     "name": "stdout",
     "output_type": "stream",
     "text": [
      "chandrayaan3\n"
     ]
    }
   ],
   "source": [
    "s='chandra'\n",
    "s1='yaan'\n",
    "final=s+s1+'3'\n",
    "print(final)"
   ]
  },
  {
   "cell_type": "code",
   "execution_count": 66,
   "id": "d40b1e6b",
   "metadata": {},
   "outputs": [
    {
     "name": "stdout",
     "output_type": "stream",
     "text": [
      "the statue's height is 500m\n"
     ]
    }
   ],
   "source": [
    "#the statue's height is 500m (escape character)\n",
    "statue='the statue\\'s height is 500m'\n",
    "print(statue)"
   ]
  },
  {
   "cell_type": "code",
   "execution_count": 68,
   "id": "3ca22d1c",
   "metadata": {},
   "outputs": [
    {
     "name": "stdout",
     "output_type": "stream",
     "text": [
      "Prem kumar\n",
      "Prem Kumar\n"
     ]
    }
   ],
   "source": [
    "s='prem kumar'\n",
    "print(s.capitalize())\n",
    "print(s.title())"
   ]
  },
  {
   "cell_type": "code",
   "execution_count": 69,
   "id": "5fad8aa5",
   "metadata": {},
   "outputs": [
    {
     "name": "stdout",
     "output_type": "stream",
     "text": [
      "Sharma appeared 2 times\n"
     ]
    }
   ],
   "source": [
    "s='Mehak Sharma is a Sharma'\n",
    "cl=s.count('Sharma')\n",
    "print('Sharma appeared',cl,'times')"
   ]
  },
  {
   "cell_type": "code",
   "execution_count": 70,
   "id": "b7658e72",
   "metadata": {},
   "outputs": [
    {
     "name": "stdout",
     "output_type": "stream",
     "text": [
      "a appeared 6 times\n"
     ]
    }
   ],
   "source": [
    "cl2=s.count('a')\n",
    "print('a appeared',cl2,'times')"
   ]
  },
  {
   "cell_type": "code",
   "execution_count": null,
   "id": "6d2b1202",
   "metadata": {},
   "outputs": [],
   "source": []
  },
  {
   "cell_type": "code",
   "execution_count": null,
   "id": "305ec3bd",
   "metadata": {},
   "outputs": [],
   "source": []
  }
 ],
 "metadata": {
  "kernelspec": {
   "display_name": "Python 3 (ipykernel)",
   "language": "python",
   "name": "python3"
  },
  "language_info": {
   "codemirror_mode": {
    "name": "ipython",
    "version": 3
   },
   "file_extension": ".py",
   "mimetype": "text/x-python",
   "name": "python",
   "nbconvert_exporter": "python",
   "pygments_lexer": "ipython3",
   "version": "3.11.4"
  }
 },
 "nbformat": 4,
 "nbformat_minor": 5
}
