{
 "cells": [
  {
   "cell_type": "code",
   "execution_count": 1,
   "id": "6ecdb185",
   "metadata": {},
   "outputs": [],
   "source": [
    "import numpy as np\n",
    "import pandas as pd"
   ]
  },
  {
   "cell_type": "code",
   "execution_count": 2,
   "id": "32384d09",
   "metadata": {},
   "outputs": [
    {
     "name": "stdout",
     "output_type": "stream",
     "text": [
      "tttttttt\n"
     ]
    }
   ],
   "source": [
    "s=\"Python is best\"\n",
    "print(s[2]*s.index(\"s\"))"
   ]
  },
  {
   "cell_type": "code",
   "execution_count": 3,
   "id": "8bd459ef",
   "metadata": {},
   "outputs": [
    {
     "name": "stdout",
     "output_type": "stream",
     "text": [
      "8\n"
     ]
    }
   ],
   "source": [
    "print(s.index(\"s\"))"
   ]
  },
  {
   "cell_type": "code",
   "execution_count": 4,
   "id": "fcd7b0f3",
   "metadata": {},
   "outputs": [
    {
     "name": "stdout",
     "output_type": "stream",
     "text": [
      "-9\n"
     ]
    }
   ],
   "source": [
    "ls=[8,[6,2],7,0,[-7,-9],[8,-4,1,[-4,3]]]\n",
    "print(ls[len(ls)-2][len(ls)-5])"
   ]
  },
  {
   "cell_type": "code",
   "execution_count": 5,
   "id": "96f246a7",
   "metadata": {},
   "outputs": [
    {
     "data": {
      "text/plain": [
       "[-7, -9]"
      ]
     },
     "execution_count": 5,
     "metadata": {},
     "output_type": "execute_result"
    }
   ],
   "source": [
    "ls[4]"
   ]
  },
  {
   "cell_type": "code",
   "execution_count": 6,
   "id": "85f45efd",
   "metadata": {},
   "outputs": [
    {
     "name": "stdout",
     "output_type": "stream",
     "text": [
      "{1: 'A', 2: 'B', 3: 'C'}\n"
     ]
    }
   ],
   "source": [
    "a={1:\"A\",2:\"B\",3:\"C\"}\n",
    "b=a.copy()\n",
    "b[2]=\"D\"\n",
    "print(a)"
   ]
  },
  {
   "cell_type": "code",
   "execution_count": 7,
   "id": "a37fb8cc",
   "metadata": {},
   "outputs": [
    {
     "name": "stdout",
     "output_type": "stream",
     "text": [
      "[1,2,3,4]\n",
      "3\n",
      "2\n"
     ]
    }
   ],
   "source": [
    "import ast\n",
    "input_str1 = input()\n",
    "input_list1 = ast.literal_eval(input_str1)\n",
    "employee_grades = np.array(input_list1)\n",
    "senior_employee_grade = int(input())\n",
    "print(len(employee_grades[employee_grades<senior_employee_grade]))"
   ]
  },
  {
   "cell_type": "code",
   "execution_count": 8,
   "id": "6b9ea49b",
   "metadata": {},
   "outputs": [
    {
     "name": "stdout",
     "output_type": "stream",
     "text": [
      "['Cactus', 'Climber', 'Bamboo', 'Succulent']\n",
      "0\n",
      "1\n",
      "2\n",
      "3\n"
     ]
    }
   ],
   "source": [
    "plants = ['Cactus', 'Climber', 'Bamboo','Cactus', 'Succulent','Cactus']\n",
    "plt_uni=[]\n",
    "for plt in plants:\n",
    "    if plt not in plt_uni:\n",
    "        plt_uni.append(plt)\n",
    "\n",
    "print(plt_uni)\n",
    "for i in range(0, len(plt_uni)):\n",
    "    print(i)"
   ]
  },
  {
   "cell_type": "code",
   "execution_count": 9,
   "id": "e54f377c",
   "metadata": {},
   "outputs": [
    {
     "name": "stdout",
     "output_type": "stream",
     "text": [
      "['Cactus', 'Climber', 'Bamboo', 'Succulent']\n",
      "[0, 1, 2, 4]\n"
     ]
    }
   ],
   "source": [
    "plants = ['Cactus', 'Climber', 'Bamboo','Cactus', 'Succulent','Cactus']\n",
    "plt_uni=[]\n",
    "inde=[]\n",
    "for i in range(0, len(plants)):\n",
    "    if plants[i] not in plt_uni:\n",
    "        plt_uni.append(plants[i])\n",
    "        inde.append(i)\n",
    "print(plt_uni)\n",
    "print(inde)"
   ]
  },
  {
   "cell_type": "code",
   "execution_count": 10,
   "id": "04454671",
   "metadata": {},
   "outputs": [
    {
     "name": "stdout",
     "output_type": "stream",
     "text": [
      "['Cactus', 'Climber', 'Bamboo', 'Succulent']\n",
      "[0, 1, 2, 4]\n"
     ]
    }
   ],
   "source": [
    "plants = ['Cactus', 'Climber', 'Bamboo','Cactus', 'Succulent','Cactus']\n",
    "plt_uni=[]\n",
    "inde=[]\n",
    "for i in range(0, len(plants)):\n",
    "    if plants[i] not in plt_uni:\n",
    "        plt_uni.append(plants[i])\n",
    "        inde.append(i)\n",
    "print(plt_uni)\n",
    "print(inde)"
   ]
  },
  {
   "cell_type": "code",
   "execution_count": 11,
   "id": "49198288",
   "metadata": {},
   "outputs": [
    {
     "data": {
      "text/plain": [
       "array([ 0,  1,  2,  3,  4,  5,  6,  7,  8,  9, 10, 11, 12, 13, 14, 15, 16,\n",
       "       17, 18, 19])"
      ]
     },
     "execution_count": 11,
     "metadata": {},
     "output_type": "execute_result"
    }
   ],
   "source": [
    "np.arange(20)"
   ]
  },
  {
   "cell_type": "code",
   "execution_count": 12,
   "id": "5ef4484e",
   "metadata": {},
   "outputs": [],
   "source": [
    "on=np.ones((3,4))"
   ]
  },
  {
   "cell_type": "code",
   "execution_count": 13,
   "id": "596a8f67",
   "metadata": {},
   "outputs": [
    {
     "data": {
      "text/plain": [
       "array([4, 5, 6])"
      ]
     },
     "execution_count": 13,
     "metadata": {},
     "output_type": "execute_result"
    }
   ],
   "source": [
    "np.array([4,5,6])"
   ]
  },
  {
   "cell_type": "code",
   "execution_count": 14,
   "id": "6eeed8ba",
   "metadata": {},
   "outputs": [
    {
     "data": {
      "text/plain": [
       "(3, 4)"
      ]
     },
     "execution_count": 14,
     "metadata": {},
     "output_type": "execute_result"
    }
   ],
   "source": [
    "on.shape"
   ]
  },
  {
   "cell_type": "code",
   "execution_count": 15,
   "id": "7948a68c",
   "metadata": {},
   "outputs": [
    {
     "ename": "TypeError",
     "evalue": "array() takes from 1 to 2 positional arguments but 3 were given",
     "output_type": "error",
     "traceback": [
      "\u001b[1;31m---------------------------------------------------------------------------\u001b[0m",
      "\u001b[1;31mTypeError\u001b[0m                                 Traceback (most recent call last)",
      "Cell \u001b[1;32mIn[15], line 1\u001b[0m\n\u001b[1;32m----> 1\u001b[0m np\u001b[38;5;241m.\u001b[39marray(\u001b[38;5;241m4\u001b[39m,\u001b[38;5;241m5\u001b[39m,\u001b[38;5;241m6\u001b[39m)\n",
      "\u001b[1;31mTypeError\u001b[0m: array() takes from 1 to 2 positional arguments but 3 were given"
     ]
    }
   ],
   "source": [
    "np.array(4,5,6)"
   ]
  },
  {
   "cell_type": "code",
   "execution_count": null,
   "id": "6d3fec59",
   "metadata": {},
   "outputs": [],
   "source": [
    "a=np.array([[0, 1],\n",
    "       [2, 3],\n",
    "       [4, 5],\n",
    "       [6, 7]])"
   ]
  },
  {
   "cell_type": "code",
   "execution_count": null,
   "id": "a5089488",
   "metadata": {},
   "outputs": [],
   "source": [
    "a.shape"
   ]
  },
  {
   "cell_type": "code",
   "execution_count": null,
   "id": "fc854b62",
   "metadata": {},
   "outputs": [],
   "source": [
    "a.ndim"
   ]
  },
  {
   "cell_type": "code",
   "execution_count": null,
   "id": "b3a1e92b",
   "metadata": {},
   "outputs": [],
   "source": [
    "np.array(1.0, 2, 3.5, 0.2, True)"
   ]
  },
  {
   "cell_type": "code",
   "execution_count": null,
   "id": "b5a007fa",
   "metadata": {},
   "outputs": [],
   "source": [
    "np.array( [1.0, 2, 3.5, 0.2, \"True\"] )"
   ]
  },
  {
   "cell_type": "code",
   "execution_count": null,
   "id": "177f1cbc",
   "metadata": {},
   "outputs": [],
   "source": [
    "x=np.array([1.0, 2, 3.5, 0.2, True])"
   ]
  },
  {
   "cell_type": "code",
   "execution_count": null,
   "id": "e54d4fa5",
   "metadata": {},
   "outputs": [],
   "source": [
    "x.shape"
   ]
  },
  {
   "cell_type": "code",
   "execution_count": null,
   "id": "ad2316ab",
   "metadata": {},
   "outputs": [],
   "source": [
    "x.dtype"
   ]
  },
  {
   "cell_type": "code",
   "execution_count": null,
   "id": "06c14682",
   "metadata": {},
   "outputs": [],
   "source": [
    "array_1 = [1,2,3,4,5,6,7,8,9,10,11]\n",
    "print(array_1[2:-3])"
   ]
  },
  {
   "cell_type": "code",
   "execution_count": null,
   "id": "4d46f766",
   "metadata": {},
   "outputs": [],
   "source": [
    "array_1[1:2]"
   ]
  },
  {
   "cell_type": "code",
   "execution_count": null,
   "id": "b094a3bf",
   "metadata": {},
   "outputs": [],
   "source": [
    "p = 10\n",
    "q = 20\n",
    "gap = 0.5\n",
    "\n",
    "output=np.arange(p, q + gap, gap)\n",
    "\n",
    "print(output)"
   ]
  },
  {
   "cell_type": "code",
   "execution_count": null,
   "id": "21f59364",
   "metadata": {},
   "outputs": [],
   "source": [
    "array_1"
   ]
  },
  {
   "cell_type": "code",
   "execution_count": null,
   "id": "6fe0c70c",
   "metadata": {},
   "outputs": [],
   "source": [
    "ar=np.array([1,2,3,4,5])\n",
    "ar"
   ]
  },
  {
   "cell_type": "code",
   "execution_count": null,
   "id": "2b1f01bc",
   "metadata": {},
   "outputs": [],
   "source": [
    "if 3 in ar:\n",
    "    print('Present')"
   ]
  },
  {
   "cell_type": "code",
   "execution_count": null,
   "id": "d70e9777",
   "metadata": {},
   "outputs": [],
   "source": [
    "for i in range(0,ar.shape[0]):\n",
    "    if ar[i]<1:\n",
    "        print('Yes')\n",
    "    else:\n",
    "        print('No')"
   ]
  },
  {
   "cell_type": "code",
   "execution_count": null,
   "id": "98b00e05",
   "metadata": {},
   "outputs": [],
   "source": [
    "import ast\n",
    "import numpy as np\n",
    "input_str1 = input()\n",
    "input_list1 = ast.literal_eval(input_str1)\n",
    "my_1d_array = np.array(input_list1)\n",
    "\n",
    "l=[]\n",
    "k = int(input())\n",
    "#write your code here\n",
    "for i in range(0,my_1d_array.shape[0]):\n",
    "    if k>my_1d_array[i]:\n",
    "        l.append(True)\n",
    "    else:\n",
    "        l.append(False)\n",
    "\n",
    "for i in range(0,len(l)):\n",
    "    if l[i]==False:\n",
    "        fl=False\n",
    "        break\n",
    "    else:\n",
    "        fl=True\n",
    "\n",
    "print(fl)"
   ]
  },
  {
   "cell_type": "code",
   "execution_count": null,
   "id": "9806eabd",
   "metadata": {},
   "outputs": [],
   "source": [
    "x=np.array([[1,2,3],[2,3,4]])\n",
    "l=[]\n",
    "l=x.shape\n",
    "print(l[0])"
   ]
  },
  {
   "cell_type": "code",
   "execution_count": null,
   "id": "a37e5194",
   "metadata": {},
   "outputs": [],
   "source": [
    "import ast\n",
    "import numpy as np\n",
    "input_str1 = input()\n",
    "input_list1 = np.array(ast.literal_eval(input_str1))\n",
    "\n",
    "l=[]\n",
    "l=input_list1.shape\n",
    "\n",
    "if l[0]==2 and (l[1]%3)==0:\n",
    "    print(True)\n",
    "else:\n",
    "    print(False)"
   ]
  },
  {
   "cell_type": "code",
   "execution_count": null,
   "id": "fb7987a7",
   "metadata": {},
   "outputs": [],
   "source": [
    "print(9%3)"
   ]
  },
  {
   "cell_type": "code",
   "execution_count": null,
   "id": "dee794c2",
   "metadata": {},
   "outputs": [],
   "source": [
    "#import ast,sys\n",
    "input_str = input()\n",
    "input_list = ast.literal_eval(input_str)\n",
    "col_first=[]\n",
    "col_last=[]\n",
    "# Convert the input list to a NumPy array\n",
    "array_2d =np.array(input_list)\n",
    "row_first=array_2d[0]\n",
    "row_last=array_2d[-1]\n",
    "j=0\n",
    "for i in range(0,array_2d.shape[0]):\n",
    "    col_first.append(array_2d[i,j])\n",
    "j=-1\n",
    "for i in range(0,array_2d.shape[0]):\n",
    "    col_last.append(array_2d[i,j])\n",
    "col_first=np.array(col_first)\n",
    "col_last=np.array(col_last)\n",
    "print(col_first)\n",
    "print(row_first)\n",
    "print(col_last)\n",
    "print(row_last)"
   ]
  },
  {
   "cell_type": "code",
   "execution_count": null,
   "id": "b4f2f75a",
   "metadata": {},
   "outputs": [],
   "source": [
    "np.arange(5,51,5)"
   ]
  },
  {
   "cell_type": "code",
   "execution_count": null,
   "id": "9e573c66",
   "metadata": {},
   "outputs": [],
   "source": [
    "array_1 = [1,2,3,5,4,6,7,8,5,3,2]\n",
    "print(array_1[ : : -2])"
   ]
  },
  {
   "cell_type": "code",
   "execution_count": null,
   "id": "41318798",
   "metadata": {},
   "outputs": [],
   "source": [
    "a=np.array([[11, 12, 13, 14], [21, 22, 23, 24], [31, 32, 33, 34]])\n",
    "print(a)"
   ]
  },
  {
   "cell_type": "code",
   "execution_count": null,
   "id": "c6351fd5",
   "metadata": {},
   "outputs": [],
   "source": [
    "a[ : , :3]"
   ]
  },
  {
   "cell_type": "code",
   "execution_count": null,
   "id": "45cce5af",
   "metadata": {},
   "outputs": [],
   "source": [
    "c=np.array([[0, 1],\n",
    "       [2, 3],\n",
    "       [4, 5],\n",
    "       [6, 7]])\n",
    "print(c)"
   ]
  },
  {
   "cell_type": "code",
   "execution_count": null,
   "id": "59b3b996",
   "metadata": {},
   "outputs": [],
   "source": [
    "c.shape"
   ]
  },
  {
   "cell_type": "code",
   "execution_count": null,
   "id": "cf779314",
   "metadata": {},
   "outputs": [],
   "source": [
    "len(c)"
   ]
  },
  {
   "cell_type": "code",
   "execution_count": null,
   "id": "636574ca",
   "metadata": {},
   "outputs": [],
   "source": [
    "c.size"
   ]
  },
  {
   "cell_type": "code",
   "execution_count": null,
   "id": "01e70628",
   "metadata": {},
   "outputs": [],
   "source": [
    "n=int(input())\n",
    "arr=np.ones((n,n), dtype=int)\n",
    "\n",
    "for i in range(1,arr.shape[0]-1):\n",
    "    for j in range(1,arr.shape[1]-1):\n",
    "        arr[i,j]=0\n",
    "print(arr)"
   ]
  },
  {
   "cell_type": "code",
   "execution_count": null,
   "id": "e254b7cf",
   "metadata": {},
   "outputs": [],
   "source": [
    "np.ones((n,n), dtype=int)"
   ]
  },
  {
   "cell_type": "code",
   "execution_count": null,
   "id": "cb5d4fb8",
   "metadata": {},
   "outputs": [],
   "source": [
    "np.array([[2,3,4],[5,6,7]]) + np.array([1,2,3])"
   ]
  },
  {
   "cell_type": "code",
   "execution_count": null,
   "id": "c2f30416",
   "metadata": {},
   "outputs": [],
   "source": [
    "np.array([[2,3,4],[5,6,7]]) + 1"
   ]
  },
  {
   "cell_type": "code",
   "execution_count": null,
   "id": "7415b460",
   "metadata": {},
   "outputs": [],
   "source": [
    "a=np.array([1,2,3])\n",
    "b=np.array([1,4,3])\n",
    "a==b\n",
    "a<3"
   ]
  },
  {
   "cell_type": "code",
   "execution_count": null,
   "id": "f223b559",
   "metadata": {},
   "outputs": [],
   "source": [
    "x=np.array([[1,2],[3,4]])\n",
    "y=np.array([[5,6],[7,8]])\n",
    "np.dot(x,y)"
   ]
  },
  {
   "cell_type": "code",
   "execution_count": null,
   "id": "92ad3f6b",
   "metadata": {},
   "outputs": [],
   "source": [
    "np.mean(y)"
   ]
  },
  {
   "cell_type": "code",
   "execution_count": null,
   "id": "dd1f46ad",
   "metadata": {},
   "outputs": [],
   "source": [
    "np.cumsum(x)"
   ]
  },
  {
   "cell_type": "code",
   "execution_count": null,
   "id": "0d0121b8",
   "metadata": {},
   "outputs": [],
   "source": [
    "array_1=np.array([[1, 2, 3, 4, 5], [6, 7, 8, 9, 10], [11, 12, 13, 14, 15], [16, 17, 18, 19, 20]])"
   ]
  },
  {
   "cell_type": "code",
   "execution_count": null,
   "id": "c35b5bd6",
   "metadata": {},
   "outputs": [],
   "source": [
    "print(array_1[array_1%2 != 0].reshape(5, 2))"
   ]
  },
  {
   "cell_type": "code",
   "execution_count": null,
   "id": "a6d3d9ef",
   "metadata": {},
   "outputs": [],
   "source": [
    "nums = [11,12,13,14,15]\n",
    "series = pd.Series(nums)\n",
    "series.truncate(2)"
   ]
  },
  {
   "cell_type": "code",
   "execution_count": null,
   "id": "f2db53ab",
   "metadata": {},
   "outputs": [],
   "source": [
    "s=pd.Series(['Ind','Aus','NZ','US'],index=['a','b','c','d'])\n",
    "print(type(s))"
   ]
  },
  {
   "cell_type": "code",
   "execution_count": null,
   "id": "c1c0848e",
   "metadata": {},
   "outputs": [],
   "source": [
    "len(s)"
   ]
  },
  {
   "cell_type": "code",
   "execution_count": null,
   "id": "6f5f650b",
   "metadata": {},
   "outputs": [],
   "source": [
    "s"
   ]
  },
  {
   "cell_type": "code",
   "execution_count": null,
   "id": "248cb4aa",
   "metadata": {},
   "outputs": [],
   "source": [
    "country=['Ind','Aus','NZ','US']\n",
    "cost=[100,200,300,400]\n",
    "sales=pd.Series(cost,index=country)\n",
    "sales"
   ]
  },
  {
   "cell_type": "code",
   "execution_count": null,
   "id": "4dd9c852",
   "metadata": {},
   "outputs": [],
   "source": [
    "country=('Ind','Aus','NZ','US')\n",
    "cost=(100,200,300,400)\n",
    "sales=pd.Series(cost,index=country)\n",
    "sales"
   ]
  },
  {
   "cell_type": "code",
   "execution_count": null,
   "id": "0a0d57cd",
   "metadata": {},
   "outputs": [],
   "source": [
    "a=np.array([[7, 13, 14],\n",
    "[18, 10, 17],\n",
    "[11, 12, 19]])"
   ]
  },
  {
   "cell_type": "code",
   "execution_count": null,
   "id": "184ae147",
   "metadata": {},
   "outputs": [],
   "source": [
    "b=np.array([16, 6, 1])"
   ]
  },
  {
   "cell_type": "code",
   "execution_count": null,
   "id": "afe255ae",
   "metadata": {},
   "outputs": [],
   "source": [
    "c=np.array([[5, 8, 4, 3]])"
   ]
  },
  {
   "cell_type": "code",
   "execution_count": null,
   "id": "8068c90f",
   "metadata": {},
   "outputs": [],
   "source": [
    "d=np.vstack((a,b))\n",
    "d"
   ]
  },
  {
   "cell_type": "code",
   "execution_count": null,
   "id": "0bd5ae0a",
   "metadata": {},
   "outputs": [],
   "source": [
    "e=np.transpose(c)\n",
    "e"
   ]
  },
  {
   "cell_type": "code",
   "execution_count": null,
   "id": "4e2a55b1",
   "metadata": {},
   "outputs": [],
   "source": [
    "f=np.hstack((d,e))\n",
    "f"
   ]
  },
  {
   "cell_type": "code",
   "execution_count": null,
   "id": "db66f8f0",
   "metadata": {},
   "outputs": [],
   "source": [
    "m=6\n",
    "n=12\n",
    "a=np.array([1, 5, 9, 12, 15, 7, 12, 9])\n",
    "res=np.where((a>m) & (a<n))\n",
    "x=a[res]\n",
    "print(x)"
   ]
  },
  {
   "cell_type": "code",
   "execution_count": null,
   "id": "d5a629af",
   "metadata": {},
   "outputs": [],
   "source": [
    "a = np.array([1, 5, 9, 12, 15, 7, 12, 9])\n",
    "print(\"Original array:\")\n",
    "print(a)\n",
    "result = np.where(np.logical_and(a>6, a<12))\n",
    "print(\"\\nElements within range: index position\")\n",
    "print(a[result])"
   ]
  },
  {
   "cell_type": "code",
   "execution_count": null,
   "id": "a7235b46",
   "metadata": {},
   "outputs": [],
   "source": [
    "input_list=input()\n",
    "m=int(input())\n",
    "n=int(input())\n",
    "\n",
    "import numpy as np\n",
    "#start writing your code from here\n",
    "array_1 = np.array(input_list)\n",
    "res=np.where((array_1>m) & (array_1)<n)\n",
    "final_array = array_1[res]#start writing your code from here\n",
    "\n",
    "print(final_array)"
   ]
  },
  {
   "cell_type": "code",
   "execution_count": null,
   "id": "40de2a8f",
   "metadata": {},
   "outputs": [],
   "source": [
    "a = pd.Series([1, 2, 3, 4, 5])\n",
    "b = pd.Series([2,3,5])\n",
    "\n",
    "# Find items in 'a' that are not in 'b'\n",
    "items_in_a_not_in_b = a[~a.isin(b)]\n",
    "\n",
    "# Print the items and the size of the obtained output\n",
    "print(\"Items in 'a' but not in 'b:\")\n",
    "print(items_in_a_not_in_b)\n",
    "print(\"Size of the obtained output:\", len(items_in_a_not_in_b))"
   ]
  },
  {
   "cell_type": "code",
   "execution_count": null,
   "id": "895cd581",
   "metadata": {},
   "outputs": [],
   "source": []
  },
  {
   "cell_type": "code",
   "execution_count": null,
   "id": "2088224a",
   "metadata": {},
   "outputs": [],
   "source": [
    "#anotinb=[]\n",
    "# Taking the first input\n",
    "ls=[]\n",
    "a = [1, 2, 3, 4, 5]\n",
    "b = [2,3,5]\n",
    "a=pd.Series(a)\n",
    "b=pd.Series(b)\n",
    "# Enter your code here\n",
    "anotinb=a[~a.isin(b)]\n",
    "print(anotinb.values)\n",
    "print(len(anotinb))"
   ]
  },
  {
   "cell_type": "code",
   "execution_count": null,
   "id": "0698528c",
   "metadata": {},
   "outputs": [],
   "source": [
    "a=pd.Series()\n",
    "a"
   ]
  },
  {
   "cell_type": "code",
   "execution_count": null,
   "id": "3c6921dd",
   "metadata": {},
   "outputs": [],
   "source": [
    "my_series = pd.Series(['A', 'B', 'C', 'D', 'E'])\n",
    "\n",
    "#get third value in Series\n",
    "print(my_series.values)"
   ]
  },
  {
   "cell_type": "code",
   "execution_count": 48,
   "id": "4087ba8b",
   "metadata": {},
   "outputs": [
    {
     "name": "stdout",
     "output_type": "stream",
     "text": [
      "[111,112,113,112,114,115,112,111,111]\n",
      "[111, 112]\n"
     ]
    }
   ],
   "source": [
    "import ast\n",
    "lst=[]\n",
    "lst=input()\n",
    "lst=ast.literal_eval(lst)\n",
    "a=pd.Series(lst)\n",
    "count_visit=pd.Series(a.value_counts())\n",
    "max_visit=count_visit.max()\n",
    "res=count_visit[count_visit==max_visit]\n",
    "print(res.index.tolist())"
   ]
  },
  {
   "cell_type": "code",
   "execution_count": 47,
   "id": "f3242b37",
   "metadata": {},
   "outputs": [
    {
     "data": {
      "text/plain": [
       "(2,)"
      ]
     },
     "execution_count": 47,
     "metadata": {},
     "output_type": "execute_result"
    }
   ],
   "source": [
    "d =  pd.Series([[10, 20, 30, 40],[3]])\n",
    "d.shape"
   ]
  },
  {
   "cell_type": "code",
   "execution_count": 49,
   "id": "560d3db5",
   "metadata": {},
   "outputs": [
    {
     "name": "stdout",
     "output_type": "stream",
     "text": [
      "1    112\n",
      "3    112\n",
      "4    114\n",
      "5    115\n",
      "6    112\n",
      "7    111\n",
      "8    111\n",
      "dtype: int64\n"
     ]
    },
    {
     "data": {
      "text/plain": [
       "0    111\n",
       "1    112\n",
       "2    113\n",
       "3    112\n",
       "4    114\n",
       "5    115\n",
       "6    112\n",
       "7    111\n",
       "8    111\n",
       "dtype: int64"
      ]
     },
     "execution_count": 49,
     "metadata": {},
     "output_type": "execute_result"
    }
   ],
   "source": [
    "print(a.drop([0, 2]))\n",
    "a"
   ]
  },
  {
   "cell_type": "code",
   "execution_count": 50,
   "id": "f97ccb8d",
   "metadata": {},
   "outputs": [
    {
     "data": {
      "text/plain": [
       "0    111\n",
       "1    112\n",
       "2    113\n",
       "3    112\n",
       "4    114\n",
       "5    115\n",
       "6    112\n",
       "7    111\n",
       "8    111\n",
       "dtype: int64"
      ]
     },
     "execution_count": 50,
     "metadata": {},
     "output_type": "execute_result"
    }
   ],
   "source": [
    "a"
   ]
  },
  {
   "cell_type": "code",
   "execution_count": null,
   "id": "cda42662",
   "metadata": {},
   "outputs": [],
   "source": []
  },
  {
   "cell_type": "code",
   "execution_count": null,
   "id": "38e0a9d9",
   "metadata": {},
   "outputs": [],
   "source": []
  },
  {
   "cell_type": "code",
   "execution_count": null,
   "id": "7255273e",
   "metadata": {},
   "outputs": [],
   "source": []
  }
 ],
 "metadata": {
  "kernelspec": {
   "display_name": "Python 3 (ipykernel)",
   "language": "python",
   "name": "python3"
  },
  "language_info": {
   "codemirror_mode": {
    "name": "ipython",
    "version": 3
   },
   "file_extension": ".py",
   "mimetype": "text/x-python",
   "name": "python",
   "nbconvert_exporter": "python",
   "pygments_lexer": "ipython3",
   "version": "3.11.4"
  }
 },
 "nbformat": 4,
 "nbformat_minor": 5
}
