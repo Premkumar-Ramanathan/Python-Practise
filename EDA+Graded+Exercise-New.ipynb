{
 "cells": [
  {
   "cell_type": "code",
   "execution_count": 1,
   "metadata": {},
   "outputs": [],
   "source": [
    "#Import the required Libraries.\n",
    "import numpy as np\n",
    "import pandas as pd\n",
    "import matplotlib.pyplot as plt\n",
    "import seaborn as sns"
   ]
  },
  {
   "cell_type": "markdown",
   "metadata": {},
   "source": [
    "## Data Cleaning"
   ]
  },
  {
   "cell_type": "code",
   "execution_count": null,
   "metadata": {},
   "outputs": [],
   "source": [
    "### Data Reading & Data Types "
   ]
  },
  {
   "cell_type": "code",
   "execution_count": 2,
   "metadata": {},
   "outputs": [],
   "source": [
    "#Read the data in pandas\n",
    "inp0= pd.read_csv(\"E:\\Data Science\\Datasets\\Attribute+DataSet.csv\")\n",
    "inp1= pd.read_csv(\"E:\\Data Science\\Datasets\\Dress+Sales.csv\")"
   ]
  },
  {
   "cell_type": "markdown",
   "metadata": {},
   "source": [
    "You have “Attribute DataSet” which contains a column named “Price”. Choose the correct statement from the following about its data type and variable type.\n",
    "- Integer type and numerical variable\n",
    "- Object type and categorical ordinal variable\n",
    "- Object type and categorical nominal variable\n",
    "- Float type and categorical variable.\n"
   ]
  },
  {
   "cell_type": "markdown",
   "metadata": {},
   "source": [
    "There is another column in “Attribute DataSet” named as “Recommendation”, choose the correct statement about its data type and variable type.\n",
    "- Integer type and categorical\n",
    "- Object type and categorical\n",
    "- Integer type and continuous numerical\n",
    "- Object type only.\n"
   ]
  },
  {
   "cell_type": "markdown",
   "metadata": {},
   "source": [
    "Which of the following column do you think are of no use in “Attribute DataSet”.\n",
    "- Dress_ID\n",
    "- Price\n",
    "- Size and material\n",
    "- NeckLine\n",
    "- None of the above\n"
   ]
  },
  {
   "cell_type": "code",
   "execution_count": 48,
   "metadata": {},
   "outputs": [
    {
     "name": "stdout",
     "output_type": "stream",
     "text": [
      "<class 'pandas.core.frame.DataFrame'>\n",
      "RangeIndex: 479 entries, 0 to 478\n",
      "Data columns (total 13 columns):\n",
      " #   Column          Non-Null Count  Dtype  \n",
      "---  ------          --------------  -----  \n",
      " 0   Dress_ID        479 non-null    int64  \n",
      " 1   Style           479 non-null    object \n",
      " 2   Price           477 non-null    object \n",
      " 3   Rating          479 non-null    float64\n",
      " 4   Size            479 non-null    object \n",
      " 5   Season          477 non-null    object \n",
      " 6   NeckLine        476 non-null    object \n",
      " 7   SleeveLength    477 non-null    object \n",
      " 8   Material        360 non-null    object \n",
      " 9   FabricType      223 non-null    object \n",
      " 10  Decoration      255 non-null    object \n",
      " 11  Pattern Type    377 non-null    object \n",
      " 12  Recommendation  479 non-null    int64  \n",
      "dtypes: float64(1), int64(2), object(10)\n",
      "memory usage: 48.8+ KB\n"
     ]
    }
   ],
   "source": [
    "# Print the information about the attributes of inp0 and inp1.\n",
    "inp0.info()"
   ]
  },
  {
   "cell_type": "code",
   "execution_count": 49,
   "metadata": {},
   "outputs": [
    {
     "name": "stdout",
     "output_type": "stream",
     "text": [
      "<class 'pandas.core.frame.DataFrame'>\n",
      "RangeIndex: 479 entries, 0 to 478\n",
      "Data columns (total 24 columns):\n",
      " #   Column      Non-Null Count  Dtype  \n",
      "---  ------      --------------  -----  \n",
      " 0   Dress_ID    479 non-null    int64  \n",
      " 1   29-08-2013  479 non-null    int64  \n",
      " 2   31-08-2013  479 non-null    int64  \n",
      " 3   09-02-2013  479 non-null    int64  \n",
      " 4   09-04-2013  479 non-null    int64  \n",
      " 5   09-06-2013  479 non-null    int64  \n",
      " 6   09-08-2013  479 non-null    int64  \n",
      " 7   09-10-2013  479 non-null    int64  \n",
      " 8   09-12-2013  479 non-null    object \n",
      " 9   14-09-2013  479 non-null    object \n",
      " 10  16-09-2013  479 non-null    object \n",
      " 11  18-09-2013  479 non-null    object \n",
      " 12  20-09-2013  479 non-null    object \n",
      " 13  22-09-2013  479 non-null    object \n",
      " 14  24-09-2013  479 non-null    int64  \n",
      " 15  26-09-2013  257 non-null    float64\n",
      " 16  28-09-2013  479 non-null    int64  \n",
      " 17  30-09-2013  222 non-null    float64\n",
      " 18  10-02-2013  220 non-null    float64\n",
      " 19  10-04-2013  221 non-null    float64\n",
      " 20  10-06-2013  479 non-null    int64  \n",
      " 21  10-08-2013  224 non-null    float64\n",
      " 22  10-10-2013  224 non-null    float64\n",
      " 23  10-12-2013  479 non-null    int64  \n",
      "dtypes: float64(6), int64(12), object(6)\n",
      "memory usage: 89.9+ KB\n"
     ]
    }
   ],
   "source": [
    "inp1.info()"
   ]
  },
  {
   "cell_type": "markdown",
   "metadata": {},
   "source": [
    "### Fixing the Rows and Columns "
   ]
  },
  {
   "cell_type": "markdown",
   "metadata": {},
   "source": [
    "As you can see, there is a column in “Attribute Dataset” named as ‘Size’. This column contains the values in abbreviation format. Write a code in Python to convert the followings:\n",
    "\n",
    "- M into  “Medium”\n",
    "- L into  “Large”\n",
    "- XL into “Extra large”\n",
    "- free into “Free”\n",
    "- S, s & small into “Small”.\n",
    "\n",
    "Now once you are done with changes in the dataset, what is the value of the lowest percentage, the highest percentage and the percentage of Small size categories in the column named “Size”?\n"
   ]
  },
  {
   "cell_type": "code",
   "execution_count": 50,
   "metadata": {},
   "outputs": [
    {
     "data": {
      "text/html": [
       "<div>\n",
       "<style scoped>\n",
       "    .dataframe tbody tr th:only-of-type {\n",
       "        vertical-align: middle;\n",
       "    }\n",
       "\n",
       "    .dataframe tbody tr th {\n",
       "        vertical-align: top;\n",
       "    }\n",
       "\n",
       "    .dataframe thead th {\n",
       "        text-align: right;\n",
       "    }\n",
       "</style>\n",
       "<table border=\"1\" class=\"dataframe\">\n",
       "  <thead>\n",
       "    <tr style=\"text-align: right;\">\n",
       "      <th></th>\n",
       "      <th>Dress_ID</th>\n",
       "      <th>Style</th>\n",
       "      <th>Price</th>\n",
       "      <th>Rating</th>\n",
       "      <th>Size</th>\n",
       "      <th>Season</th>\n",
       "      <th>NeckLine</th>\n",
       "      <th>SleeveLength</th>\n",
       "      <th>Material</th>\n",
       "      <th>FabricType</th>\n",
       "      <th>Decoration</th>\n",
       "      <th>Pattern Type</th>\n",
       "      <th>Recommendation</th>\n",
       "    </tr>\n",
       "  </thead>\n",
       "  <tbody>\n",
       "    <tr>\n",
       "      <th>0</th>\n",
       "      <td>1006032852</td>\n",
       "      <td>Sexy</td>\n",
       "      <td>Low</td>\n",
       "      <td>4.6</td>\n",
       "      <td>Medium</td>\n",
       "      <td>Summer</td>\n",
       "      <td>o-neck</td>\n",
       "      <td>sleevless</td>\n",
       "      <td>NaN</td>\n",
       "      <td>chiffon</td>\n",
       "      <td>ruffles</td>\n",
       "      <td>animal</td>\n",
       "      <td>1</td>\n",
       "    </tr>\n",
       "    <tr>\n",
       "      <th>1</th>\n",
       "      <td>1212192089</td>\n",
       "      <td>Casual</td>\n",
       "      <td>Low</td>\n",
       "      <td>0.0</td>\n",
       "      <td>Large</td>\n",
       "      <td>Summer</td>\n",
       "      <td>o-neck</td>\n",
       "      <td>Petal</td>\n",
       "      <td>microfiber</td>\n",
       "      <td>NaN</td>\n",
       "      <td>ruffles</td>\n",
       "      <td>animal</td>\n",
       "      <td>0</td>\n",
       "    </tr>\n",
       "    <tr>\n",
       "      <th>2</th>\n",
       "      <td>1190380701</td>\n",
       "      <td>vintage</td>\n",
       "      <td>High</td>\n",
       "      <td>0.0</td>\n",
       "      <td>Large</td>\n",
       "      <td>Automn</td>\n",
       "      <td>o-neck</td>\n",
       "      <td>full</td>\n",
       "      <td>polyster</td>\n",
       "      <td>NaN</td>\n",
       "      <td>NaN</td>\n",
       "      <td>print</td>\n",
       "      <td>0</td>\n",
       "    </tr>\n",
       "    <tr>\n",
       "      <th>3</th>\n",
       "      <td>966005983</td>\n",
       "      <td>Brief</td>\n",
       "      <td>Average</td>\n",
       "      <td>4.6</td>\n",
       "      <td>Large</td>\n",
       "      <td>Spring</td>\n",
       "      <td>o-neck</td>\n",
       "      <td>full</td>\n",
       "      <td>silk</td>\n",
       "      <td>chiffon</td>\n",
       "      <td>embroidary</td>\n",
       "      <td>print</td>\n",
       "      <td>1</td>\n",
       "    </tr>\n",
       "    <tr>\n",
       "      <th>4</th>\n",
       "      <td>876339541</td>\n",
       "      <td>cute</td>\n",
       "      <td>Low</td>\n",
       "      <td>4.5</td>\n",
       "      <td>Medium</td>\n",
       "      <td>Summer</td>\n",
       "      <td>o-neck</td>\n",
       "      <td>butterfly</td>\n",
       "      <td>chiffonfabric</td>\n",
       "      <td>chiffon</td>\n",
       "      <td>bow</td>\n",
       "      <td>dot</td>\n",
       "      <td>0</td>\n",
       "    </tr>\n",
       "    <tr>\n",
       "      <th>...</th>\n",
       "      <td>...</td>\n",
       "      <td>...</td>\n",
       "      <td>...</td>\n",
       "      <td>...</td>\n",
       "      <td>...</td>\n",
       "      <td>...</td>\n",
       "      <td>...</td>\n",
       "      <td>...</td>\n",
       "      <td>...</td>\n",
       "      <td>...</td>\n",
       "      <td>...</td>\n",
       "      <td>...</td>\n",
       "      <td>...</td>\n",
       "    </tr>\n",
       "    <tr>\n",
       "      <th>474</th>\n",
       "      <td>990559192</td>\n",
       "      <td>Brief</td>\n",
       "      <td>Average</td>\n",
       "      <td>4.7</td>\n",
       "      <td>Medium</td>\n",
       "      <td>winter</td>\n",
       "      <td>o-neck</td>\n",
       "      <td>halfsleeve</td>\n",
       "      <td>acrylic</td>\n",
       "      <td>chiffon</td>\n",
       "      <td>NaN</td>\n",
       "      <td>striped</td>\n",
       "      <td>0</td>\n",
       "    </tr>\n",
       "    <tr>\n",
       "      <th>475</th>\n",
       "      <td>713391965</td>\n",
       "      <td>Casual</td>\n",
       "      <td>Low</td>\n",
       "      <td>4.7</td>\n",
       "      <td>Medium</td>\n",
       "      <td>Spring</td>\n",
       "      <td>o-neck</td>\n",
       "      <td>full</td>\n",
       "      <td>polyster</td>\n",
       "      <td>NaN</td>\n",
       "      <td>NaN</td>\n",
       "      <td>solid</td>\n",
       "      <td>1</td>\n",
       "    </tr>\n",
       "    <tr>\n",
       "      <th>476</th>\n",
       "      <td>532874347</td>\n",
       "      <td>Casual</td>\n",
       "      <td>Average</td>\n",
       "      <td>4.7</td>\n",
       "      <td>Medium</td>\n",
       "      <td>Summer</td>\n",
       "      <td>v-neck</td>\n",
       "      <td>full</td>\n",
       "      <td>cotton</td>\n",
       "      <td>NaN</td>\n",
       "      <td>lace</td>\n",
       "      <td>solid</td>\n",
       "      <td>1</td>\n",
       "    </tr>\n",
       "    <tr>\n",
       "      <th>477</th>\n",
       "      <td>655464934</td>\n",
       "      <td>Casual</td>\n",
       "      <td>Average</td>\n",
       "      <td>4.6</td>\n",
       "      <td>Large</td>\n",
       "      <td>winter</td>\n",
       "      <td>boat-neck</td>\n",
       "      <td>sleevless</td>\n",
       "      <td>silk</td>\n",
       "      <td>broadcloth</td>\n",
       "      <td>applique</td>\n",
       "      <td>print</td>\n",
       "      <td>1</td>\n",
       "    </tr>\n",
       "    <tr>\n",
       "      <th>478</th>\n",
       "      <td>919930954</td>\n",
       "      <td>Casual</td>\n",
       "      <td>Low</td>\n",
       "      <td>4.4</td>\n",
       "      <td>Free</td>\n",
       "      <td>Summer</td>\n",
       "      <td>v-neck</td>\n",
       "      <td>short</td>\n",
       "      <td>cotton</td>\n",
       "      <td>Corduroy</td>\n",
       "      <td>lace</td>\n",
       "      <td>solid</td>\n",
       "      <td>0</td>\n",
       "    </tr>\n",
       "  </tbody>\n",
       "</table>\n",
       "<p>479 rows × 13 columns</p>\n",
       "</div>"
      ],
      "text/plain": [
       "       Dress_ID    Style    Price  Rating    Size  Season   NeckLine  \\\n",
       "0    1006032852     Sexy      Low     4.6  Medium  Summer     o-neck   \n",
       "1    1212192089   Casual      Low     0.0   Large  Summer     o-neck   \n",
       "2    1190380701  vintage     High     0.0   Large  Automn     o-neck   \n",
       "3     966005983    Brief  Average     4.6   Large  Spring     o-neck   \n",
       "4     876339541     cute      Low     4.5  Medium  Summer     o-neck   \n",
       "..          ...      ...      ...     ...     ...     ...        ...   \n",
       "474   990559192    Brief  Average     4.7  Medium  winter     o-neck   \n",
       "475   713391965   Casual      Low     4.7  Medium  Spring     o-neck   \n",
       "476   532874347   Casual  Average     4.7  Medium  Summer     v-neck   \n",
       "477   655464934   Casual  Average     4.6   Large  winter  boat-neck   \n",
       "478   919930954   Casual      Low     4.4    Free  Summer     v-neck   \n",
       "\n",
       "    SleeveLength       Material  FabricType  Decoration Pattern Type  \\\n",
       "0      sleevless            NaN     chiffon     ruffles       animal   \n",
       "1          Petal     microfiber         NaN     ruffles       animal   \n",
       "2           full       polyster         NaN         NaN        print   \n",
       "3           full           silk     chiffon  embroidary        print   \n",
       "4      butterfly  chiffonfabric     chiffon         bow          dot   \n",
       "..           ...            ...         ...         ...          ...   \n",
       "474   halfsleeve        acrylic     chiffon         NaN      striped   \n",
       "475         full       polyster         NaN         NaN        solid   \n",
       "476         full         cotton         NaN        lace        solid   \n",
       "477    sleevless           silk  broadcloth    applique        print   \n",
       "478        short         cotton    Corduroy        lace        solid   \n",
       "\n",
       "     Recommendation  \n",
       "0                 1  \n",
       "1                 0  \n",
       "2                 0  \n",
       "3                 1  \n",
       "4                 0  \n",
       "..              ...  \n",
       "474               0  \n",
       "475               1  \n",
       "476               1  \n",
       "477               1  \n",
       "478               0  \n",
       "\n",
       "[479 rows x 13 columns]"
      ]
     },
     "execution_count": 50,
     "metadata": {},
     "output_type": "execute_result"
    }
   ],
   "source": [
    "# Column fixing, correcting size abbreviation. count the percentage of each size category in \"Size\" column.\n",
    "size_mapping={\n",
    "    'M': 'Medium',\n",
    "    'L': 'Large',\n",
    "    'XL': 'Extra large',\n",
    "    'free': 'Free',\n",
    "    'S': 'Small',\n",
    "    's': 'Small',\n",
    "    'small': 'Small'\n",
    "}\n",
    "inp0['Size']=inp0['Size'].replace(size_mapping)\n",
    "inp0"
   ]
  },
  {
   "cell_type": "code",
   "execution_count": 51,
   "metadata": {},
   "outputs": [
    {
     "data": {
      "text/plain": [
       "Medium         171\n",
       "Free           165\n",
       "Large           93\n",
       "Small           36\n",
       "Extra large     14\n",
       "Name: Size, dtype: int64"
      ]
     },
     "execution_count": 51,
     "metadata": {},
     "output_type": "execute_result"
    }
   ],
   "source": [
    "# Print the value counts of each category in \"Size\" column.\n",
    "inp0['Size'].value_counts()"
   ]
  },
  {
   "cell_type": "markdown",
   "metadata": {},
   "source": [
    "### Impute/Remove Missing values"
   ]
  },
  {
   "cell_type": "code",
   "execution_count": 52,
   "metadata": {},
   "outputs": [
    {
     "data": {
      "text/plain": [
       "Dress_ID            0\n",
       "Style               0\n",
       "Price               2\n",
       "Rating              0\n",
       "Size                0\n",
       "Season              2\n",
       "NeckLine            3\n",
       "SleeveLength        2\n",
       "Material          119\n",
       "FabricType        256\n",
       "Decoration        224\n",
       "Pattern Type      102\n",
       "Recommendation      0\n",
       "dtype: int64"
      ]
     },
     "execution_count": 52,
     "metadata": {},
     "output_type": "execute_result"
    }
   ],
   "source": [
    "# Print the null count of each variables of inp0 and inp1.\n",
    "inp0.isnull().sum()"
   ]
  },
  {
   "cell_type": "code",
   "execution_count": 53,
   "metadata": {},
   "outputs": [
    {
     "data": {
      "text/plain": [
       "Dress_ID        0\n",
       "29-08-2013      0\n",
       "31-08-2013      0\n",
       "09-02-2013      0\n",
       "09-04-2013      0\n",
       "09-06-2013      0\n",
       "09-08-2013      0\n",
       "09-10-2013      0\n",
       "09-12-2013      0\n",
       "14-09-2013      0\n",
       "16-09-2013      0\n",
       "18-09-2013      0\n",
       "20-09-2013      0\n",
       "22-09-2013      0\n",
       "24-09-2013      0\n",
       "26-09-2013    222\n",
       "28-09-2013      0\n",
       "30-09-2013    257\n",
       "10-02-2013    259\n",
       "10-04-2013    258\n",
       "10-06-2013      0\n",
       "10-08-2013    255\n",
       "10-10-2013    255\n",
       "10-12-2013      0\n",
       "dtype: int64"
      ]
     },
     "execution_count": 53,
     "metadata": {},
     "output_type": "execute_result"
    }
   ],
   "source": [
    "inp1.isnull().sum()"
   ]
  },
  {
   "cell_type": "markdown",
   "metadata": {},
   "source": [
    "You are given another dataset named “Dress Sales”. Now if you observe the datatypes of the columns using ‘inp1.info()’ command, you can identify that there are certain columns defined as object data type though they primarily consist of numeric data.\n",
    "\n",
    "Now if you try and convert these object data type columns into numeric data type(float), you will come across an error message. Try to correct this error.\n",
    "\n",
    "\n",
    "\n",
    "\n",
    "\n"
   ]
  },
  {
   "cell_type": "code",
   "execution_count": 10,
   "metadata": {},
   "outputs": [
    {
     "name": "stdout",
     "output_type": "stream",
     "text": [
      "<class 'pandas.core.frame.DataFrame'>\n",
      "RangeIndex: 479 entries, 0 to 478\n",
      "Data columns (total 24 columns):\n",
      " #   Column      Non-Null Count  Dtype  \n",
      "---  ------      --------------  -----  \n",
      " 0   Dress_ID    479 non-null    int64  \n",
      " 1   29-08-2013  479 non-null    int64  \n",
      " 2   31-08-2013  479 non-null    int64  \n",
      " 3   09-02-2013  479 non-null    int64  \n",
      " 4   09-04-2013  479 non-null    int64  \n",
      " 5   09-06-2013  479 non-null    int64  \n",
      " 6   09-08-2013  479 non-null    int64  \n",
      " 7   09-10-2013  479 non-null    int64  \n",
      " 8   09-12-2013  479 non-null    object \n",
      " 9   14-09-2013  479 non-null    object \n",
      " 10  16-09-2013  479 non-null    object \n",
      " 11  18-09-2013  479 non-null    object \n",
      " 12  20-09-2013  479 non-null    object \n",
      " 13  22-09-2013  479 non-null    object \n",
      " 14  24-09-2013  479 non-null    int64  \n",
      " 15  26-09-2013  257 non-null    float64\n",
      " 16  28-09-2013  479 non-null    int64  \n",
      " 17  30-09-2013  222 non-null    float64\n",
      " 18  10-02-2013  220 non-null    float64\n",
      " 19  10-04-2013  221 non-null    float64\n",
      " 20  10-06-2013  479 non-null    int64  \n",
      " 21  10-08-2013  224 non-null    float64\n",
      " 22  10-10-2013  224 non-null    float64\n",
      " 23  10-12-2013  479 non-null    int64  \n",
      "dtypes: float64(6), int64(12), object(6)\n",
      "memory usage: 89.9+ KB\n"
     ]
    }
   ],
   "source": [
    "# Print the data types information of inp1 i.e. \"Dress Sales\" data.\n",
    "inp1.info()"
   ]
  },
  {
   "cell_type": "code",
   "execution_count": 63,
   "metadata": {},
   "outputs": [
    {
     "name": "stdout",
     "output_type": "stream",
     "text": [
      "<class 'pandas.core.frame.DataFrame'>\n",
      "RangeIndex: 479 entries, 0 to 478\n",
      "Data columns (total 24 columns):\n",
      " #   Column      Non-Null Count  Dtype  \n",
      "---  ------      --------------  -----  \n",
      " 0   Dress_ID    479 non-null    int64  \n",
      " 1   29-08-2013  479 non-null    float64\n",
      " 2   31-08-2013  479 non-null    float64\n",
      " 3   09-02-2013  479 non-null    float64\n",
      " 4   09-04-2013  479 non-null    float64\n",
      " 5   09-06-2013  479 non-null    float64\n",
      " 6   09-08-2013  479 non-null    float64\n",
      " 7   09-10-2013  479 non-null    float64\n",
      " 8   09-12-2013  479 non-null    float64\n",
      " 9   14-09-2013  479 non-null    float64\n",
      " 10  16-09-2013  479 non-null    float64\n",
      " 11  18-09-2013  479 non-null    float64\n",
      " 12  20-09-2013  479 non-null    float64\n",
      " 13  22-09-2013  479 non-null    float64\n",
      " 14  24-09-2013  479 non-null    float64\n",
      " 15  26-09-2013  257 non-null    float64\n",
      " 16  28-09-2013  479 non-null    float64\n",
      " 17  30-09-2013  222 non-null    float64\n",
      " 18  10-02-2013  220 non-null    float64\n",
      " 19  10-04-2013  221 non-null    float64\n",
      " 20  10-06-2013  479 non-null    float64\n",
      " 21  10-08-2013  224 non-null    float64\n",
      " 22  10-10-2013  224 non-null    float64\n",
      " 23  10-12-2013  479 non-null    float64\n",
      "dtypes: float64(23), int64(1)\n",
      "memory usage: 89.9 KB\n"
     ]
    }
   ],
   "source": [
    "# Try to convert the object type into float type of data. YOU GET ERROR MESSAGE.\n",
    "#inp1['09-12-2013']=pd.to_numeric(inp1['09-12-2013'])\n",
    "#inp1.info()\n",
    "\n",
    "inp1['29-08-2013'] = inp1['29-08-2013'].astype('float64')\n",
    "inp1['31-08-2013'] = inp1['31-08-2013'].astype('float64')\n",
    "inp1['09-02-2013'] = inp1['09-02-2013'].astype('float64')\n",
    "inp1['09-04-2013'] = inp1['09-04-2013'].astype('float64')\n",
    "inp1['09-06-2013'] = inp1['09-06-2013'].astype('float64')\n",
    "inp1['09-08-2013'] = inp1['09-08-2013'].astype('float64')\n",
    "inp1['09-10-2013'] = inp1['09-10-2013'].astype('float64')\n",
    "inp1['09-12-2013'] = inp1['09-12-2013'].astype('float64')\n",
    "inp1['14-09-2013'] = inp1['14-09-2013'].astype('float64')\n",
    "inp1['16-09-2013'] = inp1['16-09-2013'].astype('float64')\n",
    "inp1['18-09-2013'] = inp1['18-09-2013'].astype('float64')\n",
    "inp1['20-09-2013'] = inp1['20-09-2013'].astype('float64')\n",
    "inp1['22-09-2013'] = inp1['22-09-2013'].astype('float64')\n",
    "inp1['24-09-2013'] = inp1['24-09-2013'].astype('float64')\n",
    "inp1['28-09-2013'] = inp1['28-09-2013'].astype('float64')\n",
    "inp1['10-06-2013'] = inp1['10-06-2013'].astype('float64')\n",
    "inp1.info()"
   ]
  },
  {
   "cell_type": "code",
   "execution_count": 62,
   "metadata": {},
   "outputs": [],
   "source": [
    "for col in inp1.columns:\n",
    "    inp1[col]=inp1[col].replace('removed',0)"
   ]
  },
  {
   "cell_type": "code",
   "execution_count": null,
   "metadata": {},
   "outputs": [],
   "source": [
    "# Do the required changes in the \"Dress Sales\" data set to get null values on string values.\n"
   ]
  },
  {
   "cell_type": "code",
   "execution_count": null,
   "metadata": {},
   "outputs": [],
   "source": [
    "# Convert the object type columns in \"Dress Sales\" into float type of data type.\n"
   ]
  },
  {
   "cell_type": "markdown",
   "metadata": {},
   "source": [
    "When you see the null counts in “Dress Sales” dataset after performing all the operations that have been mentioned in jupyter notebook, you will find that there are some columns in “Dress Sales” data where there are more than 40% of missing values. Based on your understanding of dealing with missing values do the following steps."
   ]
  },
  {
   "cell_type": "code",
   "execution_count": 64,
   "metadata": {},
   "outputs": [
    {
     "name": "stdout",
     "output_type": "stream",
     "text": [
      "Dress_ID       0.000000\n",
      "29-08-2013     0.000000\n",
      "31-08-2013     0.000000\n",
      "09-02-2013     0.000000\n",
      "09-04-2013     0.000000\n",
      "09-06-2013     0.000000\n",
      "09-08-2013     0.000000\n",
      "09-10-2013     0.000000\n",
      "09-12-2013     0.000000\n",
      "14-09-2013     0.000000\n",
      "16-09-2013     0.000000\n",
      "18-09-2013     0.000000\n",
      "20-09-2013     0.000000\n",
      "22-09-2013     0.000000\n",
      "24-09-2013     0.000000\n",
      "26-09-2013    46.346555\n",
      "28-09-2013     0.000000\n",
      "30-09-2013    53.653445\n",
      "10-02-2013    54.070981\n",
      "10-04-2013    53.862213\n",
      "10-06-2013     0.000000\n",
      "10-08-2013    53.235908\n",
      "10-10-2013    53.235908\n",
      "10-12-2013     0.000000\n",
      "dtype: float64\n"
     ]
    }
   ],
   "source": [
    "# Print the null percetange of each column of inp1.\n",
    "null_percentage = (inp1.isnull().sum() / len(inp1)) * 100\n",
    "print(null_percentage)"
   ]
  },
  {
   "cell_type": "code",
   "execution_count": 65,
   "metadata": {},
   "outputs": [
    {
     "data": {
      "text/html": [
       "<div>\n",
       "<style scoped>\n",
       "    .dataframe tbody tr th:only-of-type {\n",
       "        vertical-align: middle;\n",
       "    }\n",
       "\n",
       "    .dataframe tbody tr th {\n",
       "        vertical-align: top;\n",
       "    }\n",
       "\n",
       "    .dataframe thead th {\n",
       "        text-align: right;\n",
       "    }\n",
       "</style>\n",
       "<table border=\"1\" class=\"dataframe\">\n",
       "  <thead>\n",
       "    <tr style=\"text-align: right;\">\n",
       "      <th></th>\n",
       "      <th>Dress_ID</th>\n",
       "      <th>29-08-2013</th>\n",
       "      <th>31-08-2013</th>\n",
       "      <th>09-02-2013</th>\n",
       "      <th>09-04-2013</th>\n",
       "      <th>09-06-2013</th>\n",
       "      <th>09-08-2013</th>\n",
       "      <th>09-10-2013</th>\n",
       "      <th>09-12-2013</th>\n",
       "      <th>14-09-2013</th>\n",
       "      <th>16-09-2013</th>\n",
       "      <th>18-09-2013</th>\n",
       "      <th>20-09-2013</th>\n",
       "      <th>22-09-2013</th>\n",
       "      <th>24-09-2013</th>\n",
       "      <th>28-09-2013</th>\n",
       "      <th>10-06-2013</th>\n",
       "      <th>10-12-2013</th>\n",
       "    </tr>\n",
       "  </thead>\n",
       "  <tbody>\n",
       "    <tr>\n",
       "      <th>0</th>\n",
       "      <td>1006032852</td>\n",
       "      <td>2114.0</td>\n",
       "      <td>2274.0</td>\n",
       "      <td>2491.0</td>\n",
       "      <td>2660.0</td>\n",
       "      <td>2727.0</td>\n",
       "      <td>2887.0</td>\n",
       "      <td>2930.0</td>\n",
       "      <td>3119.0</td>\n",
       "      <td>3204.0</td>\n",
       "      <td>3277.0</td>\n",
       "      <td>3321.0</td>\n",
       "      <td>3386.0</td>\n",
       "      <td>3479.0</td>\n",
       "      <td>3554.0</td>\n",
       "      <td>3706.0</td>\n",
       "      <td>3897.0</td>\n",
       "      <td>4048.0</td>\n",
       "    </tr>\n",
       "    <tr>\n",
       "      <th>1</th>\n",
       "      <td>1212192089</td>\n",
       "      <td>151.0</td>\n",
       "      <td>275.0</td>\n",
       "      <td>570.0</td>\n",
       "      <td>750.0</td>\n",
       "      <td>813.0</td>\n",
       "      <td>1066.0</td>\n",
       "      <td>1164.0</td>\n",
       "      <td>1558.0</td>\n",
       "      <td>1756.0</td>\n",
       "      <td>1878.0</td>\n",
       "      <td>1985.0</td>\n",
       "      <td>2106.0</td>\n",
       "      <td>2454.0</td>\n",
       "      <td>2710.0</td>\n",
       "      <td>3258.0</td>\n",
       "      <td>3911.0</td>\n",
       "      <td>4277.0</td>\n",
       "    </tr>\n",
       "    <tr>\n",
       "      <th>2</th>\n",
       "      <td>1190380701</td>\n",
       "      <td>6.0</td>\n",
       "      <td>7.0</td>\n",
       "      <td>7.0</td>\n",
       "      <td>7.0</td>\n",
       "      <td>8.0</td>\n",
       "      <td>8.0</td>\n",
       "      <td>9.0</td>\n",
       "      <td>10.0</td>\n",
       "      <td>10.0</td>\n",
       "      <td>10.0</td>\n",
       "      <td>10.0</td>\n",
       "      <td>10.0</td>\n",
       "      <td>11.0</td>\n",
       "      <td>11.0</td>\n",
       "      <td>11.0</td>\n",
       "      <td>11.0</td>\n",
       "      <td>11.0</td>\n",
       "    </tr>\n",
       "    <tr>\n",
       "      <th>3</th>\n",
       "      <td>966005983</td>\n",
       "      <td>1005.0</td>\n",
       "      <td>1128.0</td>\n",
       "      <td>1326.0</td>\n",
       "      <td>1455.0</td>\n",
       "      <td>1507.0</td>\n",
       "      <td>1621.0</td>\n",
       "      <td>1637.0</td>\n",
       "      <td>1723.0</td>\n",
       "      <td>1746.0</td>\n",
       "      <td>1783.0</td>\n",
       "      <td>1796.0</td>\n",
       "      <td>1812.0</td>\n",
       "      <td>1845.0</td>\n",
       "      <td>1878.0</td>\n",
       "      <td>1914.0</td>\n",
       "      <td>1952.0</td>\n",
       "      <td>1963.0</td>\n",
       "    </tr>\n",
       "    <tr>\n",
       "      <th>4</th>\n",
       "      <td>876339541</td>\n",
       "      <td>996.0</td>\n",
       "      <td>1175.0</td>\n",
       "      <td>1304.0</td>\n",
       "      <td>1396.0</td>\n",
       "      <td>1432.0</td>\n",
       "      <td>1559.0</td>\n",
       "      <td>1570.0</td>\n",
       "      <td>1638.0</td>\n",
       "      <td>1655.0</td>\n",
       "      <td>1681.0</td>\n",
       "      <td>1743.0</td>\n",
       "      <td>1824.0</td>\n",
       "      <td>1919.0</td>\n",
       "      <td>2032.0</td>\n",
       "      <td>2252.0</td>\n",
       "      <td>2544.0</td>\n",
       "      <td>2736.0</td>\n",
       "    </tr>\n",
       "    <tr>\n",
       "      <th>...</th>\n",
       "      <td>...</td>\n",
       "      <td>...</td>\n",
       "      <td>...</td>\n",
       "      <td>...</td>\n",
       "      <td>...</td>\n",
       "      <td>...</td>\n",
       "      <td>...</td>\n",
       "      <td>...</td>\n",
       "      <td>...</td>\n",
       "      <td>...</td>\n",
       "      <td>...</td>\n",
       "      <td>...</td>\n",
       "      <td>...</td>\n",
       "      <td>...</td>\n",
       "      <td>...</td>\n",
       "      <td>...</td>\n",
       "      <td>...</td>\n",
       "      <td>...</td>\n",
       "    </tr>\n",
       "    <tr>\n",
       "      <th>474</th>\n",
       "      <td>990559192</td>\n",
       "      <td>0.0</td>\n",
       "      <td>0.0</td>\n",
       "      <td>0.0</td>\n",
       "      <td>60.0</td>\n",
       "      <td>62.0</td>\n",
       "      <td>64.0</td>\n",
       "      <td>65.0</td>\n",
       "      <td>67.0</td>\n",
       "      <td>68.0</td>\n",
       "      <td>69.0</td>\n",
       "      <td>70.0</td>\n",
       "      <td>72.0</td>\n",
       "      <td>73.0</td>\n",
       "      <td>73.0</td>\n",
       "      <td>75.0</td>\n",
       "      <td>77.0</td>\n",
       "      <td>77.0</td>\n",
       "    </tr>\n",
       "    <tr>\n",
       "      <th>475</th>\n",
       "      <td>713391965</td>\n",
       "      <td>0.0</td>\n",
       "      <td>0.0</td>\n",
       "      <td>0.0</td>\n",
       "      <td>560.0</td>\n",
       "      <td>554.0</td>\n",
       "      <td>544.0</td>\n",
       "      <td>537.0</td>\n",
       "      <td>525.0</td>\n",
       "      <td>519.0</td>\n",
       "      <td>511.0</td>\n",
       "      <td>501.0</td>\n",
       "      <td>492.0</td>\n",
       "      <td>480.0</td>\n",
       "      <td>400.0</td>\n",
       "      <td>360.0</td>\n",
       "      <td>380.0</td>\n",
       "      <td>285.0</td>\n",
       "    </tr>\n",
       "    <tr>\n",
       "      <th>476</th>\n",
       "      <td>532874347</td>\n",
       "      <td>0.0</td>\n",
       "      <td>0.0</td>\n",
       "      <td>0.0</td>\n",
       "      <td>734.0</td>\n",
       "      <td>728.0</td>\n",
       "      <td>726.0</td>\n",
       "      <td>715.0</td>\n",
       "      <td>694.0</td>\n",
       "      <td>690.0</td>\n",
       "      <td>686.0</td>\n",
       "      <td>674.0</td>\n",
       "      <td>665.0</td>\n",
       "      <td>658.0</td>\n",
       "      <td>616.0</td>\n",
       "      <td>586.0</td>\n",
       "      <td>551.0</td>\n",
       "      <td>520.0</td>\n",
       "    </tr>\n",
       "    <tr>\n",
       "      <th>477</th>\n",
       "      <td>655464934</td>\n",
       "      <td>0.0</td>\n",
       "      <td>0.0</td>\n",
       "      <td>0.0</td>\n",
       "      <td>254.0</td>\n",
       "      <td>259.0</td>\n",
       "      <td>261.0</td>\n",
       "      <td>263.0</td>\n",
       "      <td>268.0</td>\n",
       "      <td>270.0</td>\n",
       "      <td>272.0</td>\n",
       "      <td>272.0</td>\n",
       "      <td>264.0</td>\n",
       "      <td>264.0</td>\n",
       "      <td>257.0</td>\n",
       "      <td>255.0</td>\n",
       "      <td>249.0</td>\n",
       "      <td>248.0</td>\n",
       "    </tr>\n",
       "    <tr>\n",
       "      <th>478</th>\n",
       "      <td>919930954</td>\n",
       "      <td>0.0</td>\n",
       "      <td>0.0</td>\n",
       "      <td>0.0</td>\n",
       "      <td>538.0</td>\n",
       "      <td>545.0</td>\n",
       "      <td>558.0</td>\n",
       "      <td>563.0</td>\n",
       "      <td>578.0</td>\n",
       "      <td>585.0</td>\n",
       "      <td>590.0</td>\n",
       "      <td>599.0</td>\n",
       "      <td>605.0</td>\n",
       "      <td>619.0</td>\n",
       "      <td>628.0</td>\n",
       "      <td>639.0</td>\n",
       "      <td>660.0</td>\n",
       "      <td>680.0</td>\n",
       "    </tr>\n",
       "  </tbody>\n",
       "</table>\n",
       "<p>479 rows × 18 columns</p>\n",
       "</div>"
      ],
      "text/plain": [
       "       Dress_ID  29-08-2013  31-08-2013  09-02-2013  09-04-2013  09-06-2013  \\\n",
       "0    1006032852      2114.0      2274.0      2491.0      2660.0      2727.0   \n",
       "1    1212192089       151.0       275.0       570.0       750.0       813.0   \n",
       "2    1190380701         6.0         7.0         7.0         7.0         8.0   \n",
       "3     966005983      1005.0      1128.0      1326.0      1455.0      1507.0   \n",
       "4     876339541       996.0      1175.0      1304.0      1396.0      1432.0   \n",
       "..          ...         ...         ...         ...         ...         ...   \n",
       "474   990559192         0.0         0.0         0.0        60.0        62.0   \n",
       "475   713391965         0.0         0.0         0.0       560.0       554.0   \n",
       "476   532874347         0.0         0.0         0.0       734.0       728.0   \n",
       "477   655464934         0.0         0.0         0.0       254.0       259.0   \n",
       "478   919930954         0.0         0.0         0.0       538.0       545.0   \n",
       "\n",
       "     09-08-2013  09-10-2013  09-12-2013  14-09-2013  16-09-2013  18-09-2013  \\\n",
       "0        2887.0      2930.0      3119.0      3204.0      3277.0      3321.0   \n",
       "1        1066.0      1164.0      1558.0      1756.0      1878.0      1985.0   \n",
       "2           8.0         9.0        10.0        10.0        10.0        10.0   \n",
       "3        1621.0      1637.0      1723.0      1746.0      1783.0      1796.0   \n",
       "4        1559.0      1570.0      1638.0      1655.0      1681.0      1743.0   \n",
       "..          ...         ...         ...         ...         ...         ...   \n",
       "474        64.0        65.0        67.0        68.0        69.0        70.0   \n",
       "475       544.0       537.0       525.0       519.0       511.0       501.0   \n",
       "476       726.0       715.0       694.0       690.0       686.0       674.0   \n",
       "477       261.0       263.0       268.0       270.0       272.0       272.0   \n",
       "478       558.0       563.0       578.0       585.0       590.0       599.0   \n",
       "\n",
       "     20-09-2013  22-09-2013  24-09-2013  28-09-2013  10-06-2013  10-12-2013  \n",
       "0        3386.0      3479.0      3554.0      3706.0      3897.0      4048.0  \n",
       "1        2106.0      2454.0      2710.0      3258.0      3911.0      4277.0  \n",
       "2          10.0        11.0        11.0        11.0        11.0        11.0  \n",
       "3        1812.0      1845.0      1878.0      1914.0      1952.0      1963.0  \n",
       "4        1824.0      1919.0      2032.0      2252.0      2544.0      2736.0  \n",
       "..          ...         ...         ...         ...         ...         ...  \n",
       "474        72.0        73.0        73.0        75.0        77.0        77.0  \n",
       "475       492.0       480.0       400.0       360.0       380.0       285.0  \n",
       "476       665.0       658.0       616.0       586.0       551.0       520.0  \n",
       "477       264.0       264.0       257.0       255.0       249.0       248.0  \n",
       "478       605.0       619.0       628.0       639.0       660.0       680.0  \n",
       "\n",
       "[479 rows x 18 columns]"
      ]
     },
     "execution_count": 65,
     "metadata": {},
     "output_type": "execute_result"
    }
   ],
   "source": [
    "# Drop the columns in \"Dress Sales\" which have more than 40% of missing values.\n",
    "col_remove=['26-09-2013', '30-09-2013', '10-02-2013', '10-04-2013', '10-08-2013', '10-10-2013']\n",
    "inp1=inp1.drop(columns=col_remove)\n",
    "inp1"
   ]
  },
  {
   "cell_type": "markdown",
   "metadata": {},
   "source": [
    "You should categorise the dates into seasons in “Dress Sales” data to simplify the analysis according to the following criteria:\n",
    "- June, July and August: Summer.\n",
    "- September, October and November: Autumn.\n",
    "- December, January and February: WInter.\n",
    "- March, April and May: Spring.\n",
    "\n",
    "\n"
   ]
  },
  {
   "cell_type": "code",
   "execution_count": 66,
   "metadata": {},
   "outputs": [
    {
     "data": {
      "text/html": [
       "<div>\n",
       "<style scoped>\n",
       "    .dataframe tbody tr th:only-of-type {\n",
       "        vertical-align: middle;\n",
       "    }\n",
       "\n",
       "    .dataframe tbody tr th {\n",
       "        vertical-align: top;\n",
       "    }\n",
       "\n",
       "    .dataframe thead th {\n",
       "        text-align: right;\n",
       "    }\n",
       "</style>\n",
       "<table border=\"1\" class=\"dataframe\">\n",
       "  <thead>\n",
       "    <tr style=\"text-align: right;\">\n",
       "      <th></th>\n",
       "      <th>Dress_ID</th>\n",
       "      <th>29-08-2013</th>\n",
       "      <th>31-08-2013</th>\n",
       "      <th>09-02-2013</th>\n",
       "      <th>09-04-2013</th>\n",
       "      <th>09-06-2013</th>\n",
       "      <th>09-08-2013</th>\n",
       "      <th>09-10-2013</th>\n",
       "      <th>09-12-2013</th>\n",
       "      <th>14-09-2013</th>\n",
       "      <th>...</th>\n",
       "      <th>20-09-2013</th>\n",
       "      <th>22-09-2013</th>\n",
       "      <th>24-09-2013</th>\n",
       "      <th>28-09-2013</th>\n",
       "      <th>10-06-2013</th>\n",
       "      <th>10-12-2013</th>\n",
       "      <th>Summer</th>\n",
       "      <th>Autumn</th>\n",
       "      <th>Winter</th>\n",
       "      <th>Spring</th>\n",
       "    </tr>\n",
       "  </thead>\n",
       "  <tbody>\n",
       "    <tr>\n",
       "      <th>0</th>\n",
       "      <td>1006032852</td>\n",
       "      <td>2114.0</td>\n",
       "      <td>2274.0</td>\n",
       "      <td>2491.0</td>\n",
       "      <td>2660.0</td>\n",
       "      <td>2727.0</td>\n",
       "      <td>2887.0</td>\n",
       "      <td>2930.0</td>\n",
       "      <td>3119.0</td>\n",
       "      <td>3204.0</td>\n",
       "      <td>...</td>\n",
       "      <td>3386.0</td>\n",
       "      <td>3479.0</td>\n",
       "      <td>3554.0</td>\n",
       "      <td>3706.0</td>\n",
       "      <td>3897.0</td>\n",
       "      <td>4048.0</td>\n",
       "      <td>13899.0</td>\n",
       "      <td>26857.0</td>\n",
       "      <td>9658.0</td>\n",
       "      <td>2660.0</td>\n",
       "    </tr>\n",
       "    <tr>\n",
       "      <th>1</th>\n",
       "      <td>1212192089</td>\n",
       "      <td>151.0</td>\n",
       "      <td>275.0</td>\n",
       "      <td>570.0</td>\n",
       "      <td>750.0</td>\n",
       "      <td>813.0</td>\n",
       "      <td>1066.0</td>\n",
       "      <td>1164.0</td>\n",
       "      <td>1558.0</td>\n",
       "      <td>1756.0</td>\n",
       "      <td>...</td>\n",
       "      <td>2106.0</td>\n",
       "      <td>2454.0</td>\n",
       "      <td>2710.0</td>\n",
       "      <td>3258.0</td>\n",
       "      <td>3911.0</td>\n",
       "      <td>4277.0</td>\n",
       "      <td>6216.0</td>\n",
       "      <td>17311.0</td>\n",
       "      <td>6405.0</td>\n",
       "      <td>750.0</td>\n",
       "    </tr>\n",
       "    <tr>\n",
       "      <th>2</th>\n",
       "      <td>1190380701</td>\n",
       "      <td>6.0</td>\n",
       "      <td>7.0</td>\n",
       "      <td>7.0</td>\n",
       "      <td>7.0</td>\n",
       "      <td>8.0</td>\n",
       "      <td>8.0</td>\n",
       "      <td>9.0</td>\n",
       "      <td>10.0</td>\n",
       "      <td>10.0</td>\n",
       "      <td>...</td>\n",
       "      <td>10.0</td>\n",
       "      <td>11.0</td>\n",
       "      <td>11.0</td>\n",
       "      <td>11.0</td>\n",
       "      <td>11.0</td>\n",
       "      <td>11.0</td>\n",
       "      <td>40.0</td>\n",
       "      <td>82.0</td>\n",
       "      <td>28.0</td>\n",
       "      <td>7.0</td>\n",
       "    </tr>\n",
       "    <tr>\n",
       "      <th>3</th>\n",
       "      <td>966005983</td>\n",
       "      <td>1005.0</td>\n",
       "      <td>1128.0</td>\n",
       "      <td>1326.0</td>\n",
       "      <td>1455.0</td>\n",
       "      <td>1507.0</td>\n",
       "      <td>1621.0</td>\n",
       "      <td>1637.0</td>\n",
       "      <td>1723.0</td>\n",
       "      <td>1746.0</td>\n",
       "      <td>...</td>\n",
       "      <td>1812.0</td>\n",
       "      <td>1845.0</td>\n",
       "      <td>1878.0</td>\n",
       "      <td>1914.0</td>\n",
       "      <td>1952.0</td>\n",
       "      <td>1963.0</td>\n",
       "      <td>7213.0</td>\n",
       "      <td>14411.0</td>\n",
       "      <td>5012.0</td>\n",
       "      <td>1455.0</td>\n",
       "    </tr>\n",
       "    <tr>\n",
       "      <th>4</th>\n",
       "      <td>876339541</td>\n",
       "      <td>996.0</td>\n",
       "      <td>1175.0</td>\n",
       "      <td>1304.0</td>\n",
       "      <td>1396.0</td>\n",
       "      <td>1432.0</td>\n",
       "      <td>1559.0</td>\n",
       "      <td>1570.0</td>\n",
       "      <td>1638.0</td>\n",
       "      <td>1655.0</td>\n",
       "      <td>...</td>\n",
       "      <td>1824.0</td>\n",
       "      <td>1919.0</td>\n",
       "      <td>2032.0</td>\n",
       "      <td>2252.0</td>\n",
       "      <td>2544.0</td>\n",
       "      <td>2736.0</td>\n",
       "      <td>7706.0</td>\n",
       "      <td>14676.0</td>\n",
       "      <td>5678.0</td>\n",
       "      <td>1396.0</td>\n",
       "    </tr>\n",
       "  </tbody>\n",
       "</table>\n",
       "<p>5 rows × 22 columns</p>\n",
       "</div>"
      ],
      "text/plain": [
       "     Dress_ID  29-08-2013  31-08-2013  09-02-2013  09-04-2013  09-06-2013  \\\n",
       "0  1006032852      2114.0      2274.0      2491.0      2660.0      2727.0   \n",
       "1  1212192089       151.0       275.0       570.0       750.0       813.0   \n",
       "2  1190380701         6.0         7.0         7.0         7.0         8.0   \n",
       "3   966005983      1005.0      1128.0      1326.0      1455.0      1507.0   \n",
       "4   876339541       996.0      1175.0      1304.0      1396.0      1432.0   \n",
       "\n",
       "   09-08-2013  09-10-2013  09-12-2013  14-09-2013  ...  20-09-2013  \\\n",
       "0      2887.0      2930.0      3119.0      3204.0  ...      3386.0   \n",
       "1      1066.0      1164.0      1558.0      1756.0  ...      2106.0   \n",
       "2         8.0         9.0        10.0        10.0  ...        10.0   \n",
       "3      1621.0      1637.0      1723.0      1746.0  ...      1812.0   \n",
       "4      1559.0      1570.0      1638.0      1655.0  ...      1824.0   \n",
       "\n",
       "   22-09-2013  24-09-2013  28-09-2013  10-06-2013  10-12-2013   Summer  \\\n",
       "0      3479.0      3554.0      3706.0      3897.0      4048.0  13899.0   \n",
       "1      2454.0      2710.0      3258.0      3911.0      4277.0   6216.0   \n",
       "2        11.0        11.0        11.0        11.0        11.0     40.0   \n",
       "3      1845.0      1878.0      1914.0      1952.0      1963.0   7213.0   \n",
       "4      1919.0      2032.0      2252.0      2544.0      2736.0   7706.0   \n",
       "\n",
       "    Autumn  Winter  Spring  \n",
       "0  26857.0  9658.0  2660.0  \n",
       "1  17311.0  6405.0   750.0  \n",
       "2     82.0    28.0     7.0  \n",
       "3  14411.0  5012.0  1455.0  \n",
       "4  14676.0  5678.0  1396.0  \n",
       "\n",
       "[5 rows x 22 columns]"
      ]
     },
     "execution_count": 66,
     "metadata": {},
     "output_type": "execute_result"
    }
   ],
   "source": [
    "# Create the four seasons columns in inp1, according to the above criteria.\n",
    "inp1['Summer'] = inp1.apply(lambda x: x['29-08-2013'] + x['31-08-2013']+ x['09-06-2013']+ x['09-08-2013']+ x['10-06-2013'], axis=1)\n",
    "inp1['Autumn'] = inp1.apply(lambda x: x['09-10-2013'] + x['14-09-2013']+ x['16-09-2013']+ x['18-09-2013']+ x['20-09-2013']+ x['22-09-2013']+ x['24-09-2013']+ x['28-09-2013'], axis=1)\n",
    "inp1['Winter'] = inp1.apply(lambda x: x['09-02-2013'] + x['09-12-2013']+ x['10-12-2013'], axis=1)\n",
    "inp1['Spring'] = inp1.apply(lambda x: x['09-04-2013'], axis=1)\n",
    "inp1.head()"
   ]
  },
  {
   "cell_type": "code",
   "execution_count": 67,
   "metadata": {},
   "outputs": [
    {
     "name": "stdout",
     "output_type": "stream",
     "text": [
      "691907.0\n",
      "1363288.0\n",
      "474683.0\n",
      "143600.0\n"
     ]
    }
   ],
   "source": [
    "# calculate the sum of sales in each seasons in inp1 i.e. \"Dress Sales\".\n",
    "Summer=inp1['Summer'].sum()\n",
    "Autumn=inp1['Autumn'].sum()\n",
    "Winter=inp1['Winter'].sum()\n",
    "Spring=inp1['Spring'].sum()\n",
    "print(Summer)\n",
    "print(Autumn)\n",
    "print(Winter)\n",
    "print(Spring)"
   ]
  },
  {
   "cell_type": "markdown",
   "metadata": {},
   "source": [
    "Now let's merge inp1 with inp0 with left join manner, so that the information of inp0 should remain intact."
   ]
  },
  {
   "cell_type": "code",
   "execution_count": 68,
   "metadata": {},
   "outputs": [
    {
     "data": {
      "text/html": [
       "<div>\n",
       "<style scoped>\n",
       "    .dataframe tbody tr th:only-of-type {\n",
       "        vertical-align: middle;\n",
       "    }\n",
       "\n",
       "    .dataframe tbody tr th {\n",
       "        vertical-align: top;\n",
       "    }\n",
       "\n",
       "    .dataframe thead th {\n",
       "        text-align: right;\n",
       "    }\n",
       "</style>\n",
       "<table border=\"1\" class=\"dataframe\">\n",
       "  <thead>\n",
       "    <tr style=\"text-align: right;\">\n",
       "      <th></th>\n",
       "      <th>Dress_ID</th>\n",
       "      <th>Style</th>\n",
       "      <th>Price</th>\n",
       "      <th>Rating</th>\n",
       "      <th>Size</th>\n",
       "      <th>Season</th>\n",
       "      <th>NeckLine</th>\n",
       "      <th>SleeveLength</th>\n",
       "      <th>Material</th>\n",
       "      <th>FabricType</th>\n",
       "      <th>...</th>\n",
       "      <th>20-09-2013</th>\n",
       "      <th>22-09-2013</th>\n",
       "      <th>24-09-2013</th>\n",
       "      <th>28-09-2013</th>\n",
       "      <th>10-06-2013</th>\n",
       "      <th>10-12-2013</th>\n",
       "      <th>Summer</th>\n",
       "      <th>Autumn</th>\n",
       "      <th>Winter</th>\n",
       "      <th>Spring</th>\n",
       "    </tr>\n",
       "  </thead>\n",
       "  <tbody>\n",
       "    <tr>\n",
       "      <th>0</th>\n",
       "      <td>1006032852</td>\n",
       "      <td>Sexy</td>\n",
       "      <td>Low</td>\n",
       "      <td>4.6</td>\n",
       "      <td>Medium</td>\n",
       "      <td>Summer</td>\n",
       "      <td>o-neck</td>\n",
       "      <td>sleevless</td>\n",
       "      <td>NaN</td>\n",
       "      <td>chiffon</td>\n",
       "      <td>...</td>\n",
       "      <td>3386.0</td>\n",
       "      <td>3479.0</td>\n",
       "      <td>3554.0</td>\n",
       "      <td>3706.0</td>\n",
       "      <td>3897.0</td>\n",
       "      <td>4048.0</td>\n",
       "      <td>13899.0</td>\n",
       "      <td>26857.0</td>\n",
       "      <td>9658.0</td>\n",
       "      <td>2660.0</td>\n",
       "    </tr>\n",
       "    <tr>\n",
       "      <th>1</th>\n",
       "      <td>1212192089</td>\n",
       "      <td>Casual</td>\n",
       "      <td>Low</td>\n",
       "      <td>0.0</td>\n",
       "      <td>Large</td>\n",
       "      <td>Summer</td>\n",
       "      <td>o-neck</td>\n",
       "      <td>Petal</td>\n",
       "      <td>microfiber</td>\n",
       "      <td>NaN</td>\n",
       "      <td>...</td>\n",
       "      <td>2106.0</td>\n",
       "      <td>2454.0</td>\n",
       "      <td>2710.0</td>\n",
       "      <td>3258.0</td>\n",
       "      <td>3911.0</td>\n",
       "      <td>4277.0</td>\n",
       "      <td>6216.0</td>\n",
       "      <td>17311.0</td>\n",
       "      <td>6405.0</td>\n",
       "      <td>750.0</td>\n",
       "    </tr>\n",
       "    <tr>\n",
       "      <th>2</th>\n",
       "      <td>1190380701</td>\n",
       "      <td>vintage</td>\n",
       "      <td>High</td>\n",
       "      <td>0.0</td>\n",
       "      <td>Large</td>\n",
       "      <td>Automn</td>\n",
       "      <td>o-neck</td>\n",
       "      <td>full</td>\n",
       "      <td>polyster</td>\n",
       "      <td>NaN</td>\n",
       "      <td>...</td>\n",
       "      <td>10.0</td>\n",
       "      <td>11.0</td>\n",
       "      <td>11.0</td>\n",
       "      <td>11.0</td>\n",
       "      <td>11.0</td>\n",
       "      <td>11.0</td>\n",
       "      <td>40.0</td>\n",
       "      <td>82.0</td>\n",
       "      <td>28.0</td>\n",
       "      <td>7.0</td>\n",
       "    </tr>\n",
       "    <tr>\n",
       "      <th>3</th>\n",
       "      <td>966005983</td>\n",
       "      <td>Brief</td>\n",
       "      <td>Average</td>\n",
       "      <td>4.6</td>\n",
       "      <td>Large</td>\n",
       "      <td>Spring</td>\n",
       "      <td>o-neck</td>\n",
       "      <td>full</td>\n",
       "      <td>silk</td>\n",
       "      <td>chiffon</td>\n",
       "      <td>...</td>\n",
       "      <td>1812.0</td>\n",
       "      <td>1845.0</td>\n",
       "      <td>1878.0</td>\n",
       "      <td>1914.0</td>\n",
       "      <td>1952.0</td>\n",
       "      <td>1963.0</td>\n",
       "      <td>7213.0</td>\n",
       "      <td>14411.0</td>\n",
       "      <td>5012.0</td>\n",
       "      <td>1455.0</td>\n",
       "    </tr>\n",
       "    <tr>\n",
       "      <th>4</th>\n",
       "      <td>876339541</td>\n",
       "      <td>cute</td>\n",
       "      <td>Low</td>\n",
       "      <td>4.5</td>\n",
       "      <td>Medium</td>\n",
       "      <td>Summer</td>\n",
       "      <td>o-neck</td>\n",
       "      <td>butterfly</td>\n",
       "      <td>chiffonfabric</td>\n",
       "      <td>chiffon</td>\n",
       "      <td>...</td>\n",
       "      <td>1824.0</td>\n",
       "      <td>1919.0</td>\n",
       "      <td>2032.0</td>\n",
       "      <td>2252.0</td>\n",
       "      <td>2544.0</td>\n",
       "      <td>2736.0</td>\n",
       "      <td>7706.0</td>\n",
       "      <td>14676.0</td>\n",
       "      <td>5678.0</td>\n",
       "      <td>1396.0</td>\n",
       "    </tr>\n",
       "  </tbody>\n",
       "</table>\n",
       "<p>5 rows × 34 columns</p>\n",
       "</div>"
      ],
      "text/plain": [
       "     Dress_ID    Style    Price  Rating    Size  Season NeckLine SleeveLength  \\\n",
       "0  1006032852     Sexy      Low     4.6  Medium  Summer   o-neck    sleevless   \n",
       "1  1212192089   Casual      Low     0.0   Large  Summer   o-neck        Petal   \n",
       "2  1190380701  vintage     High     0.0   Large  Automn   o-neck         full   \n",
       "3   966005983    Brief  Average     4.6   Large  Spring   o-neck         full   \n",
       "4   876339541     cute      Low     4.5  Medium  Summer   o-neck    butterfly   \n",
       "\n",
       "        Material FabricType  ... 20-09-2013 22-09-2013  24-09-2013  \\\n",
       "0            NaN    chiffon  ...     3386.0     3479.0      3554.0   \n",
       "1     microfiber        NaN  ...     2106.0     2454.0      2710.0   \n",
       "2       polyster        NaN  ...       10.0       11.0        11.0   \n",
       "3           silk    chiffon  ...     1812.0     1845.0      1878.0   \n",
       "4  chiffonfabric    chiffon  ...     1824.0     1919.0      2032.0   \n",
       "\n",
       "   28-09-2013  10-06-2013  10-12-2013   Summer   Autumn  Winter  Spring  \n",
       "0      3706.0      3897.0      4048.0  13899.0  26857.0  9658.0  2660.0  \n",
       "1      3258.0      3911.0      4277.0   6216.0  17311.0  6405.0   750.0  \n",
       "2        11.0        11.0        11.0     40.0     82.0    28.0     7.0  \n",
       "3      1914.0      1952.0      1963.0   7213.0  14411.0  5012.0  1455.0  \n",
       "4      2252.0      2544.0      2736.0   7706.0  14676.0  5678.0  1396.0  \n",
       "\n",
       "[5 rows x 34 columns]"
      ]
     },
     "execution_count": 68,
     "metadata": {},
     "output_type": "execute_result"
    }
   ],
   "source": [
    "# Merge inp0 with inp1 into inp0. this is also called left merge.\n",
    "inp0 = pd.merge(left=inp0,right=inp1, how='left', left_on='Dress_ID', right_on='Dress_ID')\n",
    "inp0.head()"
   ]
  },
  {
   "cell_type": "code",
   "execution_count": 70,
   "metadata": {},
   "outputs": [
    {
     "data": {
      "text/plain": [
       "Index(['Dress_ID', 'Style', 'Price', 'Rating', 'Size', 'Season', 'NeckLine',\n",
       "       'SleeveLength', 'Material', 'FabricType', 'Decoration', 'Pattern Type',\n",
       "       'Recommendation', '29-08-2013', '31-08-2013', '09-02-2013',\n",
       "       '09-04-2013', '09-06-2013', '09-08-2013', '09-10-2013', '09-12-2013',\n",
       "       '14-09-2013', '16-09-2013', '18-09-2013', '20-09-2013', '22-09-2013',\n",
       "       '24-09-2013', '28-09-2013', '10-06-2013', '10-12-2013', 'Summer',\n",
       "       'Autumn', 'Winter', 'Spring'],\n",
       "      dtype='object')"
      ]
     },
     "execution_count": 70,
     "metadata": {},
     "output_type": "execute_result"
    }
   ],
   "source": [
    "inp0.columns"
   ]
  },
  {
   "cell_type": "code",
   "execution_count": 74,
   "metadata": {},
   "outputs": [
    {
     "data": {
      "text/html": [
       "<div>\n",
       "<style scoped>\n",
       "    .dataframe tbody tr th:only-of-type {\n",
       "        vertical-align: middle;\n",
       "    }\n",
       "\n",
       "    .dataframe tbody tr th {\n",
       "        vertical-align: top;\n",
       "    }\n",
       "\n",
       "    .dataframe thead th {\n",
       "        text-align: right;\n",
       "    }\n",
       "</style>\n",
       "<table border=\"1\" class=\"dataframe\">\n",
       "  <thead>\n",
       "    <tr style=\"text-align: right;\">\n",
       "      <th></th>\n",
       "      <th>Dress_ID</th>\n",
       "      <th>Style</th>\n",
       "      <th>Price</th>\n",
       "      <th>Rating</th>\n",
       "      <th>Size</th>\n",
       "      <th>Season</th>\n",
       "      <th>NeckLine</th>\n",
       "      <th>SleeveLength</th>\n",
       "      <th>Material</th>\n",
       "      <th>FabricType</th>\n",
       "      <th>Decoration</th>\n",
       "      <th>Pattern Type</th>\n",
       "      <th>Recommendation</th>\n",
       "      <th>Summer</th>\n",
       "      <th>Autumn</th>\n",
       "      <th>Winter</th>\n",
       "      <th>Spring</th>\n",
       "    </tr>\n",
       "  </thead>\n",
       "  <tbody>\n",
       "    <tr>\n",
       "      <th>0</th>\n",
       "      <td>1006032852</td>\n",
       "      <td>Sexy</td>\n",
       "      <td>Low</td>\n",
       "      <td>4.6</td>\n",
       "      <td>Medium</td>\n",
       "      <td>Summer</td>\n",
       "      <td>o-neck</td>\n",
       "      <td>sleevless</td>\n",
       "      <td>NaN</td>\n",
       "      <td>chiffon</td>\n",
       "      <td>ruffles</td>\n",
       "      <td>animal</td>\n",
       "      <td>1</td>\n",
       "      <td>13899.0</td>\n",
       "      <td>26857.0</td>\n",
       "      <td>9658.0</td>\n",
       "      <td>2660.0</td>\n",
       "    </tr>\n",
       "    <tr>\n",
       "      <th>1</th>\n",
       "      <td>1212192089</td>\n",
       "      <td>Casual</td>\n",
       "      <td>Low</td>\n",
       "      <td>0.0</td>\n",
       "      <td>Large</td>\n",
       "      <td>Summer</td>\n",
       "      <td>o-neck</td>\n",
       "      <td>Petal</td>\n",
       "      <td>microfiber</td>\n",
       "      <td>NaN</td>\n",
       "      <td>ruffles</td>\n",
       "      <td>animal</td>\n",
       "      <td>0</td>\n",
       "      <td>6216.0</td>\n",
       "      <td>17311.0</td>\n",
       "      <td>6405.0</td>\n",
       "      <td>750.0</td>\n",
       "    </tr>\n",
       "    <tr>\n",
       "      <th>2</th>\n",
       "      <td>1190380701</td>\n",
       "      <td>vintage</td>\n",
       "      <td>High</td>\n",
       "      <td>0.0</td>\n",
       "      <td>Large</td>\n",
       "      <td>Automn</td>\n",
       "      <td>o-neck</td>\n",
       "      <td>full</td>\n",
       "      <td>polyster</td>\n",
       "      <td>NaN</td>\n",
       "      <td>NaN</td>\n",
       "      <td>print</td>\n",
       "      <td>0</td>\n",
       "      <td>40.0</td>\n",
       "      <td>82.0</td>\n",
       "      <td>28.0</td>\n",
       "      <td>7.0</td>\n",
       "    </tr>\n",
       "    <tr>\n",
       "      <th>3</th>\n",
       "      <td>966005983</td>\n",
       "      <td>Brief</td>\n",
       "      <td>Average</td>\n",
       "      <td>4.6</td>\n",
       "      <td>Large</td>\n",
       "      <td>Spring</td>\n",
       "      <td>o-neck</td>\n",
       "      <td>full</td>\n",
       "      <td>silk</td>\n",
       "      <td>chiffon</td>\n",
       "      <td>embroidary</td>\n",
       "      <td>print</td>\n",
       "      <td>1</td>\n",
       "      <td>7213.0</td>\n",
       "      <td>14411.0</td>\n",
       "      <td>5012.0</td>\n",
       "      <td>1455.0</td>\n",
       "    </tr>\n",
       "    <tr>\n",
       "      <th>4</th>\n",
       "      <td>876339541</td>\n",
       "      <td>cute</td>\n",
       "      <td>Low</td>\n",
       "      <td>4.5</td>\n",
       "      <td>Medium</td>\n",
       "      <td>Summer</td>\n",
       "      <td>o-neck</td>\n",
       "      <td>butterfly</td>\n",
       "      <td>chiffonfabric</td>\n",
       "      <td>chiffon</td>\n",
       "      <td>bow</td>\n",
       "      <td>dot</td>\n",
       "      <td>0</td>\n",
       "      <td>7706.0</td>\n",
       "      <td>14676.0</td>\n",
       "      <td>5678.0</td>\n",
       "      <td>1396.0</td>\n",
       "    </tr>\n",
       "    <tr>\n",
       "      <th>...</th>\n",
       "      <td>...</td>\n",
       "      <td>...</td>\n",
       "      <td>...</td>\n",
       "      <td>...</td>\n",
       "      <td>...</td>\n",
       "      <td>...</td>\n",
       "      <td>...</td>\n",
       "      <td>...</td>\n",
       "      <td>...</td>\n",
       "      <td>...</td>\n",
       "      <td>...</td>\n",
       "      <td>...</td>\n",
       "      <td>...</td>\n",
       "      <td>...</td>\n",
       "      <td>...</td>\n",
       "      <td>...</td>\n",
       "      <td>...</td>\n",
       "    </tr>\n",
       "    <tr>\n",
       "      <th>474</th>\n",
       "      <td>990559192</td>\n",
       "      <td>Brief</td>\n",
       "      <td>Average</td>\n",
       "      <td>4.7</td>\n",
       "      <td>Medium</td>\n",
       "      <td>winter</td>\n",
       "      <td>o-neck</td>\n",
       "      <td>halfsleeve</td>\n",
       "      <td>acrylic</td>\n",
       "      <td>chiffon</td>\n",
       "      <td>NaN</td>\n",
       "      <td>striped</td>\n",
       "      <td>0</td>\n",
       "      <td>203.0</td>\n",
       "      <td>565.0</td>\n",
       "      <td>144.0</td>\n",
       "      <td>60.0</td>\n",
       "    </tr>\n",
       "    <tr>\n",
       "      <th>475</th>\n",
       "      <td>713391965</td>\n",
       "      <td>Casual</td>\n",
       "      <td>Low</td>\n",
       "      <td>4.7</td>\n",
       "      <td>Medium</td>\n",
       "      <td>Spring</td>\n",
       "      <td>o-neck</td>\n",
       "      <td>full</td>\n",
       "      <td>polyster</td>\n",
       "      <td>NaN</td>\n",
       "      <td>NaN</td>\n",
       "      <td>solid</td>\n",
       "      <td>1</td>\n",
       "      <td>1478.0</td>\n",
       "      <td>3800.0</td>\n",
       "      <td>810.0</td>\n",
       "      <td>560.0</td>\n",
       "    </tr>\n",
       "    <tr>\n",
       "      <th>476</th>\n",
       "      <td>532874347</td>\n",
       "      <td>Casual</td>\n",
       "      <td>Average</td>\n",
       "      <td>4.7</td>\n",
       "      <td>Medium</td>\n",
       "      <td>Summer</td>\n",
       "      <td>v-neck</td>\n",
       "      <td>full</td>\n",
       "      <td>cotton</td>\n",
       "      <td>NaN</td>\n",
       "      <td>lace</td>\n",
       "      <td>solid</td>\n",
       "      <td>1</td>\n",
       "      <td>2005.0</td>\n",
       "      <td>5290.0</td>\n",
       "      <td>1214.0</td>\n",
       "      <td>734.0</td>\n",
       "    </tr>\n",
       "    <tr>\n",
       "      <th>477</th>\n",
       "      <td>655464934</td>\n",
       "      <td>Casual</td>\n",
       "      <td>Average</td>\n",
       "      <td>4.6</td>\n",
       "      <td>Large</td>\n",
       "      <td>winter</td>\n",
       "      <td>boat-neck</td>\n",
       "      <td>sleevless</td>\n",
       "      <td>silk</td>\n",
       "      <td>broadcloth</td>\n",
       "      <td>applique</td>\n",
       "      <td>print</td>\n",
       "      <td>1</td>\n",
       "      <td>769.0</td>\n",
       "      <td>2117.0</td>\n",
       "      <td>516.0</td>\n",
       "      <td>254.0</td>\n",
       "    </tr>\n",
       "    <tr>\n",
       "      <th>478</th>\n",
       "      <td>919930954</td>\n",
       "      <td>Casual</td>\n",
       "      <td>Low</td>\n",
       "      <td>4.4</td>\n",
       "      <td>Free</td>\n",
       "      <td>Summer</td>\n",
       "      <td>v-neck</td>\n",
       "      <td>short</td>\n",
       "      <td>cotton</td>\n",
       "      <td>Corduroy</td>\n",
       "      <td>lace</td>\n",
       "      <td>solid</td>\n",
       "      <td>0</td>\n",
       "      <td>1763.0</td>\n",
       "      <td>4828.0</td>\n",
       "      <td>1258.0</td>\n",
       "      <td>538.0</td>\n",
       "    </tr>\n",
       "  </tbody>\n",
       "</table>\n",
       "<p>479 rows × 17 columns</p>\n",
       "</div>"
      ],
      "text/plain": [
       "       Dress_ID    Style    Price  Rating    Size  Season   NeckLine  \\\n",
       "0    1006032852     Sexy      Low     4.6  Medium  Summer     o-neck   \n",
       "1    1212192089   Casual      Low     0.0   Large  Summer     o-neck   \n",
       "2    1190380701  vintage     High     0.0   Large  Automn     o-neck   \n",
       "3     966005983    Brief  Average     4.6   Large  Spring     o-neck   \n",
       "4     876339541     cute      Low     4.5  Medium  Summer     o-neck   \n",
       "..          ...      ...      ...     ...     ...     ...        ...   \n",
       "474   990559192    Brief  Average     4.7  Medium  winter     o-neck   \n",
       "475   713391965   Casual      Low     4.7  Medium  Spring     o-neck   \n",
       "476   532874347   Casual  Average     4.7  Medium  Summer     v-neck   \n",
       "477   655464934   Casual  Average     4.6   Large  winter  boat-neck   \n",
       "478   919930954   Casual      Low     4.4    Free  Summer     v-neck   \n",
       "\n",
       "    SleeveLength       Material  FabricType  Decoration Pattern Type  \\\n",
       "0      sleevless            NaN     chiffon     ruffles       animal   \n",
       "1          Petal     microfiber         NaN     ruffles       animal   \n",
       "2           full       polyster         NaN         NaN        print   \n",
       "3           full           silk     chiffon  embroidary        print   \n",
       "4      butterfly  chiffonfabric     chiffon         bow          dot   \n",
       "..           ...            ...         ...         ...          ...   \n",
       "474   halfsleeve        acrylic     chiffon         NaN      striped   \n",
       "475         full       polyster         NaN         NaN        solid   \n",
       "476         full         cotton         NaN        lace        solid   \n",
       "477    sleevless           silk  broadcloth    applique        print   \n",
       "478        short         cotton    Corduroy        lace        solid   \n",
       "\n",
       "     Recommendation   Summer   Autumn  Winter  Spring  \n",
       "0                 1  13899.0  26857.0  9658.0  2660.0  \n",
       "1                 0   6216.0  17311.0  6405.0   750.0  \n",
       "2                 0     40.0     82.0    28.0     7.0  \n",
       "3                 1   7213.0  14411.0  5012.0  1455.0  \n",
       "4                 0   7706.0  14676.0  5678.0  1396.0  \n",
       "..              ...      ...      ...     ...     ...  \n",
       "474               0    203.0    565.0   144.0    60.0  \n",
       "475               1   1478.0   3800.0   810.0   560.0  \n",
       "476               1   2005.0   5290.0  1214.0   734.0  \n",
       "477               1    769.0   2117.0   516.0   254.0  \n",
       "478               0   1763.0   4828.0  1258.0   538.0  \n",
       "\n",
       "[479 rows x 17 columns]"
      ]
     },
     "execution_count": 74,
     "metadata": {},
     "output_type": "execute_result"
    }
   ],
   "source": [
    "# Now Drop the Date columns from inp0 as it is already combined into four seasons.\n",
    "col_remove=['29-08-2013', '31-08-2013', '09-02-2013','09-04-2013', '09-06-2013', '09-08-2013', '09-10-2013', '09-12-2013','14-09-2013', '16-09-2013', '18-09-2013', '20-09-2013', '22-09-2013','24-09-2013', '28-09-2013', '10-06-2013', '10-12-2013']\n",
    "inp0=inp0.drop(columns=col_remove)\n",
    "inp0"
   ]
  },
  {
   "cell_type": "markdown",
   "metadata": {},
   "source": [
    "Print the null count of inp0 to get the idea about the missing values in data set."
   ]
  },
  {
   "cell_type": "code",
   "execution_count": 75,
   "metadata": {},
   "outputs": [
    {
     "data": {
      "text/plain": [
       "Dress_ID            0\n",
       "Style               0\n",
       "Price               2\n",
       "Rating              0\n",
       "Size                0\n",
       "Season              2\n",
       "NeckLine            3\n",
       "SleeveLength        2\n",
       "Material          119\n",
       "FabricType        256\n",
       "Decoration        224\n",
       "Pattern Type      102\n",
       "Recommendation      0\n",
       "Summer              0\n",
       "Autumn              0\n",
       "Winter              0\n",
       "Spring              0\n",
       "dtype: int64"
      ]
     },
     "execution_count": 75,
     "metadata": {},
     "output_type": "execute_result"
    }
   ],
   "source": [
    "# Print the null count of each columns in inp0 dataframe i.e. combined data frame of inp0 and inp1 without date columns.\n",
    "inp0.isnull().sum()"
   ]
  },
  {
   "cell_type": "markdown",
   "metadata": {},
   "source": [
    "You can see that there are two types of variables one with a large number of missing values and another is very less number of missing values. These two columns can be categorized as:\n",
    "\n",
    "Type-1: Missing values are very less (around 2 or 3 missing values): Price, Season, NeckLine, SleeveLength, Winter and Autumn. \n",
    "\n",
    "Type-2: Missing values are large in numbers (more than 15%): Material, FabricType, Decoration and Pattern Type.\n",
    "\n"
   ]
  },
  {
   "cell_type": "code",
   "execution_count": 76,
   "metadata": {},
   "outputs": [
    {
     "data": {
      "text/plain": [
       "Dress_ID            0\n",
       "Style               0\n",
       "Price               0\n",
       "Rating              0\n",
       "Size                0\n",
       "Season              0\n",
       "NeckLine            0\n",
       "SleeveLength        0\n",
       "Material          119\n",
       "FabricType        256\n",
       "Decoration        224\n",
       "Pattern Type      102\n",
       "Recommendation      0\n",
       "Summer              0\n",
       "Autumn              0\n",
       "Winter              0\n",
       "Spring              0\n",
       "dtype: int64"
      ]
     },
     "execution_count": 76,
     "metadata": {},
     "output_type": "execute_result"
    }
   ],
   "source": [
    "# Deal with the missing values of Type-1 columns: Price, Season, NeckLine, SleeveLength, Winter and Autumn.\n",
    "mode=inp0['Price'].mode()[0]\n",
    "inp0['Price'].fillna(mode,inplace=True)\n",
    "\n",
    "mode=inp0['Season'].mode()[0]\n",
    "inp0['Season'].fillna(mode,inplace=True)\n",
    "\n",
    "mode=inp0['NeckLine'].mode()[0]\n",
    "inp0['NeckLine'].fillna(mode,inplace=True)\n",
    "\n",
    "mode=inp0['SleeveLength'].mode()[0]\n",
    "inp0['SleeveLength'].fillna(mode,inplace=True)\n",
    "\n",
    "inp0.isnull().sum()"
   ]
  },
  {
   "cell_type": "code",
   "execution_count": 77,
   "metadata": {},
   "outputs": [
    {
     "data": {
      "text/plain": [
       "Dress_ID          0\n",
       "Style             0\n",
       "Price             0\n",
       "Rating            0\n",
       "Size              0\n",
       "Season            0\n",
       "NeckLine          0\n",
       "SleeveLength      0\n",
       "Material          0\n",
       "FabricType        0\n",
       "Decoration        0\n",
       "Pattern Type      0\n",
       "Recommendation    0\n",
       "Summer            0\n",
       "Autumn            0\n",
       "Winter            0\n",
       "Spring            0\n",
       "dtype: int64"
      ]
     },
     "execution_count": 77,
     "metadata": {},
     "output_type": "execute_result"
    }
   ],
   "source": [
    "# Deal with the missing values for Type-2 columns: Material, FabricType, Decoration and Pattern Type.\n",
    "mode=inp0['Material'].mode()[0]\n",
    "inp0['Material'].fillna(mode,inplace=True)\n",
    "\n",
    "mode=inp0['FabricType'].mode()[0]\n",
    "inp0['FabricType'].fillna(mode,inplace=True)\n",
    "\n",
    "mode=inp0['Decoration'].mode()[0]\n",
    "inp0['Decoration'].fillna(mode,inplace=True)\n",
    "\n",
    "mode=inp0['Pattern Type'].mode()[0]\n",
    "inp0['Pattern Type'].fillna(mode,inplace=True)\n",
    "\n",
    "inp0.isnull().sum()"
   ]
  },
  {
   "cell_type": "markdown",
   "metadata": {},
   "source": [
    "### Standardise value "
   ]
  },
  {
   "cell_type": "markdown",
   "metadata": {},
   "source": [
    "In the given dataset, there are certain discrepancies with the categorical names such as irregular spellings. Choose the correct option of columns with irregular categories and update them.\n",
    " \n",
    "- Season, NeckLine\n",
    "- Price, Material\n",
    "- fabricType, Decoration\n",
    "- Season, SleeveLength\n"
   ]
  },
  {
   "cell_type": "code",
   "execution_count": 79,
   "metadata": {},
   "outputs": [
    {
     "data": {
      "text/plain": [
       "Summer    156\n",
       "Winter    139\n",
       "Spring    118\n",
       "Autumn     66\n",
       "Name: Season, dtype: int64"
      ]
     },
     "execution_count": 79,
     "metadata": {},
     "output_type": "execute_result"
    }
   ],
   "source": [
    "#correcting the spellings.\n",
    "inp0['Season']=inp0['Season'].replace('winter','Winter')\n",
    "inp0['Season']=inp0['Season'].replace('Automn','Autumn')\n",
    "inp0['Season']=inp0['Season'].replace('spring','Spring')\n",
    "inp0['Season'].value_counts()"
   ]
  },
  {
   "cell_type": "code",
   "execution_count": 82,
   "metadata": {},
   "outputs": [
    {
     "data": {
      "text/plain": [
       "Average      242\n",
       "Low          165\n",
       "Medium        30\n",
       "High          21\n",
       "Very-High     21\n",
       "Name: Price, dtype: int64"
      ]
     },
     "execution_count": 82,
     "metadata": {},
     "output_type": "execute_result"
    }
   ],
   "source": [
    "inp0['Price']=inp0['Price'].replace('very-high','Very-High')\n",
    "inp0['Price'].value_counts()"
   ]
  },
  {
   "cell_type": "code",
   "execution_count": 85,
   "metadata": {},
   "outputs": [
    {
     "data": {
      "text/plain": [
       "chiffon       385\n",
       "broadcloth     29\n",
       "worsted        18\n",
       "jersey         12\n",
       "shiffon         8\n",
       "satin           7\n",
       "batik           2\n",
       "wollen          2\n",
       "poplin          2\n",
       "Corduroy        2\n",
       "tulle           2\n",
       "organza         1\n",
       "knitted         1\n",
       "lace            1\n",
       "dobby           1\n",
       "flannel         1\n",
       "knitting        1\n",
       "woolen          1\n",
       "flannael        1\n",
       "other           1\n",
       "terry           1\n",
       "Name: FabricType, dtype: int64"
      ]
     },
     "execution_count": 85,
     "metadata": {},
     "output_type": "execute_result"
    }
   ],
   "source": [
    "inp0['FabricType']=inp0['FabricType'].replace('sattin','satin')\n",
    "inp0['FabricType'].value_counts()"
   ]
  },
  {
   "cell_type": "code",
   "execution_count": 89,
   "metadata": {},
   "outputs": [
    {
     "data": {
      "text/plain": [
       "sleaveless        225\n",
       "full               94\n",
       "short              92\n",
       "halfsleeve         32\n",
       "threequarter       17\n",
       "thressqatar         8\n",
       "capsleeves          3\n",
       "cap-sleeves         2\n",
       "Petal               1\n",
       "butterfly           1\n",
       "turndowncollor      1\n",
       "threequater         1\n",
       "half                1\n",
       "urndowncollor       1\n",
       "Name: SleeveLength, dtype: int64"
      ]
     },
     "execution_count": 89,
     "metadata": {},
     "output_type": "execute_result"
    }
   ],
   "source": [
    "inp0['SleeveLength']=inp0['SleeveLength'].replace('sleevless','sleaveless')\n",
    "inp0['SleeveLength']=inp0['SleeveLength'].replace('sleeveless','sleaveless')\n",
    "inp0['SleeveLength']=inp0['SleeveLength'].replace('sleeevless','sleaveless')\n",
    "inp0['SleeveLength']=inp0['SleeveLength'].replace('sleveless','sleaveless')\n",
    "inp0['SleeveLength'].value_counts()"
   ]
  },
  {
   "cell_type": "code",
   "execution_count": 91,
   "metadata": {},
   "outputs": [],
   "source": [
    "#correcting the Spellings.\n",
    "inp0['Total Sales']=inp0['Spring']+inp0['Summer']+inp0['Winter']+inp0['Autumn']"
   ]
  },
  {
   "cell_type": "markdown",
   "metadata": {},
   "source": [
    "## Univariate Analysis "
   ]
  },
  {
   "cell_type": "markdown",
   "metadata": {},
   "source": [
    "### Categorical Unordered Univariate Analysis\n",
    " "
   ]
  },
  {
   "cell_type": "markdown",
   "metadata": {},
   "source": [
    "There is a column named ‘Style’ in ‘Attribute Dataset’ which consists of the different style categories of the women apparels. Certain categories whose total sale is less than 50000 across all the seasons is considered under one single category as ‘Others’.\n"
   ]
  },
  {
   "cell_type": "markdown",
   "metadata": {},
   "source": [
    "Which of the following categories in ‘Style’ column can be grouped into ‘Others’ category? and perform the grouping operation in the notebook for further analysis.\n",
    "- Flare, fashion\n",
    "- Novelty, bohemian\n",
    "- OL, fashion, work\n",
    "- Novelty, fashion, Flare\n"
   ]
  },
  {
   "cell_type": "code",
   "execution_count": 92,
   "metadata": {},
   "outputs": [
    {
     "name": "stdout",
     "output_type": "stream",
     "text": [
      "          Total Sales\n",
      "Style                \n",
      "OL              289.0\n",
      "fashion         395.0\n",
      "Flare          2089.0\n",
      "Novelty       13286.0\n",
      "bohemian      69117.0\n",
      "work          93095.0\n",
      "sexy          93449.0\n",
      "Brief        139628.0\n",
      "party        151990.0\n",
      "vintage      180574.0\n",
      "cute         371044.0\n",
      "Sexy         452794.0\n",
      "Casual      1105728.0\n"
     ]
    }
   ],
   "source": [
    "# Group \"Style\" categories into \"Others\" which have less than 50000 sales across all the seasons.\n",
    "grouped = inp0.groupby('Style').agg({'Total Sales':'sum'})\n",
    "#result = grouped['Total Sales'].sum()\n",
    "sorted_result = grouped.sort_values(by='Total Sales', ascending=True)\n",
    "print(sorted_result)"
   ]
  },
  {
   "cell_type": "markdown",
   "metadata": {},
   "source": [
    "What is the percentage of “cute” and “Others” category in “Style” column in “Attribute DataSet” respectively?\n",
    "- 46%, 5%\n",
    "- 9%, 2.1%\n",
    "- 2.1%, 5%\n",
    "- 13.8%, 9%\n"
   ]
  },
  {
   "cell_type": "code",
   "execution_count": null,
   "metadata": {},
   "outputs": [],
   "source": [
    "# Calculate the percentage of each categories in the \"Style\" variable.\n"
   ]
  },
  {
   "cell_type": "markdown",
   "metadata": {},
   "source": [
    "Similarly Club Neckline, SLeeve length categories into \"Others\" which have less than 50000 sales across all the seasons."
   ]
  },
  {
   "cell_type": "code",
   "execution_count": null,
   "metadata": {},
   "outputs": [],
   "source": [
    "# Group \"Neckline\" categories into \"Others\" which have less than 50000 sales across all the seasons.\n"
   ]
  },
  {
   "cell_type": "code",
   "execution_count": null,
   "metadata": {},
   "outputs": [],
   "source": [
    "# Group \"Sleeve length\" categories into \"Others\" which have less than 50000 sales across all the seasons.\n"
   ]
  },
  {
   "cell_type": "markdown",
   "metadata": {},
   "source": [
    "Club material, fabrictype, patterntype and decoration categories into \"Others\" which have less than 25000 sales across all the seasons"
   ]
  },
  {
   "cell_type": "code",
   "execution_count": null,
   "metadata": {},
   "outputs": [],
   "source": [
    "# Group \"material\" categories into \"Others\" which have less than 25000 sales across all the seasons.\n"
   ]
  },
  {
   "cell_type": "code",
   "execution_count": null,
   "metadata": {},
   "outputs": [],
   "source": [
    "# Group \"fabric type\" categories into \"Others\" which have less than 25000 sales across all the seasons.\n"
   ]
  },
  {
   "cell_type": "code",
   "execution_count": null,
   "metadata": {},
   "outputs": [],
   "source": [
    "# Group \"patern type\" categories into \"Others\" which have less than 25000 sales across all the seasons.\n"
   ]
  },
  {
   "cell_type": "code",
   "execution_count": null,
   "metadata": {},
   "outputs": [],
   "source": [
    "# Group \"decoration\" categories into \"Others\" which have less than 25000 sales across all the seasons.\n"
   ]
  },
  {
   "cell_type": "markdown",
   "metadata": {},
   "source": [
    "### Caregorical Ordered Univariate Analysis"
   ]
  },
  {
   "cell_type": "markdown",
   "metadata": {},
   "source": [
    "Which of the following is an unordered variable in “Attribute DataSet”.\n",
    "- Style\n",
    "- Price\n",
    "- Season\n",
    "- Size\n"
   ]
  },
  {
   "cell_type": "markdown",
   "metadata": {},
   "source": [
    "### Numerical variable Univariate analysis:"
   ]
  },
  {
   "cell_type": "markdown",
   "metadata": {},
   "source": [
    "What is the approximate difference between the maximum value and 75th percentile in “Autumn” column.\n",
    "- Approx 54000\n",
    "- Approx 55000\n",
    "- Approx 52000\n",
    "- Approx 50000\n",
    "\n"
   ]
  },
  {
   "cell_type": "code",
   "execution_count": 93,
   "metadata": {},
   "outputs": [
    {
     "data": {
      "text/plain": [
       "count      479.000000\n",
       "mean      2846.112735\n",
       "std       5004.985872\n",
       "min          1.000000\n",
       "25%        410.500000\n",
       "50%       1334.000000\n",
       "75%       3126.000000\n",
       "max      55532.000000\n",
       "Name: Autumn, dtype: float64"
      ]
     },
     "execution_count": 93,
     "metadata": {},
     "output_type": "execute_result"
    }
   ],
   "source": [
    "# Describe the numerical variale: \"Autumn\".\n",
    "inp0['Autumn'].describe()"
   ]
  },
  {
   "cell_type": "code",
   "execution_count": 94,
   "metadata": {},
   "outputs": [
    {
     "data": {
      "image/png": "[encoded data removed]",
      "text/plain": [
       "<Figure size 640x480 with 1 Axes>"
      ]
     },
     "metadata": {},
     "output_type": "display_data"
    }
   ],
   "source": [
    "# plot the boxplot of \"Autumn\" column.\n",
    "sns.boxplot(inp0.Autumn)\n",
    "plt.show()"
   ]
  },
  {
   "cell_type": "markdown",
   "metadata": {},
   "source": [
    "Which of the following season has the highest difference between the maximum value and 99th quantile of sales?\n",
    "- Winter\n",
    "- Summer\n",
    "- Spring\n",
    "- Autumn\n"
   ]
  },
  {
   "cell_type": "code",
   "execution_count": 103,
   "metadata": {},
   "outputs": [
    {
     "name": "stdout",
     "output_type": "stream",
     "text": [
      "11479.580000000029\n"
     ]
    }
   ],
   "source": [
    "# Find the maximum and 99th percentile of Winter season.\n",
    "q1,q2,q3,q99=np.percentile(inp0['Winter'],[25,50,75,99])\n",
    "m=inp0['Winter'].max()\n",
    "print(m-q99)"
   ]
  },
  {
   "cell_type": "code",
   "execution_count": 104,
   "metadata": {},
   "outputs": [
    {
     "name": "stdout",
     "output_type": "stream",
     "text": [
      "21623.000000000007\n"
     ]
    }
   ],
   "source": [
    "# Find the maximum and 99th percentile of Summer season.\n",
    "q1,q2,q3,q99=np.percentile(inp0['Summer'],[25,50,75,99])\n",
    "m=inp0['Summer'].max()\n",
    "print(m-q99)"
   ]
  },
  {
   "cell_type": "code",
   "execution_count": 105,
   "metadata": {},
   "outputs": [
    {
     "name": "stdout",
     "output_type": "stream",
     "text": [
      "4717.12\n"
     ]
    }
   ],
   "source": [
    "# Find the maximum and 99th percentile of Spring season.\n",
    "q1,q2,q3,q99=np.percentile(inp0['Spring'],[25,50,75,99])\n",
    "m=inp0['Spring'].max()\n",
    "print(m-q99)"
   ]
  },
  {
   "cell_type": "code",
   "execution_count": 106,
   "metadata": {},
   "outputs": [
    {
     "name": "stdout",
     "output_type": "stream",
     "text": [
      "31571.600000000064\n"
     ]
    }
   ],
   "source": [
    "# Find the maximum and 99th percentile of Autumn season.\n",
    "q1,q2,q3,q99=np.percentile(inp0['Autumn'],[25,50,75,99])\n",
    "m=inp0['Autumn'].max()\n",
    "print(m-q99)"
   ]
  },
  {
   "cell_type": "code",
   "execution_count": 107,
   "metadata": {},
   "outputs": [
    {
     "data": {
      "text/plain": [
       "0.99    23960.4\n",
       "1.00    55532.0\n",
       "Name: Autumn, dtype: float64"
      ]
     },
     "execution_count": 107,
     "metadata": {},
     "output_type": "execute_result"
    }
   ],
   "source": [
    "inp0.Autumn.quantile([0.99, 1])"
   ]
  },
  {
   "cell_type": "markdown",
   "metadata": {},
   "source": [
    "## Bivariate Analysis "
   ]
  },
  {
   "cell_type": "markdown",
   "metadata": {},
   "source": [
    "### Numerical- Categorical analysis"
   ]
  },
  {
   "cell_type": "markdown",
   "metadata": {},
   "source": [
    "Which of the following “Price” category has the lowest average value of rating?\n",
    "- very-high\n",
    "- Medium\n",
    "- Low\n",
    "- High\n"
   ]
  },
  {
   "cell_type": "code",
   "execution_count": 117,
   "metadata": {},
   "outputs": [
    {
     "name": "stdout",
     "output_type": "stream",
     "text": [
      "Price\n",
      "Average      3.473967\n",
      "High         2.914286\n",
      "Low          3.692121\n",
      "Medium       3.156667\n",
      "Very-High    3.123810\n",
      "Name: Rating, dtype: float64\n"
     ]
    }
   ],
   "source": [
    "# Find the Mean of Ratings for each Price category.\n",
    "print(inp0.groupby('Price')['Rating'].mean())"
   ]
  },
  {
   "cell_type": "markdown",
   "metadata": {},
   "source": [
    "What is the median of the rating of “vintage” category in Style column?\n",
    "- 4.6\n",
    "- 4.7\n",
    "- 4.55\n",
    "- 0.00\n"
   ]
  },
  {
   "cell_type": "code",
   "execution_count": 122,
   "metadata": {},
   "outputs": [
    {
     "name": "stdout",
     "output_type": "stream",
     "text": [
      "Style\n",
      "Brief       4.60\n",
      "Casual      4.60\n",
      "Flare       0.00\n",
      "Novelty     2.10\n",
      "OL          0.00\n",
      "Sexy        4.55\n",
      "bohemian    4.60\n",
      "cute        4.55\n",
      "fashion     4.00\n",
      "party       4.70\n",
      "sexy        4.50\n",
      "vintage     4.60\n",
      "work        4.70\n",
      "Name: Rating, dtype: float64\n"
     ]
    }
   ],
   "source": [
    "# Find the median of Ratings for each Style category.\n",
    "#inp0['Style'].value_counts()\n",
    "print(inp0.groupby('Style')['Rating'].median())"
   ]
  },
  {
   "cell_type": "markdown",
   "metadata": {},
   "source": [
    "Which of the following season has the highest average value of sale for “Recommendation” value equals to 1.\n",
    "- Summer\n",
    "- Spring\n",
    "- Autumn\n",
    "- Winter\n"
   ]
  },
  {
   "cell_type": "code",
   "execution_count": 132,
   "metadata": {},
   "outputs": [
    {
     "name": "stdout",
     "output_type": "stream",
     "text": [
      "1463.639024390244\n",
      "300046.0\n"
     ]
    }
   ],
   "source": [
    "# Summer sale vs Recommendation.\n",
    "condition = inp0['Recommendation'] == 1\n",
    "print(inp0[condition]['Summer'].mean())\n",
    "print(inp0[condition]['Summer'].sum())"
   ]
  },
  {
   "cell_type": "code",
   "execution_count": 133,
   "metadata": {},
   "outputs": [
    {
     "name": "stdout",
     "output_type": "stream",
     "text": [
      "302.1170731707317\n",
      "61934.0\n"
     ]
    }
   ],
   "source": [
    "# Spring sale vs Recommendation.\n",
    "condition = inp0['Recommendation'] == 1\n",
    "print(inp0[condition]['Spring'].mean())\n",
    "print(inp0[condition]['Spring'].sum())"
   ]
  },
  {
   "cell_type": "code",
   "execution_count": 134,
   "metadata": {},
   "outputs": [
    {
     "name": "stdout",
     "output_type": "stream",
     "text": [
      "2854.0243902439024\n",
      "585075.0\n"
     ]
    }
   ],
   "source": [
    "# Autumn sale vs Recommendation.\n",
    "condition = inp0['Recommendation'] == 1\n",
    "print(inp0[condition]['Autumn'].mean())\n",
    "print(inp0[condition]['Autumn'].sum())"
   ]
  },
  {
   "cell_type": "code",
   "execution_count": 135,
   "metadata": {},
   "outputs": [
    {
     "name": "stdout",
     "output_type": "stream",
     "text": [
      "998.1073170731707\n",
      "204612.0\n"
     ]
    }
   ],
   "source": [
    "# Winter sale vs Recommendation.\n",
    "condition = inp0['Recommendation'] == 1\n",
    "print(inp0[condition]['Winter'].mean())\n",
    "print(inp0[condition]['Winter'].sum())"
   ]
  },
  {
   "cell_type": "code",
   "execution_count": 136,
   "metadata": {},
   "outputs": [
    {
     "name": "stdout",
     "output_type": "stream",
     "text": [
      "Recommendation\n",
      "0    2840.193431\n",
      "1    2854.024390\n",
      "Name: Autumn, dtype: float64\n"
     ]
    },
    {
     "data": {
      "image/png": "[encoded data removed]",
      "text/plain": [
       "<Figure size 640x480 with 1 Axes>"
      ]
     },
     "metadata": {},
     "output_type": "display_data"
    }
   ],
   "source": [
    "print(inp0.groupby('Recommendation')['Autumn'].mean())\n",
    "\n",
    "sns.boxplot(data=inp0, x=\"Recommendation\",y=\"Autumn\")\n",
    "\n",
    "plt.show()"
   ]
  },
  {
   "cell_type": "markdown",
   "metadata": {},
   "source": [
    "### Categorical categorical bivariate analysis\n"
   ]
  },
  {
   "cell_type": "markdown",
   "metadata": {},
   "source": [
    "Which of the following size categories has the highest positive recommendations?\n",
    "- Medium and extra large\n",
    "- Extra large and small\n",
    "- Free and small\n",
    "- Free and medium\n"
   ]
  },
  {
   "cell_type": "code",
   "execution_count": 138,
   "metadata": {},
   "outputs": [
    {
     "name": "stdout",
     "output_type": "stream",
     "text": [
      "             Recommendation\n",
      "Size                       \n",
      "Extra large               4\n",
      "Small                    13\n",
      "Large                    36\n",
      "Free                     76\n",
      "Medium                   76\n"
     ]
    }
   ],
   "source": [
    "# Size vs Recommendation.\n",
    "grouped = inp0.groupby('Size').agg({'Recommendation':'sum'})\n",
    "sorted_result = grouped.sort_values(by='Recommendation', ascending=True)\n",
    "print(sorted_result)"
   ]
  },
  {
   "cell_type": "code",
   "execution_count": 139,
   "metadata": {},
   "outputs": [
    {
     "data": {
      "text/plain": [
       "Size\n",
       "Extra large     4\n",
       "Free           76\n",
       "Large          36\n",
       "Medium         76\n",
       "Small          13\n",
       "Name: Recommendation, dtype: int64"
      ]
     },
     "execution_count": 139,
     "metadata": {},
     "output_type": "execute_result"
    },
    {
     "data": {
      "image/png": "[encoded data removed]",
      "text/plain": [
       "<Figure size 640x480 with 1 Axes>"
      ]
     },
     "metadata": {},
     "output_type": "display_data"
    }
   ],
   "source": [
    "inp0.groupby(['Size'])['Recommendation'].mean().plot.barh()\n",
    "inp0.groupby('Size')['Recommendation'].sum()"
   ]
  },
  {
   "cell_type": "markdown",
   "metadata": {},
   "source": [
    "### Multivariate analysis "
   ]
  },
  {
   "cell_type": "markdown",
   "metadata": {},
   "source": [
    "Which of the following pair of “Style” and “Price” category has the highest average of positive recommendations?\n",
    "- Price: medium and style: vintage\n",
    "- Price: medium and style: cute\n",
    "- Price: very high and style: party\n",
    "- Price: low and style: sexy\n"
   ]
  },
  {
   "cell_type": "code",
   "execution_count": 157,
   "metadata": {},
   "outputs": [
    {
     "data": {
      "text/plain": [
       "Text(0.5, 1.0, 'Heatmap of Style, Price, and Recommendation (Recommendation=1)')"
      ]
     },
     "execution_count": 157,
     "metadata": {},
     "output_type": "execute_result"
    },
    {
     "data": {
      "image/png": "[encoded data removed]",
      "text/plain": [
       "<Figure size 800x600 with 2 Axes>"
      ]
     },
     "metadata": {},
     "output_type": "display_data"
    }
   ],
   "source": [
    "# plot the heat map of Style, price and Recommendation.\n",
    "#grouped = inp0.groupby(['Style','Price']).agg({'Recommendation':'mean'})\n",
    "#sorted_result = grouped.sort_values(by='Recommendation', ascending=True)\n",
    "#print(sorted_result)\n",
    "\n",
    "#condition=inp0['Recommendation']=1\n",
    "#grouped = inp0[condition].groupby(['Price','Style'])['Recommendation'].sum().reset_index()\n",
    "\n",
    "filtered_df = inp0[inp0['Recommendation'] == 1]\n",
    "\n",
    "# Create a pivot table to prepare the data for the heatmap\n",
    "pivot_table = filtered_df.pivot_table(index='Style', columns='Price', values='Recommendation', aggfunc='mean', fill_value=0)\n",
    "\n",
    "# Create the heatmap\n",
    "plt.figure(figsize=(8, 6))  # Optional: Adjust the figure size\n",
    "sns.heatmap(pivot_table, annot=True, cmap='YlGnBu')\n",
    "\n",
    "# Set labels and title\n",
    "plt.xlabel('Price')\n",
    "plt.ylabel('Style')\n",
    "plt.title('Heatmap of Style, Price, and Recommendation (Recommendation=1)')"
   ]
  },
  {
   "cell_type": "code",
   "execution_count": 159,
   "metadata": {},
   "outputs": [
    {
     "data": {
      "image/png": "[encoded data removed]",
      "text/plain": [
       "<Figure size 640x480 with 2 Axes>"
      ]
     },
     "metadata": {},
     "output_type": "display_data"
    }
   ],
   "source": [
    "res = pd.pivot_table(data=inp0, index=\"Style\", columns=\"Price\", values=\"Recommendation\")\n",
    "\n",
    "sns.heatmap(res, cmap=\"RdYlGn\", annot=True, center=0.427)\n",
    "\n",
    "plt.show()"
   ]
  },
  {
   "cell_type": "markdown",
   "metadata": {},
   "source": [
    "Which of the following material type has no recommendation in summer and winter seasons?\n",
    "- Mix and Milksilk\n",
    "- Nylon and Rayon\n",
    "- Microfiber and Silk\n",
    "- Milksilk and Microfiber\n"
   ]
  },
  {
   "cell_type": "code",
   "execution_count": 162,
   "metadata": {},
   "outputs": [
    {
     "data": {
      "image/png": "[encoded data removed]",
      "text/plain": [
       "<Figure size 640x480 with 2 Axes>"
      ]
     },
     "metadata": {},
     "output_type": "display_data"
    }
   ],
   "source": [
    "# plot the heat map of Season, material and Recommendation.\n",
    "res = pd.pivot_table(data=inp0, index=\"Material\", columns=\"Season\", values=\"Recommendation\")\n",
    "\n",
    "sns.heatmap(res, cmap=\"RdYlGn\", annot=True, center=0.427)\n",
    "\n",
    "plt.show()"
   ]
  },
  {
   "cell_type": "code",
   "execution_count": 3,
   "metadata": {},
   "outputs": [
    {
     "data": {
      "text/html": [
       "<div>\n",
       "<style scoped>\n",
       "    .dataframe tbody tr th:only-of-type {\n",
       "        vertical-align: middle;\n",
       "    }\n",
       "\n",
       "    .dataframe tbody tr th {\n",
       "        vertical-align: top;\n",
       "    }\n",
       "\n",
       "    .dataframe thead th {\n",
       "        text-align: right;\n",
       "    }\n",
       "</style>\n",
       "<table border=\"1\" class=\"dataframe\">\n",
       "  <thead>\n",
       "    <tr style=\"text-align: right;\">\n",
       "      <th></th>\n",
       "      <th>Dress_ID</th>\n",
       "      <th>Rating</th>\n",
       "      <th>Recommendation</th>\n",
       "    </tr>\n",
       "  </thead>\n",
       "  <tbody>\n",
       "    <tr>\n",
       "      <th>count</th>\n",
       "      <td>4.790000e+02</td>\n",
       "      <td>479.000000</td>\n",
       "      <td>479.000000</td>\n",
       "    </tr>\n",
       "    <tr>\n",
       "      <th>mean</th>\n",
       "      <td>9.022420e+08</td>\n",
       "      <td>3.489353</td>\n",
       "      <td>0.427975</td>\n",
       "    </tr>\n",
       "    <tr>\n",
       "      <th>std</th>\n",
       "      <td>1.822352e+08</td>\n",
       "      <td>2.028941</td>\n",
       "      <td>0.495302</td>\n",
       "    </tr>\n",
       "    <tr>\n",
       "      <th>min</th>\n",
       "      <td>1.234568e+08</td>\n",
       "      <td>0.000000</td>\n",
       "      <td>0.000000</td>\n",
       "    </tr>\n",
       "    <tr>\n",
       "      <th>25%</th>\n",
       "      <td>7.666611e+08</td>\n",
       "      <td>2.000000</td>\n",
       "      <td>0.000000</td>\n",
       "    </tr>\n",
       "    <tr>\n",
       "      <th>50%</th>\n",
       "      <td>9.096250e+08</td>\n",
       "      <td>4.600000</td>\n",
       "      <td>0.000000</td>\n",
       "    </tr>\n",
       "    <tr>\n",
       "      <th>75%</th>\n",
       "      <td>1.039684e+09</td>\n",
       "      <td>4.800000</td>\n",
       "      <td>1.000000</td>\n",
       "    </tr>\n",
       "    <tr>\n",
       "      <th>max</th>\n",
       "      <td>1.253973e+09</td>\n",
       "      <td>5.000000</td>\n",
       "      <td>1.000000</td>\n",
       "    </tr>\n",
       "  </tbody>\n",
       "</table>\n",
       "</div>"
      ],
      "text/plain": [
       "           Dress_ID      Rating  Recommendation\n",
       "count  4.790000e+02  479.000000      479.000000\n",
       "mean   9.022420e+08    3.489353        0.427975\n",
       "std    1.822352e+08    2.028941        0.495302\n",
       "min    1.234568e+08    0.000000        0.000000\n",
       "25%    7.666611e+08    2.000000        0.000000\n",
       "50%    9.096250e+08    4.600000        0.000000\n",
       "75%    1.039684e+09    4.800000        1.000000\n",
       "max    1.253973e+09    5.000000        1.000000"
      ]
     },
     "execution_count": 3,
     "metadata": {},
     "output_type": "execute_result"
    }
   ],
   "source": [
    "inp0.describe()"
   ]
  }
 ],
 "metadata": {
  "kernelspec": {
   "display_name": "Python 3 (ipykernel)",
   "language": "python",
   "name": "python3"
  },
  "language_info": {
   "codemirror_mode": {
    "name": "ipython",
    "version": 3
   },
   "file_extension": ".py",
   "mimetype": "text/x-python",
   "name": "python",
   "nbconvert_exporter": "python",
   "pygments_lexer": "ipython3",
   "version": "3.11.4"
  }
 },
 "nbformat": 4,
 "nbformat_minor": 2
}
