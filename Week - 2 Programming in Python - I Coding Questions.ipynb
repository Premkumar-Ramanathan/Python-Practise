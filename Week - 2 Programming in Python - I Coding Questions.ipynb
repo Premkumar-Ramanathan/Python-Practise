{
 "cells": [
  {
   "cell_type": "code",
   "execution_count": 5,
   "id": "a592a1cd",
   "metadata": {},
   "outputs": [
    {
     "name": "stdout",
     "output_type": "stream",
     "text": [
      "Enter the List Elements: [1,2,3,4,5,6]\n"
     ]
    },
    {
     "ename": "SyntaxError",
     "evalue": "'break' outside loop (3225913060.py, line 8)",
     "output_type": "error",
     "traceback": [
      "\u001b[1;36m  Cell \u001b[1;32mIn[5], line 8\u001b[1;36m\u001b[0m\n\u001b[1;33m    break\u001b[0m\n\u001b[1;37m    ^\u001b[0m\n\u001b[1;31mSyntaxError\u001b[0m\u001b[1;31m:\u001b[0m 'break' outside loop\n"
     ]
    }
   ],
   "source": [
    "#List Sum\n",
    "import sys\n",
    "import ast\n",
    "input_list = ast.literal_eval(input('Enter the List Elements: '))\n",
    "total_score=0\n",
    "if len(input_list)>11:\n",
    "    print(-1)\n",
    "    break\n",
    "else:\n",
    "    for i in range(0,len(input_list),1):\n",
    "        total_score+=input_list[i]\n",
    "print(total_score)        \n"
   ]
  },
  {
   "cell_type": "code",
   "execution_count": null,
   "id": "33230715",
   "metadata": {},
   "outputs": [],
   "source": [
    "#Length of list elements\n",
    "import ast\n",
    "input_str=input()\n",
    "input_list = ast.literal_eval(input_str)\n",
    "k = int(input())\n",
    "count=0\n",
    "for i in input_list:\n",
    "    if len(i)>=k:\n",
    "        count+=1\n",
    "print(count)\n"
   ]
  },
  {
   "cell_type": "code",
   "execution_count": 31,
   "id": "84663631",
   "metadata": {},
   "outputs": [
    {
     "ename": "SyntaxError",
     "evalue": "invalid syntax (2608822856.py, line 16)",
     "output_type": "error",
     "traceback": [
      "\u001b[1;36m  Cell \u001b[1;32mIn[31], line 16\u001b[1;36m\u001b[0m\n\u001b[1;33m    word[j].isupper() or word[j+1].isupper():\u001b[0m\n\u001b[1;37m                                            ^\u001b[0m\n\u001b[1;31mSyntaxError\u001b[0m\u001b[1;31m:\u001b[0m invalid syntax\n"
     ]
    }
   ],
   "source": [
    "#Substring with maximum uppercase characters\n",
    "import ast\n",
    "lst=[]\n",
    "input_str=input()\n",
    "lst=list(input_str.split(\" \"))\n",
    "count=0\n",
    "word=''\n",
    "out=[]\n",
    "for i in lst:\n",
    "    word=i\n",
    "    k=len(word)\n",
    "    for j in range(0,k-1,1):\n",
    "        if word[j].isupper() & word[j+1].isupper():\n",
    "            count+=1\n",
    "    out.append(count)\n",
    "    count=0\n",
    "print(out)\n",
    "    "
   ]
  },
  {
   "cell_type": "code",
   "execution_count": null,
   "id": "72175b60",
   "metadata": {},
   "outputs": [],
   "source": [
    "def isConseq(word):\n",
    "    word = word.upper()\n",
    "    for i in range(0,len(word)-1):\n",
    "        if (ord(word[i]) + 1) == ord(word[i+1]):\n",
    "            return True\n",
    "    return False\n",
    "    \n",
    "list = ['Alone', 'ABStract', 'String', 'Education', 'Python']\n",
    "for w in list:\n",
    "    if(isConseq(w)):\n",
    "        print(f\"'{w}' contains consequtive letters\")\n",
    "    else:\n",
    "        print(print(f\"'{w}' does not contain consequtive letters\"))"
   ]
  },
  {
   "cell_type": "code",
   "execution_count": 9,
   "id": "4793dfc3",
   "metadata": {},
   "outputs": [
    {
     "name": "stdout",
     "output_type": "stream",
     "text": [
      "d\n",
      "Alphabet\n"
     ]
    }
   ],
   "source": [
    "#Digit or Alphabet\n",
    "x=input()\n",
    "if x.isnumeric():\n",
    "    print('Integer')\n",
    "else:\n",
    "    print('Alphabet')"
   ]
  },
  {
   "cell_type": "code",
   "execution_count": 25,
   "id": "a63e8ce2",
   "metadata": {},
   "outputs": [
    {
     "name": "stdout",
     "output_type": "stream",
     "text": [
      "8\n",
      "7\n",
      "9\n"
     ]
    }
   ],
   "source": [
    "#ASCII values\n",
    "\n",
    "x=input()\n",
    "print(chr(ord(x)-1))\n",
    "print(chr(ord(x)+1))"
   ]
  },
  {
   "cell_type": "code",
   "execution_count": 29,
   "id": "86b8e5a2",
   "metadata": {},
   "outputs": [
    {
     "name": "stdout",
     "output_type": "stream",
     "text": [
      "Python Programming\n",
      "Pythn Prgrmmng\n"
     ]
    }
   ],
   "source": [
    "text=input()\n",
    "vowels=['a','e','i','o','u','A','E','I','O','U']\n",
    "newtext=''\n",
    "for i in range(len(text)):\n",
    "    if text[i] not in vowels:\n",
    "        newtext=newtext+text[i]\n",
    "print(newtext)"
   ]
  },
  {
   "cell_type": "code",
   "execution_count": 7,
   "id": "055adcda",
   "metadata": {},
   "outputs": [
    {
     "name": "stdout",
     "output_type": "stream",
     "text": [
      "1 4 5\n",
      "Invalid\n"
     ]
    }
   ],
   "source": [
    "#Valid triangle\n",
    "a,b,c= input().split()\n",
    "a=int(a)\n",
    "b=int(b)\n",
    "c=int(c)\n",
    "\n",
    "if a<(b+c) and b<(a+c) and c<(a+b):\n",
    "    print('Valid')\n",
    "else:\n",
    "    print('Invalid')"
   ]
  },
  {
   "cell_type": "code",
   "execution_count": 16,
   "id": "e1259986",
   "metadata": {},
   "outputs": [
    {
     "name": "stdout",
     "output_type": "stream",
     "text": [
      "9\n",
      "9*1=9\n",
      "9*2=18\n",
      "9*3=27\n",
      "9*4=36\n",
      "9*5=45\n",
      "9*6=54\n",
      "9*7=63\n",
      "9*8=72\n",
      "9*9=81\n",
      "9*10=90\n"
     ]
    }
   ],
   "source": [
    "#Multiplication Table\n",
    "n=int(input())\n",
    "res=0\n",
    "for i in range(1,11,1):\n",
    "    res=n*i\n",
    "    print(str(n)+'*'+str(i)+'='+str(res))"
   ]
  },
  {
   "cell_type": "code",
   "execution_count": 19,
   "id": "f9aec15b",
   "metadata": {},
   "outputs": [
    {
     "name": "stdout",
     "output_type": "stream",
     "text": [
      "This is my first program\n",
      "t\n",
      "1\n"
     ]
    }
   ],
   "source": [
    "#Character frequency\n",
    "input_string=input()\n",
    "input_char=input()\n",
    "\n",
    "ins=input_string\n",
    "inc=input_char\n",
    "count=0\n",
    "\n",
    "for i in range(0,len(ins),1):\n",
    "    if ins[i]==inc:\n",
    "        count+=1\n",
    "print(count)"
   ]
  },
  {
   "cell_type": "code",
   "execution_count": 29,
   "id": "5a6475b9",
   "metadata": {},
   "outputs": [
    {
     "name": "stdout",
     "output_type": "stream",
     "text": [
      "5241\n",
      "12\n"
     ]
    }
   ],
   "source": [
    "#Sum of digits\n",
    "n=int(input())\n",
    "sum=0\n",
    "while True:\n",
    "    sum=sum+n%10\n",
    "    n=n//10\n",
    "    if n<10:\n",
    "        sum+=n\n",
    "        break\n",
    "print(sum)"
   ]
  },
  {
   "cell_type": "code",
   "execution_count": 7,
   "id": "d75b8a61",
   "metadata": {},
   "outputs": [
    {
     "name": "stdout",
     "output_type": "stream",
     "text": [
      "23450\n",
      "Number of odd digits: 2\n",
      "Number of non-zero even digits: 2\n",
      "Number of zeros: 1\n"
     ]
    }
   ],
   "source": [
    "#Count the digits\n",
    "n=int(input())\n",
    "z=0\n",
    "od=0\n",
    "ed=0\n",
    "lst=[]\n",
    "lst=list(str(n))\n",
    "for i in range(0,len(lst),1):\n",
    "    if int(lst[i])==0:\n",
    "        z+=1\n",
    "    elif int(lst[i])%2==0:\n",
    "        ed+=1\n",
    "    elif int(lst[i])%2>0:\n",
    "        od+=1\n",
    "print('Number of odd digits:', od)\n",
    "print('Number of non-zero even digits:',ed)\n",
    "print('Number of zeros:', z)"
   ]
  },
  {
   "cell_type": "code",
   "execution_count": 23,
   "id": "21a774c9",
   "metadata": {},
   "outputs": [
    {
     "name": "stdout",
     "output_type": "stream",
     "text": [
      "Programming1234\n",
      "pROGRAMMING\n"
     ]
    }
   ],
   "source": [
    "#String manipulation\n",
    "input_string=input()\n",
    "ist=input_string\n",
    "spech=['!','@','#','%','^','&','*','(',')',';',',','_','-','+','=','{','}','<',',','>','.','?','/',':','\"\"','1','2','3','4','5',\n",
    "      '6','7','8','9','0']\n",
    "for i in spech:\n",
    "    ist=ist.replace(i,'')\n",
    "    ist=ist.replace(\" \",\"\")\n",
    "print(ist.swapcase())"
   ]
  },
  {
   "cell_type": "code",
   "execution_count": null,
   "id": "7ed2f56d",
   "metadata": {},
   "outputs": [],
   "source": []
  }
 ],
 "metadata": {
  "kernelspec": {
   "display_name": "Python 3 (ipykernel)",
   "language": "python",
   "name": "python3"
  },
  "language_info": {
   "codemirror_mode": {
    "name": "ipython",
    "version": 3
   },
   "file_extension": ".py",
   "mimetype": "text/x-python",
   "name": "python",
   "nbconvert_exporter": "python",
   "pygments_lexer": "ipython3",
   "version": "3.11.4"
  }
 },
 "nbformat": 4,
 "nbformat_minor": 5
}
