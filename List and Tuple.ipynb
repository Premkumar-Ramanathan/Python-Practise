{
 "cells": [
  {
   "cell_type": "code",
   "execution_count": 2,
   "id": "ea4af4d7",
   "metadata": {},
   "outputs": [
    {
     "name": "stdout",
     "output_type": "stream",
     "text": [
      "adsfasdX\n"
     ]
    }
   ],
   "source": [
    "a='adsfasd'\n",
    "b='X'\n",
    "a+=b\n",
    "print(a)"
   ]
  },
  {
   "cell_type": "code",
   "execution_count": 3,
   "id": "1613ec81",
   "metadata": {},
   "outputs": [
    {
     "name": "stdout",
     "output_type": "stream",
     "text": [
      "0\n",
      "1\n",
      "2\n",
      "3\n",
      "4\n",
      "5\n",
      "6\n",
      "7\n",
      "8\n",
      "9\n"
     ]
    }
   ],
   "source": [
    "for i in range(10):\n",
    "    print(i)"
   ]
  },
  {
   "cell_type": "code",
   "execution_count": 4,
   "id": "b88c53a0",
   "metadata": {},
   "outputs": [
    {
     "name": "stdout",
     "output_type": "stream",
     "text": [
      "e\n"
     ]
    }
   ],
   "source": [
    "inp='This is python session'\n",
    "out=inp[-6]\n",
    "print(out)"
   ]
  },
  {
   "cell_type": "code",
   "execution_count": 7,
   "id": "e723cfc4",
   "metadata": {},
   "outputs": [
    {
     "name": "stdout",
     "output_type": "stream",
     "text": [
      "gnizama si n is amazing\n"
     ]
    }
   ],
   "source": [
    "inp=\"Python is amazing\"\n",
    "out=inp[:5:-1]+ inp[5::]\n",
    "print(out)"
   ]
  },
  {
   "cell_type": "code",
   "execution_count": 14,
   "id": "2600aa86",
   "metadata": {},
   "outputs": [
    {
     "name": "stdout",
     "output_type": "stream",
     "text": [
      "10\n",
      "9\n",
      "8\n",
      "7\n",
      "6\n",
      "5\n",
      "4\n",
      "3\n",
      "2\n",
      "1\n"
     ]
    }
   ],
   "source": [
    "for i in range(10, 0, -1):\n",
    "    print(i)"
   ]
  },
  {
   "cell_type": "code",
   "execution_count": 30,
   "id": "74c295f7",
   "metadata": {},
   "outputs": [
    {
     "name": "stdout",
     "output_type": "stream",
     "text": [
      "Enter the Table Number: 7\n",
      "7 * 10 = 70\n",
      "7 * 9 = 63\n",
      "7 * 8 = 56\n",
      "7 * 7 = 49\n",
      "7 * 6 = 42\n",
      "7 * 5 = 35\n",
      "7 * 4 = 28\n",
      "7 * 3 = 21\n",
      "7 * 2 = 14\n",
      "7 * 1 = 7\n"
     ]
    }
   ],
   "source": [
    "n=int(input('Enter the Table Number: '))\n",
    "for i in range(10,0,-1):\n",
    "    print (n,'*',str(i),'=', n*i)"
   ]
  },
  {
   "cell_type": "code",
   "execution_count": 51,
   "id": "b5979719",
   "metadata": {},
   "outputs": [
    {
     "name": "stdout",
     "output_type": "stream",
     "text": [
      "Enter the Table Number: 7\n",
      "7 * 1 = 7\n",
      "7 * 2 = 14\n",
      "7 * 3 = 21\n",
      "7 * 4 = 28\n",
      "7 * 5 = 35\n",
      "7 * 6 = 42\n",
      "7 * 7 = 49\n",
      "7 * 8 = 56\n",
      "7 * 9 = 63\n",
      "7 * 10 = 70\n"
     ]
    }
   ],
   "source": [
    "n=int(input('Enter the Table Number: '))\n",
    "for i in range(1,11):\n",
    "    print (n,'*',str(i),'=', n*i)"
   ]
  },
  {
   "cell_type": "code",
   "execution_count": 33,
   "id": "8120fd89",
   "metadata": {},
   "outputs": [
    {
     "name": "stdout",
     "output_type": "stream",
     "text": [
      "Enter number of rows to print * : 10\n",
      "\n",
      "*\n",
      "**\n",
      "***\n",
      "****\n",
      "*****\n",
      "******\n",
      "*******\n",
      "********\n",
      "*********\n"
     ]
    }
   ],
   "source": [
    "n=int(input('Enter number of rows to print * : '))\n",
    "for i in range(n):\n",
    "    print(i*'*')"
   ]
  },
  {
   "cell_type": "code",
   "execution_count": 36,
   "id": "eda8d76f",
   "metadata": {},
   "outputs": [
    {
     "name": "stdout",
     "output_type": "stream",
     "text": [
      "Mahul\n"
     ]
    }
   ],
   "source": [
    "name='Rahul'\n",
    "name1=name.replace('R','M')\n",
    "print(name1)"
   ]
  },
  {
   "cell_type": "code",
   "execution_count": 44,
   "id": "618ebebb",
   "metadata": {},
   "outputs": [
    {
     "name": "stdout",
     "output_type": "stream",
     "text": [
      "adgjmpsvy\n"
     ]
    }
   ],
   "source": [
    "s1='abcdefghijklmnopqrstuvwxyz'\n",
    "s2=''\n",
    "for i in range(0,len(s1),3):\n",
    "    s2=s2+s1[i]\n",
    "print(s2)"
   ]
  },
  {
   "cell_type": "code",
   "execution_count": 46,
   "id": "7690ac81",
   "metadata": {},
   "outputs": [
    {
     "name": "stdout",
     "output_type": "stream",
     "text": [
      "Enter the first Number : 50\n",
      "Enter the second Number : 50\n",
      "Sum is Lesser than 100\n"
     ]
    }
   ],
   "source": [
    "x=int(input('Enter the first Number : '))\n",
    "y=int(input('Enter the second Number : '))\n",
    "if x+y > 100:\n",
    "    print('Sum is Greather than 100')\n",
    "else:\n",
    "    print('Sum is Lesser than 100')"
   ]
  },
  {
   "cell_type": "code",
   "execution_count": 61,
   "id": "831e64af",
   "metadata": {},
   "outputs": [
    {
     "name": "stdout",
     "output_type": "stream",
     "text": [
      "Enter the first Number : 1\n",
      "Enter the first Number : 2\n",
      "Enter the first Number : 3\n",
      "Enter the first Number : 4\n",
      "Enter the first Number : 5\n",
      "Enter the first Number : 6\n",
      "Enter the first Number : 7\n",
      "Enter the first Number : 8\n",
      "Enter the first Number : 9\n",
      "Enter the first Number : 10\n",
      "The max is :  10\n",
      "The min is :  1\n"
     ]
    }
   ],
   "source": [
    "num=[]\n",
    "for i in range(1,11):\n",
    "    x=int(input('Enter the first Number : '))\n",
    "    num.append(x)\n",
    "print('The max is : ', max(num))\n",
    "print('The min is : ', min(num))"
   ]
  },
  {
   "cell_type": "markdown",
   "id": "5dcbcc28",
   "metadata": {},
   "source": [
    "i=0\n",
    "while i<5:\n",
    "    print(i,end=\" \")\n",
    "    i+=2\n",
    "if i==1:\n",
    "    continue\n",
    "else:\n",
    "    print(1,end=\" \")"
   ]
  },
  {
   "cell_type": "code",
   "execution_count": 65,
   "id": "59a2bfd9",
   "metadata": {},
   "outputs": [
    {
     "name": "stdout",
     "output_type": "stream",
     "text": [
      "0 2 4 1 "
     ]
    }
   ],
   "source": [
    "i=0\n",
    "while i<5:\n",
    "    print(i,end=\" \")\n",
    "    i+=2\n",
    "    if i==1:\n",
    "        continue\n",
    "else:\n",
    "    print(1,end=\" \")"
   ]
  },
  {
   "cell_type": "code",
   "execution_count": 69,
   "id": "7e571181",
   "metadata": {},
   "outputs": [
    {
     "name": "stdout",
     "output_type": "stream",
     "text": [
      "I,love,Python,"
     ]
    }
   ],
   "source": [
    "string='I love Python'\n",
    "for i in string.split():\n",
    "    print(i,end=\",\")"
   ]
  },
  {
   "cell_type": "code",
   "execution_count": 67,
   "id": "97accd79",
   "metadata": {},
   "outputs": [
    {
     "name": "stdout",
     "output_type": "stream",
     "text": [
      "[0, 3]\n"
     ]
    }
   ],
   "source": [
    "list1=[1,3]\n",
    "list2=list1\n",
    "\n",
    "list1[0]=0\n",
    "print(list2)"
   ]
  },
  {
   "cell_type": "code",
   "execution_count": 70,
   "id": "7741368c",
   "metadata": {},
   "outputs": [
    {
     "name": "stdout",
     "output_type": "stream",
     "text": [
      "16\n"
     ]
    }
   ],
   "source": [
    "x=8\n",
    "if(x>6):\n",
    "    x=x*2\n",
    "if(x<12):\n",
    "    x=0\n",
    "print(x)"
   ]
  },
  {
   "cell_type": "code",
   "execution_count": 72,
   "id": "54dd5af7",
   "metadata": {},
   "outputs": [
    {
     "name": "stdout",
     "output_type": "stream",
     "text": [
      "36\n"
     ]
    }
   ],
   "source": [
    "x=0\n",
    "for i in range(4):\n",
    "    for j in range(-1,-10, -1):\n",
    "        x+=1\n",
    "print(x)"
   ]
  },
  {
   "cell_type": "code",
   "execution_count": 27,
   "id": "a1f0010c",
   "metadata": {},
   "outputs": [
    {
     "name": "stdout",
     "output_type": "stream",
     "text": [
      "Enter the List Elements: [\"Python\",\"C\",\"C#\",\"SAS\",\"Java\"]\n",
      "Enter the List Index: 4\n",
      "\"C\"\n"
     ]
    }
   ],
   "source": [
    "#Indexing in List\n",
    "s=input('Enter the List Elements: ')\n",
    "n=int(input('Enter the List Index: '))\n",
    "slist=[]\n",
    "slist=s.split(\",\")\n",
    "print(slist[-n])"
   ]
  },
  {
   "cell_type": "code",
   "execution_count": 15,
   "id": "cd7f28f1",
   "metadata": {},
   "outputs": [
    {
     "name": "stdout",
     "output_type": "stream",
     "text": [
      "Enter number of elements3\n",
      "Enter the element :\"Python\"\n",
      "Enter the element :\"C\"\n",
      "Enter the element :\"C#\"\n",
      "['\"Python\"', '\"C\"', '\"C#\"']\n"
     ]
    }
   ],
   "source": [
    "n=int(input(\"Enter number of elements\"))\n",
    "s=[]\n",
    "for i in range (n):\n",
    "    element=input(\"Enter the element :\")\n",
    "    s.append(element)\n",
    "    print(s)"
   ]
  },
  {
   "cell_type": "code",
   "execution_count": null,
   "id": "3c95eb87",
   "metadata": {},
   "outputs": [],
   "source": [
    "#Reverse a String\n",
    "a = input()\n",
    "print(a[::-1].swapcase())"
   ]
  },
  {
   "cell_type": "code",
   "execution_count": null,
   "id": "65eed7e6",
   "metadata": {},
   "outputs": [],
   "source": []
  }
 ],
 "metadata": {
  "kernelspec": {
   "display_name": "Python 3 (ipykernel)",
   "language": "python",
   "name": "python3"
  },
  "language_info": {
   "codemirror_mode": {
    "name": "ipython",
    "version": 3
   },
   "file_extension": ".py",
   "mimetype": "text/x-python",
   "name": "python",
   "nbconvert_exporter": "python",
   "pygments_lexer": "ipython3",
   "version": "3.11.4"
  }
 },
 "nbformat": 4,
 "nbformat_minor": 5
}
