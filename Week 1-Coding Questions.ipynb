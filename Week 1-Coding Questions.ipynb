{
 "cells": [
  {
   "cell_type": "code",
   "execution_count": 1,
   "id": "71a89999",
   "metadata": {},
   "outputs": [
    {
     "name": "stdout",
     "output_type": "stream",
     "text": [
      "Upgrad Data Science\n",
      "aDac"
     ]
    }
   ],
   "source": [
    "#String Slicing\n",
    "a = input()\n",
    "for i in range(4,16,3):\n",
    "    print(a[i],end=\"\")"
   ]
  },
  {
   "cell_type": "code",
   "execution_count": 2,
   "id": "7eff5174",
   "metadata": {},
   "outputs": [
    {
     "name": "stdout",
     "output_type": "stream",
     "text": [
      "Python&is&wonderful&language\n",
      "Python is wonderful language\n"
     ]
    }
   ],
   "source": [
    "#String Split\n",
    "a = input()\n",
    "lst=[]\n",
    "lst=a\n",
    "print(lst.replace('&',\" \"))"
   ]
  },
  {
   "cell_type": "code",
   "execution_count": 3,
   "id": "ddca9647",
   "metadata": {},
   "outputs": [
    {
     "name": "stdout",
     "output_type": "stream",
     "text": [
      "Python Programming\n",
      "GNIMMARGORp NOHTYp\n"
     ]
    }
   ],
   "source": [
    "#Reverse a string\n",
    "a = input()\n",
    "print(a[::-1].swapcase())"
   ]
  },
  {
   "cell_type": "code",
   "execution_count": null,
   "id": "00573e80",
   "metadata": {},
   "outputs": [],
   "source": [
    "#Indexing in Lists\n",
    "import ast\n",
    "s=input('Enter the List Elements: ')\n",
    "\n",
    "# Output the variable to STDOUT\n",
    "lst=ast.literal_eval(s)\n",
    "n=int(input(\"Enter the Index: \"))\n",
    "print(lst[n])"
   ]
  },
  {
   "cell_type": "code",
   "execution_count": 12,
   "id": "b963911d",
   "metadata": {},
   "outputs": [
    {
     "name": "stdout",
     "output_type": "stream",
     "text": [
      "Enter the List Elements: 'India', 'UK', 'USA', 'England'\n",
      "[\" 'England'\", \" 'UK'\", \" 'USA'\", \"'India'\"]\n"
     ]
    }
   ],
   "source": [
    "#Swapping List Items\n",
    "import ast\n",
    "s=input('Enter the List Elements: ')\n",
    "lst1 = ast.literal_eval(s)\n",
    "lst2 = list(lst1)\n",
    "x = lst2[0]\n",
    "lst2[0] = lst2[-1]\n",
    "lst2[-1] = x\n",
    "print(lst2)"
   ]
  },
  {
   "cell_type": "code",
   "execution_count": 4,
   "id": "d2c5e23a",
   "metadata": {},
   "outputs": [
    {
     "name": "stdout",
     "output_type": "stream",
     "text": [
      "Enter the List Elements: 12,32,34\n",
      "[3, 12, 34]\n",
      "['__add__', '__class__', '__class_getitem__', '__contains__', '__delattr__', '__delitem__', '__dir__', '__doc__', '__eq__', '__format__', '__ge__', '__getattribute__', '__getitem__', '__getstate__', '__gt__', '__hash__', '__iadd__', '__imul__', '__init__', '__init_subclass__', '__iter__', '__le__', '__len__', '__lt__', '__mul__', '__ne__', '__new__', '__reduce__', '__reduce_ex__', '__repr__', '__reversed__', '__rmul__', '__setattr__', '__setitem__', '__sizeof__', '__str__', '__subclasshook__', 'append', 'clear', 'copy', 'count', 'extend', 'index', 'insert', 'pop', 'remove', 'reverse', 'sort']\n"
     ]
    }
   ],
   "source": [
    "#Using append() method\n",
    "s=input('Enter the List Elements: ')\n",
    "ilist=[]\n",
    "olist=[]\n",
    "ilist=s.split(\",\")\n",
    "olist.append(len(ilist))\n",
    "olist.append(int(min(ilist)))\n",
    "olist.append(int(max(ilist)))\n",
    "olist.sort(reverse=False)\n",
    "print(olist)\n",
    "print(dir(olist))"
   ]
  },
  {
   "cell_type": "code",
   "execution_count": 3,
   "id": "839a2a01",
   "metadata": {},
   "outputs": [
    {
     "name": "stdout",
     "output_type": "stream",
     "text": [
      "\"Python\",\"C\",\"C#\",\"SAS\",\"Java\"\n",
      "-4\n",
      "C\n"
     ]
    }
   ],
   "source": [
    "#Importing library\n",
    "import ast\n",
    "\n",
    "#Taking input\n",
    "inp=input()\n",
    "\n",
    "#Evaluating input to convert to list\n",
    "list1=ast.literal_eval(inp)\n",
    "\n",
    "#Taking input of index\n",
    "n=int(input())\n",
    "print(list1[n])"
   ]
  },
  {
   "cell_type": "code",
   "execution_count": 5,
   "id": "e74839db",
   "metadata": {},
   "outputs": [
    {
     "name": "stdout",
     "output_type": "stream",
     "text": [
      "Enter the List Elements: ['India', 'UK', 'USA' ,'England']\n",
      "['England', 'UK', 'USA', 'India']\n"
     ]
    }
   ],
   "source": [
    "import ast\n",
    "s=input('Enter the List Elements: ')\n",
    "lst1 = ast.literal_eval(s)\n",
    "lst2 = list(lst1)\n",
    "x = lst2[0]\n",
    "lst2[0] = lst2[-1]\n",
    "lst2[-1] = x\n",
    "print(lst2)"
   ]
  },
  {
   "cell_type": "code",
   "execution_count": 5,
   "id": "5826eccc",
   "metadata": {},
   "outputs": [
    {
     "name": "stdout",
     "output_type": "stream",
     "text": [
      "Enter the List Elements: [12,32,34]\n",
      "[3, 12, 34]\n"
     ]
    }
   ],
   "source": [
    "#Using append() method\n",
    "import ast\n",
    "s=input('Enter the List Elements: ')\n",
    "lst1 = ast.literal_eval(s)\n",
    "lst2 = list(lst1)\n",
    "nlist=[]\n",
    "l=int(len(lst2))\n",
    "mi=int(min(lst2))\n",
    "ma=int(max(lst2))\n",
    "nlist.append(l)\n",
    "nlist.append(mi)\n",
    "nlist.append(ma)\n",
    "nlist.sort(reverse=False)\n",
    "print(nlist)"
   ]
  },
  {
   "cell_type": "code",
   "execution_count": 6,
   "id": "aa7b3a9a",
   "metadata": {},
   "outputs": [
    {
     "name": "stdout",
     "output_type": "stream",
     "text": [
      "Enter the List Elements:[23,65,29,19,83]\n",
      "65\n"
     ]
    }
   ],
   "source": [
    "#Second Highest Number in a List\n",
    "import ast\n",
    "s=input('Enter the List Elements:')\n",
    "lst1=ast.literal_eval(s)\n",
    "lst2=list(lst1)\n",
    "\n",
    "lst2.sort()\n",
    "print(lst2[-2])"
   ]
  },
  {
   "cell_type": "code",
   "execution_count": null,
   "id": "093240c4",
   "metadata": {},
   "outputs": [],
   "source": []
  }
 ],
 "metadata": {
  "kernelspec": {
   "display_name": "Python 3 (ipykernel)",
   "language": "python",
   "name": "python3"
  },
  "language_info": {
   "codemirror_mode": {
    "name": "ipython",
    "version": 3
   },
   "file_extension": ".py",
   "mimetype": "text/x-python",
   "name": "python",
   "nbconvert_exporter": "python",
   "pygments_lexer": "ipython3",
   "version": "3.11.4"
  }
 },
 "nbformat": 4,
 "nbformat_minor": 5
}
