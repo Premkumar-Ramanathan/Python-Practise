{
 "cells": [
  {
   "cell_type": "markdown",
   "id": "de9880a9",
   "metadata": {},
   "source": [
    "### BroadCasting"
   ]
  },
  {
   "cell_type": "markdown",
   "id": "471162d3",
   "metadata": {},
   "source": [
    "#### Array + Scaler"
   ]
  },
  {
   "cell_type": "code",
   "execution_count": 1,
   "id": "d92500a3",
   "metadata": {},
   "outputs": [
    {
     "name": "stdout",
     "output_type": "stream",
     "text": [
      "[14 12 49]\n",
      "4\n",
      "[18 16 53]\n"
     ]
    }
   ],
   "source": [
    "import numpy as np\n",
    "a = np.array([14, 12, 49]) # 1x3 Dimension array\n",
    "print(a)\n",
    "b = 4\n",
    "print(b)\n",
    " \n",
    "# Broadcasting happened because of\n",
    "# miss match in array Dimension.\n",
    "c = a + b\n",
    "print(c)"
   ]
  },
  {
   "cell_type": "markdown",
   "id": "bf22a9fb",
   "metadata": {},
   "source": [
    "#### Array + Array"
   ]
  },
  {
   "cell_type": "code",
   "execution_count": 2,
   "id": "4fba08a4",
   "metadata": {},
   "outputs": [
    {
     "data": {
      "text/plain": [
       "array([[57, 69, 81, 81],\n",
       "       [60, 91, 79, 79]])"
      ]
     },
     "execution_count": 2,
     "metadata": {},
     "output_type": "execute_result"
    }
   ],
   "source": [
    "import numpy as np\n",
    " \n",
    "v = np.array([[12, 24, 36,36],[15,46,34,34]]) \n",
    "w = np.array([45,45,45,45]) \n",
    "\n",
    "v+w"
   ]
  },
  {
   "cell_type": "markdown",
   "id": "e75c1792",
   "metadata": {},
   "source": [
    "# Mathematical Operations"
   ]
  },
  {
   "cell_type": "code",
   "execution_count": 3,
   "id": "c625a419",
   "metadata": {},
   "outputs": [],
   "source": [
    "x=np.array([[1,2],[3,4]])\n",
    "y=np.array([[5,6],[7,8]])"
   ]
  },
  {
   "cell_type": "code",
   "execution_count": 4,
   "id": "0c0453ed",
   "metadata": {},
   "outputs": [
    {
     "data": {
      "text/plain": [
       "array([[1, 2],\n",
       "       [3, 4]])"
      ]
     },
     "execution_count": 4,
     "metadata": {},
     "output_type": "execute_result"
    }
   ],
   "source": [
    "x"
   ]
  },
  {
   "cell_type": "code",
   "execution_count": 5,
   "id": "5353c08b",
   "metadata": {},
   "outputs": [
    {
     "data": {
      "text/plain": [
       "array([[5, 6],\n",
       "       [7, 8]])"
      ]
     },
     "execution_count": 5,
     "metadata": {},
     "output_type": "execute_result"
    }
   ],
   "source": [
    "y"
   ]
  },
  {
   "cell_type": "code",
   "execution_count": 6,
   "id": "fcd10920",
   "metadata": {},
   "outputs": [],
   "source": [
    "## Addition (Element-wise addition)"
   ]
  },
  {
   "cell_type": "code",
   "execution_count": 7,
   "id": "700df28d",
   "metadata": {},
   "outputs": [
    {
     "data": {
      "text/plain": [
       "array([[ 6,  8],\n",
       "       [10, 12]])"
      ]
     },
     "execution_count": 7,
     "metadata": {},
     "output_type": "execute_result"
    }
   ],
   "source": [
    "x+y"
   ]
  },
  {
   "cell_type": "code",
   "execution_count": 8,
   "id": "a9505f94",
   "metadata": {},
   "outputs": [
    {
     "data": {
      "text/plain": [
       "array([[ 6,  8],\n",
       "       [10, 12]])"
      ]
     },
     "execution_count": 8,
     "metadata": {},
     "output_type": "execute_result"
    }
   ],
   "source": [
    "np.add(x,y)"
   ]
  },
  {
   "cell_type": "code",
   "execution_count": 9,
   "id": "c5f0d01d",
   "metadata": {},
   "outputs": [],
   "source": [
    "## Substraction (Element-wise Substraction)"
   ]
  },
  {
   "cell_type": "code",
   "execution_count": 10,
   "id": "7b50fdf1",
   "metadata": {},
   "outputs": [
    {
     "data": {
      "text/plain": [
       "array([[-4, -4],\n",
       "       [-4, -4]])"
      ]
     },
     "execution_count": 10,
     "metadata": {},
     "output_type": "execute_result"
    }
   ],
   "source": [
    "x-y"
   ]
  },
  {
   "cell_type": "code",
   "execution_count": 11,
   "id": "81973e67",
   "metadata": {},
   "outputs": [
    {
     "data": {
      "text/plain": [
       "array([[-4, -4],\n",
       "       [-4, -4]])"
      ]
     },
     "execution_count": 11,
     "metadata": {},
     "output_type": "execute_result"
    }
   ],
   "source": [
    "np.subtract(x,y)"
   ]
  },
  {
   "cell_type": "code",
   "execution_count": 12,
   "id": "ea46700a",
   "metadata": {},
   "outputs": [],
   "source": [
    "## Division (Element-wise Division)"
   ]
  },
  {
   "cell_type": "code",
   "execution_count": 13,
   "id": "747aadc2",
   "metadata": {},
   "outputs": [
    {
     "data": {
      "text/plain": [
       "array([[1, 2],\n",
       "       [3, 4]])"
      ]
     },
     "execution_count": 13,
     "metadata": {},
     "output_type": "execute_result"
    }
   ],
   "source": [
    "x"
   ]
  },
  {
   "cell_type": "code",
   "execution_count": 14,
   "id": "5825d577",
   "metadata": {},
   "outputs": [
    {
     "data": {
      "text/plain": [
       "array([[5, 6],\n",
       "       [7, 8]])"
      ]
     },
     "execution_count": 14,
     "metadata": {},
     "output_type": "execute_result"
    }
   ],
   "source": [
    "y"
   ]
  },
  {
   "cell_type": "code",
   "execution_count": 15,
   "id": "dccba27a",
   "metadata": {},
   "outputs": [
    {
     "data": {
      "text/plain": [
       "array([[0.2       , 0.33333333],\n",
       "       [0.42857143, 0.5       ]])"
      ]
     },
     "execution_count": 15,
     "metadata": {},
     "output_type": "execute_result"
    }
   ],
   "source": [
    "x/y"
   ]
  },
  {
   "cell_type": "code",
   "execution_count": 16,
   "id": "9aa1ccb8",
   "metadata": {},
   "outputs": [
    {
     "data": {
      "text/plain": [
       "array([[0.2       , 0.33333333],\n",
       "       [0.42857143, 0.5       ]])"
      ]
     },
     "execution_count": 16,
     "metadata": {},
     "output_type": "execute_result"
    }
   ],
   "source": [
    "np.divide(x,y)"
   ]
  },
  {
   "cell_type": "code",
   "execution_count": 17,
   "id": "4d79b321",
   "metadata": {},
   "outputs": [],
   "source": [
    "# Element Wise Multiplication"
   ]
  },
  {
   "cell_type": "code",
   "execution_count": 18,
   "id": "3bf6a353",
   "metadata": {},
   "outputs": [
    {
     "data": {
      "text/plain": [
       "array([[ 5, 12],\n",
       "       [21, 32]])"
      ]
     },
     "execution_count": 18,
     "metadata": {},
     "output_type": "execute_result"
    }
   ],
   "source": [
    "x*y"
   ]
  },
  {
   "cell_type": "code",
   "execution_count": 19,
   "id": "aff8ee90",
   "metadata": {},
   "outputs": [
    {
     "data": {
      "text/plain": [
       "array([[ 5, 12],\n",
       "       [21, 32]])"
      ]
     },
     "execution_count": 19,
     "metadata": {},
     "output_type": "execute_result"
    }
   ],
   "source": [
    "np.multiply(x,y)"
   ]
  },
  {
   "cell_type": "code",
   "execution_count": 20,
   "id": "a4466e62",
   "metadata": {},
   "outputs": [],
   "source": [
    "## Matrix Multiplication"
   ]
  },
  {
   "cell_type": "code",
   "execution_count": 21,
   "id": "4c791a20",
   "metadata": {},
   "outputs": [
    {
     "data": {
      "text/plain": [
       "array([[19, 22],\n",
       "       [43, 50]])"
      ]
     },
     "execution_count": 21,
     "metadata": {},
     "output_type": "execute_result"
    }
   ],
   "source": [
    "np.dot(x,y)"
   ]
  },
  {
   "cell_type": "code",
   "execution_count": 22,
   "id": "a813dc8b",
   "metadata": {},
   "outputs": [
    {
     "data": {
      "text/plain": [
       "array([[19, 22],\n",
       "       [43, 50]])"
      ]
     },
     "execution_count": 22,
     "metadata": {},
     "output_type": "execute_result"
    }
   ],
   "source": [
    "x@y\n",
    "## @ this is used to do dot product"
   ]
  },
  {
   "cell_type": "markdown",
   "id": "704ef4eb",
   "metadata": {},
   "source": [
    "## Comparator Operators"
   ]
  },
  {
   "cell_type": "code",
   "execution_count": 115,
   "id": "b6273b7b",
   "metadata": {},
   "outputs": [
    {
     "data": {
      "text/plain": [
       "array([False, False,  True,  True])"
      ]
     },
     "execution_count": 115,
     "metadata": {},
     "output_type": "execute_result"
    }
   ],
   "source": [
    "arr1=np.array([1,2,3,4])\n",
    "arr2=np.array([8,5,3,4])\n",
    "arr1==arr2"
   ]
  },
  {
   "cell_type": "code",
   "execution_count": 116,
   "id": "8772191a",
   "metadata": {},
   "outputs": [
    {
     "data": {
      "text/plain": [
       "array([False, False, False, False])"
      ]
     },
     "execution_count": 116,
     "metadata": {},
     "output_type": "execute_result"
    }
   ],
   "source": [
    "arr1>arr2"
   ]
  },
  {
   "cell_type": "code",
   "execution_count": 118,
   "id": "a7b3762c",
   "metadata": {},
   "outputs": [
    {
     "data": {
      "text/plain": [
       "array([ True,  True, False, False])"
      ]
     },
     "execution_count": 118,
     "metadata": {},
     "output_type": "execute_result"
    }
   ],
   "source": [
    "arr1<arr2"
   ]
  },
  {
   "cell_type": "markdown",
   "id": "3f6b5213",
   "metadata": {},
   "source": [
    "### Statistical Operations"
   ]
  },
  {
   "cell_type": "code",
   "execution_count": 23,
   "id": "d112788d",
   "metadata": {},
   "outputs": [],
   "source": [
    "w=[60, 59, 71, 80, 48, 39, 73, 72, 74, 83, 73, 35, 87, 69, 62, 47, 59, 35, 68, 64, 78, 68, 40, 71, 65, 63, 36, 40, 37, 49]\n",
    "weight=np.array(w)"
   ]
  },
  {
   "cell_type": "code",
   "execution_count": 24,
   "id": "dfe89d9e",
   "metadata": {},
   "outputs": [
    {
     "data": {
      "text/plain": [
       "35"
      ]
     },
     "execution_count": 24,
     "metadata": {},
     "output_type": "execute_result"
    }
   ],
   "source": [
    "np.min(weight)"
   ]
  },
  {
   "cell_type": "code",
   "execution_count": 25,
   "id": "a2dfe50d",
   "metadata": {},
   "outputs": [
    {
     "data": {
      "text/plain": [
       "87"
      ]
     },
     "execution_count": 25,
     "metadata": {},
     "output_type": "execute_result"
    }
   ],
   "source": [
    "np.max(weight)"
   ]
  },
  {
   "cell_type": "code",
   "execution_count": 26,
   "id": "1f2dea0b",
   "metadata": {},
   "outputs": [
    {
     "data": {
      "text/plain": [
       "60.166666666666664"
      ]
     },
     "execution_count": 26,
     "metadata": {},
     "output_type": "execute_result"
    }
   ],
   "source": [
    "np.mean(weight)"
   ]
  },
  {
   "cell_type": "code",
   "execution_count": 27,
   "id": "ecbac988",
   "metadata": {},
   "outputs": [
    {
     "data": {
      "text/plain": [
       "239.8722222222222"
      ]
     },
     "execution_count": 27,
     "metadata": {},
     "output_type": "execute_result"
    }
   ],
   "source": [
    "np.var(weight)"
   ]
  },
  {
   "cell_type": "code",
   "execution_count": 29,
   "id": "e273b743",
   "metadata": {},
   "outputs": [
    {
     "data": {
      "text/plain": [
       "15.48780882572555"
      ]
     },
     "execution_count": 29,
     "metadata": {},
     "output_type": "execute_result"
    }
   ],
   "source": [
    "np.std(weight)"
   ]
  },
  {
   "cell_type": "code",
   "execution_count": 30,
   "id": "b6858b37",
   "metadata": {},
   "outputs": [
    {
     "data": {
      "text/plain": [
       "1805"
      ]
     },
     "execution_count": 30,
     "metadata": {},
     "output_type": "execute_result"
    }
   ],
   "source": [
    "np.sum(weight)"
   ]
  },
  {
   "cell_type": "code",
   "execution_count": 31,
   "id": "48ffa2b2",
   "metadata": {},
   "outputs": [
    {
     "data": {
      "text/plain": [
       "array([  60,  119,  190,  270,  318,  357,  430,  502,  576,  659,  732,\n",
       "        767,  854,  923,  985, 1032, 1091, 1126, 1194, 1258, 1336, 1404,\n",
       "       1444, 1515, 1580, 1643, 1679, 1719, 1756, 1805])"
      ]
     },
     "execution_count": 31,
     "metadata": {},
     "output_type": "execute_result"
    }
   ],
   "source": [
    "np.cumsum(weight)"
   ]
  },
  {
   "cell_type": "markdown",
   "id": "9d508d0c",
   "metadata": {},
   "source": [
    "### Poll question 1-\n",
    "\n",
    "Ques. Find the median for the given array of weights.\n",
    "\n",
    "- (a) 63\n",
    "- (b) 63.5\n",
    "- (c) 67\n",
    "- (d) 69"
   ]
  },
  {
   "cell_type": "markdown",
   "id": "402b73ed",
   "metadata": {},
   "source": [
    "## Reshape Function"
   ]
  },
  {
   "cell_type": "code",
   "execution_count": 32,
   "id": "88e04ae8",
   "metadata": {},
   "outputs": [],
   "source": [
    "arr=np.arange(0,10)\n",
    "reshaped_arr=arr.reshape(2,5)"
   ]
  },
  {
   "cell_type": "code",
   "execution_count": 33,
   "id": "468af315",
   "metadata": {},
   "outputs": [
    {
     "data": {
      "text/plain": [
       "array([0, 1, 2, 3, 4, 5, 6, 7, 8, 9])"
      ]
     },
     "execution_count": 33,
     "metadata": {},
     "output_type": "execute_result"
    }
   ],
   "source": [
    "arr"
   ]
  },
  {
   "cell_type": "code",
   "execution_count": 34,
   "id": "ebba90c3",
   "metadata": {},
   "outputs": [
    {
     "data": {
      "text/plain": [
       "array([[0, 1, 2, 3, 4],\n",
       "       [5, 6, 7, 8, 9]])"
      ]
     },
     "execution_count": 34,
     "metadata": {},
     "output_type": "execute_result"
    }
   ],
   "source": [
    "reshaped_arr"
   ]
  },
  {
   "cell_type": "code",
   "execution_count": 35,
   "id": "236a45d4",
   "metadata": {},
   "outputs": [
    {
     "data": {
      "text/plain": [
       "10"
      ]
     },
     "execution_count": 35,
     "metadata": {},
     "output_type": "execute_result"
    }
   ],
   "source": [
    "arr.size"
   ]
  },
  {
   "cell_type": "code",
   "execution_count": 36,
   "id": "36195532",
   "metadata": {},
   "outputs": [
    {
     "data": {
      "text/plain": [
       "10"
      ]
     },
     "execution_count": 36,
     "metadata": {},
     "output_type": "execute_result"
    }
   ],
   "source": [
    "reshaped_arr.size"
   ]
  },
  {
   "cell_type": "code",
   "execution_count": 37,
   "id": "fbd7ef1e",
   "metadata": {},
   "outputs": [],
   "source": [
    "arr=np.arange(0,20)#20"
   ]
  },
  {
   "cell_type": "code",
   "execution_count": 38,
   "id": "3f2dd6fa",
   "metadata": {},
   "outputs": [],
   "source": [
    "arr1=arr.reshape(5,4)"
   ]
  },
  {
   "cell_type": "code",
   "execution_count": 39,
   "id": "9d77b77d",
   "metadata": {},
   "outputs": [
    {
     "data": {
      "text/plain": [
       "(5, 4)"
      ]
     },
     "execution_count": 39,
     "metadata": {},
     "output_type": "execute_result"
    }
   ],
   "source": [
    "arr1.shape"
   ]
  },
  {
   "cell_type": "code",
   "execution_count": 40,
   "id": "3df2a2de",
   "metadata": {},
   "outputs": [
    {
     "data": {
      "text/plain": [
       "array([[ 0,  1],\n",
       "       [ 2,  3],\n",
       "       [ 4,  5],\n",
       "       [ 6,  7],\n",
       "       [ 8,  9],\n",
       "       [10, 11],\n",
       "       [12, 13],\n",
       "       [14, 15],\n",
       "       [16, 17],\n",
       "       [18, 19]])"
      ]
     },
     "execution_count": 40,
     "metadata": {},
     "output_type": "execute_result"
    }
   ],
   "source": [
    "arr.reshape(10,2)"
   ]
  },
  {
   "cell_type": "code",
   "execution_count": 41,
   "id": "a27acaa9",
   "metadata": {},
   "outputs": [
    {
     "data": {
      "text/plain": [
       "array([[ 0,  1,  2],\n",
       "       [ 3,  4,  5],\n",
       "       [ 6,  7,  8],\n",
       "       [ 9, 10, 11],\n",
       "       [12, 13, 14],\n",
       "       [15, 16, 17],\n",
       "       [18, 19, 20]])"
      ]
     },
     "execution_count": 41,
     "metadata": {},
     "output_type": "execute_result"
    }
   ],
   "source": [
    "arr=np.arange(0,21)\n",
    "arr.reshape(7,3)"
   ]
  },
  {
   "cell_type": "markdown",
   "id": "20d39992",
   "metadata": {},
   "source": [
    "## Transpose"
   ]
  },
  {
   "cell_type": "code",
   "execution_count": 42,
   "id": "021de1f0",
   "metadata": {},
   "outputs": [
    {
     "data": {
      "text/plain": [
       "array([[ 0,  1,  2,  3],\n",
       "       [ 4,  5,  6,  7],\n",
       "       [ 8,  9, 10, 11],\n",
       "       [12, 13, 14, 15],\n",
       "       [16, 17, 18, 19]])"
      ]
     },
     "execution_count": 42,
     "metadata": {},
     "output_type": "execute_result"
    }
   ],
   "source": [
    "arr1"
   ]
  },
  {
   "cell_type": "code",
   "execution_count": 43,
   "id": "4a1e5913",
   "metadata": {},
   "outputs": [
    {
     "data": {
      "text/plain": [
       "array([[ 0,  4,  8, 12, 16],\n",
       "       [ 1,  5,  9, 13, 17],\n",
       "       [ 2,  6, 10, 14, 18],\n",
       "       [ 3,  7, 11, 15, 19]])"
      ]
     },
     "execution_count": 43,
     "metadata": {},
     "output_type": "execute_result"
    }
   ],
   "source": [
    "arr1.T"
   ]
  },
  {
   "cell_type": "code",
   "execution_count": 44,
   "id": "cb163273",
   "metadata": {},
   "outputs": [
    {
     "data": {
      "text/plain": [
       "array([[ 0,  4,  8, 12, 16],\n",
       "       [ 1,  5,  9, 13, 17],\n",
       "       [ 2,  6, 10, 14, 18],\n",
       "       [ 3,  7, 11, 15, 19]])"
      ]
     },
     "execution_count": 44,
     "metadata": {},
     "output_type": "execute_result"
    }
   ],
   "source": [
    "np.transpose(arr1)"
   ]
  },
  {
   "cell_type": "markdown",
   "id": "6dcd6bc5",
   "metadata": {},
   "source": [
    "# Stacking"
   ]
  },
  {
   "cell_type": "code",
   "execution_count": 46,
   "id": "8cebfce3",
   "metadata": {},
   "outputs": [
    {
     "data": {
      "text/plain": [
       "array([[1, 2],\n",
       "       [3, 4]])"
      ]
     },
     "execution_count": 46,
     "metadata": {},
     "output_type": "execute_result"
    }
   ],
   "source": [
    "x"
   ]
  },
  {
   "cell_type": "code",
   "execution_count": 47,
   "id": "1233736f",
   "metadata": {},
   "outputs": [
    {
     "data": {
      "text/plain": [
       "array([[5, 6],\n",
       "       [7, 8]])"
      ]
     },
     "execution_count": 47,
     "metadata": {},
     "output_type": "execute_result"
    }
   ],
   "source": [
    "y"
   ]
  },
  {
   "cell_type": "code",
   "execution_count": 48,
   "id": "c961f05b",
   "metadata": {},
   "outputs": [
    {
     "data": {
      "text/plain": [
       "array([[1, 2],\n",
       "       [3, 4],\n",
       "       [5, 6],\n",
       "       [7, 8]])"
      ]
     },
     "execution_count": 48,
     "metadata": {},
     "output_type": "execute_result"
    }
   ],
   "source": [
    "np.vstack((x,y))#top and bottom (No. of columns has to be same)"
   ]
  },
  {
   "cell_type": "code",
   "execution_count": 49,
   "id": "4f1705e2",
   "metadata": {},
   "outputs": [
    {
     "data": {
      "text/plain": [
       "array([[1, 2, 5, 6],\n",
       "       [3, 4, 7, 8]])"
      ]
     },
     "execution_count": 49,
     "metadata": {},
     "output_type": "execute_result"
    }
   ],
   "source": [
    "np.hstack((x,y))#side by side (Number of rows has to be same, columns does not matter)"
   ]
  },
  {
   "cell_type": "markdown",
   "id": "c8b01ae0",
   "metadata": {},
   "source": [
    "### Poll question 2-\n",
    "\n",
    "Ques. What will be output of following code.\n",
    "\n",
    "print(np.arange(100,300,4).reshape(5,10).T.shape[0])\n",
    "\n",
    "- (a) 10\n",
    "- (b) 5\n",
    "- (c) 100\n",
    "- (d) 4"
   ]
  },
  {
   "cell_type": "markdown",
   "id": "771298a2",
   "metadata": {},
   "source": [
    "### Sorting"
   ]
  },
  {
   "cell_type": "code",
   "execution_count": 102,
   "id": "cbb8cfe8",
   "metadata": {},
   "outputs": [
    {
     "name": "stdout",
     "output_type": "stream",
     "text": [
      "[[2 3 4]\n",
      " [0 1 5]]\n"
     ]
    }
   ],
   "source": [
    "arr = np.array([[3, 2, 4], [5, 0, 1]])\n",
    "\n",
    "print(np.sort(arr))"
   ]
  },
  {
   "cell_type": "markdown",
   "id": "c3bdfe14",
   "metadata": {},
   "source": [
    "### Flatten"
   ]
  },
  {
   "cell_type": "code",
   "execution_count": 104,
   "id": "643abbdb",
   "metadata": {},
   "outputs": [
    {
     "name": "stdout",
     "output_type": "stream",
     "text": [
      "[5 6 7 8]\n"
     ]
    }
   ],
   "source": [
    "arr = np.array([[5, 6], [7, 8]])\n",
    "  \n",
    "arr1 = arr.flatten()\n",
    "  \n",
    "print( arr1 )"
   ]
  },
  {
   "cell_type": "markdown",
   "id": "a00b33c1",
   "metadata": {},
   "source": [
    "### Unravel Index"
   ]
  },
  {
   "cell_type": "code",
   "execution_count": 105,
   "id": "4edbfa96",
   "metadata": {},
   "outputs": [
    {
     "name": "stdout",
     "output_type": "stream",
     "text": [
      "(array([3, 6, 6]), array([4, 5, 1]))\n"
     ]
    }
   ],
   "source": [
    "gfg = np.unravel_index([22, 41, 37], (7, 6))\n",
    "  \n",
    "print(gfg)"
   ]
  },
  {
   "cell_type": "markdown",
   "id": "e3e9446d",
   "metadata": {},
   "source": [
    "### ravel and unravel"
   ]
  },
  {
   "cell_type": "code",
   "execution_count": 109,
   "id": "948356d6",
   "metadata": {},
   "outputs": [
    {
     "name": "stdout",
     "output_type": "stream",
     "text": [
      "Original array : \n",
      " [[ 0  1  2  3  4]\n",
      " [ 5  6  7  8  9]\n",
      " [10 11 12 13 14]]\n",
      "\n",
      "ravel() :  [ 0  1  2  3  4  5  6  7  8  9 10 11 12 13 14]\n"
     ]
    }
   ],
   "source": [
    "array = np.arange(15).reshape(3, 5)\n",
    "print(\"Original array : \\n\", array)\n",
    " \n",
    "# Output comes like [ 0  1  2 ..., 12 13 14]\n",
    "# as it is a long output, so it is the way of\n",
    "# showing output in Python\n",
    "print(\"\\nravel() : \", array.ravel())"
   ]
  },
  {
   "cell_type": "markdown",
   "id": "c98fbaa0",
   "metadata": {},
   "source": [
    "### Pandas"
   ]
  },
  {
   "cell_type": "code",
   "execution_count": 60,
   "id": "5455489a",
   "metadata": {},
   "outputs": [],
   "source": [
    "import pandas as pd\n",
    "#pip install pandas"
   ]
  },
  {
   "cell_type": "markdown",
   "id": "3735e6ee",
   "metadata": {},
   "source": [
    "- Series as generalized NumPy array<br>\n",
    "**The essential difference is the presence of the index: while the Numpy Array has an implicitly defined integer index used to access the values, the Pandas Series has an explicitly defined index associated with the values.*"
   ]
  },
  {
   "cell_type": "code",
   "execution_count": 62,
   "id": "e91dd873",
   "metadata": {},
   "outputs": [
    {
     "data": {
      "text/plain": [
       "0    1\n",
       "dtype: int64"
      ]
     },
     "execution_count": 62,
     "metadata": {},
     "output_type": "execute_result"
    }
   ],
   "source": [
    "s1 = pd.Series(1)\n",
    "s1"
   ]
  },
  {
   "cell_type": "code",
   "execution_count": 111,
   "id": "4841b1d4",
   "metadata": {},
   "outputs": [
    {
     "data": {
      "text/plain": [
       "(array([[5, 6],\n",
       "        [7, 8]]),\n",
       " 0    1\n",
       " dtype: int64)"
      ]
     },
     "execution_count": 111,
     "metadata": {},
     "output_type": "execute_result"
    }
   ],
   "source": [
    "arr,s1"
   ]
  },
  {
   "cell_type": "code",
   "execution_count": 64,
   "id": "a97dd5aa",
   "metadata": {},
   "outputs": [
    {
     "data": {
      "text/plain": [
       "0    10\n",
       "1    21\n",
       "2    34\n",
       "3    41\n",
       "4    59\n",
       "dtype: int64"
      ]
     },
     "execution_count": 64,
     "metadata": {},
     "output_type": "execute_result"
    }
   ],
   "source": [
    "# create from list\n",
    "s2 = pd.Series([10,21,34,41,59])\n",
    "s2"
   ]
  },
  {
   "cell_type": "code",
   "execution_count": 65,
   "id": "9a6b71aa",
   "metadata": {},
   "outputs": [
    {
     "data": {
      "text/plain": [
       "a    1\n",
       "b    2\n",
       "c    3\n",
       "dtype: int64"
      ]
     },
     "execution_count": 65,
     "metadata": {},
     "output_type": "execute_result"
    }
   ],
   "source": [
    "s3 = pd.Series([1,2,3], index=['a','b','c'])\n",
    "s3"
   ]
  },
  {
   "cell_type": "code",
   "execution_count": 66,
   "id": "7cf1553f",
   "metadata": {},
   "outputs": [
    {
     "data": {
      "text/plain": [
       "India       2\n",
       "Pakistan    1\n",
       "SriLanka    1\n",
       "dtype: int64"
      ]
     },
     "execution_count": 66,
     "metadata": {},
     "output_type": "execute_result"
    }
   ],
   "source": [
    "s4 = pd.Series([2,1,1], index=['India','Pakistan','SriLanka'])\n",
    "s4"
   ]
  },
  {
   "cell_type": "code",
   "execution_count": 67,
   "id": "ba274fdf",
   "metadata": {},
   "outputs": [
    {
     "data": {
      "text/plain": [
       "Index(['India', 'Pakistan', 'SriLanka'], dtype='object')"
      ]
     },
     "execution_count": 67,
     "metadata": {},
     "output_type": "execute_result"
    }
   ],
   "source": [
    "s4.index"
   ]
  },
  {
   "cell_type": "code",
   "execution_count": 68,
   "id": "56acfb73",
   "metadata": {},
   "outputs": [
    {
     "data": {
      "text/plain": [
       "array([2, 1, 1])"
      ]
     },
     "execution_count": 68,
     "metadata": {},
     "output_type": "execute_result"
    }
   ],
   "source": [
    "s4.values"
   ]
  },
  {
   "cell_type": "code",
   "execution_count": 106,
   "id": "d3fe3494",
   "metadata": {},
   "outputs": [
    {
     "name": "stdout",
     "output_type": "stream",
     "text": [
      "A    10\n",
      "B    20\n",
      "C    30\n",
      "dtype: int64\n"
     ]
    }
   ],
   "source": [
    "dictionary = {'A' : 10, 'B' : 20, 'C' : 30}\n",
    "  \n",
    "# create a series\n",
    "series = pd.Series(dictionary)\n",
    "  \n",
    "print(series)"
   ]
  },
  {
   "cell_type": "markdown",
   "id": "835bcf4b",
   "metadata": {},
   "source": [
    "### Accessing the Value"
   ]
  },
  {
   "cell_type": "code",
   "execution_count": 69,
   "id": "cb487e5e",
   "metadata": {},
   "outputs": [
    {
     "data": {
      "text/plain": [
       "2"
      ]
     },
     "execution_count": 69,
     "metadata": {},
     "output_type": "execute_result"
    }
   ],
   "source": [
    "s4[\"India\"]"
   ]
  },
  {
   "cell_type": "markdown",
   "id": "91e646b1",
   "metadata": {},
   "source": [
    "### Add, update and delete Operations"
   ]
  },
  {
   "cell_type": "code",
   "execution_count": 83,
   "id": "c3ea455c",
   "metadata": {},
   "outputs": [
    {
     "data": {
      "text/plain": [
       "India       2\n",
       "Pakistan    1\n",
       "SriLanka    1\n",
       "England     2\n",
       "dtype: int64"
      ]
     },
     "execution_count": 83,
     "metadata": {},
     "output_type": "execute_result"
    }
   ],
   "source": [
    "s5=s4.append(pd.Series(2,index=[\"England\"]))\n",
    "s5"
   ]
  },
  {
   "cell_type": "code",
   "execution_count": 84,
   "id": "2bbb6867",
   "metadata": {},
   "outputs": [],
   "source": [
    "del s5[\"England\"]"
   ]
  },
  {
   "cell_type": "code",
   "execution_count": 85,
   "id": "840793f7",
   "metadata": {},
   "outputs": [
    {
     "data": {
      "text/plain": [
       "India       2\n",
       "Pakistan    1\n",
       "SriLanka    1\n",
       "dtype: int64"
      ]
     },
     "execution_count": 85,
     "metadata": {},
     "output_type": "execute_result"
    }
   ],
   "source": [
    "s5"
   ]
  },
  {
   "cell_type": "code",
   "execution_count": 86,
   "id": "ae2ad923",
   "metadata": {},
   "outputs": [],
   "source": [
    "s4.update(pd.Series(2,index=[\"Pakistan\"]))"
   ]
  },
  {
   "cell_type": "code",
   "execution_count": 87,
   "id": "0192f4c6",
   "metadata": {},
   "outputs": [
    {
     "data": {
      "text/plain": [
       "India       2\n",
       "Pakistan    2\n",
       "SriLanka    1\n",
       "dtype: int64"
      ]
     },
     "execution_count": 87,
     "metadata": {},
     "output_type": "execute_result"
    }
   ],
   "source": [
    "s4"
   ]
  },
  {
   "cell_type": "markdown",
   "id": "a7939bf5",
   "metadata": {},
   "source": [
    "### Poll question 3-\n",
    "\n",
    "Ques. What will be output of following code.<br>\n",
    "s4=pd.Series([1,2,4,3], index=['Python','R','C','C++'])<br>\n",
    "s4.append(pd.Series(5,index=[\"Java\"])).update(pd.Series(3,index=[\"Java\"]))<br>\n",
    "print(s4[\"Java\"])\n",
    "\n",
    "\n",
    "- (a) 5\n",
    "- (b) 3\n",
    "- (c) 1\n",
    "- (d) 0"
   ]
  },
  {
   "cell_type": "code",
   "execution_count": 101,
   "id": "ead91ff3",
   "metadata": {},
   "outputs": [
    {
     "name": "stdout",
     "output_type": "stream",
     "text": [
      "3\n"
     ]
    }
   ],
   "source": [
    "s4=pd.Series([1,2,4,3], index=['Python','R','C','C++'])\n",
    "s4=s4.append(pd.Series(5,index=[\"Java\"]))\n",
    "s4.update(pd.Series(3,index=[\"Java\"]))\n",
    "print(s4[\"Java\"])"
   ]
  },
  {
   "cell_type": "markdown",
   "id": "28d2e2f0",
   "metadata": {},
   "source": []
  }
 ],
 "metadata": {
  "kernelspec": {
   "display_name": "Python 3 (ipykernel)",
   "language": "python",
   "name": "python3"
  },
  "language_info": {
   "codemirror_mode": {
    "name": "ipython",
    "version": 3
   },
   "file_extension": ".py",
   "mimetype": "text/x-python",
   "name": "python",
   "nbconvert_exporter": "python",
   "pygments_lexer": "ipython3",
   "version": "3.11.4"
  }
 },
 "nbformat": 4,
 "nbformat_minor": 5
}
