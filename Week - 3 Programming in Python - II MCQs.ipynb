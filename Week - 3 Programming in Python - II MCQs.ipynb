{
 "cells": [
  {
   "cell_type": "code",
   "execution_count": 7,
   "id": "9af37b93",
   "metadata": {},
   "outputs": [
    {
     "ename": "IndentationError",
     "evalue": "unexpected indent (11397007.py, line 2)",
     "output_type": "error",
     "traceback": [
      "\u001b[1;36m  Cell \u001b[1;32mIn[7], line 2\u001b[1;36m\u001b[0m\n\u001b[1;33m    z = x * y + x + y\u001b[0m\n\u001b[1;37m    ^\u001b[0m\n\u001b[1;31mIndentationError\u001b[0m\u001b[1;31m:\u001b[0m unexpected indent\n"
     ]
    }
   ],
   "source": [
    "func(x, y)\n",
    "    z = x * y + x + y\n",
    "func(2,3)"
   ]
  },
  {
   "cell_type": "code",
   "execution_count": 21,
   "id": "24f4a165",
   "metadata": {},
   "outputs": [
    {
     "data": {
      "text/plain": [
       "35"
      ]
     },
     "execution_count": 21,
     "metadata": {},
     "output_type": "execute_result"
    }
   ],
   "source": [
    "def func(x = 1 ,y = 2):\n",
    "    z = x * y + x + y\n",
    "    return z\n",
    "\n",
    "func(2, func(3))"
   ]
  },
  {
   "cell_type": "code",
   "execution_count": 7,
   "id": "8a16567f",
   "metadata": {},
   "outputs": [
    {
     "name": "stdout",
     "output_type": "stream",
     "text": [
      "['m', 'a', 'l', 'a', 'y', 'a', 'l', 'a', 'M']\n"
     ]
    }
   ],
   "source": [
    "str1='Malayalam'\n",
    "lst=list(str1)\n",
    "palin=[]\n",
    "for i in range(len(lst)-1,-1,-1):\n",
    "    palin.append(lst[i])\n",
    "print(palin)"
   ]
  },
  {
   "cell_type": "code",
   "execution_count": 28,
   "id": "f85933c1",
   "metadata": {},
   "outputs": [
    {
     "name": "stdout",
     "output_type": "stream",
     "text": [
      "asdfaf9\n",
      "Password is invalid\n"
     ]
    }
   ],
   "source": [
    "password=input()\n",
    "up=False\n",
    "lo=False\n",
    "di=False\n",
    "for i in password:\n",
    "    if i.isupper():\n",
    "        up=True\n",
    "    elif i.islower():\n",
    "        lo=True\n",
    "    elif i.isdigit():\n",
    "        di=True\n",
    "if up and lo and di:\n",
    "    print('Password is valid')\n",
    "else:\n",
    "    print('Password is invalid')"
   ]
  },
  {
   "cell_type": "code",
   "execution_count": 30,
   "id": "cc6aa3f2",
   "metadata": {},
   "outputs": [
    {
     "name": "stdout",
     "output_type": "stream",
     "text": [
      "2\n",
      "4\n",
      "6\n",
      "8\n",
      "10\n"
     ]
    }
   ],
   "source": [
    "def even_num(x):\n",
    "    for i in range(1,x+1,1):\n",
    "        if i%2==0:\n",
    "            print(i)\n",
    "\n",
    "even_num(10)"
   ]
  },
  {
   "cell_type": "code",
   "execution_count": 32,
   "id": "1d4f4617",
   "metadata": {},
   "outputs": [],
   "source": [
    "f=lambda x:x**2"
   ]
  },
  {
   "cell_type": "code",
   "execution_count": 33,
   "id": "f47c0323",
   "metadata": {},
   "outputs": [
    {
     "data": {
      "text/plain": [
       "16"
      ]
     },
     "execution_count": 33,
     "metadata": {},
     "output_type": "execute_result"
    }
   ],
   "source": [
    "f(4)"
   ]
  },
  {
   "cell_type": "code",
   "execution_count": 40,
   "id": "27bf4603",
   "metadata": {},
   "outputs": [],
   "source": [
    "l=[1,2,3,4,5]"
   ]
  },
  {
   "cell_type": "code",
   "execution_count": 39,
   "id": "d8b1b471",
   "metadata": {},
   "outputs": [
    {
     "data": {
      "text/plain": [
       "<function __main__.<lambda>(l)>"
      ]
     },
     "execution_count": 39,
     "metadata": {},
     "output_type": "execute_result"
    }
   ],
   "source": [
    "addsum"
   ]
  },
  {
   "cell_type": "code",
   "execution_count": 41,
   "id": "30206e62",
   "metadata": {},
   "outputs": [],
   "source": [
    "addsum=lambda l:sum(l)"
   ]
  },
  {
   "cell_type": "code",
   "execution_count": 42,
   "id": "bb5d95f6",
   "metadata": {},
   "outputs": [
    {
     "data": {
      "text/plain": [
       "<function __main__.<lambda>(l)>"
      ]
     },
     "execution_count": 42,
     "metadata": {},
     "output_type": "execute_result"
    }
   ],
   "source": [
    "addsum"
   ]
  },
  {
   "cell_type": "code",
   "execution_count": 43,
   "id": "74dc6acb",
   "metadata": {},
   "outputs": [],
   "source": [
    "l=[1,4,13,-3,-353,3,44]\n",
    "posnum=lambda l:l>0\n",
    "print(posnum)"
   ]
  },
  {
   "cell_type": "code",
   "execution_count": 44,
   "id": "005459ac",
   "metadata": {},
   "outputs": [],
   "source": [
    "pos=lambda l:l>0"
   ]
  },
  {
   "cell_type": "code",
   "execution_count": 45,
   "id": "0deb913b",
   "metadata": {},
   "outputs": [
    {
     "data": {
      "text/plain": [
       "<function __main__.<lambda>(l)>"
      ]
     },
     "execution_count": 45,
     "metadata": {},
     "output_type": "execute_result"
    }
   ],
   "source": [
    "pos"
   ]
  },
  {
   "cell_type": "code",
   "execution_count": 1,
   "id": "16a411e5",
   "metadata": {},
   "outputs": [
    {
     "data": {
      "text/plain": [
       "9996"
      ]
     },
     "execution_count": 1,
     "metadata": {},
     "output_type": "execute_result"
    }
   ],
   "source": [
    "#Lambdas\n",
    "min = (lambda x, y: x if x < y else y)\n",
    "min(101*99, 102*98)"
   ]
  },
  {
   "cell_type": "code",
   "execution_count": 7,
   "id": "ffc8a2c3",
   "metadata": {},
   "outputs": [
    {
     "name": "stdout",
     "output_type": "stream",
     "text": [
      "{3: 27, 6: 216, 9: 729, 12: 1728, 15: 3375, 18: 5832, 21: 9261, 24: 13824, 27: 19683, 30: 27000, 33: 35937, 36: 46656, 39: 59319, 42: 74088, 45: 91125, 48: 110592, 51: 132651, 54: 157464, 57: 185193, 60: 216000, 63: 250047, 66: 287496, 69: 328509, 72: 373248, 75: 421875, 78: 474552, 81: 531441, 84: 592704, 87: 658503, 90: 729000, 93: 804357, 96: 884736, 99: 970299}\n"
     ]
    }
   ],
   "source": [
    "#Dictionary Comprehension\n",
    "input_list = list(range(1,100))\n",
    "output_dict= {val : val**3 for val in input_list if val % 3 == 0}\n",
    "print(output_dict)"
   ]
  },
  {
   "cell_type": "code",
   "execution_count": 3,
   "id": "3fde986b",
   "metadata": {},
   "outputs": [
    {
     "name": "stdout",
     "output_type": "stream",
     "text": [
      "['ad', 'ae', 'af', 'bd', 'be', 'bf', 'cd', 'ce', 'cf']\n"
     ]
    }
   ],
   "source": [
    "#List Comprehension\n",
    "print([i+j for i in \"abc\" for j in \"def\"])"
   ]
  },
  {
   "cell_type": "code",
   "execution_count": 4,
   "id": "c61a1aea",
   "metadata": {},
   "outputs": [
    {
     "name": "stdout",
     "output_type": "stream",
     "text": [
      "{'A': 'aaa', 'C': 'ccc', 'B': 'bbb', 'D': 'ddd'}\n"
     ]
    }
   ],
   "source": [
    "#Dictionary Comprehension\n",
    "d = {x.upper(): x*3 for x in 'acbd'}\n",
    "print(d)"
   ]
  },
  {
   "cell_type": "code",
   "execution_count": 27,
   "id": "767ecbe6",
   "metadata": {},
   "outputs": [
    {
     "ename": "TypeError",
     "evalue": "list indices must be integers or slices, not str",
     "output_type": "error",
     "traceback": [
      "\u001b[1;31m---------------------------------------------------------------------------\u001b[0m",
      "\u001b[1;31mTypeError\u001b[0m                                 Traceback (most recent call last)",
      "Cell \u001b[1;32mIn[27], line 3\u001b[0m\n\u001b[0;32m      1\u001b[0m key_value_list\u001b[38;5;241m=\u001b[39m[{ \u001b[38;5;124m\"\u001b[39m\u001b[38;5;124mname\u001b[39m\u001b[38;5;124m\"\u001b[39m : \u001b[38;5;124m\"\u001b[39m\u001b[38;5;124mArpit\u001b[39m\u001b[38;5;124m\"\u001b[39m, \u001b[38;5;124m\"\u001b[39m\u001b[38;5;124mrank\u001b[39m\u001b[38;5;124m\"\u001b[39m : \u001b[38;5;241m20\u001b[39m}, { \u001b[38;5;124m\"\u001b[39m\u001b[38;5;124mname\u001b[39m\u001b[38;5;124m\"\u001b[39m : \u001b[38;5;124m\"\u001b[39m\u001b[38;5;124mManjeet\u001b[39m\u001b[38;5;124m\"\u001b[39m, \u001b[38;5;124m\"\u001b[39m\u001b[38;5;124mrank\u001b[39m\u001b[38;5;124m\"\u001b[39m : \u001b[38;5;241m20\u001b[39m },{ \u001b[38;5;124m\"\u001b[39m\u001b[38;5;124mname\u001b[39m\u001b[38;5;124m\"\u001b[39m : \u001b[38;5;124m\"\u001b[39m\u001b[38;5;124mAravind\u001b[39m\u001b[38;5;124m\"\u001b[39m , \u001b[38;5;124m\"\u001b[39m\u001b[38;5;124mrank\u001b[39m\u001b[38;5;124m\"\u001b[39m : \u001b[38;5;241m19\u001b[39m }]\n\u001b[1;32m----> 3\u001b[0m sorted_students \u001b[38;5;241m=\u001b[39m \u001b[38;5;28msorted\u001b[39m(students, key\u001b[38;5;241m=\u001b[39m(key_value_list[\u001b[38;5;124m\"\u001b[39m\u001b[38;5;124mname\u001b[39m\u001b[38;5;124m\"\u001b[39m],key_value_list[\u001b[38;5;124m\"\u001b[39m\u001b[38;5;124mrank\u001b[39m\u001b[38;5;124m\"\u001b[39m]))\n\u001b[0;32m      4\u001b[0m \u001b[38;5;28mprint\u001b[39m(key_value_list[\u001b[38;5;124m\"\u001b[39m\u001b[38;5;124mname\u001b[39m\u001b[38;5;124m\"\u001b[39m],key_value_list[\u001b[38;5;124m\"\u001b[39m\u001b[38;5;124mrank\u001b[39m\u001b[38;5;124m\"\u001b[39m])\n",
      "\u001b[1;31mTypeError\u001b[0m: list indices must be integers or slices, not str"
     ]
    }
   ],
   "source": [
    "key_value_list=[{ \"name\" : \"Arpit\", \"rank\" : 20}, { \"name\" : \"Manjeet\", \"rank\" : 20 },{ \"name\" : \"Aravind\" , \"rank\" : 19 }]\n",
    "\n",
    "sorted_students = sorted(students, key=(key_value_list[\"name\"],key_value_list[\"rank\"]))\n",
    "print(key_value_list[\"name\"],key_value_list[\"rank\"])"
   ]
  },
  {
   "cell_type": "code",
   "execution_count": 28,
   "id": "db41125d",
   "metadata": {},
   "outputs": [
    {
     "name": "stdout",
     "output_type": "stream",
     "text": [
      "Name: Aravind, Rank: 19\n",
      "Name: Arpit, Rank: 20\n",
      "Name: Manjeet, Rank: 20\n"
     ]
    }
   ],
   "source": [
    "# List of dictionaries containing student names and ranks\n",
    "students = [{ \"name\" : \"Arpit\", \"rank\" : 20}, { \"name\" : \"Manjeet\", \"rank\" : 20 },{ \"name\" : \"Aravind\" , \"rank\" : 19 }]\n",
    "\n",
    "# Define a custom sorting key function\n",
    "def custom_sort_key(student_dict):\n",
    "    return (student_dict[\"rank\"], student_dict[\"name\"])\n",
    "\n",
    "# Sort the list of dictionaries using the custom sorting key\n",
    "sorted_students = sorted(students, key=custom_sort_key)\n",
    "\n",
    "# Print the sorted list\n",
    "for student in sorted_students:\n",
    "    print(f\"Name: {student['name']}, Rank: {student['rank']}\")\n"
   ]
  },
  {
   "cell_type": "code",
   "execution_count": 1,
   "id": "40b458dc",
   "metadata": {},
   "outputs": [],
   "source": [
    "data={1:'Naveen',2:'Kiran',4:'Harsh'}"
   ]
  },
  {
   "cell_type": "code",
   "execution_count": 2,
   "id": "f37d7409",
   "metadata": {},
   "outputs": [
    {
     "data": {
      "text/plain": [
       "{1: 'Naveen', 2: 'Kiran', 4: 'Harsh'}"
      ]
     },
     "execution_count": 2,
     "metadata": {},
     "output_type": "execute_result"
    }
   ],
   "source": [
    "data"
   ]
  },
  {
   "cell_type": "code",
   "execution_count": 3,
   "id": "4d24665d",
   "metadata": {},
   "outputs": [
    {
     "data": {
      "text/plain": [
       "'Harsh'"
      ]
     },
     "execution_count": 3,
     "metadata": {},
     "output_type": "execute_result"
    }
   ],
   "source": [
    "data[4]"
   ]
  },
  {
   "cell_type": "code",
   "execution_count": 5,
   "id": "03ec397a",
   "metadata": {},
   "outputs": [
    {
     "data": {
      "text/plain": [
       "'Naveen'"
      ]
     },
     "execution_count": 5,
     "metadata": {},
     "output_type": "execute_result"
    }
   ],
   "source": [
    "data[1]"
   ]
  },
  {
   "cell_type": "code",
   "execution_count": 6,
   "id": "0d700b94",
   "metadata": {},
   "outputs": [
    {
     "data": {
      "text/plain": [
       "'Naveen'"
      ]
     },
     "execution_count": 6,
     "metadata": {},
     "output_type": "execute_result"
    }
   ],
   "source": [
    "data.get(1)"
   ]
  },
  {
   "cell_type": "code",
   "execution_count": 7,
   "id": "8e116404",
   "metadata": {},
   "outputs": [],
   "source": [
    "data.get(3)"
   ]
  },
  {
   "cell_type": "code",
   "execution_count": 9,
   "id": "102c7492",
   "metadata": {},
   "outputs": [
    {
     "data": {
      "text/plain": [
       "'Naveen'"
      ]
     },
     "execution_count": 9,
     "metadata": {},
     "output_type": "execute_result"
    }
   ],
   "source": [
    "data.get(1,'Not Found')"
   ]
  },
  {
   "cell_type": "code",
   "execution_count": 10,
   "id": "575ed58e",
   "metadata": {},
   "outputs": [],
   "source": [
    "keys=['Navin','Kiran','Harsh']\n",
    "values=['Python','Java','JS']"
   ]
  },
  {
   "cell_type": "code",
   "execution_count": 11,
   "id": "0515b595",
   "metadata": {},
   "outputs": [],
   "source": [
    "data=dict(zip(keys,values))"
   ]
  },
  {
   "cell_type": "code",
   "execution_count": 12,
   "id": "38c8b1b2",
   "metadata": {},
   "outputs": [
    {
     "data": {
      "text/plain": [
       "{'Navin': 'Python', 'Kiran': 'Java', 'Harsh': 'JS'}"
      ]
     },
     "execution_count": 12,
     "metadata": {},
     "output_type": "execute_result"
    }
   ],
   "source": [
    "data"
   ]
  },
  {
   "cell_type": "code",
   "execution_count": 13,
   "id": "378d2e02",
   "metadata": {},
   "outputs": [
    {
     "data": {
      "text/plain": [
       "'Python'"
      ]
     },
     "execution_count": 13,
     "metadata": {},
     "output_type": "execute_result"
    }
   ],
   "source": [
    "data['Navin']"
   ]
  },
  {
   "cell_type": "code",
   "execution_count": 14,
   "id": "7222ec47",
   "metadata": {},
   "outputs": [],
   "source": [
    "data['Monika']='CS'"
   ]
  },
  {
   "cell_type": "code",
   "execution_count": 15,
   "id": "bf6997b3",
   "metadata": {},
   "outputs": [
    {
     "data": {
      "text/plain": [
       "{'Navin': 'Python', 'Kiran': 'Java', 'Harsh': 'JS', 'Monika': 'CS'}"
      ]
     },
     "execution_count": 15,
     "metadata": {},
     "output_type": "execute_result"
    }
   ],
   "source": [
    "data"
   ]
  },
  {
   "cell_type": "code",
   "execution_count": 16,
   "id": "58edebd4",
   "metadata": {},
   "outputs": [],
   "source": [
    "del data['Harsh']"
   ]
  },
  {
   "cell_type": "code",
   "execution_count": 17,
   "id": "cf1f681c",
   "metadata": {},
   "outputs": [
    {
     "data": {
      "text/plain": [
       "{'Navin': 'Python', 'Kiran': 'Java', 'Monika': 'CS'}"
      ]
     },
     "execution_count": 17,
     "metadata": {},
     "output_type": "execute_result"
    }
   ],
   "source": [
    "data"
   ]
  },
  {
   "cell_type": "code",
   "execution_count": 18,
   "id": "7697dec3",
   "metadata": {},
   "outputs": [],
   "source": [
    "prog={'JS':'Atom','CS':'VS','Python':['Pycharm','Sublime'],'Java':{'JSE':'Netbeans','JEE':'Eclipse'}}"
   ]
  },
  {
   "cell_type": "code",
   "execution_count": 19,
   "id": "46adb693",
   "metadata": {},
   "outputs": [
    {
     "data": {
      "text/plain": [
       "{'JS': 'Atom',\n",
       " 'CS': 'VS',\n",
       " 'Python': ['Pycharm', 'Sublime'],\n",
       " 'Java': {'JSE': 'Netbeans', 'JEE': 'Eclipse'}}"
      ]
     },
     "execution_count": 19,
     "metadata": {},
     "output_type": "execute_result"
    }
   ],
   "source": [
    "prog"
   ]
  },
  {
   "cell_type": "code",
   "execution_count": 20,
   "id": "b2567785",
   "metadata": {},
   "outputs": [
    {
     "data": {
      "text/plain": [
       "['Pycharm', 'Sublime']"
      ]
     },
     "execution_count": 20,
     "metadata": {},
     "output_type": "execute_result"
    }
   ],
   "source": [
    "prog['Python']"
   ]
  },
  {
   "cell_type": "code",
   "execution_count": 21,
   "id": "84249a1d",
   "metadata": {},
   "outputs": [
    {
     "data": {
      "text/plain": [
       "{'JSE': 'Netbeans', 'JEE': 'Eclipse'}"
      ]
     },
     "execution_count": 21,
     "metadata": {},
     "output_type": "execute_result"
    }
   ],
   "source": [
    "prog['Java']"
   ]
  },
  {
   "cell_type": "code",
   "execution_count": 22,
   "id": "e185b83e",
   "metadata": {},
   "outputs": [
    {
     "data": {
      "text/plain": [
       "'Eclipse'"
      ]
     },
     "execution_count": 22,
     "metadata": {},
     "output_type": "execute_result"
    }
   ],
   "source": [
    "prog['Java']['JEE']"
   ]
  },
  {
   "cell_type": "code",
   "execution_count": 23,
   "id": "053e1937",
   "metadata": {},
   "outputs": [
    {
     "data": {
      "text/plain": [
       "'Netbeans'"
      ]
     },
     "execution_count": 23,
     "metadata": {},
     "output_type": "execute_result"
    }
   ],
   "source": [
    "prog['Java']['JSE']"
   ]
  },
  {
   "cell_type": "code",
   "execution_count": 32,
   "id": "96fb68fd",
   "metadata": {},
   "outputs": [],
   "source": [
    "products=[\n",
    "{'itemid':'1001','name':'tshirt','color':'white','size':['small','medium','large']},\n",
    "{'itemid':'1002','name':'sweatshirt','color':'black','size':['small','medium','large']},\n",
    "{'itemid':'1003','name':'hoody','color':'green','size':['small','medium','large']}\n",
    "]"
   ]
  },
  {
   "cell_type": "code",
   "execution_count": 26,
   "id": "8c6cb3df",
   "metadata": {},
   "outputs": [
    {
     "name": "stdout",
     "output_type": "stream",
     "text": [
      "[{'itemid': '1001', 'name': 'tshirt', 'colour': 'white', 'size': ['small', 'medium', 'large']}, {'itemid': '1002', 'name': 'sweatshirt', 'colour': 'black', 'size': ['small', 'medium', 'large']}, {'itemid': '1003', 'name': 'hoody', 'colour': 'green', 'size': ['small', 'medium', 'large']}]\n"
     ]
    }
   ],
   "source": [
    "print(products)"
   ]
  },
  {
   "cell_type": "code",
   "execution_count": 41,
   "id": "41358838",
   "metadata": {},
   "outputs": [
    {
     "name": "stdout",
     "output_type": "stream",
     "text": [
      "1001 tshirt white ['small', 'medium', 'large']\n"
     ]
    }
   ],
   "source": [
    "print(products[0]['itemid'],products[0]['name'],products[0]['color'],products[0]['size'][:])"
   ]
  },
  {
   "cell_type": "code",
   "execution_count": null,
   "id": "6d18e40c",
   "metadata": {},
   "outputs": [],
   "source": []
  }
 ],
 "metadata": {
  "kernelspec": {
   "display_name": "Python 3 (ipykernel)",
   "language": "python",
   "name": "python3"
  },
  "language_info": {
   "codemirror_mode": {
    "name": "ipython",
    "version": 3
   },
   "file_extension": ".py",
   "mimetype": "text/x-python",
   "name": "python",
   "nbconvert_exporter": "python",
   "pygments_lexer": "ipython3",
   "version": "3.11.4"
  }
 },
 "nbformat": 4,
 "nbformat_minor": 5
}
