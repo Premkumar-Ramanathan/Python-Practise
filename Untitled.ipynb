{
 "cells": [
  {
   "cell_type": "code",
   "execution_count": 1,
   "id": "6a8c0e59",
   "metadata": {},
   "outputs": [
    {
     "ename": "NameError",
     "evalue": "name 'brute_force' is not defined",
     "output_type": "error",
     "traceback": [
      "\u001b[1;31m---------------------------------------------------------------------------\u001b[0m",
      "\u001b[1;31mNameError\u001b[0m                                 Traceback (most recent call last)",
      "Cell \u001b[1;32mIn[1], line 40\u001b[0m\n\u001b[0;32m     38\u001b[0m Px \u001b[38;5;241m=\u001b[39m \u001b[38;5;28msorted\u001b[39m(points, key\u001b[38;5;241m=\u001b[39m\u001b[38;5;28;01mlambda\u001b[39;00m x: x[\u001b[38;5;241m0\u001b[39m])\n\u001b[0;32m     39\u001b[0m Py \u001b[38;5;241m=\u001b[39m \u001b[38;5;28msorted\u001b[39m(points, key\u001b[38;5;241m=\u001b[39m\u001b[38;5;28;01mlambda\u001b[39;00m x: x[\u001b[38;5;241m1\u001b[39m])\n\u001b[1;32m---> 40\u001b[0m \u001b[38;5;28mprint\u001b[39m(closest_pair(Px, Py))\n",
      "Cell \u001b[1;32mIn[1], line 20\u001b[0m, in \u001b[0;36mclosest_pair\u001b[1;34m(Px, Py)\u001b[0m\n\u001b[0;32m     18\u001b[0m     \u001b[38;5;28;01melse\u001b[39;00m:\n\u001b[0;32m     19\u001b[0m         Ry\u001b[38;5;241m.\u001b[39mappend(x)\n\u001b[1;32m---> 20\u001b[0m p1, q1, min_dist1 \u001b[38;5;241m=\u001b[39m closest_pair(Qx, Qy)\n\u001b[0;32m     21\u001b[0m p2, q2, min_dist2 \u001b[38;5;241m=\u001b[39m closest_pair(Rx, Ry)\n\u001b[0;32m     22\u001b[0m \u001b[38;5;28;01mif\u001b[39;00m min_dist1 \u001b[38;5;241m<\u001b[39m\u001b[38;5;241m=\u001b[39m min_dist2:\n",
      "Cell \u001b[1;32mIn[1], line 8\u001b[0m, in \u001b[0;36mclosest_pair\u001b[1;34m(Px, Py)\u001b[0m\n\u001b[0;32m      6\u001b[0m \u001b[38;5;28;01mdef\u001b[39;00m \u001b[38;5;21mclosest_pair\u001b[39m(Px, Py):\n\u001b[0;32m      7\u001b[0m     \u001b[38;5;28;01mif\u001b[39;00m \u001b[38;5;28mlen\u001b[39m(Px) \u001b[38;5;241m<\u001b[39m\u001b[38;5;241m=\u001b[39m \u001b[38;5;241m3\u001b[39m:\n\u001b[1;32m----> 8\u001b[0m         \u001b[38;5;28;01mreturn\u001b[39;00m brute_force(Px)\n\u001b[0;32m      9\u001b[0m     mid \u001b[38;5;241m=\u001b[39m \u001b[38;5;28mlen\u001b[39m(Px) \u001b[38;5;241m/\u001b[39m\u001b[38;5;241m/\u001b[39m \u001b[38;5;241m2\u001b[39m\n\u001b[0;32m     10\u001b[0m     Qx \u001b[38;5;241m=\u001b[39m Px[:mid]\n",
      "\u001b[1;31mNameError\u001b[0m: name 'brute_force' is not defined"
     ]
    }
   ],
   "source": [
    "import math\n",
    "\n",
    "def dist(p1, p2):\n",
    "    return math.sqrt((p1[0] - p2[0])**2 + (p1[1] - p2[1])**2)\n",
    "\n",
    "def closest_pair(Px, Py):\n",
    "    if len(Px) <= 3:\n",
    "        return brute_force(Px)\n",
    "    mid = len(Px) // 2\n",
    "    Qx = Px[:mid]\n",
    "    Rx = Px[mid:]\n",
    "    midpoint = Px[mid][0]\n",
    "    Qy = []\n",
    "    Ry = []\n",
    "    for x in Py:\n",
    "        if x in Qx:\n",
    "            Qy.append(x)\n",
    "        else:\n",
    "            Ry.append(x)\n",
    "    p1, q1, min_dist1 = closest_pair(Qx, Qy)\n",
    "    p2, q2, min_dist2 = closest_pair(Rx, Ry)\n",
    "    if min_dist1 <= min_dist2:\n",
    "        d = min_dist1\n",
    "        mn = (p1, q1)\n",
    "    else:\n",
    "        d = min_dist2\n",
    "        mn = (p2, q2)\n",
    "    Sy = [x for x in Py if abs(x[0] - midpoint) < d]\n",
    "    n = len(Sy)\n",
    "    for i in range(n):\n",
    "        for j in range(i+1, min(i+7, n)):\n",
    "            if dist(Sy[i], Sy[j]) < d:\n",
    "                d = dist(Sy[i], Sy[j])\n",
    "                mn = (Sy[i], Sy[j])\n",
    "    return mn[0], mn[1], d\n",
    "\n",
    "points = [(1,2), (3,4), (5,6), (7,8), (9,10)]\n",
    "Px = sorted(points, key=lambda x: x[0])\n",
    "Py = sorted(points, key=lambda x: x[1])\n",
    "print(closest_pair(Px, Py))"
   ]
  },
  {
   "cell_type": "code",
   "execution_count": null,
   "id": "dde1f88a",
   "metadata": {},
   "outputs": [],
   "source": []
  },
  {
   "cell_type": "code",
   "execution_count": 2,
   "id": "e1ffc56e",
   "metadata": {},
   "outputs": [
    {
     "name": "stdout",
     "output_type": "stream",
     "text": [
      "    name  age gender\n",
      "1   Mike   30      M\n",
      "4  Jason   35      M\n"
     ]
    }
   ],
   "source": [
    "import pandas as pd\n",
    "\n",
    "data = {'name': ['John', 'Mike', 'Sarah', 'Katie', 'Jason'],\n",
    "        'age': [25, 30, 22, 19, 35],\n",
    "        'gender': ['M', 'M', 'F', 'F', 'M']}\n",
    "df = pd.DataFrame(data)\n",
    "df = df.query('age > 25 and gender == \"M\"')\n",
    "print(df)"
   ]
  },
  {
   "cell_type": "code",
   "execution_count": null,
   "id": "6b16d398",
   "metadata": {},
   "outputs": [],
   "source": []
  },
  {
   "cell_type": "code",
   "execution_count": 3,
   "id": "465fe771",
   "metadata": {},
   "outputs": [
    {
     "name": "stdout",
     "output_type": "stream",
     "text": [
      "    name  age gender age_range\n",
      "0   John   25      M  (18, 25]\n",
      "1   Mike   30      M  (25, 35]\n",
      "2  Sarah   22      F  (18, 25]\n",
      "3  Katie   19      F  (18, 25]\n",
      "4  Jason   35      M  (25, 35]\n"
     ]
    }
   ],
   "source": [
    "data = {'name': ['John', 'Mike', 'Sarah', 'Katie', 'Jason'],\n",
    "        'age': [25, 30, 22, 19, 35],\n",
    "        'gender': ['M', 'M', 'F', 'F', 'M']}\n",
    "df = pd.DataFrame(data)\n",
    "df = df.assign(age_range=pd.cut(df['age'], bins=[18, 25, 35, 100]))\n",
    "print(df)"
   ]
  }
 ],
 "metadata": {
  "kernelspec": {
   "display_name": "Python 3 (ipykernel)",
   "language": "python",
   "name": "python3"
  },
  "language_info": {
   "codemirror_mode": {
    "name": "ipython",
    "version": 3
   },
   "file_extension": ".py",
   "mimetype": "text/x-python",
   "name": "python",
   "nbconvert_exporter": "python",
   "pygments_lexer": "ipython3",
   "version": "3.11.4"
  }
 },
 "nbformat": 4,
 "nbformat_minor": 5
}
