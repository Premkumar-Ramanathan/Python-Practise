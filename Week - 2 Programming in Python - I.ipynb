{
 "cells": [
  {
   "cell_type": "code",
   "execution_count": 1,
   "id": "d4b79bd4",
   "metadata": {},
   "outputs": [
    {
     "ename": "TypeError",
     "evalue": "argument should be integer or None, not 'str'",
     "output_type": "error",
     "traceback": [
      "\u001b[1;31m---------------------------------------------------------------------------\u001b[0m",
      "\u001b[1;31mTypeError\u001b[0m                                 Traceback (most recent call last)",
      "Cell \u001b[1;32mIn[1], line 10\u001b[0m\n\u001b[0;32m      2\u001b[0m \u001b[38;5;124;03m\"\"\"Description\u001b[39;00m\n\u001b[0;32m      3\u001b[0m \u001b[38;5;124;03mIn a certain encrypted message which has information about the location(area, city), the characters are jumbled such that first\u001b[39;00m\n\u001b[0;32m      4\u001b[0m \u001b[38;5;124;03mcharacter of the first word is followed by the first character of the second word, then it is followed by second character of\u001b[39;00m\n\u001b[0;32m      5\u001b[0m \u001b[38;5;124;03mthe first word and so on\u001b[39;00m\n\u001b[0;32m      6\u001b[0m \u001b[38;5;124;03mIn other words, let’s say the location is bandra,mumbai\u001b[39;00m\n\u001b[0;32m      7\u001b[0m \u001b[38;5;124;03mThe encrypted message says ‘bmaunmdbraai’.\"\"\"\u001b[39;00m\n\u001b[0;32m      9\u001b[0m \u001b[38;5;28;01mimport\u001b[39;00m \u001b[38;5;21;01mast\u001b[39;00m\u001b[38;5;241m,\u001b[39m\u001b[38;5;21;01msys\u001b[39;00m\n\u001b[1;32m---> 10\u001b[0m input_str \u001b[38;5;241m=\u001b[39m \u001b[38;5;28minput\u001b[39m(sys\u001b[38;5;241m.\u001b[39mstdin\u001b[38;5;241m.\u001b[39mread(\u001b[38;5;124m'\u001b[39m\u001b[38;5;124m'\u001b[39m))\n",
      "\u001b[1;31mTypeError\u001b[0m: argument should be integer or None, not 'str'"
     ]
    }
   ],
   "source": [
    "#String Problem\n",
    "\"\"\"Description\n",
    "In a certain encrypted message which has information about the location(area, city), the characters are jumbled such that first\n",
    "character of the first word is followed by the first character of the second word, then it is followed by second character of\n",
    "the first word and so on\n",
    "In other words, let’s say the location is bandra,mumbai\n",
    "The encrypted message says ‘bmaunmdbraai’.\"\"\"\n",
    "\n",
    "import ast,sys\n",
    "input_str = sys.stdin.read('')\n",
    "#Type your code here\n",
    "# print(message1, message2)\n",
    "#print(input_str)\n"
   ]
  },
  {
   "cell_type": "code",
   "execution_count": 29,
   "id": "52f961ad",
   "metadata": {},
   "outputs": [
    {
     "name": "stdout",
     "output_type": "stream",
     "text": [
      "bmaunmdbraai\n",
      "bandra,mumbai\n"
     ]
    }
   ],
   "source": [
    "#String Problem\n",
    "s=input()\n",
    "a=''\n",
    "b=''\n",
    "for i in range(0,len(s),2):\n",
    "    a+=s[i]\n",
    "    b+=s[i+1]\n",
    "\n",
    "if a[-1]==' ':\n",
    "    print(a)\n",
    "c=a+','+b\n",
    "c=c.strip()\n",
    "print(c)"
   ]
  },
  {
   "cell_type": "code",
   "execution_count": 7,
   "id": "7e310196",
   "metadata": {},
   "outputs": [
    {
     "name": "stdout",
     "output_type": "stream",
     "text": [
      "Enter the List Elements: [10,20,45,50]\n",
      "4\n",
      "[10, 20, 45, 50, 4, 20, 40]\n"
     ]
    }
   ],
   "source": [
    "#Replicate Pseudocode\n",
    "import ast\n",
    "# Read the variable from STDIN\n",
    "s=input('Enter the List Elements: ')\n",
    "a = int(input())\n",
    "lst1=''\n",
    "lst2=[]\n",
    "lst1 = ast.literal_eval(s)\n",
    "lst2 = list(lst1)\n",
    "lst2.append(a)\n",
    "for i in range(0,3,1):\n",
    "    lst2.append(lst2[i]*2)\n",
    "lst2.pop()\n",
    "print(lst2)"
   ]
  },
  {
   "cell_type": "code",
   "execution_count": 16,
   "id": "de7353f4",
   "metadata": {},
   "outputs": [
    {
     "name": "stdout",
     "output_type": "stream",
     "text": [
      "{'E', 'B', 'C', 'D', 'A'}\n",
      "<class 'set'>\n"
     ]
    }
   ],
   "source": [
    "Grades = [\"A\", \"A\", \"B\", \"C\", \"D\", \"B\", \"B\", \"C\", \"D\", \"E\", \"C\", \"C\", \"A\"]\n",
    "G=set()\n",
    "G=set(Grades)\n",
    "print(G)\n",
    "print(type(G))"
   ]
  }
 ],
 "metadata": {
  "kernelspec": {
   "display_name": "Python 3 (ipykernel)",
   "language": "python",
   "name": "python3"
  },
  "language_info": {
   "codemirror_mode": {
    "name": "ipython",
    "version": 3
   },
   "file_extension": ".py",
   "mimetype": "text/x-python",
   "name": "python",
   "nbconvert_exporter": "python",
   "pygments_lexer": "ipython3",
   "version": "3.11.4"
  }
 },
 "nbformat": 4,
 "nbformat_minor": 5
}
