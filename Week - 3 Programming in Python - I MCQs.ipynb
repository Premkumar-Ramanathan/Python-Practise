{
 "cells": [
  {
   "cell_type": "code",
   "execution_count": 1,
   "id": "ac17d1f3",
   "metadata": {},
   "outputs": [
    {
     "name": "stdout",
     "output_type": "stream",
     "text": [
      "<class 'str'>\n"
     ]
    }
   ],
   "source": [
    "number='159'\n",
    "\n",
    "print(type(number))"
   ]
  },
  {
   "cell_type": "code",
   "execution_count": 2,
   "id": "ccf14633",
   "metadata": {},
   "outputs": [
    {
     "name": "stdout",
     "output_type": "stream",
     "text": [
      "34.0\n"
     ]
    }
   ],
   "source": [
    "number=34.721\n",
    "print(float(int(number)))"
   ]
  },
  {
   "cell_type": "code",
   "execution_count": 3,
   "id": "23391d6e",
   "metadata": {},
   "outputs": [
    {
     "ename": "NameError",
     "evalue": "name 'Alex' is not defined",
     "output_type": "error",
     "traceback": [
      "\u001b[1;31m---------------------------------------------------------------------------\u001b[0m",
      "\u001b[1;31mNameError\u001b[0m                                 Traceback (most recent call last)",
      "Cell \u001b[1;32mIn[3], line 1\u001b[0m\n\u001b[1;32m----> 1\u001b[0m name \u001b[38;5;241m=\u001b[39m Alex\n\u001b[0;32m      2\u001b[0m \u001b[38;5;28mprint\u001b[39m(\u001b[38;5;28mtype\u001b[39m(name))\n",
      "\u001b[1;31mNameError\u001b[0m: name 'Alex' is not defined"
     ]
    }
   ],
   "source": [
    "name = Alex\n",
    "print(type(name))"
   ]
  },
  {
   "cell_type": "code",
   "execution_count": 4,
   "id": "f02d8828",
   "metadata": {},
   "outputs": [
    {
     "name": "stdout",
     "output_type": "stream",
     "text": [
      "0.0\n"
     ]
    }
   ],
   "source": [
    "a = 8.9\n",
    "b = 2\n",
    "c = 5\n",
    "print(a//b//c)"
   ]
  },
  {
   "cell_type": "code",
   "execution_count": 8,
   "id": "287d2042",
   "metadata": {},
   "outputs": [
    {
     "data": {
      "text/plain": [
       "-8.0"
      ]
     },
     "execution_count": 8,
     "metadata": {},
     "output_type": "execute_result"
    }
   ],
   "source": [
    "4 // 8 + ( 2.5 + 7.5 ) - 6 * 3"
   ]
  },
  {
   "cell_type": "code",
   "execution_count": 9,
   "id": "aae63862",
   "metadata": {},
   "outputs": [
    {
     "data": {
      "text/plain": [
       "-9"
      ]
     },
     "execution_count": 9,
     "metadata": {},
     "output_type": "execute_result"
    }
   ],
   "source": [
    "5 % ( 2 + 12 ) ** 3 - 60 // ( 7 + 1 ) * 2"
   ]
  },
  {
   "cell_type": "code",
   "execution_count": 10,
   "id": "efa0aca8",
   "metadata": {},
   "outputs": [
    {
     "name": "stdout",
     "output_type": "stream",
     "text": [
      "to cod\n"
     ]
    }
   ],
   "source": [
    "string_1 = \"I love to code in python\"\n",
    "print( string_1[7:13])"
   ]
  },
  {
   "cell_type": "code",
   "execution_count": 11,
   "id": "3845cbb4",
   "metadata": {},
   "outputs": [],
   "source": [
    "sentence = 'This sentence needs to be split into words'"
   ]
  },
  {
   "cell_type": "code",
   "execution_count": 14,
   "id": "63288d7d",
   "metadata": {},
   "outputs": [
    {
     "data": {
      "text/plain": [
       "' split'"
      ]
     },
     "execution_count": 14,
     "metadata": {},
     "output_type": "execute_result"
    }
   ],
   "source": [
    "sentence[-17:-11]"
   ]
  },
  {
   "cell_type": "code",
   "execution_count": 15,
   "id": "c0cbfa31",
   "metadata": {},
   "outputs": [
    {
     "ename": "TypeError",
     "evalue": "'str' object is not callable",
     "output_type": "error",
     "traceback": [
      "\u001b[1;31m---------------------------------------------------------------------------\u001b[0m",
      "\u001b[1;31mTypeError\u001b[0m                                 Traceback (most recent call last)",
      "Cell \u001b[1;32mIn[15], line 2\u001b[0m\n\u001b[0;32m      1\u001b[0m \u001b[38;5;28mlen\u001b[39m \u001b[38;5;241m=\u001b[39m \u001b[38;5;124m'\u001b[39m\u001b[38;5;124mpython\u001b[39m\u001b[38;5;124m'\u001b[39m\n\u001b[1;32m----> 2\u001b[0m \u001b[38;5;28mprint\u001b[39m(\u001b[38;5;28mlen\u001b[39m(\u001b[38;5;28mlen\u001b[39m))\n",
      "\u001b[1;31mTypeError\u001b[0m: 'str' object is not callable"
     ]
    }
   ],
   "source": [
    "len = 'python'\n",
    "print(len(len))"
   ]
  },
  {
   "cell_type": "code",
   "execution_count": 16,
   "id": "1d21fc3f",
   "metadata": {},
   "outputs": [
    {
     "ename": "SyntaxError",
     "evalue": "expected ':' (4058991420.py, line 2)",
     "output_type": "error",
     "traceback": [
      "\u001b[1;36m  Cell \u001b[1;32mIn[16], line 2\u001b[1;36m\u001b[0m\n\u001b[1;33m    if x%2==0\u001b[0m\n\u001b[1;37m             ^\u001b[0m\n\u001b[1;31mSyntaxError\u001b[0m\u001b[1;31m:\u001b[0m expected ':'\n"
     ]
    }
   ],
   "source": [
    "x=10\n",
    "if x%2==0\n",
    "print(\"even number\")\n",
    "else\n",
    "print(\"odd number\") "
   ]
  },
  {
   "cell_type": "code",
   "execution_count": 17,
   "id": "9e2088a9",
   "metadata": {},
   "outputs": [
    {
     "name": "stdout",
     "output_type": "stream",
     "text": [
      "false\n",
      "true\n"
     ]
    }
   ],
   "source": [
    "if 4+9<10:\n",
    "  print(\"true\")\n",
    "else:\n",
    "  print(\"false\")\n",
    "print(\"true\")"
   ]
  },
  {
   "cell_type": "code",
   "execution_count": 19,
   "id": "973d6b5e",
   "metadata": {},
   "outputs": [
    {
     "name": "stdout",
     "output_type": "stream",
     "text": [
      "fair\n"
     ]
    }
   ],
   "source": [
    "x=67\n",
    "if x>50:\n",
    "  if x>90:\n",
    "    print(\"excellent\")\n",
    "  else:\n",
    "    if x>80:\n",
    "      print(\"good\")\n",
    "    else:\n",
    "      print(\"fair\")\n",
    "else:\n",
    "  if x>30:\n",
    "    print(\"average\")\n",
    "  else:\n",
    "    print(\"poor\")"
   ]
  },
  {
   "cell_type": "code",
   "execution_count": 22,
   "id": "a5b9f00f",
   "metadata": {},
   "outputs": [],
   "source": [
    "a='pqrstuv'\n",
    "i='j'\n",
    "while i in a:\n",
    "  print(i)"
   ]
  },
  {
   "cell_type": "code",
   "execution_count": 24,
   "id": "1e35946c",
   "metadata": {},
   "outputs": [],
   "source": [
    "i = 16\n",
    "while False:\n",
    "    if i%2 == 0:\n",
    "        break\n",
    "    print(i)\n",
    "    i += 2"
   ]
  },
  {
   "cell_type": "code",
   "execution_count": 25,
   "id": "404d8119",
   "metadata": {},
   "outputs": [
    {
     "ename": "TypeError",
     "evalue": "'str' object is not callable",
     "output_type": "error",
     "traceback": [
      "\u001b[1;31m---------------------------------------------------------------------------\u001b[0m",
      "\u001b[1;31mTypeError\u001b[0m                                 Traceback (most recent call last)",
      "Cell \u001b[1;32mIn[25], line 3\u001b[0m\n\u001b[0;32m      1\u001b[0m s\u001b[38;5;241m=\u001b[39m\u001b[38;5;124m\"\u001b[39m\u001b[38;5;124mUpgrad\u001b[39m\u001b[38;5;124m\"\u001b[39m\n\u001b[1;32m----> 3\u001b[0m \u001b[38;5;28;01mfor\u001b[39;00m i \u001b[38;5;129;01min\u001b[39;00m \u001b[38;5;28mrange\u001b[39m(\u001b[38;5;28mlen\u001b[39m(s)):\n\u001b[0;32m      4\u001b[0m     \u001b[38;5;28;01mif\u001b[39;00m s[i] \u001b[38;5;129;01min\u001b[39;00m \u001b[38;5;124m'\u001b[39m\u001b[38;5;124ma\u001b[39m\u001b[38;5;124m'\u001b[39m:\n\u001b[0;32m      5\u001b[0m         s[i]\u001b[38;5;241m=\u001b[39m\u001b[38;5;124m'\u001b[39m\u001b[38;5;124m*\u001b[39m\u001b[38;5;124m'\u001b[39m\n",
      "\u001b[1;31mTypeError\u001b[0m: 'str' object is not callable"
     ]
    }
   ],
   "source": [
    "s=\"Upgrad\"\n",
    "\n",
    "for i in range(len(s)):\n",
    "    if s[i] in 'a':\n",
    "        s[i]='*'\n",
    "\n",
    "print(s)"
   ]
  },
  {
   "cell_type": "markdown",
   "id": "028669bd",
   "metadata": {},
   "source": [
    "### Write a Python program to take the employee name as input from the user and print the employee details as shown below."
   ]
  },
  {
   "cell_type": "code",
   "execution_count": 1,
   "id": "d4276bbf",
   "metadata": {},
   "outputs": [],
   "source": [
    "emp={\"emp1\":{\"name\":\"Carie\",\"salary\":20000,\"designation\":\"Analyst\",\"Grade\":\"E1\"}, \n",
    "\"emp2\":{\"name\":\"Herina\",\"salary\":40000,\"designation\":\"Senior Analyst\",\"Grade\":\"E2\"}, \n",
    "\"emp3\":{\"name\":\"Watler\",\"salary\":80000,\"designation\":\"Data Scientist\",\"Grade\":\"E1\"}, \n",
    "\"emp4\":{\"name\":\"Ria\",\"salary\":60000,\"designation\":\"Data Scientist\",\"Grade\":\"E1\"}, \n",
    "\"emp5\":{\"name\":\"Rina\",\"salary\":90000,\"designation\":\"Senior Data Scientist\",\"Grade\":\"E2\"},\n",
    "\"emp6\":{\"name\":\"Caren\",\"salary\":150000,\"designation\":\"Manager\",\"Grade\":\"E3\"}, \n",
    "\"emp7\":{\"name\":\"Archer\",\"salary\":80000,\"designation\":\"Senior Data Scientist\",\"Grade\":\"E2\"},\n",
    "\"emp8\":{\"name\":\"Barry\",\"salary\":15000,\"designation\":\"Analyst\",\"Grade\":\"E1\"},\n",
    "\"emp9\":{\"name\":\"Heren\",\"salary\":60000,\"designation\":\"Senior Analyst\",\"Grade\":\"E2\"}, \n",
    "\"emp10\":{\"name\":\"Arlo\",\"salary\":25000,\"designation\":\"Analyst\",\"Grade\":\"E1\"}}"
   ]
  },
  {
   "cell_type": "code",
   "execution_count": 22,
   "id": "99e7e7d7",
   "metadata": {},
   "outputs": [
    {
     "name": "stdout",
     "output_type": "stream",
     "text": [
      "name = Carie\n",
      "salary = 20000\n",
      "designation = Analyst\n",
      "Grade = E1\n",
      "name = Herina\n",
      "salary = 40000\n",
      "designation = Senior Analyst\n",
      "Grade = E2\n",
      "name = Watler\n",
      "salary = 80000\n",
      "designation = Data Scientist\n",
      "Grade = E1\n",
      "name = Ria\n",
      "salary = 60000\n",
      "designation = Data Scientist\n",
      "Grade = E1\n",
      "name = Rina\n",
      "salary = 90000\n",
      "designation = Senior Data Scientist\n",
      "Grade = E2\n",
      "name = Caren\n",
      "salary = 150000\n",
      "designation = Manager\n",
      "Grade = E3\n",
      "name = Archer\n",
      "salary = 80000\n",
      "designation = Senior Data Scientist\n",
      "Grade = E2\n",
      "name = Barry\n",
      "salary = 15000\n",
      "designation = Analyst\n",
      "Grade = E1\n",
      "name = Heren\n",
      "salary = 60000\n",
      "designation = Senior Analyst\n",
      "Grade = E2\n",
      "name = Arlo\n",
      "salary = 25000\n",
      "designation = Analyst\n",
      "Grade = E1\n"
     ]
    }
   ],
   "source": [
    "#for key,value in emp.items():\n",
    "#    for key in value:\n",
    "#            print(key,value[key])\n",
    "for id in emp:\n",
    "    for k in emp[id]:\n",
    "        print(k,'=',emp[id][k])"
   ]
  },
  {
   "cell_type": "code",
   "execution_count": 26,
   "id": "68b57ba4",
   "metadata": {},
   "outputs": [
    {
     "name": "stdout",
     "output_type": "stream",
     "text": [
      "Arlo\n",
      "['E1', 25000, 'Analyst']\n"
     ]
    }
   ],
   "source": [
    "name=input()\n",
    "outlst=[]\n",
    "for key, value in emp.items():\n",
    "    if value['name']==name:\n",
    "        outlst.append(value['Grade'])\n",
    "        outlst.append(value['salary'])\n",
    "        outlst.append(value['designation'])\n",
    "print(outlst)"
   ]
  },
  {
   "cell_type": "markdown",
   "id": "16ac4e79",
   "metadata": {},
   "source": [
    "### Write a Python program to take grade as input from the user and print the number of employees working at that grade."
   ]
  },
  {
   "cell_type": "code",
   "execution_count": 2,
   "id": "4c546e1f",
   "metadata": {},
   "outputs": [
    {
     "name": "stdout",
     "output_type": "stream",
     "text": [
      "E1\n",
      "5\n"
     ]
    }
   ],
   "source": [
    "grade=input()\n",
    "gcount=0\n",
    "for key, value in emp.items():\n",
    "    if value['Grade']==grade:\n",
    "        gcount+=1\n",
    "print(gcount)"
   ]
  },
  {
   "cell_type": "markdown",
   "id": "eb38afec",
   "metadata": {},
   "source": [
    "### Write a Python program to take grade as input from the user and print the employee's name with the maximum salary."
   ]
  },
  {
   "cell_type": "code",
   "execution_count": 10,
   "id": "9124c1c1",
   "metadata": {},
   "outputs": [
    {
     "name": "stdout",
     "output_type": "stream",
     "text": [
      "E1\n",
      "Watler\n"
     ]
    }
   ],
   "source": [
    "grade=input()\n",
    "sal=[]\n",
    "for key, value in emp.items():\n",
    "    if value['Grade']==grade:\n",
    "        sal.append(value['salary'])\n",
    "sal.sort()\n",
    "\n",
    "for key, value in emp.items():\n",
    "    if value['salary']==sal[-1]:\n",
    "        n=value['name']\n",
    "        break\n",
    "print(n)"
   ]
  },
  {
   "cell_type": "markdown",
   "id": "86ab476f",
   "metadata": {},
   "source": [
    "### Write a Python program to take designation as input from the user and print the average salary for the given designation (Round off to 2 decimal places)."
   ]
  },
  {
   "cell_type": "code",
   "execution_count": 19,
   "id": "2a73bc48",
   "metadata": {},
   "outputs": [
    {
     "name": "stdout",
     "output_type": "stream",
     "text": [
      "Analyst\n",
      "20000.0\n"
     ]
    }
   ],
   "source": [
    "desig=input()\n",
    "d=[]\n",
    "for key, value in emp.items():\n",
    "    if value['designation']==desig:\n",
    "        d.append(value['salary'])\n",
    "print(round(sum(d)/len(d),2))"
   ]
  },
  {
   "cell_type": "markdown",
   "id": "df0a45ce",
   "metadata": {},
   "source": [
    "### Write a Python program to find the list of duplicate characters in the given string. Print the elements in the list in alphabetical order.\n",
    "Note- Input is case insensitive."
   ]
  },
  {
   "cell_type": "code",
   "execution_count": 41,
   "id": "694cfb3b",
   "metadata": {},
   "outputs": [
    {
     "name": "stdout",
     "output_type": "stream",
     "text": [
      "Engaging\n",
      "['g', 'n']\n"
     ]
    }
   ],
   "source": [
    "word=input().lower()\n",
    "wlst=[]\n",
    "a=set()\n",
    "for ch in word:\n",
    "    if word.count(ch)>1:\n",
    "        wlst.append(ch)\n",
    "a.update(wlst)\n",
    "wlst=list(a)\n",
    "print(wlst)"
   ]
  },
  {
   "cell_type": "code",
   "execution_count": 44,
   "id": "c9083b21",
   "metadata": {},
   "outputs": [
    {
     "name": "stdout",
     "output_type": "stream",
     "text": [
      "Gray Jacket - XS\n",
      "Gray Jacket - S\n",
      "Gray Jacket - M\n",
      "Gray Jacket - L\n",
      "Gray Jacket - XL\n",
      "Black Jacket - XS\n",
      "Black Jacket - S\n",
      "Black Jacket - M\n",
      "Black Jacket - L\n",
      "Black Jacket - XL\n",
      "White Jacket - XS\n",
      "White Jacket - S\n",
      "White Jacket - M\n",
      "White Jacket - L\n",
      "White Jacket - XL\n",
      "Maroon Jacket - XS\n",
      "Maroon Jacket - S\n",
      "Maroon Jacket - M\n",
      "Maroon Jacket - L\n",
      "Maroon Jacket - XL\n"
     ]
    }
   ],
   "source": [
    "item=\"Jacket\"\n",
    "sizes=['XS', 'S', 'M', 'L', 'XL']\n",
    "colors=['Gray', 'Black', 'White', 'Maroon']\n",
    "\n",
    "for color in colors:\n",
    "    for size in sizes:\n",
    "        print(color+' '+item+' - '+size)"
   ]
  },
  {
   "cell_type": "code",
   "execution_count": 45,
   "id": "b31deb31",
   "metadata": {},
   "outputs": [
    {
     "name": "stdout",
     "output_type": "stream",
     "text": [
      "Gray Jacket - XS\n",
      "Black Jacket - XS\n",
      "White Jacket - XS\n",
      "Maroon Jacket - XS\n",
      "Gray Jacket - S\n",
      "Black Jacket - S\n",
      "White Jacket - S\n",
      "Maroon Jacket - S\n",
      "Gray Jacket - M\n",
      "Black Jacket - M\n",
      "White Jacket - M\n",
      "Maroon Jacket - M\n",
      "Gray Jacket - L\n",
      "Black Jacket - L\n",
      "White Jacket - L\n",
      "Maroon Jacket - L\n",
      "Gray Jacket - XL\n",
      "Black Jacket - XL\n",
      "White Jacket - XL\n",
      "Maroon Jacket - XL\n"
     ]
    }
   ],
   "source": [
    "item=\"Jacket\"\n",
    "sizes=['XS', 'S', 'M', 'L', 'XL']\n",
    "colors=['Gray', 'Black', 'White', 'Maroon']\n",
    "\n",
    "for size in sizes:\n",
    "    for color in colors:\n",
    "        print(color+' '+item+' - '+size)"
   ]
  },
  {
   "cell_type": "code",
   "execution_count": null,
   "id": "7783ed06",
   "metadata": {},
   "outputs": [],
   "source": []
  }
 ],
 "metadata": {
  "kernelspec": {
   "display_name": "Python 3 (ipykernel)",
   "language": "python",
   "name": "python3"
  },
  "language_info": {
   "codemirror_mode": {
    "name": "ipython",
    "version": 3
   },
   "file_extension": ".py",
   "mimetype": "text/x-python",
   "name": "python",
   "nbconvert_exporter": "python",
   "pygments_lexer": "ipython3",
   "version": "3.11.4"
  }
 },
 "nbformat": 4,
 "nbformat_minor": 5
}
