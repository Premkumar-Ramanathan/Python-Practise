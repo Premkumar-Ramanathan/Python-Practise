{
 "cells": [
  {
   "cell_type": "markdown",
   "metadata": {},
   "source": [
    "<h2 style = \"color:Brown\">Logic Building - III"
   ]
  },
  {
   "cell_type": "markdown",
   "metadata": {},
   "source": [
    "This notebook is a continuation of the previous series of application level problems."
   ]
  },
  {
   "cell_type": "markdown",
   "metadata": {},
   "source": [
    "## Anagrams\n",
    " Two words are called anagrams if they have the exact same letters but in a different order. For example, 'night' and 'thing' are anagrams.\n",
    "\n",
    "Can you write a code to find out if two strings are anagrams or not? We strongly recommend that you try this question on your own by thinking of the logic, building the flow chart, and translating that logic into code.\n",
    "\n",
    "Sample input:\n",
    "thing\n",
    "night\n",
    "\n",
    "Sample output:\n",
    "True"
   ]
  },
  {
   "cell_type": "code",
   "execution_count": null,
   "metadata": {},
   "outputs": [],
   "source": [
    "#take input here\n",
    "s1 = input()\n",
    "s2 = input()\n",
    "\n",
    "#code here to check if they are anagrams or no\n",
    "\n",
    "def anagram(s1,s2):\n",
    "    #if length doesnt match then they are definitely not anagrams\n",
    "    if len(s1)!=len(s2):\n",
    "        return False\n",
    "    \n",
    "    #we will check count of each character one by one\n",
    "    for i in range(len(s1)):\n",
    "        if s1.count(s1[i]) != s2.count(s1[i]):\n",
    "            return False\n",
    "   #if we come out of the for loop means we didnt exit the function in loop\n",
    "   #remember we exit the function when we return\n",
    "   #this means there was no occurance where s1.count(s1[i]) != s2.count(s1[i]) was True\n",
    "   #this means the strings are anagrams\n",
    "    return True\n",
    "\n",
    "print(anagram(s1,s2))"
   ]
  },
  {
   "cell_type": "markdown",
   "metadata": {},
   "source": [
    "## Move Vowels\n",
    "Write a program that receives a string and shifts all the vowels present in it to the beginning. Output the resultant string. The order of all the vowels with respect to each other as well as the order of all the other characters with respect to each other should stay the same.\n",
    "\n",
    "Sample input:\n",
    "programming\n",
    "\n",
    "Sample output:\n",
    "oaiprgrmmng"
   ]
  },
  {
   "cell_type": "code",
   "execution_count": null,
   "metadata": {},
   "outputs": [],
   "source": [
    "# Read the input string \n",
    "s = input()\n",
    "\n",
    "\n",
    "vowel = \"\"\n",
    "others = \"\"\n",
    "\n",
    "\n",
    "for i in range(len(s)):\n",
    "    \n",
    "\n",
    "    if s[i] in \"aeiou\":\n",
    "        vowel = vowel + s[i]\n",
    "        \n",
    "#\n",
    "    else:\n",
    "        others = others + s[i]\n",
    "\n",
    "    \n",
    "final = vowel + others\n",
    "\n",
    "# Print the value of the final string\n",
    "print(final)\n",
    "\n",
    "\n",
    "# Read the input string\n",
    "\n",
    "s = input()\n",
    "\n",
    "vowels = \"aeiouAEIOU\"\n",
    "\n",
    "# Declare two empty strings: \"v\" and \"o\" which will contain all the vowels\n",
    "# and the other characters respectively\n",
    "v=\"\"\n",
    "o=\"\"\n",
    "\n",
    "# Run a loop throughout the length of the string \n",
    "for i in s:\n",
    "    # If the current character is a vowel, append it to the v string\n",
    "    if i in vowels:\n",
    "        v=v+i\n",
    "    # Else, append it to the others string\n",
    "    else:\n",
    "        o=o+i\n",
    "\n",
    "# Add the v and o string in order and store it in a new variable - final_string    \n",
    "final_string = v+o\n",
    "\n",
    "print(final_string)"
   ]
  },
  {
   "cell_type": "markdown",
   "metadata": {},
   "source": [
    "## Dictionary and List\n",
    "One of the most common ways to store data is in a dictionary or in a data frame (you will learn about the data frame in later modules). So it is important to have a good grasp of iterating through dictionary keys and values. \n",
    "\n",
    "You will be converting a dictionary, of string(keys) and list of string (values),  to a list of strings. Please check the sample input/output for clarification.\n",
    "\n",
    "Sample input:\n",
    "{‘Mobile’: [‘Redmi’, ‘Samsung’, ‘Realme’], \n",
    "‘Laptop’: [‘Dell’, ‘HP’],\n",
    "‘TV’: [‘Videocon’, ‘Sony’] }\n",
    "\n",
    "Sample output:\n",
    "[‘Mobile_Redmi’, ‘Mobile_Samsung’, ‘Mobile_Realme’, ‘Laptop_Dell’, ‘Laptop_HP’, ‘TV_Videocon’, ‘TV_Sony’]"
   ]
  },
  {
   "cell_type": "code",
   "execution_count": null,
   "metadata": {},
   "outputs": [],
   "source": [
    "Sample input:\n",
    "{‘Mobile’: [‘Redmi’, ‘Samsung’, ‘Realme’], \n",
    "‘Laptop’: [‘Dell’, ‘HP’],\n",
    "‘TV’: [‘Videocon’, ‘Sony’] }\n",
    "\n",
    "Sample output:\n",
    "[‘Mobile_Redmi’, ‘Mobile_Samsung’, ‘Mobile_Realme’, ‘Laptop_Dell’, ‘Laptop_HP’, ‘TV_Videocon’, ‘TV_Sony’]"
   ]
  },
  {
   "cell_type": "markdown",
   "metadata": {},
   "source": [
    "## Balanced Brackets\n",
    "By now you must have realised that matching brackets get highlighted when you are coding on the console. This problem is based on the same thing.\n",
    "\n",
    "You will be given a string with a lot of brackets. You have to print if the brackets are balanced or not. Remember, there are three types of brackets: ‘( )’,  ‘{ }’ and ‘[ ]’.\n",
    "\n",
    "Sample input:\n",
    "){[[]]}())()\n",
    "\n",
    "Sample output:\n",
    "No"
   ]
  },
  {
   "cell_type": "code",
   "execution_count": null,
   "metadata": {},
   "outputs": [],
   "source": [
    "#take input\n",
    "inp=input()\n",
    "\n",
    "stack = []\n",
    "\n",
    "for i in inp:\n",
    "    if len(stack)==0:\n",
    "        stack.append(i)\n",
    "    else:\n",
    "        if i==')' and stack[-1]=='(':\n",
    "            stack.pop()\n",
    "        elif i=='}' and stack[-1]=='{':\n",
    "            stack.pop()\n",
    "        elif i==']' and stack[-1]=='[':\n",
    "            stack.pop()\n",
    "        else:\n",
    "            stack.append(i)\n",
    "\n",
    "if stack:\n",
    "    print('No')\n",
    "else:\n",
    "    print('Yes')"
   ]
  },
  {
   "cell_type": "markdown",
   "metadata": {},
   "source": [
    "## upGrad String\n",
    "A string is an upGrad string if the frequency of its characters is something like 1, 2, 3, 4, ... i.e., a character appears only once, another appears twice, another appears thrice and so on.\n",
    "\n",
    "For example string '$yrr$ssrsr' is an upGrad string since the frequency of y:1, $:2, s:3, r:4, however string '$yrr$ssrsr%' will not be an upGrad string since it has two characters (y and %) with frequency 1. The frequency of characters should be of the form 1, 2, 3, 4, 5... only. Given a string, can you determine if the string is upGrad string or not?\n",
    "\n",
    "Sample input:\n",
    "\n",
    "$yrr$ssrsr%\n",
    "\n",
    "Sample output:\n",
    "\n",
    "False"
   ]
  },
  {
   "cell_type": "code",
   "execution_count": null,
   "metadata": {},
   "outputs": [],
   "source": [
    "#input has been taken for you\n",
    "s=input()\n",
    "\n",
    "#start writing your code to check if s is upgrad string or no\n",
    "d={}\n",
    "\n",
    "for i in s:\n",
    "    if i not in d:\n",
    "        d[i] =1\n",
    "    else:\n",
    "        d[i] = d[i]+1\n",
    "\n",
    "vals = d.values()\n",
    "\n",
    "n = len(d)\n",
    "\n",
    "def upgrad_string(vals):\n",
    "    for i in range(1,n+1):\n",
    "        if i not in vals:\n",
    "            return False\n",
    "    return True\n",
    "\n",
    "print(upgrad_string(vals))"
   ]
  }
 ],
 "metadata": {
  "kernelspec": {
   "display_name": "Python 3 (ipykernel)",
   "language": "python",
   "name": "python3"
  },
  "language_info": {
   "codemirror_mode": {
    "name": "ipython",
    "version": 3
   },
   "file_extension": ".py",
   "mimetype": "text/x-python",
   "name": "python",
   "nbconvert_exporter": "python",
   "pygments_lexer": "ipython3",
   "version": "3.11.4"
  },
  "vscode": {
   "interpreter": {
    "hash": "600e5dfc7548bf1a7dbf1ce56dffde4cc2022c36a863916f16fbf41298a3bf62"
   }
  }
 },
 "nbformat": 4,
 "nbformat_minor": 2
}
