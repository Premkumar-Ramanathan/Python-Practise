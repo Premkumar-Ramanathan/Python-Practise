{
 "cells": [
  {
   "cell_type": "markdown",
   "id": "fcd289e1",
   "metadata": {},
   "source": [
    "### List Comprehensions"
   ]
  },
  {
   "cell_type": "code",
   "execution_count": 3,
   "id": "c289461a",
   "metadata": {},
   "outputs": [
    {
     "name": "stdout",
     "output_type": "stream",
     "text": [
      "['old', 'apple', 'item', 'euphoria']\n"
     ]
    }
   ],
   "source": [
    "input_list=['wood','old','apple','big','item','euphoria']\n",
    "vowels=['a','e','i','o','u']\n",
    "print([i for i in input_list if i[0] in vowels])"
   ]
  },
  {
   "cell_type": "markdown",
   "id": "0c31dca7",
   "metadata": {},
   "source": [
    "### Even numbers in a list"
   ]
  },
  {
   "cell_type": "code",
   "execution_count": 8,
   "id": "1877110b",
   "metadata": {},
   "outputs": [
    {
     "name": "stdout",
     "output_type": "stream",
     "text": [
      "[500, 789, 2112, 9097, 5894, 9062, 8977, 1223, 773, 600]\n",
      "[500, 2112, 5894, 9062, 600]\n"
     ]
    }
   ],
   "source": [
    "import ast\n",
    "input_list=input()\n",
    "lst = ast.literal_eval(input_list)\n",
    "evenlst = list(filter(lambda i: (i%2==0), lst))\n",
    "print(evenlst)"
   ]
  },
  {
   "cell_type": "markdown",
   "id": "27aa56a1",
   "metadata": {},
   "source": [
    "### Function"
   ]
  },
  {
   "cell_type": "code",
   "execution_count": 11,
   "id": "411523e8",
   "metadata": {},
   "outputs": [
    {
     "name": "stdout",
     "output_type": "stream",
     "text": [
      "8\n"
     ]
    }
   ],
   "source": [
    "def squared(x,y):\n",
    "    return x**y\n",
    "\n",
    "print(squared(2,3))"
   ]
  },
  {
   "cell_type": "markdown",
   "id": "fc1f54ff",
   "metadata": {},
   "source": [
    "### Lambda Function"
   ]
  },
  {
   "cell_type": "code",
   "execution_count": 12,
   "id": "07efb434",
   "metadata": {},
   "outputs": [
    {
     "name": "stdout",
     "output_type": "stream",
     "text": [
      "3\n"
     ]
    }
   ],
   "source": [
    "greater=(lambda x,y: x if x>y else y)\n",
    "print(greater(3,6))"
   ]
  },
  {
   "cell_type": "markdown",
   "id": "cabbbe3a",
   "metadata": {},
   "source": [
    "### Triple the list elements"
   ]
  },
  {
   "cell_type": "code",
   "execution_count": 13,
   "id": "8c4716ab",
   "metadata": {},
   "outputs": [
    {
     "name": "stdout",
     "output_type": "stream",
     "text": [
      "[15, 71, 2, 9, 5, 6, 11, 3, 7, 6]\n",
      "[45, 213, 6, 27, 15, 18, 33, 9, 21, 18]\n"
     ]
    }
   ],
   "source": [
    "import ast\n",
    "input_list=input()\n",
    "lst = ast.literal_eval(input_list)\n",
    "output_list=list(map(lambda x: x*3, lst))\n",
    "print(output_list)"
   ]
  },
  {
   "cell_type": "markdown",
   "id": "983f989e",
   "metadata": {},
   "source": [
    "### Encrypt elements in a list"
   ]
  },
  {
   "cell_type": "code",
   "execution_count": 22,
   "id": "6ab211ff",
   "metadata": {},
   "outputs": [
    {
     "name": "stdout",
     "output_type": "stream",
     "text": [
      "['Abhay', 'Aravind', 'Desilva', 'Darpan']\n",
      "['yahbA', 'dnivarA', 'avliseD', 'napraD']\n"
     ]
    }
   ],
   "source": [
    "import ast\n",
    "input_list=input()\n",
    "namelist = ast.literal_eval(input_list)\n",
    "tsileman=list(map(lambda i:i[::-1], namelist))\n",
    "print(tsileman)"
   ]
  },
  {
   "cell_type": "markdown",
   "id": "4b2691aa",
   "metadata": {},
   "source": [
    "### Sorting a dictionary"
   ]
  },
  {
   "cell_type": "code",
   "execution_count": 38,
   "id": "0e639d36",
   "metadata": {},
   "outputs": [
    {
     "name": "stdout",
     "output_type": "stream",
     "text": [
      "[{'name': 'Aravind', 'rank': 19}, {'name': 'Arpit', 'rank': 20}, {'name': 'Manjeet', 'rank': 20}]\n"
     ]
    }
   ],
   "source": [
    "#import ast\n",
    "#input_list=input()\n",
    "#students = ast.literal_eval(input_list)\n",
    "students=[{ \"name\" : \"Arpit\", \"rank\" : 20}, { \"name\" : \"Manjeet\", \"rank\" : 20 },{ \"name\" : \"Aravind\" , \"rank\" : 19 }]\n",
    "sort_students=sorted(students,key=lambda d: (d['rank'],d['name']))\n",
    "print(sort_students)"
   ]
  },
  {
   "cell_type": "code",
   "execution_count": 18,
   "id": "6ddade81",
   "metadata": {},
   "outputs": [
    {
     "name": "stdout",
     "output_type": "stream",
     "text": [
      "['arkam', 'bairstow']\n"
     ]
    }
   ],
   "source": [
    "lst1=['Arkam', 'Bairstow', 'Cairy', 'Darpan'] \n",
    "lst2=['Arkam', 'Bairstow', 'Cairy', 'Darpan', 'Dhoni', 'Sachin']\n",
    "lst3=['Arkam', 'Bairstow', 'Cheteshwar', 'Dinesh']\n",
    "\n",
    "set1=set(x.lower() for x in lst1)\n",
    "set2=set(x.lower() for x in lst2)\n",
    "set3=set(x.lower() for x in lst3)\n",
    "\n",
    "set12=set1.intersection(set2)\n",
    "set123=list(set12.intersection(set3))\n",
    "print(set123)"
   ]
  },
  {
   "cell_type": "code",
   "execution_count": 19,
   "id": "d45c44f0",
   "metadata": {},
   "outputs": [
    {
     "name": "stdout",
     "output_type": "stream",
     "text": [
      "[29, 31]\n",
      "[23, 26]\n",
      "[24, 25]\n"
     ]
    }
   ],
   "source": [
    "events=[[29,31], [23,26], [24,25]]\n",
    "for event in events:\n",
    "    print(event)"
   ]
  },
  {
   "cell_type": "code",
   "execution_count": 20,
   "id": "38a2233b",
   "metadata": {},
   "outputs": [
    {
     "name": "stdout",
     "output_type": "stream",
     "text": [
      "[0, 1, 4, 9, 16]\n"
     ]
    }
   ],
   "source": [
    "var = [i**2 for i in range(5)]\n",
    "print(var)"
   ]
  },
  {
   "cell_type": "code",
   "execution_count": 21,
   "id": "c73ccdcb",
   "metadata": {},
   "outputs": [
    {
     "data": {
      "text/plain": [
       "[5, 6, 7, 10, 6, 7, 8, 11, 7, 8, 9, 12, 11, 12, 13, 16]"
      ]
     },
     "execution_count": 21,
     "metadata": {},
     "output_type": "execute_result"
    }
   ],
   "source": [
    "l1=[1,2,3,7]\n",
    "l2=[4,5,6,9]\n",
    "[x+y for x in l1 for y in l2]"
   ]
  },
  {
   "cell_type": "code",
   "execution_count": 23,
   "id": "502b21eb",
   "metadata": {},
   "outputs": [
    {
     "name": "stdout",
     "output_type": "stream",
     "text": [
      "3\n"
     ]
    }
   ],
   "source": [
    "def function(n):\n",
    "  return n+1\n",
    " \n",
    "n=2\n",
    "print(function(2))"
   ]
  },
  {
   "cell_type": "code",
   "execution_count": 24,
   "id": "6368c4aa",
   "metadata": {},
   "outputs": [
    {
     "name": "stdout",
     "output_type": "stream",
     "text": [
      "10\n",
      "10\n"
     ]
    }
   ],
   "source": [
    "x=10\n",
    "def func(x):\n",
    "   x=20\n",
    "print(x)\n",
    " \n",
    "print(x)"
   ]
  },
  {
   "cell_type": "code",
   "execution_count": 25,
   "id": "37cd10db",
   "metadata": {},
   "outputs": [
    {
     "name": "stdout",
     "output_type": "stream",
     "text": [
      "pythonpythonpythonpython\n",
      "programprogramprogram\n"
     ]
    }
   ],
   "source": [
    "def samplefunc(msg,i=3):\n",
    "  print(msg*i)\n",
    " \n",
    "samplefunc('python',4)\n",
    "samplefunc('program')"
   ]
  },
  {
   "cell_type": "code",
   "execution_count": 28,
   "id": "50c22f8c",
   "metadata": {},
   "outputs": [
    {
     "name": "stdout",
     "output_type": "stream",
     "text": [
      "True\n"
     ]
    }
   ],
   "source": [
    "f=lambda x:bool(x%2)\n",
    "print(f(101))"
   ]
  },
  {
   "cell_type": "code",
   "execution_count": 31,
   "id": "6affbb19",
   "metadata": {},
   "outputs": [
    {
     "data": {
      "text/plain": [
       "-2"
      ]
     },
     "execution_count": 31,
     "metadata": {},
     "output_type": "execute_result"
    }
   ],
   "source": [
    "-3//2"
   ]
  },
  {
   "cell_type": "code",
   "execution_count": 30,
   "id": "31c3c533",
   "metadata": {},
   "outputs": [
    {
     "name": "stdout",
     "output_type": "stream",
     "text": [
      "[0, -1, -2, 2, 2]\n"
     ]
    }
   ],
   "source": [
    "l=(1, -2, -3, 4, 5)\n",
    "def f1(x):\n",
    "    return x//2\n",
    "m1=map(f1, l)\n",
    "print(list(m1))"
   ]
  },
  {
   "cell_type": "code",
   "execution_count": 32,
   "id": "f9f59f31",
   "metadata": {},
   "outputs": [
    {
     "name": "stdout",
     "output_type": "stream",
     "text": [
      "0\n"
     ]
    }
   ],
   "source": [
    "from functools import reduce\n",
    "numbers = [-1, 2, -5, 3, 8,-2, 1,-4,-2]\n",
    "sum = reduce(lambda x, y: x + y, numbers)\n",
    "print(sum)"
   ]
  },
  {
   "cell_type": "code",
   "execution_count": 33,
   "id": "a1df9bb9",
   "metadata": {},
   "outputs": [
    {
     "name": "stdout",
     "output_type": "stream",
     "text": [
      "<map object at 0x000001D9C1218490>\n"
     ]
    }
   ],
   "source": [
    "sample=[-4,2,5,-3]\n",
    "ans=map(lambda x: x*2, sample)\n",
    "print(ans)"
   ]
  },
  {
   "cell_type": "code",
   "execution_count": 37,
   "id": "782dda2f",
   "metadata": {},
   "outputs": [
    {
     "name": "stdout",
     "output_type": "stream",
     "text": [
      "[95]\n"
     ]
    }
   ],
   "source": [
    "from functools import reduce\n",
    "list=[reduce(lambda x,y:x+y,range(5,15))]\n",
    "print(list)"
   ]
  },
  {
   "cell_type": "markdown",
   "id": "93d5f61a",
   "metadata": {},
   "source": [
    "### Updating the dictionary keys"
   ]
  },
  {
   "cell_type": "code",
   "execution_count": 19,
   "id": "81ac5860",
   "metadata": {},
   "outputs": [
    {
     "name": "stdout",
     "output_type": "stream",
     "text": [
      "<class 'list'>\n"
     ]
    }
   ],
   "source": [
    "a=[['Barcelona', 'Griezmann'], ['PSG', 'Ramos']]\n",
    "print(type(a))"
   ]
  },
  {
   "cell_type": "code",
   "execution_count": 34,
   "id": "397e420f",
   "metadata": {},
   "outputs": [
    {
     "name": "stdout",
     "output_type": "stream",
     "text": [
      "[['Barcelona', 'Griezmann'], ['PSG', 'Ramos']]\n"
     ]
    }
   ],
   "source": [
    "print(a)"
   ]
  },
  {
   "cell_type": "code",
   "execution_count": 12,
   "id": "64952b15",
   "metadata": {},
   "outputs": [],
   "source": [
    "Odic={'Barcelona': 'Messi' , 'Real Madrid': 'Benzema', 'PSG': 'Neymar' }"
   ]
  },
  {
   "cell_type": "code",
   "execution_count": 35,
   "id": "302359e0",
   "metadata": {},
   "outputs": [
    {
     "name": "stdout",
     "output_type": "stream",
     "text": [
      "{'Barcelona': 'Griezmann', 'Real Madrid': 'Benzema', 'PSG': 'Ramos'}\n"
     ]
    }
   ],
   "source": [
    "for i in range(len(a)):\n",
    "    for j in (Odic):\n",
    "        if j==a[i][0]:\n",
    "            Odic[j]=a[i][1]\n",
    "print(Odic)\n",
    "        "
   ]
  },
  {
   "cell_type": "code",
   "execution_count": 24,
   "id": "577f907f",
   "metadata": {},
   "outputs": [
    {
     "ename": "KeyError",
     "evalue": "0",
     "output_type": "error",
     "traceback": [
      "\u001b[1;31m---------------------------------------------------------------------------\u001b[0m",
      "\u001b[1;31mKeyError\u001b[0m                                  Traceback (most recent call last)",
      "Cell \u001b[1;32mIn[24], line 1\u001b[0m\n\u001b[1;32m----> 1\u001b[0m \u001b[38;5;28mprint\u001b[39m(\u001b[38;5;28mlen\u001b[39m(Odic[\u001b[38;5;241m0\u001b[39m]))\n",
      "\u001b[1;31mKeyError\u001b[0m: 0"
     ]
    }
   ],
   "source": [
    "print(len(Odic[0]))"
   ]
  },
  {
   "cell_type": "code",
   "execution_count": 31,
   "id": "a4f0c60a",
   "metadata": {},
   "outputs": [
    {
     "name": "stdout",
     "output_type": "stream",
     "text": [
      "Barcelona Messi\n",
      "Real Madrid Benzema\n",
      "PSG Neymar\n"
     ]
    }
   ],
   "source": [
    "for i in Odic:\n",
    "    print(i,Odic[i])"
   ]
  },
  {
   "cell_type": "code",
   "execution_count": 23,
   "id": "b2c8ed12",
   "metadata": {},
   "outputs": [
    {
     "name": "stdout",
     "output_type": "stream",
     "text": [
      "Original dictionary is : {'first': 'apple', 'second': 'orange', 'third': 'mango'}\n",
      "Dict key-value are : \n",
      "first - apple\n",
      "second - orange\n",
      "third - mango\n"
     ]
    }
   ],
   "source": [
    "dict = { 'first' : 'apple' , 'second' : 'orange' , 'third' : 'mango' }\n",
    "print (\"Original dictionary is : \" + str(dict))\n",
    "print (\"Dict key-value are : \")\n",
    "for i in dict :\n",
    "   print( i, \"-\",dict[i], sep = \" \")"
   ]
  },
  {
   "cell_type": "code",
   "execution_count": 26,
   "id": "4929f248",
   "metadata": {},
   "outputs": [
    {
     "name": "stdout",
     "output_type": "stream",
     "text": [
      "{'Barcelona': 'Messi', 'Real Madrid': 'Benzema', 'PSG': 'Neymar'}\n"
     ]
    }
   ],
   "source": [
    "print(Odic)"
   ]
  },
  {
   "cell_type": "markdown",
   "id": "26a3a08e",
   "metadata": {},
   "source": [
    "### List Average"
   ]
  },
  {
   "cell_type": "code",
   "execution_count": 5,
   "id": "8ab03fd3",
   "metadata": {},
   "outputs": [
    {
     "name": "stdout",
     "output_type": "stream",
     "text": [
      "['8', '4', '6', '9', '7']\n",
      "['1', '1.1', '1.2', '1.2', '2.3']\n",
      "Rejectes\n"
     ]
    }
   ],
   "source": [
    "import ast\n",
    "team_value=input()\n",
    "tv = ast.literal_eval(team_value)\n",
    "ee_value=input()\n",
    "ev = ast.literal_eval(ee_value)\n",
    "pm=0\n",
    "for i in range(len(tv)):\n",
    "    if tv[i]>ev[i]:\n",
    "        pm+=1\n",
    "\n",
    "if pm<=2:\n",
    "    print('Selected')\n",
    "else:\n",
    "    print('Rejected')"
   ]
  },
  {
   "cell_type": "markdown",
   "id": "231691ac",
   "metadata": {},
   "source": [
    "### Sorting List Tuples"
   ]
  },
  {
   "cell_type": "code",
   "execution_count": 6,
   "id": "df684859",
   "metadata": {},
   "outputs": [
    {
     "name": "stdout",
     "output_type": "stream",
     "text": [
      "Aptitude: 78, Physics: 95\n",
      "Aptitude: 85, Physics: 92\n",
      "Aptitude: 82, Physics: 89\n",
      "Aptitude: 90, Physics: 88\n",
      "Aptitude: 88, Physics: 78\n"
     ]
    }
   ],
   "source": [
    "student_marks = [(85, 92), (78, 95), (90, 88), (82, 89), (88, 78)]\n",
    "\n",
    "# Sort the list of tuples based on Physics scores (second element) in decreasing order\n",
    "sorted_student_marks = sorted(student_marks, key=lambda x: x[1], reverse=True)\n",
    "\n",
    "# Display the sorted list\n",
    "for marks in sorted_student_marks:\n",
    "    print(f\"Aptitude: {marks[0]}, Physics: {marks[1]}\")"
   ]
  },
  {
   "cell_type": "code",
   "execution_count": 8,
   "id": "1416f2cf",
   "metadata": {},
   "outputs": [
    {
     "data": {
      "text/plain": [
       "[(78, 95), (85, 92), (82, 89), (90, 88), (88, 78)]"
      ]
     },
     "execution_count": 8,
     "metadata": {},
     "output_type": "execute_result"
    }
   ],
   "source": [
    "sorted_student_marks"
   ]
  },
  {
   "cell_type": "markdown",
   "id": "8173b32d",
   "metadata": {},
   "source": [
    "### Divisibility Check"
   ]
  },
  {
   "cell_type": "code",
   "execution_count": 41,
   "id": "8ad10009",
   "metadata": {},
   "outputs": [
    {
     "name": "stdout",
     "output_type": "stream",
     "text": [
      "Enter the number131\n",
      "Entered number is Sad Number\n"
     ]
    }
   ],
   "source": [
    "n_str = input('Enter the number')\n",
    "hn=is_happy_number(n_str)\n",
    "if hn==True:\n",
    "    print('Entered number is Happy Number')\n",
    "else:\n",
    "    print('Entered number is Sad Number')\n",
    "\n",
    "def is_happy_number(n):\n",
    "    n_str = str(n).replace(',', '')\n",
    "    n = int(n_str)\n",
    "    if n == 0:\n",
    "        return False\n",
    "\n",
    "    for digit_str in n_str:\n",
    "        digit = int(digit_str)\n",
    "        if digit == 0 or n % digit != 0:\n",
    "            return False\n",
    "    return True"
   ]
  },
  {
   "cell_type": "code",
   "execution_count": 42,
   "id": "96c68611",
   "metadata": {},
   "outputs": [],
   "source": [
    "purchase_data={\"Ketan\":{\"potato\":5,\"tomato\":1,\"biscuit\":4},\"Parth\":{\"cashew\":2,\"almonds\":1,\"biscuit\":3}, \n",
    "\"Cinder\":{\"cashew\":7,\"tomato\":2,\"bread\":1},\"Giva\":{\"almonds\":10,\"bread\":2,\"potato\":6}, \n",
    "\"Henry\":{\"butter\":2,\"tomato\":5,\"bread\":1},\"Wuan\":{\"apricot\":2,\"bread\":3},\n",
    " \"Ceaser\":{\"apricot\":2,\"tomato\":1,\"bread\":1},\"Jack\":{\"almonds\":10,\"bread\":1,\"potato\":2}, \n",
    "\"Peter\":{\"butter\":2,\"jam\":1,\"bread\":4},\"Oliver\":{\"almonds\":20,\"apricot\":7,\"potato\":5}, \n",
    "\"John\":{\"jam\":2,\"hazelnut\":4,\"bread\":4},\"Heric\":{\"butter\":2,\"jam\":2,\"potato\":4,\"hazelnut\":5}}"
   ]
  },
  {
   "cell_type": "code",
   "execution_count": 58,
   "id": "e7c73b94",
   "metadata": {},
   "outputs": [
    {
     "name": "stdout",
     "output_type": "stream",
     "text": [
      "Ketan\n",
      "10\n"
     ]
    }
   ],
   "source": [
    "x=0\n",
    "name=input()\n",
    "for i in purchase_data[name].values():\n",
    "    x=x+i\n",
    "print(x)"
   ]
  },
  {
   "cell_type": "code",
   "execution_count": 54,
   "id": "d4b9fd47",
   "metadata": {},
   "outputs": [
    {
     "name": "stdout",
     "output_type": "stream",
     "text": [
      "{'cashew': 2, 'almonds': 1, 'biscuit': 3}\n"
     ]
    }
   ],
   "source": [
    "print(purchase_data['Parth'])"
   ]
  },
  {
   "cell_type": "code",
   "execution_count": null,
   "id": "098e80e1",
   "metadata": {},
   "outputs": [],
   "source": []
  },
  {
   "cell_type": "code",
   "execution_count": 1,
   "id": "85eb32e0",
   "metadata": {},
   "outputs": [],
   "source": [
    "purchase_data={\"Ketan\":{\"potato\":5,\"tomato\":1,\"biscuit\":4},\"Parth\":{\"cashew\":2,\"almonds\":1,\"biscuit\":3}, \n",
    "\"Cinder\":{\"cashew\":7,\"tomato\":2,\"bread\":1},\"Giva\":{\"almonds\":10,\"bread\":2,\"potato\":6}, \n",
    "\"Henry\":{\"butter\":2,\"tomato\":5,\"bread\":1},\"Wuan\":{\"apricot\":2,\"bread\":3},\n",
    " \"Ceaser\":{\"apricot\":2,\"tomato\":1,\"bread\":1},\"Jack\":{\"almonds\":10,\"bread\":1,\"potato\":2}, \n",
    "\"Peter\":{\"butter\":2,\"jam\":1,\"bread\":4},\"Oliver\":{\"almonds\":20,\"apricot\":7,\"potato\":5}, \n",
    "\"John\":{\"jam\":2,\"hazelnut\":4,\"bread\":4},\"Heric\":{\"butter\":2,\"jam\":2,\"potato\":4,\"hazelnut\":5}}"
   ]
  },
  {
   "cell_type": "code",
   "execution_count": 3,
   "id": "b35e4682",
   "metadata": {},
   "outputs": [
    {
     "name": "stdout",
     "output_type": "stream",
     "text": [
      "Total units of bread sold: 17\n"
     ]
    }
   ],
   "source": [
    "def total_units_sold(product_name, purchase_data):\n",
    "    total_sold = 0\n",
    "    for person, purchases in purchase_data.items():\n",
    "        if product_name in purchases:\n",
    "            total_sold += purchases[product_name]\n",
    "    return total_sold\n",
    "\n",
    "# Example usage:\n",
    "product_name = \"bread\"\n",
    "total_sold = total_units_sold(product_name, purchase_data)\n",
    "print(f\"Total units of {product_name} sold: {total_sold}\")"
   ]
  },
  {
   "cell_type": "code",
   "execution_count": 10,
   "id": "f72051b9",
   "metadata": {},
   "outputs": [
    {
     "name": "stdout",
     "output_type": "stream",
     "text": [
      "17\n"
     ]
    }
   ],
   "source": [
    "sum=0\n",
    "for product, purchases in purchase_data.items():\n",
    "    if product_name in purchases:\n",
    "        sum+=purchases['bread']\n",
    "    \n",
    "print(sum)"
   ]
  },
  {
   "cell_type": "code",
   "execution_count": 12,
   "id": "883d2472",
   "metadata": {},
   "outputs": [
    {
     "ename": "TypeError",
     "evalue": "'int' object is not callable",
     "output_type": "error",
     "traceback": [
      "\u001b[1;31m---------------------------------------------------------------------------\u001b[0m",
      "\u001b[1;31mTypeError\u001b[0m                                 Traceback (most recent call last)",
      "Cell \u001b[1;32mIn[12], line 15\u001b[0m\n\u001b[0;32m     13\u001b[0m \u001b[38;5;66;03m# Example usage:\u001b[39;00m\n\u001b[0;32m     14\u001b[0m input_products \u001b[38;5;241m=\u001b[39m [\u001b[38;5;124m\"\u001b[39m\u001b[38;5;124malmonds\u001b[39m\u001b[38;5;124m\"\u001b[39m]\n\u001b[1;32m---> 15\u001b[0m customer, num_products \u001b[38;5;241m=\u001b[39m customer_with_most_products(input_products, purchase_data)\n\u001b[0;32m     17\u001b[0m \u001b[38;5;28;01mif\u001b[39;00m customer \u001b[38;5;129;01mis\u001b[39;00m \u001b[38;5;129;01mnot\u001b[39;00m \u001b[38;5;28;01mNone\u001b[39;00m:\n\u001b[0;32m     18\u001b[0m     \u001b[38;5;28mprint\u001b[39m(\u001b[38;5;124mf\u001b[39m\u001b[38;5;124m\"\u001b[39m\u001b[38;5;124mThe customer who purchased the most products (\u001b[39m\u001b[38;5;132;01m{\u001b[39;00mnum_products\u001b[38;5;132;01m}\u001b[39;00m\u001b[38;5;124m products) is \u001b[39m\u001b[38;5;132;01m{\u001b[39;00mcustomer\u001b[38;5;132;01m}\u001b[39;00m\u001b[38;5;124m.\u001b[39m\u001b[38;5;124m\"\u001b[39m)\n",
      "Cell \u001b[1;32mIn[12], line 6\u001b[0m, in \u001b[0;36mcustomer_with_most_products\u001b[1;34m(products, purchase_data)\u001b[0m\n\u001b[0;32m      3\u001b[0m customer_with_max_products \u001b[38;5;241m=\u001b[39m \u001b[38;5;28;01mNone\u001b[39;00m\n\u001b[0;32m      5\u001b[0m \u001b[38;5;28;01mfor\u001b[39;00m customer, purchases \u001b[38;5;129;01min\u001b[39;00m purchase_data\u001b[38;5;241m.\u001b[39mitems():\n\u001b[1;32m----> 6\u001b[0m     products_purchased \u001b[38;5;241m=\u001b[39m \u001b[38;5;28msum\u001b[39m(\u001b[38;5;241m1\u001b[39m \u001b[38;5;28;01mfor\u001b[39;00m product \u001b[38;5;129;01min\u001b[39;00m products \u001b[38;5;28;01mif\u001b[39;00m product \u001b[38;5;129;01min\u001b[39;00m purchases)\n\u001b[0;32m      7\u001b[0m     \u001b[38;5;28;01mif\u001b[39;00m products_purchased \u001b[38;5;241m>\u001b[39m max_products:\n\u001b[0;32m      8\u001b[0m         max_products \u001b[38;5;241m=\u001b[39m products_purchased\n",
      "\u001b[1;31mTypeError\u001b[0m: 'int' object is not callable"
     ]
    }
   ],
   "source": [
    "def customer_with_most_products(products, purchase_data):\n",
    "    max_products = 0\n",
    "    customer_with_max_products = None\n",
    "\n",
    "    for customer, purchases in purchase_data.items():\n",
    "        products_purchased = sum(1 for product in products if product in purchases)\n",
    "        if products_purchased > max_products:\n",
    "            max_products = products_purchased\n",
    "            customer_with_max_products = customer\n",
    "\n",
    "    return customer_with_max_products, max_products\n",
    "\n",
    "# Example usage:\n",
    "input_products = [\"almonds\"]\n",
    "customer, num_products = customer_with_most_products(input_products, purchase_data)\n",
    "\n",
    "if customer is not None:\n",
    "    print(f\"The customer who purchased the most products ({num_products} products) is {customer}.\")\n",
    "else:\n",
    "    print(\"No customer has purchased any of the specified products.\")"
   ]
  },
  {
   "cell_type": "code",
   "execution_count": 2,
   "id": "1ffb97b1",
   "metadata": {},
   "outputs": [],
   "source": [
    "emp={\"emp1\":{\"name\":\"Carie\",\"salary\":20000,\"designation\":\"Analyst\",\"Grade\":\"E1\"},\n",
    "\"emp2\":{\"name\":\"Herina\",\"salary\":40000,\"designation\":\"Senior Analyst\",\"Grade\":\"E2\"},\n",
    "\"emp3\":{\"name\":\"Watler\",\"salary\":80000,\"designation\":\"Data Scientist\",\"Grade\":\"E1\"},\n",
    "\"emp4\":{\"name\":\"Ria\",\"salary\":60000,\"designation\":\"Data Scientist\",\"Grade\":\"E1\"},\n",
    "\"emp5\":{\"name\":\"Rina\",\"salary\":90000,\"designation\":\"Senior Data Scientist\",\"Grade\":\"E2\"},\n",
    "\"emp6\":{\"name\":\"Caren\",\"salary\":150000,\"designation\":\"Manager\",\"Grade\":\"E3\"},\n",
    "\"emp7\":{\"name\":\"Archer\",\"salary\":80000,\"designation\":\"Senior Data Scientist\",\"Grade\":\"E2\"},\n",
    "\"emp8\":{\"name\":\"Barry\",\"salary\":15000,\"designation\":\"Analyst\",\"Grade\":\"E1\"},\n",
    "\"emp9\":{\"name\":\"Heren\",\"salary\":60000,\"designation\":\"Senior Analyst\",\"Grade\":\"E2\"},\n",
    "\"emp10\":{\"name\":\"Arlo\",\"salary\":25000,\"designation\":\"Analyst\",\"Grade\":\"E1\"}}"
   ]
  },
  {
   "cell_type": "code",
   "execution_count": 3,
   "id": "94569b2c",
   "metadata": {},
   "outputs": [
    {
     "ename": "NameError",
     "evalue": "name 'name' is not defined",
     "output_type": "error",
     "traceback": [
      "\u001b[1;31m---------------------------------------------------------------------------\u001b[0m",
      "\u001b[1;31mNameError\u001b[0m                                 Traceback (most recent call last)",
      "Cell \u001b[1;32mIn[3], line 2\u001b[0m\n\u001b[0;32m      1\u001b[0m \u001b[38;5;28;01mfor\u001b[39;00m key, value \u001b[38;5;129;01min\u001b[39;00m emp\u001b[38;5;241m.\u001b[39mitems():\n\u001b[1;32m----> 2\u001b[0m     \u001b[38;5;28;01mif\u001b[39;00m name \u001b[38;5;129;01min\u001b[39;00m purchases:\n\u001b[0;32m      3\u001b[0m         total_sold \u001b[38;5;241m+\u001b[39m\u001b[38;5;241m=\u001b[39m purchases[Carie]\n\u001b[0;32m      4\u001b[0m \u001b[38;5;28;01mreturn\u001b[39;00m total_sold\n",
      "\u001b[1;31mNameError\u001b[0m: name 'name' is not defined"
     ]
    }
   ],
   "source": [
    "for key, value in emp.items():\n",
    "    if key in purchases:\n",
    "        key purchases[Carie]\n",
    "return total_sold"
   ]
  },
  {
   "cell_type": "code",
   "execution_count": null,
   "id": "e04bdfae",
   "metadata": {},
   "outputs": [],
   "source": []
  }
 ],
 "metadata": {
  "kernelspec": {
   "display_name": "Python 3 (ipykernel)",
   "language": "python",
   "name": "python3"
  },
  "language_info": {
   "codemirror_mode": {
    "name": "ipython",
    "version": 3
   },
   "file_extension": ".py",
   "mimetype": "text/x-python",
   "name": "python",
   "nbconvert_exporter": "python",
   "pygments_lexer": "ipython3",
   "version": "3.11.4"
  }
 },
 "nbformat": 4,
 "nbformat_minor": 5
}
