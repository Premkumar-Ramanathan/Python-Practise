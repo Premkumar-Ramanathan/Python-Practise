{
 "cells": [
  {
   "cell_type": "markdown",
   "metadata": {
    "id": "9vW4dJVdSzf3"
   },
   "source": [
    "## Comprehension - I"
   ]
  },
  {
   "cell_type": "markdown",
   "metadata": {
    "id": "BoFChGBaSzf7"
   },
   "source": [
    "Suppose you work for the supply chain department of an organization and are analyzing the processed and returned orders for the last week.\n",
    "\n",
    "Processed orders are orders that were sold successfully and were not returned, while returned orders are orders that were returned by the customer after purchase. \n",
    "\n",
    "You have been provided with the order ids for returned and processed orders in two separate lists in this notebook.\n",
    "\n"
   ]
  },
  {
   "cell_type": "code",
   "execution_count": null,
   "metadata": {
    "id": "Cspa_vgeSzf8"
   },
   "outputs": [],
   "source": [
    "# List of processed order IDs\n",
    "processed_orders = [1050, 1051, 1052, 1054, 1058, 1060, 1061, 1062, 1065, 1066,\n",
    "                    1067, 1068, 1069, 1076, 1077, 1080, 1081, 1083, 1085, 1088,\n",
    "                    1089, 1091, 1092, 1094, 1095, 1099, 1102, 1103, 1104, 1106,\n",
    "                    1107, 1108, 1109, 1111, 1117, 1119, 1121, 1124, 1128, 1129,\n",
    "                    1131, 1136, 1137, 1139, 1140, 1141, 1144, 1148, 1150, 1152,\n",
    "                    1154, 1155, 1156, 1157, 1160, 1161, 1162, 1166, 1169, 1170,\n",
    "                    1172, 1176, 1178]\n",
    "\n",
    "# List of returned order IDs\n",
    "returned_orders = [1053, 1055, 1056, 1057, 1059, 1063, 1064, 1070, 1071,\n",
    "                   1072, 1073, 1074, 1075, 1078, 1079, 1082, 1084, 1086,\n",
    "                   1087, 1090, 1093, 1096, 1097, 1098, 1100, 1101, 1105,\n",
    "                   1110, 1112, 1113, 1114, 1115, 1116, 1118, 1120, 1122,\n",
    "                   1123, 1125, 1126, 1127, 1130, 1132, 1133, 1134, 1135,\n",
    "                   1138, 1142, 1143, 1145, 1146, 1147, 1149, 1151, 1153,\n",
    "                   1158, 1159, 1163, 1164, 1165, 1167, 1168, 1171, 1173,\n",
    "                   1174, 1175, 1177]"
   ]
  },
  {
   "cell_type": "markdown",
   "metadata": {
    "id": "F0Wtj28MSzf-"
   },
   "source": [
    "Use this data to answer the following questions"
   ]
  },
  {
   "cell_type": "markdown",
   "metadata": {
    "id": "j3Hs6Jl6Szf-"
   },
   "source": [
    "#### Q1: Total Orders\n",
    "\n",
    "Count the total number of orders [Both processed and returned orders].\n",
    "\n",
    "- 63\n",
    "- 66\n",
    "- 126\n",
    "- 129"
   ]
  },
  {
   "cell_type": "code",
   "execution_count": null,
   "metadata": {
    "collapsed": true,
    "id": "_F5HgO9PSzf-"
   },
   "outputs": [],
   "source": [
    "# Type your code here"
   ]
  },
  {
   "cell_type": "markdown",
   "metadata": {
    "id": "nOJfd7IKSzgB"
   },
   "source": [
    "#### Q2: Was the Order 1099 Good Enough?\n",
    "\n",
    "Is the order with the Order ID **1099** a returned order or a processed order? \n",
    "\n",
    "- Returned Order\n",
    "- Processed Order\n"
   ]
  },
  {
   "cell_type": "markdown",
   "metadata": {
    "id": "Zd5pa3ijSzgD"
   },
   "source": [
    "#### Q3: Checking Returned Orders\n",
    "\n",
    "The company wants to evaluate the reason for orders being returned. To save time, you plan to only check orders with an order number divisible by 3. How many returned orders will you be sampling?\n",
    "\n",
    "- 66\n",
    "- 21\n",
    "- 43\n",
    "- 22"
   ]
  },
  {
   "cell_type": "code",
   "execution_count": null,
   "metadata": {
    "id": "70paQzUWSzgD"
   },
   "outputs": [],
   "source": [
    "# Type your code here"
   ]
  },
  {
   "cell_type": "code",
   "execution_count": null,
   "metadata": {
    "id": "YsE6x8g-SzgD"
   },
   "outputs": [],
   "source": []
  }
 ],
 "metadata": {
  "colab": {
   "name": "UMD M2 Graded Qs - Comprehension 1 [Stub ].ipynb",
   "provenance": []
  },
  "kernelspec": {
   "display_name": "Python 3 (ipykernel)",
   "language": "python",
   "name": "python3"
  },
  "language_info": {
   "codemirror_mode": {
    "name": "ipython",
    "version": 3
   },
   "file_extension": ".py",
   "mimetype": "text/x-python",
   "name": "python",
   "nbconvert_exporter": "python",
   "pygments_lexer": "ipython3",
   "version": "3.11.4"
  }
 },
 "nbformat": 4,
 "nbformat_minor": 1
}
