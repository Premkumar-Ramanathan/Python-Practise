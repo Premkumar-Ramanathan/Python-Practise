{
 "cells": [
  {
   "cell_type": "code",
   "execution_count": 1,
   "id": "1f75c5a2",
   "metadata": {},
   "outputs": [
    {
     "name": "stdout",
     "output_type": "stream",
     "text": [
      "320\n"
     ]
    }
   ],
   "source": [
    "stock_price={'march 4': 298, 'march 5': 305, 'march 6': 320, 'march 7': 301,}\n",
    "print(stock_price['march 6'])"
   ]
  },
  {
   "cell_type": "code",
   "execution_count": 2,
   "id": "83fc99a4",
   "metadata": {},
   "outputs": [
    {
     "data": {
      "text/plain": [
       "{'march 4': 298, 'march 5': 305, 'march 6': 320, 'march 7': 301}"
      ]
     },
     "execution_count": 2,
     "metadata": {},
     "output_type": "execute_result"
    }
   ],
   "source": [
    "stock_price"
   ]
  },
  {
   "cell_type": "code",
   "execution_count": 3,
   "id": "09acf46e",
   "metadata": {},
   "outputs": [
    {
     "data": {
      "text/plain": [
       "'C:\\\\Users\\\\Prem'"
      ]
     },
     "execution_count": 3,
     "metadata": {},
     "output_type": "execute_result"
    }
   ],
   "source": [
    "pwd"
   ]
  },
  {
   "cell_type": "code",
   "execution_count": 4,
   "id": "87844e79",
   "metadata": {},
   "outputs": [
    {
     "name": "stdout",
     "output_type": "stream",
     "text": [
      "C:\\Users\\Prem\n"
     ]
    }
   ],
   "source": [
    "import os\n",
    "print(os.getcwd())"
   ]
  },
  {
   "cell_type": "code",
   "execution_count": 5,
   "id": "e0108d9b",
   "metadata": {},
   "outputs": [
    {
     "data": {
      "text/plain": [
       "'C:\\\\Users\\\\Prem'"
      ]
     },
     "execution_count": 5,
     "metadata": {},
     "output_type": "execute_result"
    }
   ],
   "source": [
    "pwd"
   ]
  },
  {
   "cell_type": "code",
   "execution_count": 1,
   "id": "b18862e5",
   "metadata": {},
   "outputs": [
    {
     "name": "stdout",
     "output_type": "stream",
     "text": [
      "PremKumar\n"
     ]
    }
   ],
   "source": [
    "str1='Prem'\n",
    "str2='Kumar'\n",
    "print(str1+str2)"
   ]
  },
  {
   "cell_type": "code",
   "execution_count": 4,
   "id": "6504c214",
   "metadata": {},
   "outputs": [
    {
     "ename": "AttributeError",
     "evalue": "'str' object has no attribute 'add'",
     "output_type": "error",
     "traceback": [
      "\u001b[1;31m---------------------------------------------------------------------------\u001b[0m",
      "\u001b[1;31mAttributeError\u001b[0m                            Traceback (most recent call last)",
      "Cell \u001b[1;32mIn[4], line 1\u001b[0m\n\u001b[1;32m----> 1\u001b[0m str1\u001b[38;5;241m.\u001b[39madd(str2)\n",
      "\u001b[1;31mAttributeError\u001b[0m: 'str' object has no attribute 'add'"
     ]
    }
   ],
   "source": [
    "str1.add(str2)"
   ]
  },
  {
   "cell_type": "code",
   "execution_count": 5,
   "id": "98a5acb1",
   "metadata": {},
   "outputs": [
    {
     "name": "stdout",
     "output_type": "stream",
     "text": [
      "gnizama si n is amazing\n"
     ]
    }
   ],
   "source": [
    "inp=\"Python is amazing\"\n",
    "out=inp[:5:-1]+ inp[5::]\n",
    "print(out)"
   ]
  },
  {
   "cell_type": "code",
   "execution_count": 6,
   "id": "ddcda4e8",
   "metadata": {},
   "outputs": [
    {
     "name": "stdout",
     "output_type": "stream",
     "text": [
      "Sens scored 80in Mathematics\n"
     ]
    }
   ],
   "source": [
    "Sens=80\n",
    "print(\"Sens\" + \" scored \" + str(Sens) +\"in Mathematics\")"
   ]
  },
  {
   "cell_type": "code",
   "execution_count": 8,
   "id": "53fea65d",
   "metadata": {},
   "outputs": [
    {
     "name": "stdout",
     "output_type": "stream",
     "text": [
      "Data science\n"
     ]
    }
   ],
   "source": [
    "input_str=\"data science\"\n",
    "output_str=input_str.capitalize()\n",
    "print(output_str)"
   ]
  },
  {
   "cell_type": "code",
   "execution_count": 10,
   "id": "9eacbf8b",
   "metadata": {},
   "outputs": [
    {
     "name": "stdout",
     "output_type": "stream",
     "text": [
      "False True False False\n"
     ]
    }
   ],
   "source": [
    "string1=\"python program\"\n",
    "print(string1.isupper(),string1.islower(),string1.isalpha(),string1.isalnum())"
   ]
  },
  {
   "cell_type": "code",
   "execution_count": 153,
   "id": "c7a94e92",
   "metadata": {},
   "outputs": [
    {
     "name": "stdout",
     "output_type": "stream",
     "text": [
      "Enter 1st Interger : 4\n",
      "Enter 2nd Integer: 5\n",
      "Integer Type Division 0.0\n",
      "Float Type Division 0.8\n"
     ]
    }
   ],
   "source": [
    "a=int(input(\"Enter 1st Interger : \"))\n",
    "b=int(input(\"Enter 2nd Integer: \"))\n",
    "a=float(a)\n",
    "b=float(b)\n",
    "print(\"Integer Type Division\", (a//b))\n",
    "print(\"Float Type Division\", (a/b))"
   ]
  },
  {
   "cell_type": "code",
   "execution_count": 48,
   "id": "c3f66aad",
   "metadata": {},
   "outputs": [
    {
     "name": "stdout",
     "output_type": "stream",
     "text": [
      "DATA SCIENCE\n",
      "data science\n",
      "Data Science\n"
     ]
    }
   ],
   "source": [
    "a='Data science'\n",
    "print(a.upper())\n",
    "print(a.lower())\n",
    "print(a.title())"
   ]
  },
  {
   "cell_type": "code",
   "execution_count": 49,
   "id": "c42f1b19",
   "metadata": {},
   "outputs": [
    {
     "name": "stdout",
     "output_type": "stream",
     "text": [
      "UPGRAD\n",
      "upgrad\n",
      "UpGrad\n"
     ]
    }
   ],
   "source": [
    "a='upGrad'\n",
    "print(a.upper())\n",
    "print(a.lower())\n",
    "print(a[0].upper()+a[1:])"
   ]
  },
  {
   "cell_type": "code",
   "execution_count": 43,
   "id": "1d1da98c",
   "metadata": {},
   "outputs": [
    {
     "name": "stdout",
     "output_type": "stream",
     "text": [
      "After using capitalzie: Roses are red\n"
     ]
    }
   ],
   "source": [
    "string = \"roseS are red\"\n",
    "print(\"After using capitalzie:\", string.capitalize())"
   ]
  },
  {
   "cell_type": "code",
   "execution_count": 52,
   "id": "1685ebd6",
   "metadata": {},
   "outputs": [
    {
     "name": "stdout",
     "output_type": "stream",
     "text": [
      "4\n"
     ]
    }
   ],
   "source": [
    "a='Machine Learning is a brEnch of Data Science'\n",
    "print(a.count('e'))"
   ]
  },
  {
   "cell_type": "code",
   "execution_count": 154,
   "id": "a943fe11",
   "metadata": {},
   "outputs": [
    {
     "name": "stdout",
     "output_type": "stream",
     "text": [
      "Upgrad\n",
      "4\n",
      "r\n"
     ]
    }
   ],
   "source": [
    "a = input()\n",
    "n = int(input())\n",
    "\n",
    "print(a[n-1])"
   ]
  },
  {
   "cell_type": "code",
   "execution_count": 56,
   "id": "ea50dfd2",
   "metadata": {},
   "outputs": [
    {
     "name": "stdout",
     "output_type": "stream",
     "text": [
      "anaconda\n"
     ]
    }
   ],
   "source": [
    "a='ajknrtayuchjotgnasdwea'\n",
    "a1=''\n",
    "for i in range(0,len(a),3):\n",
    "    a1=a1+a[i]\n",
    "print(a1)"
   ]
  },
  {
   "cell_type": "code",
   "execution_count": 61,
   "id": "06d968d0",
   "metadata": {},
   "outputs": [
    {
     "name": "stdout",
     "output_type": "stream",
     "text": [
      "6\n"
     ]
    }
   ],
   "source": [
    "str='Python'\n",
    "print(len(str))"
   ]
  },
  {
   "cell_type": "code",
   "execution_count": 58,
   "id": "94070522",
   "metadata": {},
   "outputs": [
    {
     "name": "stdout",
     "output_type": "stream",
     "text": [
      "1\n"
     ]
    }
   ],
   "source": [
    "str = \"Data Science\"\n",
    "print(str.count('D'))"
   ]
  },
  {
   "cell_type": "code",
   "execution_count": 59,
   "id": "5bea0fa5",
   "metadata": {},
   "outputs": [
    {
     "name": "stdout",
     "output_type": "stream",
     "text": [
      "Learning Data Science is fun\n"
     ]
    }
   ],
   "source": [
    "str1 = \"Data Science\"\n",
    "str2 = \"Learning \"\n",
    "str3 = \" is fun\"\n",
    "print(str2+str1+str3)"
   ]
  },
  {
   "cell_type": "code",
   "execution_count": 62,
   "id": "f01f9e90",
   "metadata": {},
   "outputs": [
    {
     "name": "stdout",
     "output_type": "stream",
     "text": [
      "['H', 'e', 'l', 'l', 'o', ' ', 'W', 'o', 'r', 'l', 'd']\n"
     ]
    }
   ],
   "source": [
    "chars=list('Hello World')\n",
    "print(chars)"
   ]
  },
  {
   "cell_type": "code",
   "execution_count": 65,
   "id": "ee828c6c",
   "metadata": {},
   "outputs": [
    {
     "name": "stdout",
     "output_type": "stream",
     "text": [
      "89\n"
     ]
    }
   ],
   "source": [
    "ls=[45,34,[35,76,[89],0,-1]]\n",
    "print(ls[2][2][0])"
   ]
  },
  {
   "cell_type": "code",
   "execution_count": 75,
   "id": "2fd1778e",
   "metadata": {},
   "outputs": [
    {
     "name": "stdout",
     "output_type": "stream",
     "text": [
      "['Python', 'Java', 'Spark', 'C', 'C++', 'C#']\n"
     ]
    }
   ],
   "source": [
    "list1=[\"Python\",\"Java\",\"Spark\"]\n",
    "list2=[\"C\",\"C++\",\"C#\"]\n",
    "list1.extend(list2)\n",
    "print(list1)"
   ]
  },
  {
   "cell_type": "code",
   "execution_count": 76,
   "id": "0fc5cb41",
   "metadata": {},
   "outputs": [
    {
     "name": "stdout",
     "output_type": "stream",
     "text": [
      "Data-Science\n"
     ]
    }
   ],
   "source": [
    "ls=[\"Data\",\"Science\"]\n",
    "print(\"-\".join(ls))"
   ]
  },
  {
   "cell_type": "code",
   "execution_count": 79,
   "id": "16595c78",
   "metadata": {},
   "outputs": [
    {
     "ename": "TypeError",
     "evalue": "'tuple' object does not support item assignment",
     "output_type": "error",
     "traceback": [
      "\u001b[1;31m---------------------------------------------------------------------------\u001b[0m",
      "\u001b[1;31mTypeError\u001b[0m                                 Traceback (most recent call last)",
      "Cell \u001b[1;32mIn[79], line 2\u001b[0m\n\u001b[0;32m      1\u001b[0m t\u001b[38;5;241m=\u001b[39m(\u001b[38;5;241m4\u001b[39m,\u001b[38;5;241m1\u001b[39m,\u001b[38;5;241m8\u001b[39m,\u001b[38;5;241m9\u001b[39m,\u001b[38;5;241m0\u001b[39m)\n\u001b[1;32m----> 2\u001b[0m t[\u001b[38;5;241m3\u001b[39m]\u001b[38;5;241m=\u001b[39m\u001b[38;5;241m7\u001b[39m\n",
      "\u001b[1;31mTypeError\u001b[0m: 'tuple' object does not support item assignment"
     ]
    }
   ],
   "source": [
    "t=(4,1,8,9,0)\n",
    "t[3]=7"
   ]
  },
  {
   "cell_type": "code",
   "execution_count": 95,
   "id": "a6fad605",
   "metadata": {},
   "outputs": [
    {
     "name": "stdout",
     "output_type": "stream",
     "text": [
      "[5, 2, 4]\n"
     ]
    }
   ],
   "source": [
    "a=[]\n",
    "a.append(5)\n",
    "for i in range(2,8,2):\n",
    "    a.append(i)\n",
    "a.pop()\n",
    "print(a)"
   ]
  },
  {
   "cell_type": "code",
   "execution_count": 98,
   "id": "a92c881c",
   "metadata": {},
   "outputs": [
    {
     "name": "stdout",
     "output_type": "stream",
     "text": [
      "9\n"
     ]
    }
   ],
   "source": [
    "list1=[2,4,6,8,0]\n",
    "list2=[3,5,7,9,1]\n",
    "list1.extend(list2[::-1])\n",
    "list1.sort()\n",
    "print(list1.pop())"
   ]
  },
  {
   "cell_type": "code",
   "execution_count": 101,
   "id": "76f16802",
   "metadata": {},
   "outputs": [
    {
     "name": "stdout",
     "output_type": "stream",
     "text": [
      "['USA', 'UK', 'India', 'England']\n"
     ]
    }
   ],
   "source": [
    "list1=[\"India\",\"UK\",\"USA\",\"England\"]\n",
    "print(sorted(list1,reverse=True))"
   ]
  },
  {
   "cell_type": "code",
   "execution_count": 105,
   "id": "1352af81",
   "metadata": {},
   "outputs": [
    {
     "name": "stdout",
     "output_type": "stream",
     "text": [
      "[6, 7, 7, 6]\n"
     ]
    }
   ],
   "source": [
    "tuple1=(1,3,5,7)\n",
    "tuple2=(2,4,6,8)\n",
    "list1=[]\n",
    "list1.append(tuple1[-1])\n",
    "list1.append(tuple2[2])\n",
    "list2=sorted(list1)\n",
    "list3=list2 + list1\n",
    "#list3.remove(3)\n",
    "print(list3)"
   ]
  },
  {
   "cell_type": "code",
   "execution_count": 109,
   "id": "160f5835",
   "metadata": {},
   "outputs": [
    {
     "name": "stdout",
     "output_type": "stream",
     "text": [
      "Upgrad Data Science\n",
      "aDac"
     ]
    }
   ],
   "source": [
    "a=input()\n",
    "for i in range(4,16,3):\n",
    "    print(a[i],end=\"\")"
   ]
  },
  {
   "cell_type": "code",
   "execution_count": 116,
   "id": "47b26e25",
   "metadata": {},
   "outputs": [
    {
     "name": "stdout",
     "output_type": "stream",
     "text": [
      "Python is wonderful language\n"
     ]
    }
   ],
   "source": [
    "a='Python&is&wonderful&language'\n",
    "lst=[]\n",
    "lst=a\n",
    "print(lst.replace('&',\" \"))\n"
   ]
  },
  {
   "cell_type": "code",
   "execution_count": 125,
   "id": "02995fc9",
   "metadata": {},
   "outputs": [
    {
     "name": "stdout",
     "output_type": "stream",
     "text": [
      "GNIMMARGORp NOHTYp\n"
     ]
    }
   ],
   "source": [
    "a='Python Programming'\n",
    "print(a[::-1].swapcase())"
   ]
  },
  {
   "cell_type": "code",
   "execution_count": 156,
   "id": "c81a7180",
   "metadata": {},
   "outputs": [
    {
     "name": "stdout",
     "output_type": "stream",
     "text": [
      "C\n"
     ]
    }
   ],
   "source": [
    "a=[\"Python\",\"C\",\"C#\",\"SAS\",\"Java\"]\n",
    "#a.append(input())\n",
    "print(a[1])"
   ]
  },
  {
   "cell_type": "code",
   "execution_count": 179,
   "id": "9cb8ab56",
   "metadata": {},
   "outputs": [
    {
     "name": "stdout",
     "output_type": "stream",
     "text": [
      "[\"Python\",\"C\",\"C#\",\"SAS\",\"Java\"]\n",
      "-1\n",
      "[\"Python\",\"C\",\"C#\",\"SAS\",\"Java\"]\n"
     ]
    }
   ],
   "source": [
    "a = []\n",
    "a.append(input())\n",
    "n = int(input())\n",
    "\n",
    "# Output the variable to STDOUT\n",
    "print(a[n])"
   ]
  },
  {
   "cell_type": "code",
   "execution_count": 178,
   "id": "58478305",
   "metadata": {},
   "outputs": [
    {
     "name": "stdout",
     "output_type": "stream",
     "text": [
      "Java\n"
     ]
    }
   ],
   "source": [
    "l=[\"Python\",\"C\",\"C#\",\"SAS\",\"Java\"]\n",
    "print(l[-1])"
   ]
  },
  {
   "cell_type": "code",
   "execution_count": null,
   "id": "6990cba2",
   "metadata": {},
   "outputs": [],
   "source": []
  }
 ],
 "metadata": {
  "kernelspec": {
   "display_name": "Python 3 (ipykernel)",
   "language": "python",
   "name": "python3"
  },
  "language_info": {
   "codemirror_mode": {
    "name": "ipython",
    "version": 3
   },
   "file_extension": ".py",
   "mimetype": "text/x-python",
   "name": "python",
   "nbconvert_exporter": "python",
   "pygments_lexer": "ipython3",
   "version": "3.11.4"
  }
 },
 "nbformat": 4,
 "nbformat_minor": 5
}
