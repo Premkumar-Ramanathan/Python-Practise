{
 "cells": [
  {
   "cell_type": "markdown",
   "metadata": {
    "id": "N0QYpHr-YbNP"
   },
   "source": [
    "## Comprehension - II"
   ]
  },
  {
   "cell_type": "markdown",
   "metadata": {
    "id": "7m7uvKE2YbNT"
   },
   "source": [
    "Suppose you are working as a manager in the Human Resources department of a company. You are planning to realign your company’s insurance policy according to the age of the employees.\n",
    "\n",
    "The data has been provided to you in the notebook below in a dictionary, with keys and values representing the employee IDs and the age of employees, respectively.\n",
    "\n",
    "Use the data to annwer the following questions"
   ]
  },
  {
   "cell_type": "code",
   "execution_count": 1,
   "metadata": {
    "id": "MTwebpWMYbNV"
   },
   "outputs": [],
   "source": [
    "# employee data with key as id of the employee and values as age of the employee\n",
    "employee_data ={101: 43, 102: 25, 103: 43, 104: 31, 105: 26, 106: 28, 107: 29, 108: 43, 109: 25,\n",
    "                110: 22, 111: 22, 112: 25, 113: 30, 115: 45, 116: 23, 117: 29, 118: 28, 119: 30,\n",
    "                120: 28, 121: 42, 122: 39, 123: 29, 124: 42, 125: 43, 126: 42, 127: 40, 128: 27,\n",
    "                129: 23, 130: 30, 131: 37, 132: 20, 133: 36, 134: 27, 135: 27, 136: 22, 137: 28,\n",
    "                138: 23, 139: 45, 140: 39, 141: 29, 142: 33, 143: 39, 145: 34, 146: 26, 147: 30,\n",
    "                148: 38, 149: 29, 150: 24, 151: 28, 152: 34, 153: 42, 154: 29, 155: 23, 156: 31,\n",
    "                158: 25, 160: 45, 161: 42, 162: 27, 163: 24, 164: 20, 166: 24, 167: 28, 168: 20,\n",
    "                169: 33, 170: 34, 171: 37, 172: 45, 173: 35, 174: 23, 175: 44, 176: 27, 177: 30,\n",
    "                178: 26, 179: 27}"
   ]
  },
  {
   "cell_type": "markdown",
   "metadata": {
    "id": "0xX8aoykYbNW"
   },
   "source": [
    "#### Q7: Senior Most Employee\n",
    "\n",
    "Find out the age of the senior most employee.\n",
    "\n",
    "**Hint:** The built-in function max() may be useful here.\n",
    "\n",
    "- 45\n",
    "- 44\n",
    "- 48\n",
    "- 42"
   ]
  },
  {
   "cell_type": "code",
   "execution_count": 9,
   "metadata": {
    "id": "XDiFI6AmYbNX"
   },
   "outputs": [
    {
     "data": {
      "text/plain": [
       "45"
      ]
     },
     "execution_count": 9,
     "metadata": {},
     "output_type": "execute_result"
    }
   ],
   "source": [
    "# Type your code here\n",
    "max(employee_data.values())"
   ]
  },
  {
   "cell_type": "markdown",
   "metadata": {
    "id": "PwSSmlM2YbNX"
   },
   "source": [
    "#### Q8: Total Number of Employees \n",
    "\n",
    "What is the total number of employees in the organization?\n",
    "\n",
    "- 79\n",
    "- 78\n",
    "- 60\n",
    "- 74"
   ]
  },
  {
   "cell_type": "code",
   "execution_count": 14,
   "metadata": {
    "id": "D4kM94whYbNY"
   },
   "outputs": [
    {
     "name": "stdout",
     "output_type": "stream",
     "text": [
      "15\n"
     ]
    }
   ],
   "source": [
    "#Find the number of employees with age greater than or equal to 40\n",
    "res = sum(x >= 40 for x in employee_data.values())\n",
    "print(res)"
   ]
  },
  {
   "cell_type": "markdown",
   "metadata": {
    "id": "UhuvRaHNYbNZ"
   },
   "source": [
    "#### Q9: Mean Age\n",
    "\n",
    "Calculate the mean age of the employees. (Note: Enter the value rounded down to two decimal places.)\n"
   ]
  },
  {
   "cell_type": "code",
   "execution_count": null,
   "metadata": {
    "id": "-PBtn02FYbNZ"
   },
   "outputs": [],
   "source": [
    "# Type your code here"
   ]
  },
  {
   "cell_type": "markdown",
   "metadata": {
    "id": "YX3xTUzVYbNa"
   },
   "source": [
    "#### Q10: Updated Mean\n",
    "\n",
    "Perform the following two tasks and then calculate the updated mean age of the employees:\n",
    "\n",
    "**Task 1:** Update the ages of the employees with employee Ids 104,140 and 164 to 27. \n",
    "\n",
    "**Task 2:** Remove the employee with employee Id 143.\n",
    "\n",
    "Calculate the mean age of the employees\n",
    "\n",
    "- 30.71\n",
    "- 31.36\n",
    "- 30.13\n",
    "- 31.14"
   ]
  },
  {
   "cell_type": "code",
   "execution_count": null,
   "metadata": {
    "id": "HbXAzwAHYbNa"
   },
   "outputs": [],
   "source": [
    "# Type your code here"
   ]
  },
  {
   "cell_type": "markdown",
   "metadata": {
    "id": "-XiCvG11YbNb"
   },
   "source": [
    "#### Q11: Veteran Employees\n",
    "\n",
    "Find the number of employees with age greater than or equal to 40.\n",
    "\n",
    "- 60\n",
    "- 15\n",
    "- 23\n",
    "- 14"
   ]
  },
  {
   "cell_type": "code",
   "execution_count": null,
   "metadata": {
    "id": "1qIkb_sLYbNb"
   },
   "outputs": [],
   "source": [
    "# Type your code here"
   ]
  }
 ],
 "metadata": {
  "colab": {
   "name": "UMD M2 Graded Qs - Comprehension 2 [Stub ].ipynb",
   "provenance": []
  },
  "kernelspec": {
   "display_name": "Python 3 (ipykernel)",
   "language": "python",
   "name": "python3"
  },
  "language_info": {
   "codemirror_mode": {
    "name": "ipython",
    "version": 3
   },
   "file_extension": ".py",
   "mimetype": "text/x-python",
   "name": "python",
   "nbconvert_exporter": "python",
   "pygments_lexer": "ipython3",
   "version": "3.11.4"
  }
 },
 "nbformat": 4,
 "nbformat_minor": 1
}
