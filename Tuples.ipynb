{
 "cells": [
  {
   "cell_type": "code",
   "execution_count": 1,
   "id": "e28ba6b5",
   "metadata": {},
   "outputs": [
    {
     "name": "stdout",
     "output_type": "stream",
     "text": [
      "1\n"
     ]
    }
   ],
   "source": [
    "T1=(1,2,3)\n",
    "print(T1[0])"
   ]
  },
  {
   "cell_type": "code",
   "execution_count": 2,
   "id": "f734f661",
   "metadata": {},
   "outputs": [
    {
     "name": "stdout",
     "output_type": "stream",
     "text": [
      "2\n"
     ]
    }
   ],
   "source": [
    "print(T1.index(3))"
   ]
  },
  {
   "cell_type": "code",
   "execution_count": 4,
   "id": "24c5f857",
   "metadata": {},
   "outputs": [
    {
     "name": "stdout",
     "output_type": "stream",
     "text": [
      "(2, 3)\n"
     ]
    }
   ],
   "source": [
    "T1=(1,2,3,4,5)\n",
    "print(T1[1:3])"
   ]
  },
  {
   "cell_type": "code",
   "execution_count": 5,
   "id": "1e13b96d",
   "metadata": {},
   "outputs": [
    {
     "name": "stdout",
     "output_type": "stream",
     "text": [
      "(1, 2, 3, 4, 5, 3, 4, 5)\n"
     ]
    }
   ],
   "source": [
    "T1=(1,2,3,4,5)\n",
    "T2=(3,4,5)\n",
    "print(T1+T2)"
   ]
  },
  {
   "cell_type": "code",
   "execution_count": 6,
   "id": "bfc36421",
   "metadata": {},
   "outputs": [
    {
     "name": "stdout",
     "output_type": "stream",
     "text": [
      "150 50 10\n"
     ]
    }
   ],
   "source": [
    "T1=(10,20,30,40,50)\n",
    "print(sum(T1), max(T1), min(T1))"
   ]
  },
  {
   "cell_type": "code",
   "execution_count": 7,
   "id": "59aa79c1",
   "metadata": {},
   "outputs": [
    {
     "name": "stdout",
     "output_type": "stream",
     "text": [
      "4\n"
     ]
    }
   ],
   "source": [
    "t=(1,2,3,4)\n",
    "print(len(t))"
   ]
  },
  {
   "cell_type": "code",
   "execution_count": 8,
   "id": "8306a536",
   "metadata": {},
   "outputs": [
    {
     "name": "stdout",
     "output_type": "stream",
     "text": [
      "[2, 3, 4, 5, 6, 8]\n"
     ]
    }
   ],
   "source": [
    "t=(2,3,6,4,8,5)\n",
    "T=sorted(t)\n",
    "print(T)"
   ]
  },
  {
   "cell_type": "code",
   "execution_count": 10,
   "id": "e51736cf",
   "metadata": {},
   "outputs": [
    {
     "name": "stdout",
     "output_type": "stream",
     "text": [
      "['__add__', '__class__', '__class_getitem__', '__contains__', '__delattr__', '__dir__', '__doc__', '__eq__', '__format__', '__ge__', '__getattribute__', '__getitem__', '__getnewargs__', '__getstate__', '__gt__', '__hash__', '__init__', '__init_subclass__', '__iter__', '__le__', '__len__', '__lt__', '__mul__', '__ne__', '__new__', '__reduce__', '__reduce_ex__', '__repr__', '__rmul__', '__setattr__', '__sizeof__', '__str__', '__subclasshook__', 'count', 'index']\n"
     ]
    }
   ],
   "source": [
    "t=()\n",
    "print(dir(t))"
   ]
  },
  {
   "cell_type": "code",
   "execution_count": 12,
   "id": "3a9d3486",
   "metadata": {},
   "outputs": [
    {
     "name": "stdout",
     "output_type": "stream",
     "text": [
      "Java\n"
     ]
    }
   ],
   "source": [
    "t=(1,5,'Disco',('Python','Java'))\n",
    "print(t[3][1])"
   ]
  },
  {
   "cell_type": "code",
   "execution_count": 13,
   "id": "d0ea5c85",
   "metadata": {},
   "outputs": [
    {
     "name": "stdout",
     "output_type": "stream",
     "text": [
      "(1, 5, 'Disco', ('Python', 'Java'))\n"
     ]
    }
   ],
   "source": [
    "print(t)"
   ]
  },
  {
   "cell_type": "code",
   "execution_count": 14,
   "id": "5a1dc512",
   "metadata": {},
   "outputs": [
    {
     "name": "stdout",
     "output_type": "stream",
     "text": [
      "{1, 2, 3, 4}\n"
     ]
    }
   ],
   "source": [
    "t=(1,2,3,4)\n",
    "set1=set(t)\n",
    "print(set1)"
   ]
  },
  {
   "cell_type": "code",
   "execution_count": 16,
   "id": "bd745e19",
   "metadata": {},
   "outputs": [
    {
     "name": "stdout",
     "output_type": "stream",
     "text": [
      "{1, 2, 3, 4}\n"
     ]
    }
   ],
   "source": [
    "t=[1,2,3,4]\n",
    "set1=set(t)\n",
    "print(set1)"
   ]
  },
  {
   "cell_type": "code",
   "execution_count": 17,
   "id": "94286254",
   "metadata": {},
   "outputs": [],
   "source": [
    "S={1,2,3,4,5}"
   ]
  },
  {
   "cell_type": "code",
   "execution_count": 22,
   "id": "9d85cf8c",
   "metadata": {},
   "outputs": [
    {
     "name": "stdout",
     "output_type": "stream",
     "text": [
      "{1, 2, 3, 4, 5, 'Australia'}\n"
     ]
    }
   ],
   "source": [
    "S.add('Australia')\n",
    "print(S)"
   ]
  },
  {
   "cell_type": "code",
   "execution_count": 23,
   "id": "994608a2",
   "metadata": {},
   "outputs": [
    {
     "name": "stdout",
     "output_type": "stream",
     "text": [
      "{1, 2, 3, 4, 5}\n"
     ]
    }
   ],
   "source": [
    "S.remove('Australia')\n",
    "print(S)"
   ]
  },
  {
   "cell_type": "code",
   "execution_count": 25,
   "id": "0eff2507",
   "metadata": {},
   "outputs": [
    {
     "name": "stdout",
     "output_type": "stream",
     "text": [
      "{0, 1, 2, 3, 4, 5, 6, 8}\n",
      "{0, 1, 2, 3, 4, 5, 6, 8}\n"
     ]
    }
   ],
   "source": [
    "A={0,2,4,6,8}\n",
    "B={1,2,3,4,5}\n",
    "print(A|B)\n",
    "print(A.union(B))"
   ]
  },
  {
   "cell_type": "code",
   "execution_count": 27,
   "id": "1669794c",
   "metadata": {},
   "outputs": [
    {
     "name": "stdout",
     "output_type": "stream",
     "text": [
      "{2, 4}\n",
      "{2, 4}\n"
     ]
    }
   ],
   "source": [
    "print(A&B)\n",
    "print(A.intersection(B))"
   ]
  },
  {
   "cell_type": "code",
   "execution_count": 30,
   "id": "4557e961",
   "metadata": {},
   "outputs": [
    {
     "name": "stdout",
     "output_type": "stream",
     "text": [
      "{0, 8, 6}\n",
      "{0, 8, 6}\n"
     ]
    }
   ],
   "source": [
    "print(A-B)\n",
    "print(A.difference(B))"
   ]
  },
  {
   "cell_type": "code",
   "execution_count": 33,
   "id": "a4aebf84",
   "metadata": {},
   "outputs": [
    {
     "name": "stdout",
     "output_type": "stream",
     "text": [
      "{0, 1, 3, 5, 6, 8}\n",
      "{0, 1, 3, 5, 6, 8}\n"
     ]
    }
   ],
   "source": [
    "print(A^B)\n",
    "print(A.symmetric_difference(B))"
   ]
  },
  {
   "cell_type": "code",
   "execution_count": 32,
   "id": "ab04597a",
   "metadata": {},
   "outputs": [
    {
     "name": "stdout",
     "output_type": "stream",
     "text": [
      "['__class__', '__class_getitem__', '__contains__', '__delattr__', '__delitem__', '__dir__', '__doc__', '__eq__', '__format__', '__ge__', '__getattribute__', '__getitem__', '__getstate__', '__gt__', '__hash__', '__init__', '__init_subclass__', '__ior__', '__iter__', '__le__', '__len__', '__lt__', '__ne__', '__new__', '__or__', '__reduce__', '__reduce_ex__', '__repr__', '__reversed__', '__ror__', '__setattr__', '__setitem__', '__sizeof__', '__str__', '__subclasshook__', 'clear', 'copy', 'fromkeys', 'get', 'items', 'keys', 'pop', 'popitem', 'setdefault', 'update', 'values']\n"
     ]
    }
   ],
   "source": [
    "k={}\n",
    "print(dir(k))"
   ]
  },
  {
   "cell_type": "code",
   "execution_count": null,
   "id": "b655f22c",
   "metadata": {},
   "outputs": [],
   "source": []
  }
 ],
 "metadata": {
  "kernelspec": {
   "display_name": "Python 3 (ipykernel)",
   "language": "python",
   "name": "python3"
  },
  "language_info": {
   "codemirror_mode": {
    "name": "ipython",
    "version": 3
   },
   "file_extension": ".py",
   "mimetype": "text/x-python",
   "name": "python",
   "nbconvert_exporter": "python",
   "pygments_lexer": "ipython3",
   "version": "3.11.4"
  }
 },
 "nbformat": 4,
 "nbformat_minor": 5
}
