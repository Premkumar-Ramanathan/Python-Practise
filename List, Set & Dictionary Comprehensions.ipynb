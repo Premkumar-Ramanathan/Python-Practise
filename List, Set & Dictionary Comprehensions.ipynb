{
 "cells": [
  {
   "cell_type": "markdown",
   "id": "bdf89bfc",
   "metadata": {},
   "source": [
    "### Using For loop on List"
   ]
  },
  {
   "cell_type": "code",
   "execution_count": 6,
   "id": "641ecc22",
   "metadata": {},
   "outputs": [
    {
     "name": "stdout",
     "output_type": "stream",
     "text": [
      "[2, 6, 15, 4, 8]\n"
     ]
    }
   ],
   "source": [
    "L1=[10,20,30,24,18]\n",
    "L2=[8,14,15,20,10]\n",
    "L3=[]\n",
    "for i in range(len(L1)):\n",
    "    L3.append(L1[i]-L2[i])\n",
    "print(L3)"
   ]
  },
  {
   "cell_type": "markdown",
   "id": "de1e491b",
   "metadata": {},
   "source": [
    "### Using List Comprehension"
   ]
  },
  {
   "cell_type": "code",
   "execution_count": 5,
   "id": "d9e08bf0",
   "metadata": {},
   "outputs": [
    {
     "name": "stdout",
     "output_type": "stream",
     "text": [
      "[2, 6, 15, 4, 8]\n"
     ]
    }
   ],
   "source": [
    "L1=[10,20,30,24,18]\n",
    "L2=[8,14,15,20,10]\n",
    "L3=[L1[i]-L2[i] for i in range(len(L1))]\n",
    "print(L3)"
   ]
  },
  {
   "cell_type": "markdown",
   "id": "8312e3cc",
   "metadata": {},
   "source": [
    "### Using For loop on Dictionary"
   ]
  },
  {
   "cell_type": "code",
   "execution_count": 7,
   "id": "a05f960e",
   "metadata": {},
   "outputs": [
    {
     "name": "stdout",
     "output_type": "stream",
     "text": [
      "{2: 4, 4: 16, 6: 36, 8: 64, 10: 100, 12: 144, 14: 196, 16: 256, 18: 324, 20: 400}\n"
     ]
    }
   ],
   "source": [
    "ordinary_dict={}\n",
    "for i in range(2,21):\n",
    "    if i%2 == 0:\n",
    "        ordinary_dict[i]=i**2\n",
    "print(ordinary_dict)"
   ]
  },
  {
   "cell_type": "markdown",
   "id": "fe703dc8",
   "metadata": {},
   "source": [
    "### Using Dictionary Comprehension"
   ]
  },
  {
   "cell_type": "code",
   "execution_count": 8,
   "id": "ff960c05",
   "metadata": {},
   "outputs": [
    {
     "name": "stdout",
     "output_type": "stream",
     "text": [
      "{2: 4, 4: 16, 6: 36, 8: 64, 10: 100, 12: 144, 14: 196, 16: 256, 18: 324, 20: 400}\n"
     ]
    }
   ],
   "source": [
    "updated_dict={i:i**2 for i in range(2,21) if i%2==0}\n",
    "print(updated_dict)"
   ]
  },
  {
   "cell_type": "markdown",
   "id": "d84cb65c",
   "metadata": {},
   "source": [
    "### Using Set Comprehension"
   ]
  },
  {
   "cell_type": "code",
   "execution_count": 9,
   "id": "0999755e",
   "metadata": {},
   "outputs": [
    {
     "name": "stdout",
     "output_type": "stream",
     "text": [
      "Enter a word: Prython Programming\n",
      "{'i', 'a', 'o'}\n"
     ]
    }
   ],
   "source": [
    "word=input(\"Enter a word: \")\n",
    "vowels={i for i in word if i in 'aeiou'}\n",
    "print(vowels)"
   ]
  },
  {
   "cell_type": "code",
   "execution_count": null,
   "id": "a510aa19",
   "metadata": {},
   "outputs": [],
   "source": []
  }
 ],
 "metadata": {
  "kernelspec": {
   "display_name": "Python 3 (ipykernel)",
   "language": "python",
   "name": "python3"
  },
  "language_info": {
   "codemirror_mode": {
    "name": "ipython",
    "version": 3
   },
   "file_extension": ".py",
   "mimetype": "text/x-python",
   "name": "python",
   "nbconvert_exporter": "python",
   "pygments_lexer": "ipython3",
   "version": "3.11.4"
  }
 },
 "nbformat": 4,
 "nbformat_minor": 5
}
