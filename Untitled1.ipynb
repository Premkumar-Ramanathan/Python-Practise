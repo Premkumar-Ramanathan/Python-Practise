{
 "cells": [
  {
   "cell_type": "code",
   "execution_count": 2,
   "id": "6e0dbf5d",
   "metadata": {},
   "outputs": [
    {
     "name": "stdout",
     "output_type": "stream",
     "text": [
      "adsfasdX\n"
     ]
    }
   ],
   "source": [
    "a='adsfasd'\n",
    "b='X'\n",
    "a+=b\n",
    "print(a)"
   ]
  },
  {
   "cell_type": "code",
   "execution_count": 3,
   "id": "8a81f28e",
   "metadata": {},
   "outputs": [
    {
     "name": "stdout",
     "output_type": "stream",
     "text": [
      "0\n",
      "1\n",
      "2\n",
      "3\n",
      "4\n",
      "5\n",
      "6\n",
      "7\n",
      "8\n",
      "9\n"
     ]
    }
   ],
   "source": [
    "for i in range(10):\n",
    "    print(i)"
   ]
  },
  {
   "cell_type": "code",
   "execution_count": 4,
   "id": "2a1f634a",
   "metadata": {},
   "outputs": [
    {
     "name": "stdout",
     "output_type": "stream",
     "text": [
      "e\n"
     ]
    }
   ],
   "source": [
    "inp='This is python session'\n",
    "out=inp[-6]\n",
    "print(out)"
   ]
  },
  {
   "cell_type": "code",
   "execution_count": 7,
   "id": "679a44b7",
   "metadata": {},
   "outputs": [
    {
     "name": "stdout",
     "output_type": "stream",
     "text": [
      "gnizama si n is amazing\n"
     ]
    }
   ],
   "source": [
    "inp=\"Python is amazing\"\n",
    "out=inp[:5:-1]+ inp[5::]\n",
    "print(out)"
   ]
  },
  {
   "cell_type": "code",
   "execution_count": 14,
   "id": "39517911",
   "metadata": {},
   "outputs": [
    {
     "name": "stdout",
     "output_type": "stream",
     "text": [
      "10\n",
      "9\n",
      "8\n",
      "7\n",
      "6\n",
      "5\n",
      "4\n",
      "3\n",
      "2\n",
      "1\n"
     ]
    }
   ],
   "source": [
    "for i in range(10, 0, -1):\n",
    "    print(i)"
   ]
  },
  {
   "cell_type": "code",
   "execution_count": 30,
   "id": "ca6f1df5",
   "metadata": {},
   "outputs": [
    {
     "name": "stdout",
     "output_type": "stream",
     "text": [
      "Enter the Table Number: 7\n",
      "7 * 10 = 70\n",
      "7 * 9 = 63\n",
      "7 * 8 = 56\n",
      "7 * 7 = 49\n",
      "7 * 6 = 42\n",
      "7 * 5 = 35\n",
      "7 * 4 = 28\n",
      "7 * 3 = 21\n",
      "7 * 2 = 14\n",
      "7 * 1 = 7\n"
     ]
    }
   ],
   "source": [
    "n=int(input('Enter the Table Number: '))\n",
    "for i in range(10,0,-1):\n",
    "    print (n,'*',str(i),'=', n*i)"
   ]
  },
  {
   "cell_type": "code",
   "execution_count": 51,
   "id": "2839ef16",
   "metadata": {},
   "outputs": [
    {
     "name": "stdout",
     "output_type": "stream",
     "text": [
      "Enter the Table Number: 7\n",
      "7 * 1 = 7\n",
      "7 * 2 = 14\n",
      "7 * 3 = 21\n",
      "7 * 4 = 28\n",
      "7 * 5 = 35\n",
      "7 * 6 = 42\n",
      "7 * 7 = 49\n",
      "7 * 8 = 56\n",
      "7 * 9 = 63\n",
      "7 * 10 = 70\n"
     ]
    }
   ],
   "source": [
    "n=int(input('Enter the Table Number: '))\n",
    "for i in range(1,11):\n",
    "    print (n,'*',str(i),'=', n*i)"
   ]
  },
  {
   "cell_type": "code",
   "execution_count": 33,
   "id": "77fa5253",
   "metadata": {},
   "outputs": [
    {
     "name": "stdout",
     "output_type": "stream",
     "text": [
      "Enter number of rows to print * : 10\n",
      "\n",
      "*\n",
      "**\n",
      "***\n",
      "****\n",
      "*****\n",
      "******\n",
      "*******\n",
      "********\n",
      "*********\n"
     ]
    }
   ],
   "source": [
    "n=int(input('Enter number of rows to print * : '))\n",
    "for i in range(n):\n",
    "    print(i*'*')"
   ]
  },
  {
   "cell_type": "code",
   "execution_count": 36,
   "id": "d8c30463",
   "metadata": {},
   "outputs": [
    {
     "name": "stdout",
     "output_type": "stream",
     "text": [
      "Mahul\n"
     ]
    }
   ],
   "source": [
    "name='Rahul'\n",
    "name1=name.replace('R','M')\n",
    "print(name1)"
   ]
  },
  {
   "cell_type": "code",
   "execution_count": 44,
   "id": "52dcd93b",
   "metadata": {},
   "outputs": [
    {
     "name": "stdout",
     "output_type": "stream",
     "text": [
      "adgjmpsvy\n"
     ]
    }
   ],
   "source": [
    "s1='abcdefghijklmnopqrstuvwxyz'\n",
    "s2=''\n",
    "for i in range(0,len(s1),3):\n",
    "    s2=s2+s1[i]\n",
    "print(s2)"
   ]
  },
  {
   "cell_type": "code",
   "execution_count": 46,
   "id": "221b7db4",
   "metadata": {},
   "outputs": [
    {
     "name": "stdout",
     "output_type": "stream",
     "text": [
      "Enter the first Number : 50\n",
      "Enter the second Number : 50\n",
      "Sum is Lesser than 100\n"
     ]
    }
   ],
   "source": [
    "x=int(input('Enter the first Number : '))\n",
    "y=int(input('Enter the second Number : '))\n",
    "if x+y > 100:\n",
    "    print('Sum is Greather than 100')\n",
    "else:\n",
    "    print('Sum is Lesser than 100')"
   ]
  },
  {
   "cell_type": "code",
   "execution_count": 61,
   "id": "ef5a7642",
   "metadata": {},
   "outputs": [
    {
     "name": "stdout",
     "output_type": "stream",
     "text": [
      "Enter the first Number : 1\n",
      "Enter the first Number : 2\n",
      "Enter the first Number : 3\n",
      "Enter the first Number : 4\n",
      "Enter the first Number : 5\n",
      "Enter the first Number : 6\n",
      "Enter the first Number : 7\n",
      "Enter the first Number : 8\n",
      "Enter the first Number : 9\n",
      "Enter the first Number : 10\n",
      "The max is :  10\n",
      "The min is :  1\n"
     ]
    }
   ],
   "source": [
    "num=[]\n",
    "for i in range(1,11):\n",
    "    x=int(input('Enter the first Number : '))\n",
    "    num.append(x)\n",
    "print('The max is : ', max(num))\n",
    "print('The min is : ', min(num))"
   ]
  },
  {
   "cell_type": "markdown",
   "id": "f789f872",
   "metadata": {},
   "source": [
    "i=0\n",
    "while i<5:\n",
    "    print(i,end=\" \")\n",
    "    i+=2\n",
    "if i==1:\n",
    "    continue\n",
    "else:\n",
    "    print(1,end=\" \")"
   ]
  },
  {
   "cell_type": "code",
   "execution_count": 65,
   "id": "b3795116",
   "metadata": {},
   "outputs": [
    {
     "name": "stdout",
     "output_type": "stream",
     "text": [
      "0 2 4 1 "
     ]
    }
   ],
   "source": [
    "i=0\n",
    "while i<5:\n",
    "    print(i,end=\" \")\n",
    "    i+=2\n",
    "    if i==1:\n",
    "        continue\n",
    "else:\n",
    "    print(1,end=\" \")"
   ]
  },
  {
   "cell_type": "code",
   "execution_count": 69,
   "id": "9065761f",
   "metadata": {},
   "outputs": [
    {
     "name": "stdout",
     "output_type": "stream",
     "text": [
      "I,love,Python,"
     ]
    }
   ],
   "source": [
    "string='I love Python'\n",
    "for i in string.split():\n",
    "    print(i,end=\",\")"
   ]
  },
  {
   "cell_type": "code",
   "execution_count": 67,
   "id": "8d40fbf7",
   "metadata": {},
   "outputs": [
    {
     "name": "stdout",
     "output_type": "stream",
     "text": [
      "[0, 3]\n"
     ]
    }
   ],
   "source": [
    "list1=[1,3]\n",
    "list2=list1\n",
    "\n",
    "list1[0]=0\n",
    "print(list2)"
   ]
  },
  {
   "cell_type": "code",
   "execution_count": 70,
   "id": "bddb13f2",
   "metadata": {},
   "outputs": [
    {
     "name": "stdout",
     "output_type": "stream",
     "text": [
      "16\n"
     ]
    }
   ],
   "source": [
    "x=8\n",
    "if(x>6):\n",
    "    x=x*2\n",
    "if(x<12):\n",
    "    x=0\n",
    "print(x)"
   ]
  },
  {
   "cell_type": "code",
   "execution_count": 72,
   "id": "cde2be8b",
   "metadata": {},
   "outputs": [
    {
     "name": "stdout",
     "output_type": "stream",
     "text": [
      "36\n"
     ]
    }
   ],
   "source": [
    "x=0\n",
    "for i in range(4):\n",
    "    for j in range(-1,-10, -1):\n",
    "        x+=1\n",
    "print(x)"
   ]
  },
  {
   "cell_type": "code",
   "execution_count": null,
   "id": "1e8e985f",
   "metadata": {},
   "outputs": [],
   "source": []
  }
 ],
 "metadata": {
  "kernelspec": {
   "display_name": "Python 3 (ipykernel)",
   "language": "python",
   "name": "python3"
  },
  "language_info": {
   "codemirror_mode": {
    "name": "ipython",
    "version": 3
   },
   "file_extension": ".py",
   "mimetype": "text/x-python",
   "name": "python",
   "nbconvert_exporter": "python",
   "pygments_lexer": "ipython3",
   "version": "3.11.4"
  }
 },
 "nbformat": 4,
 "nbformat_minor": 5
}
