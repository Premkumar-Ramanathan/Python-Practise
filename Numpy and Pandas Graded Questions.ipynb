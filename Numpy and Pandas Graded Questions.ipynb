{
 "cells": [
  {
   "cell_type": "code",
   "execution_count": 1,
   "id": "db02b401",
   "metadata": {},
   "outputs": [],
   "source": [
    "import pandas as pd\n",
    "import numpy as np"
   ]
  },
  {
   "cell_type": "code",
   "execution_count": 3,
   "id": "e18391e0",
   "metadata": {},
   "outputs": [
    {
     "name": "stdout",
     "output_type": "stream",
     "text": [
      "[[ 0  1  2  3  4  5  6  7]\n",
      " [ 8  9 10 11 12 13 14 15]\n",
      " [16 17 18 19 20 21 22 23]\n",
      " [24 25 26 27 28 29 30 31]\n",
      " [32 33 34 35 36 37 38 39]\n",
      " [40 41 42 43 44 45 46 47]\n",
      " [48 49 50 51 52 53 54 55]\n",
      " [56 57 58 59 60 61 62 63]]\n",
      "Index (x, y) of element 50 is: (6, 2)\n"
     ]
    }
   ],
   "source": [
    "# Create an (8, 8) shape NumPy array\n",
    "array = np.arange(64).reshape(8, 8)\n",
    "print(array)\n",
    "# Find the index (x, y) of the 50th element\n",
    "element_number = 50\n",
    "x, y = np.where(array == element_number)\n",
    "\n",
    "# Print the index\n",
    "print(\"Index (x, y) of element\", element_number, \"is:\", (x[0], y[0]))"
   ]
  },
  {
   "cell_type": "code",
   "execution_count": 4,
   "id": "443d6f72",
   "metadata": {},
   "outputs": [
    {
     "name": "stdout",
     "output_type": "stream",
     "text": [
      "[[ 0  1  2  3  4  5]\n",
      " [ 6  7  8  9 10 11]\n",
      " [12 13 14 15 16 17]\n",
      " [18 19 20 21 22 23]\n",
      " [24 25 26 27 28 29]\n",
      " [30 31 32 33 34 35]]\n"
     ]
    }
   ],
   "source": [
    "ar2=np.arange(36).reshape(6,6)\n",
    "print(ar2)"
   ]
  },
  {
   "cell_type": "code",
   "execution_count": 7,
   "id": "5e79c63c",
   "metadata": {},
   "outputs": [
    {
     "data": {
      "text/plain": [
       "array([[ 1,  2,  3,  4,  5],\n",
       "       [ 7,  8,  9, 10, 11],\n",
       "       [13, 14, 15, 16, 17]])"
      ]
     },
     "execution_count": 7,
     "metadata": {},
     "output_type": "execute_result"
    }
   ],
   "source": [
    "ar2[:3,-5:]"
   ]
  },
  {
   "cell_type": "code",
   "execution_count": 8,
   "id": "18e5547f",
   "metadata": {},
   "outputs": [
    {
     "data": {
      "text/plain": [
       "array([[ 1,  3],\n",
       "       [ 5,  7],\n",
       "       [ 9, 11],\n",
       "       [13, 15]])"
      ]
     },
     "execution_count": 8,
     "metadata": {},
     "output_type": "execute_result"
    }
   ],
   "source": [
    "ar3=np.arange(1,16,2).reshape(4, 2)\n",
    "ar3"
   ]
  },
  {
   "cell_type": "code",
   "execution_count": 10,
   "id": "96ab6197",
   "metadata": {},
   "outputs": [
    {
     "data": {
      "text/plain": [
       "array([ 1,  3,  5,  7,  9, 11, 13, 15])"
      ]
     },
     "execution_count": 10,
     "metadata": {},
     "output_type": "execute_result"
    }
   ],
   "source": [
    "ar4=np.arange(1,16,2)\n",
    "ar4"
   ]
  },
  {
   "cell_type": "code",
   "execution_count": 11,
   "id": "7750bb43",
   "metadata": {},
   "outputs": [
    {
     "name": "stdout",
     "output_type": "stream",
     "text": [
      "[[0 0 1 0 0]\n",
      " [0 0 1 0 0]\n",
      " [1 1 1 1 1]\n",
      " [0 0 1 0 0]\n",
      " [0 0 1 0 0]]\n"
     ]
    }
   ],
   "source": [
    "n = 5  # You can change the value of 'n' as needed\n",
    "\n",
    "if n > 2 and n % 2 != 0:\n",
    "    # Create an (n x n) array of zeros\n",
    "    arr = np.zeros((n, n), dtype=int)\n",
    "\n",
    "    # Fill the middle row and middle column with ones\n",
    "    middle = n // 2\n",
    "    arr[middle, :] = 1  # Fill the middle row with ones\n",
    "    arr[:, middle] = 1  # Fill the middle column with ones\n",
    "\n",
    "    # Print the resulting array\n",
    "    print(arr)\n",
    "else:\n",
    "    print(\"Input 'n' must be a positive odd integer greater than 2.\")"
   ]
  },
  {
   "cell_type": "code",
   "execution_count": 13,
   "id": "c7f291e1",
   "metadata": {},
   "outputs": [
    {
     "data": {
      "text/plain": [
       "3"
      ]
     },
     "execution_count": 13,
     "metadata": {},
     "output_type": "execute_result"
    }
   ],
   "source": [
    "6//2"
   ]
  },
  {
   "cell_type": "code",
   "execution_count": null,
   "id": "59c825c8",
   "metadata": {},
   "outputs": [],
   "source": []
  }
 ],
 "metadata": {
  "kernelspec": {
   "display_name": "Python 3 (ipykernel)",
   "language": "python",
   "name": "python3"
  },
  "language_info": {
   "codemirror_mode": {
    "name": "ipython",
    "version": 3
   },
   "file_extension": ".py",
   "mimetype": "text/x-python",
   "name": "python",
   "nbconvert_exporter": "python",
   "pygments_lexer": "ipython3",
   "version": "3.11.4"
  }
 },
 "nbformat": 4,
 "nbformat_minor": 5
}
