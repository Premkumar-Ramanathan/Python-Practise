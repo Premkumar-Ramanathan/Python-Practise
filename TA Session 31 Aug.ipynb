{
 "cells": [
  {
   "cell_type": "code",
   "execution_count": 1,
   "id": "a3590b24",
   "metadata": {},
   "outputs": [],
   "source": [
    "d={'Name':'Rahul','Gender':'Male','Org':'TCS'}"
   ]
  },
  {
   "cell_type": "code",
   "execution_count": 2,
   "id": "0fba4a2c",
   "metadata": {},
   "outputs": [
    {
     "name": "stdout",
     "output_type": "stream",
     "text": [
      "{'Name': 'Rahul', 'Gender': 'Male', 'Org': 'TCS'}\n"
     ]
    }
   ],
   "source": [
    "print(d)"
   ]
  },
  {
   "cell_type": "code",
   "execution_count": 3,
   "id": "8def7910",
   "metadata": {},
   "outputs": [
    {
     "name": "stdout",
     "output_type": "stream",
     "text": [
      "<class 'dict'>\n"
     ]
    }
   ],
   "source": [
    "print(type(d))"
   ]
  },
  {
   "cell_type": "code",
   "execution_count": 4,
   "id": "0cb4ad8d",
   "metadata": {},
   "outputs": [
    {
     "data": {
      "text/plain": [
       "<function dict.items>"
      ]
     },
     "execution_count": 4,
     "metadata": {},
     "output_type": "execute_result"
    }
   ],
   "source": [
    "d.items"
   ]
  },
  {
   "cell_type": "code",
   "execution_count": 5,
   "id": "eee14725",
   "metadata": {},
   "outputs": [
    {
     "data": {
      "text/plain": [
       "<function dict.values>"
      ]
     },
     "execution_count": 5,
     "metadata": {},
     "output_type": "execute_result"
    }
   ],
   "source": [
    "d.values"
   ]
  },
  {
   "cell_type": "code",
   "execution_count": 7,
   "id": "580bfedc",
   "metadata": {},
   "outputs": [
    {
     "data": {
      "text/plain": [
       "dict_values(['Rahul', 'Male', 'TCS'])"
      ]
     },
     "execution_count": 7,
     "metadata": {},
     "output_type": "execute_result"
    }
   ],
   "source": [
    "d.values()"
   ]
  },
  {
   "cell_type": "code",
   "execution_count": 13,
   "id": "368c4f6f",
   "metadata": {},
   "outputs": [
    {
     "name": "stdout",
     "output_type": "stream",
     "text": [
      "{1: 1, 2: 4, 3: 9, 4: 16, 5: 25, 6: 36, 7: 49, 8: 64, 9: 81, 10: 100}\n"
     ]
    }
   ],
   "source": [
    "dict={}\n",
    "for i in range (1,11):\n",
    "    val=i**2\n",
    "    dict[i]=val\n",
    "print(dict)"
   ]
  },
  {
   "cell_type": "code",
   "execution_count": 10,
   "id": "984fbef3",
   "metadata": {},
   "outputs": [
    {
     "name": "stdout",
     "output_type": "stream",
     "text": [
      "{1: 1, 2: 4, 3: 9, 4: 16, 5: 25, 6: 36, 7: 49, 8: 64, 9: 81}\n"
     ]
    }
   ],
   "source": [
    "dict={}\n",
    "for i in range(1,10):\n",
    "    val=i*i\n",
    "    dict[i]=val\n",
    "print(dict)"
   ]
  },
  {
   "cell_type": "code",
   "execution_count": 14,
   "id": "784d6a14",
   "metadata": {},
   "outputs": [
    {
     "data": {
      "text/plain": [
       "'delhi'"
      ]
     },
     "execution_count": 14,
     "metadata": {},
     "output_type": "execute_result"
    }
   ],
   "source": [
    "c={\"eng\":\"London\",\"india\":\"delhi\"}\n",
    "c[\"india\"]"
   ]
  },
  {
   "cell_type": "code",
   "execution_count": 16,
   "id": "c7007c93",
   "metadata": {},
   "outputs": [
    {
     "data": {
      "text/plain": [
       "'delhi'"
      ]
     },
     "execution_count": 16,
     "metadata": {},
     "output_type": "execute_result"
    }
   ],
   "source": [
    "c[\"india\"]"
   ]
  },
  {
   "cell_type": "code",
   "execution_count": 17,
   "id": "7173267a",
   "metadata": {},
   "outputs": [
    {
     "name": "stdout",
     "output_type": "stream",
     "text": [
      "['__class__', '__class_getitem__', '__contains__', '__delattr__', '__delitem__', '__dir__', '__doc__', '__eq__', '__format__', '__ge__', '__getattribute__', '__getitem__', '__getstate__', '__gt__', '__hash__', '__init__', '__init_subclass__', '__ior__', '__iter__', '__le__', '__len__', '__lt__', '__ne__', '__new__', '__or__', '__reduce__', '__reduce_ex__', '__repr__', '__reversed__', '__ror__', '__setattr__', '__setitem__', '__sizeof__', '__str__', '__subclasshook__', 'clear', 'copy', 'fromkeys', 'get', 'items', 'keys', 'pop', 'popitem', 'setdefault', 'update', 'values']\n"
     ]
    }
   ],
   "source": [
    "print(dir(c))"
   ]
  },
  {
   "cell_type": "code",
   "execution_count": 24,
   "id": "714ac58d",
   "metadata": {},
   "outputs": [
    {
     "name": "stdout",
     "output_type": "stream",
     "text": [
      "[25, 30]\n"
     ]
    }
   ],
   "source": [
    "output=[]\n",
    "dict=[{'name':'Alice','age':25},{'name':'Bob','age':30}]\n",
    "for i in dict:\n",
    "    output.append(i['age'])\n",
    "print(output)"
   ]
  },
  {
   "cell_type": "code",
   "execution_count": null,
   "id": "8c0d9a7e",
   "metadata": {},
   "outputs": [],
   "source": [
    "s=input()\n",
    "list=[]\n",
    "words=s.split(\",\")\n",
    "for i in words:\n",
    "    list.append(i)\n",
    "print(list[-1])"
   ]
  },
  {
   "cell_type": "code",
   "execution_count": null,
   "id": "db0037c6",
   "metadata": {},
   "outputs": [],
   "source": [
    "book=set()\n",
    "ch='y'\n",
    "while ch=='y':\n",
    "    name=input(\"Enter Book Name: \")\n",
    "    book.add(name)\n",
    "    ch=input(\"Do you want to continue: \")\n",
    "print(book)"
   ]
  },
  {
   "cell_type": "code",
   "execution_count": null,
   "id": "4a1c6757",
   "metadata": {},
   "outputs": [],
   "source": [
    "marks=(\"parth\":[21:29:16],\"yohan\":[20,30,40])\n",
    "sum(marks[\"parth\"])/len(marks[\"parth\"])"
   ]
  },
  {
   "cell_type": "code",
   "execution_count": null,
   "id": "8ca3f135",
   "metadata": {},
   "outputs": [],
   "source": [
    "set1={\"delhi\",\"mumbai\",\"kashmir\"}\n",
    "set2={\"mumbai\",\"chennai\",\"jaipur\"}\n",
    "\n",
    "set1.difference_update(set2)\n",
    "print(set1)"
   ]
  },
  {
   "cell_type": "code",
   "execution_count": null,
   "id": "fb1b8314",
   "metadata": {},
   "outputs": [],
   "source": [
    "odd={1,3,5,7,9}\n",
    "even={2,4,6,8,0}\n",
    "prime={2,3,5,7,11}\n",
    "set1=odd.union(even)\n",
    "set2=set1.difference(prime)\n",
    "print(set2)"
   ]
  },
  {
   "cell_type": "code",
   "execution_count": null,
   "id": "77370b00",
   "metadata": {},
   "outputs": [],
   "source": [
    "s=[[1,2,3],[4,5],[6,7,8,9]]\n",
    "output=[]\n",
    "for i in s:\n",
    "    output.append(sum(i))\n",
    "print(output)"
   ]
  },
  {
   "cell_type": "code",
   "execution_count": null,
   "id": "40128b18",
   "metadata": {},
   "outputs": [],
   "source": []
  },
  {
   "cell_type": "code",
   "execution_count": null,
   "id": "18724783",
   "metadata": {},
   "outputs": [],
   "source": []
  },
  {
   "cell_type": "code",
   "execution_count": null,
   "id": "ec9cf814",
   "metadata": {},
   "outputs": [],
   "source": []
  }
 ],
 "metadata": {
  "kernelspec": {
   "display_name": "Python 3 (ipykernel)",
   "language": "python",
   "name": "python3"
  },
  "language_info": {
   "codemirror_mode": {
    "name": "ipython",
    "version": 3
   },
   "file_extension": ".py",
   "mimetype": "text/x-python",
   "name": "python",
   "nbconvert_exporter": "python",
   "pygments_lexer": "ipython3",
   "version": "3.11.4"
  }
 },
 "nbformat": 4,
 "nbformat_minor": 5
}
