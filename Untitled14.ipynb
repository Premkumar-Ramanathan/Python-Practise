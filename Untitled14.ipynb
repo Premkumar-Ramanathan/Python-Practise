{
 "cells": [
  {
   "cell_type": "code",
   "execution_count": 5,
   "id": "a07a02b0",
   "metadata": {},
   "outputs": [],
   "source": [
    "l=[1,4,13,-3,-353,3,44]"
   ]
  },
  {
   "cell_type": "code",
   "execution_count": 3,
   "id": "794d7ef7",
   "metadata": {},
   "outputs": [],
   "source": [
    "posnum=lambda l:l>0"
   ]
  },
  {
   "cell_type": "code",
   "execution_count": 4,
   "id": "290b92d6",
   "metadata": {},
   "outputs": [
    {
     "name": "stdout",
     "output_type": "stream",
     "text": [
      "<function <lambda> at 0x000001A10B2FE520>\n"
     ]
    }
   ],
   "source": [
    "print(posnum)"
   ]
  },
  {
   "cell_type": "code",
   "execution_count": 6,
   "id": "63d62da3",
   "metadata": {},
   "outputs": [],
   "source": [
    "evenlist=[x for x in l if x%2==0]"
   ]
  },
  {
   "cell_type": "code",
   "execution_count": 7,
   "id": "af64c7ea",
   "metadata": {},
   "outputs": [
    {
     "name": "stdout",
     "output_type": "stream",
     "text": [
      "[4, 44]\n"
     ]
    }
   ],
   "source": [
    "print(evenlist)"
   ]
  },
  {
   "cell_type": "code",
   "execution_count": 9,
   "id": "8ba83dc8",
   "metadata": {},
   "outputs": [
    {
     "name": "stdout",
     "output_type": "stream",
     "text": [
      "Arica\n"
     ]
    }
   ],
   "source": [
    "vowel={'a','e','i','o','u'}\n",
    "name=input()\n",
    "name=list(name)\n",
    "outname=lambda name:name[0] not in vowel"
   ]
  },
  {
   "cell_type": "code",
   "execution_count": 10,
   "id": "af6e44ee",
   "metadata": {},
   "outputs": [
    {
     "name": "stdout",
     "output_type": "stream",
     "text": [
      "<function <lambda> at 0x000001A10B2FE0C0>\n"
     ]
    }
   ],
   "source": [
    "print(outname)"
   ]
  },
  {
   "cell_type": "code",
   "execution_count": 14,
   "id": "755e82c0",
   "metadata": {},
   "outputs": [
    {
     "name": "stdout",
     "output_type": "stream",
     "text": [
      "Africa\n",
      "['A']\n"
     ]
    }
   ],
   "source": [
    "vowels=['a','e','i','o','u']\n",
    "name=\n",
    "name=list(name)\n",
    "outname = [x for x in name if name[0] in vowels]\n",
    "\n",
    "print(outname)"
   ]
  },
  {
   "cell_type": "code",
   "execution_count": null,
   "id": "f5933d73",
   "metadata": {},
   "outputs": [],
   "source": []
  }
 ],
 "metadata": {
  "kernelspec": {
   "display_name": "Python 3 (ipykernel)",
   "language": "python",
   "name": "python3"
  },
  "language_info": {
   "codemirror_mode": {
    "name": "ipython",
    "version": 3
   },
   "file_extension": ".py",
   "mimetype": "text/x-python",
   "name": "python",
   "nbconvert_exporter": "python",
   "pygments_lexer": "ipython3",
   "version": "3.11.4"
  }
 },
 "nbformat": 4,
 "nbformat_minor": 5
}
