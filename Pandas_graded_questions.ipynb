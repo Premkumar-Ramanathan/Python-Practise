{
 "cells": [
  {
   "cell_type": "code",
   "execution_count": 1,
   "metadata": {
    "id": "uutVSXkdGBfm"
   },
   "outputs": [],
   "source": [
    "import numpy as np\n",
    "import pandas as pd"
   ]
  },
  {
   "cell_type": "code",
   "execution_count": 7,
   "metadata": {
    "id": "D5qL_wtxGBfy"
   },
   "outputs": [],
   "source": [
    "df=pd.read_csv('E:\\Data Science\\Datasets\\MegaMart_sales.csv')\n",
    "df_new=pd.read_csv('E:\\Data Science\\Datasets\\MegaMart_newsales.csv')"
   ]
  },
  {
   "cell_type": "code",
   "execution_count": 18,
   "metadata": {
    "id": "XnbRL0HIGBf0"
   },
   "outputs": [
    {
     "data": {
      "text/plain": [
       "Category\n",
       "Furniture          2460\n",
       "Office Supplies    7970\n",
       "Technology         8588\n",
       "Name: Sales, dtype: int64"
      ]
     },
     "execution_count": 18,
     "metadata": {},
     "output_type": "execute_result"
    }
   ],
   "source": [
    "df_combined=pd.concat([df,df_new],axis=0,ignore_index=True)\n",
    "df_combined.groupby(by='Category').Sales.sum()\n",
    "#df_combined.head()"
   ]
  },
  {
   "cell_type": "code",
   "execution_count": 19,
   "metadata": {},
   "outputs": [
    {
     "data": {
      "text/plain": [
       "7970"
      ]
     },
     "execution_count": 19,
     "metadata": {},
     "output_type": "execute_result"
    }
   ],
   "source": [
    "office_supplies_df=df_combined[df_combined['Category']=='Office Supplies']\n",
    "off_sup_sales=office_supplies_df['Sales'].sum()\n",
    "off_sup_sales"
   ]
  },
  {
   "cell_type": "markdown",
   "metadata": {
    "id": "8i2QXssbGBf1"
   },
   "source": [
    "\n"
   ]
  },
  {
   "cell_type": "markdown",
   "metadata": {
    "id": "MGItV5pWGBf6"
   },
   "source": [
    "#### Combining two data frames\n",
    "Question 1: Some of the orders are stored in another csv file named `megamart_new sales`. Read the csv file, store it in a data frame and add it to the `megamart_sales` data frame. Find the total sales value of the category 'Office Supplies'  after combining the dataframes\n",
    "\n",
    "    a)7970\n",
    "    b)6964\n",
    "    c)7494\n",
    "    d)6076"
   ]
  },
  {
   "cell_type": "code",
   "execution_count": null,
   "metadata": {
    "id": "QYBtMG1NGBf7"
   },
   "outputs": [],
   "source": [
    "#your code here\n"
   ]
  },
  {
   "cell_type": "markdown",
   "metadata": {
    "id": "z4Z0ZMHsGBf9"
   },
   "source": [
    "#### Dropping duplicates\n",
    "Question 2: There are some duplicate rows in the data frame. Drop these rows and calculate the total sales value of the category Office Supplies.\n",
    "\n",
    "    a)7156\n",
    "    b)6496\n",
    "    c)6964\n",
    "    d)6023"
   ]
  },
  {
   "cell_type": "code",
   "execution_count": 21,
   "metadata": {
    "id": "35vdjyU2GBf_"
   },
   "outputs": [
    {
     "data": {
      "text/plain": [
       "Category\n",
       "Furniture          2460\n",
       "Office Supplies    6964\n",
       "Technology         7494\n",
       "Name: Sales, dtype: int64"
      ]
     },
     "execution_count": 21,
     "metadata": {},
     "output_type": "execute_result"
    }
   ],
   "source": [
    "df_combined.drop_duplicates(subset=None,keep='first',inplace=True)\n",
    "df_combined.groupby(by='Category').Sales.sum()"
   ]
  },
  {
   "cell_type": "markdown",
   "metadata": {
    "id": "71CSKOO0GBgC"
   },
   "source": [
    "#### Best category-sub category \n",
    "Question 3: Find the most profitable category and sub category combination based on the net profit.\n",
    "\n",
    "\n",
    "    a)Furniture-Bookcases\n",
    "    b)Office supplies-Appliances\n",
    "    c)Office supplies-Storage\n",
    "    d)Technology-Phones"
   ]
  },
  {
   "cell_type": "code",
   "execution_count": 23,
   "metadata": {
    "id": "-W66EdQqGBgF"
   },
   "outputs": [
    {
     "data": {
      "text/plain": [
       "Category         Sub-Category\n",
       "Furniture        Bookcases        308\n",
       "                 Chairs           -49\n",
       "                 Furnishings       74\n",
       "Office Supplies  Appliances       229\n",
       "                 Art              275\n",
       "                 Binders          156\n",
       "                 Envelopes         35\n",
       "                 Fasteners         10\n",
       "                 Labels            30\n",
       "                 Paper             15\n",
       "                 Storage          192\n",
       "                 Supplies         103\n",
       "Technology       Accessories      215\n",
       "                 Copiers            0\n",
       "                 Machines         168\n",
       "                 Phones          1618\n",
       "Name: Profit, dtype: int64"
      ]
     },
     "execution_count": 23,
     "metadata": {},
     "output_type": "execute_result"
    }
   ],
   "source": [
    "df_combined.drop_duplicates(subset=None,keep='first',inplace=True)\n",
    "df_combined.groupby(by=['Category','Sub-Category']).Profit.sum()"
   ]
  },
  {
   "cell_type": "markdown",
   "metadata": {
    "id": "nIf1pLgbGBgG"
   },
   "source": [
    "#### Invalid order IDs\n",
    "Question 4: How many invalid order IDs are there in the data frame? An order id is of the form AZ-2011-Y where Y represents a whole number. A Order ID is said to be valid only if Y consists of 7 digits. Find the number of invalid order IDs in the data frame.\n",
    "    \n",
    "    a)6\n",
    "    b)7\n",
    "    c)8\n",
    "    d)9\n"
   ]
  },
  {
   "cell_type": "code",
   "execution_count": null,
   "metadata": {
    "id": "umb45LP_GBgH"
   },
   "outputs": [],
   "source": [
    "df['Order no']=df['Order ID'].str.split('-')\n",
    "\n",
    "df['Order no']=df['Order no'].apply(lambda x: x[2])\n",
    "\n",
    "df['no_of_digits']=df['Order no'].apply(lambda x: len(x))\n",
    "\n",
    "df['no_of_digits'].value_counts()"
   ]
  },
  {
   "cell_type": "markdown",
   "metadata": {
    "id": "nTGiL7EgGBgJ"
   },
   "source": [
    "#### Occurence of furniture in top 25 sales\n",
    "Question 5: Find the top 25 orders based on sales value and find the number of orders which belong to furniture category.\n",
    "\n",
    "    a)2\n",
    "    b)3\n",
    "    c)4\n",
    "    d)5 "
   ]
  },
  {
   "cell_type": "code",
   "execution_count": null,
   "metadata": {
    "id": "moF_6DakGBgK"
   },
   "outputs": [],
   "source": [
    "df2=df.sort_values(by='Sales', ascending=False)\n",
    "df2=df2.iloc[:25,]\n",
    "\n",
    "df2['Category'].value_counts()"
   ]
  },
  {
   "cell_type": "code",
   "execution_count": null,
   "metadata": {
    "id": "bsP41n7PGBgM"
   },
   "outputs": [],
   "source": []
  },
  {
   "cell_type": "markdown",
   "metadata": {
    "id": "arNK-W-jGBgN"
   },
   "source": [
    "#### And operation\n",
    "Question 6: Among the orders with sales>250 and profit>50, find the product name of the fourth highest order based on sales value.\n",
    "\n",
    "    a)Motorola Headset, with Caller ID\n",
    "    b)Panasonic Printer, Durable\t\n",
    "    c)Hoover Microwave, Red\t\n",
    "    d)Fellowes Lockers, Industrial\t"
   ]
  },
  {
   "cell_type": "code",
   "execution_count": null,
   "metadata": {
    "id": "C_aeSSqEGBgN"
   },
   "outputs": [],
   "source": [
    "df3=df.loc[(df['Sales']>250) & (df['Profit']>50)]\n",
    "df3=df3.sort_values(by='Sales',ascending=False) "
   ]
  },
  {
   "cell_type": "markdown",
   "metadata": {
    "id": "1bXtNj_VGBgO"
   },
   "source": [
    "#### Column manipulation\n",
    "Question 7: Remove the orders with negative profit by dropping the corresponding rows with negative `Profit`. Find the product that makes the lowest profit per Quantity in the Technology category.\n",
    "\n",
    "    a) Nokia Audio Dock, with Caller ID\n",
    "    b) Logitech Keyboard, Programmable\n",
    "    c) Motorola Headset, with Caller ID\n",
    "    d) Belkin Flash Drive, Bluetooth"
   ]
  },
  {
   "cell_type": "code",
   "execution_count": null,
   "metadata": {
    "id": "6LahOfrbGBgP"
   },
   "outputs": [],
   "source": [
    "df4=df[df.Profit>0]\n",
    "df4=df4.loc[df4.Category=='Technology']\n",
    "\n",
    "df4['Profit_per_qty']=df4['Profit']/df4['Quantity']\n",
    "\n",
    "df4.sort_values(by='Profit_per_qty',ascending=True)"
   ]
  }
 ],
 "metadata": {
  "colab": {
   "collapsed_sections": [],
   "name": "Pandas_graded_questions (2).ipynb",
   "provenance": []
  },
  "kernelspec": {
   "display_name": "Python 3 (ipykernel)",
   "language": "python",
   "name": "python3"
  },
  "language_info": {
   "codemirror_mode": {
    "name": "ipython",
    "version": 3
   },
   "file_extension": ".py",
   "mimetype": "text/x-python",
   "name": "python",
   "nbconvert_exporter": "python",
   "pygments_lexer": "ipython3",
   "version": "3.11.4"
  }
 },
 "nbformat": 4,
 "nbformat_minor": 1
}
