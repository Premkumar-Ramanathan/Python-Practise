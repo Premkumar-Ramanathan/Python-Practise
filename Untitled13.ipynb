{
 "cells": [
  {
   "cell_type": "code",
   "execution_count": 7,
   "id": "9af37b93",
   "metadata": {},
   "outputs": [
    {
     "ename": "IndentationError",
     "evalue": "unexpected indent (11397007.py, line 2)",
     "output_type": "error",
     "traceback": [
      "\u001b[1;36m  Cell \u001b[1;32mIn[7], line 2\u001b[1;36m\u001b[0m\n\u001b[1;33m    z = x * y + x + y\u001b[0m\n\u001b[1;37m    ^\u001b[0m\n\u001b[1;31mIndentationError\u001b[0m\u001b[1;31m:\u001b[0m unexpected indent\n"
     ]
    }
   ],
   "source": [
    "func(x, y)\n",
    "    z = x * y + x + y\n",
    "func(2,3)"
   ]
  },
  {
   "cell_type": "code",
   "execution_count": 21,
   "id": "24f4a165",
   "metadata": {},
   "outputs": [
    {
     "data": {
      "text/plain": [
       "35"
      ]
     },
     "execution_count": 21,
     "metadata": {},
     "output_type": "execute_result"
    }
   ],
   "source": [
    "def func(x = 1 ,y = 2):\n",
    "    z = x * y + x + y\n",
    "    return z\n",
    "\n",
    "func(2, func(3))"
   ]
  },
  {
   "cell_type": "code",
   "execution_count": 18,
   "id": "8a16567f",
   "metadata": {},
   "outputs": [
    {
     "name": "stdout",
     "output_type": "stream",
     "text": [
      "['m', 'a', 'l', 'a', 'y', 'a', 'l', 'a']\n"
     ]
    }
   ],
   "source": [
    "str1='Malayalam'\n",
    "lst=list(str1)\n",
    "palin=[]\n",
    "for i in range(len(lst)-1,0,-1):\n",
    "    palin.append(lst[i])\n",
    "print(palin)"
   ]
  },
  {
   "cell_type": "code",
   "execution_count": 28,
   "id": "f85933c1",
   "metadata": {},
   "outputs": [
    {
     "name": "stdout",
     "output_type": "stream",
     "text": [
      "asdfaf9\n",
      "Password is invalid\n"
     ]
    }
   ],
   "source": [
    "password=input()\n",
    "up=False\n",
    "lo=False\n",
    "di=False\n",
    "for i in password:\n",
    "    if i.isupper():\n",
    "        up=True\n",
    "    elif i.islower():\n",
    "        lo=True\n",
    "    elif i.isdigit():\n",
    "        di=True\n",
    "if up and lo and di:\n",
    "    print('Password is valid')\n",
    "else:\n",
    "    print('Password is invalid')"
   ]
  },
  {
   "cell_type": "code",
   "execution_count": 30,
   "id": "cc6aa3f2",
   "metadata": {},
   "outputs": [
    {
     "name": "stdout",
     "output_type": "stream",
     "text": [
      "2\n",
      "4\n",
      "6\n",
      "8\n",
      "10\n"
     ]
    }
   ],
   "source": [
    "def even_num(x):\n",
    "    for i in range(1,x+1,1):\n",
    "        if i%2==0:\n",
    "            print(i)\n",
    "\n",
    "even_num(10)"
   ]
  },
  {
   "cell_type": "code",
   "execution_count": 32,
   "id": "1d4f4617",
   "metadata": {},
   "outputs": [],
   "source": [
    "f=lambda x:x**2"
   ]
  },
  {
   "cell_type": "code",
   "execution_count": 33,
   "id": "f47c0323",
   "metadata": {},
   "outputs": [
    {
     "data": {
      "text/plain": [
       "16"
      ]
     },
     "execution_count": 33,
     "metadata": {},
     "output_type": "execute_result"
    }
   ],
   "source": [
    "f(4)"
   ]
  },
  {
   "cell_type": "code",
   "execution_count": 40,
   "id": "27bf4603",
   "metadata": {},
   "outputs": [],
   "source": [
    "l=[1,2,3,4,5]"
   ]
  },
  {
   "cell_type": "code",
   "execution_count": 39,
   "id": "d8b1b471",
   "metadata": {},
   "outputs": [
    {
     "data": {
      "text/plain": [
       "<function __main__.<lambda>(l)>"
      ]
     },
     "execution_count": 39,
     "metadata": {},
     "output_type": "execute_result"
    }
   ],
   "source": [
    "addsum"
   ]
  },
  {
   "cell_type": "code",
   "execution_count": 41,
   "id": "30206e62",
   "metadata": {},
   "outputs": [],
   "source": [
    "addsum=lambda l:sum(l)"
   ]
  },
  {
   "cell_type": "code",
   "execution_count": 42,
   "id": "bb5d95f6",
   "metadata": {},
   "outputs": [
    {
     "data": {
      "text/plain": [
       "<function __main__.<lambda>(l)>"
      ]
     },
     "execution_count": 42,
     "metadata": {},
     "output_type": "execute_result"
    }
   ],
   "source": [
    "addsum"
   ]
  },
  {
   "cell_type": "code",
   "execution_count": 43,
   "id": "74dc6acb",
   "metadata": {},
   "outputs": [],
   "source": [
    "l=[1,4,13,-3,-353,3,44]\n",
    "posnum=lambda l:l>0\n",
    "print(posnum)"
   ]
  },
  {
   "cell_type": "code",
   "execution_count": 44,
   "id": "005459ac",
   "metadata": {},
   "outputs": [],
   "source": [
    "pos=lambda l:l>0"
   ]
  },
  {
   "cell_type": "code",
   "execution_count": 45,
   "id": "0deb913b",
   "metadata": {},
   "outputs": [
    {
     "data": {
      "text/plain": [
       "<function __main__.<lambda>(l)>"
      ]
     },
     "execution_count": 45,
     "metadata": {},
     "output_type": "execute_result"
    }
   ],
   "source": [
    "pos"
   ]
  },
  {
   "cell_type": "code",
   "execution_count": null,
   "id": "16a411e5",
   "metadata": {},
   "outputs": [],
   "source": []
  },
  {
   "cell_type": "code",
   "execution_count": null,
   "id": "ffc8a2c3",
   "metadata": {},
   "outputs": [],
   "source": []
  }
 ],
 "metadata": {
  "kernelspec": {
   "display_name": "Python 3 (ipykernel)",
   "language": "python",
   "name": "python3"
  },
  "language_info": {
   "codemirror_mode": {
    "name": "ipython",
    "version": 3
   },
   "file_extension": ".py",
   "mimetype": "text/x-python",
   "name": "python",
   "nbconvert_exporter": "python",
   "pygments_lexer": "ipython3",
   "version": "3.11.4"
  }
 },
 "nbformat": 4,
 "nbformat_minor": 5
}
