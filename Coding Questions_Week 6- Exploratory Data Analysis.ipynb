{
 "cells": [
  {
   "cell_type": "code",
   "execution_count": 1,
   "id": "be174e6d",
   "metadata": {},
   "outputs": [],
   "source": [
    "import requests\n",
    "## Used to send the request to the website and get the data back\n",
    "from bs4 import BeautifulSoup\n",
    "## Used to make the scrapped data processable/consumable for DS task\n",
    "\n",
    "import pandas as pd\n",
    "import numpy as np"
   ]
  },
  {
   "cell_type": "code",
   "execution_count": 4,
   "id": "361f3ef0",
   "metadata": {},
   "outputs": [
    {
     "name": "stdout",
     "output_type": "stream",
     "text": [
      "<title>403 Forbidden</title>\n"
     ]
    }
   ],
   "source": [
    "url=\"http://www.imdb.com/chart/top\"\n",
    "r=requests.get(url)\n",
    "soup=BeautifulSoup(r.content,'html.parser')\n",
    "#print(soup.prettify())\n",
    "print(soup.title)"
   ]
  },
  {
   "cell_type": "code",
   "execution_count": null,
   "id": "b8b0c438",
   "metadata": {},
   "outputs": [],
   "source": []
  },
  {
   "cell_type": "code",
   "execution_count": 11,
   "id": "751e713c",
   "metadata": {},
   "outputs": [
    {
     "name": "stdout",
     "output_type": "stream",
     "text": [
      "['1994', '1972', '2008', '1993', '2003', '1957', '1974', '1994', '1999', '2010', '2001', '1994', '1966', '2002', '2021', '2022', '2023', '2014', '1990', '1999', '1975', '1980', '2022', '2020', '1991', '1995', '1998', '1977', '1999', '1991', '2001', '2002', '1997', '1946', '1954', '1962', '2022', 'I) (2023', '1979', '2000', '2006', '2019', '2006', '1985', '2014', '2012', '1960', '1994', '1995', '1994', '1998', '2002', '2011', '1942', '1954', '1988', '1968', '1988', '1936', 'II) (2018', '1931', '1980', 'I) (2019', '2009', '2019', '1985', '2003', '2012', '1986', '1979', '2018', '2000', 'I) (2017', '1981', '2018', '1984', '2009', '2016', '2008', '2006', '1964', '2018', '1981', '1950', '1957', '1957', '1940', '2019', '1963', '2021', '2019', '2021', '2022', '1999', '1995', '2000', '1983', '1997', '1971', '2004']\n"
     ]
    }
   ],
   "source": [
    "import requests\n",
    "from bs4 import BeautifulSoup\n",
    "url = \"https://www.imdb.com/search/title/?groups=top_1000&sort=user_rating,desc&count=100&start=000&ref_=adv_next\"\n",
    "response = requests.get(url)\n",
    "if response.status_code == 200:\n",
    "    soup = BeautifulSoup(response.text, 'html.parser')\n",
    "    year_elements = soup.find_all(class_='lister-item-year')\n",
    "    years = [element.get_text(strip=True) for element in year_elements]\n",
    "    years = [s.strip('()') for s in years]\n",
    "    print(years)\n",
    "else:\n",
    "    print(\"Failed to retrieve the web page. Status code:\", response.status_code)"
   ]
  },
  {
   "cell_type": "code",
   "execution_count": null,
   "id": "04f9acce",
   "metadata": {},
   "outputs": [],
   "source": []
  },
  {
   "cell_type": "code",
   "execution_count": 14,
   "id": "c475e1f6",
   "metadata": {},
   "outputs": [
    {
     "name": "stdout",
     "output_type": "stream",
     "text": [
      "['9.3', '9.2', '9.0', '9.0', '9.0', '9.0', '9.0', '8.9', '8.8', '8.8', '8.8', '8.8', '8.8', '8.8', '8.8', '8.8', '8.7', '8.7', '8.7', '8.7', '8.7', '8.7', '8.7', '8.7', '8.6', '8.6', '8.6', '8.6', '8.6', '8.6', '8.6', '8.6', '8.6', '8.6', '8.6', '8.6', '8.6', '8.5', '8.5', '8.5', '8.5', '8.5', '8.5', '8.5', '8.5', '8.5', '8.5', '8.5', '8.5', '8.5', '8.5', '8.5', '8.5', '8.5', '8.5', '8.5', '8.5', '8.5', '8.5', '8.5', '8.5', '8.4', '8.4', '8.4', '8.4', '8.4', '8.4', '8.4', '8.4', '8.4', '8.4', '8.4', '8.4', '8.4', '8.4', '8.4', '8.4', '8.4', '8.4', '8.4', '8.4', '8.4', '8.4', '8.4', '8.4', '8.4', '8.4', '8.4', '8.4', '8.4', '8.4', '8.4', '8.3', '8.3', '8.3', '8.3', '8.3', '8.3', '8.3', '8.3']\n"
     ]
    }
   ],
   "source": [
    "import requests\n",
    "from bs4 import BeautifulSoup\n",
    "url=\"https://www.imdb.com/search/title/?groups=top_1000&sort=user_rating,desc&count=100&start=000&ref_=adv_next\"\n",
    "response = requests.get(url)\n",
    "if response.status_code == 200:\n",
    "    soup = BeautifulSoup(response.text, 'html.parser')\n",
    "    rating_elements = soup.find_all(class_='ratings-bar')\n",
    "    rating_input = [element.get_text(strip=True) for element in rating_elements]\n",
    "    rating_output = []\n",
    "    pattern = r'\\d+\\.\\d'\n",
    "    for input_str in rating_input:\n",
    "        match = re.search(pattern, input_str)\n",
    "        if match:\n",
    "            rating = match.group(0)\n",
    "            rating_output.append(rating)\n",
    "    print(rating_output)\n",
    "else:\n",
    "    print(\"Failed to retrieve the web page. Status code:\", response.status_code)"
   ]
  },
  {
   "cell_type": "code",
   "execution_count": null,
   "id": "efa48f45",
   "metadata": {},
   "outputs": [],
   "source": []
  },
  {
   "cell_type": "code",
   "execution_count": 13,
   "id": "05ccdc21",
   "metadata": {},
   "outputs": [
    {
     "name": "stdout",
     "output_type": "stream",
     "text": [
      "['9.3', '9.2']\n"
     ]
    }
   ],
   "source": [
    "import re\n",
    "input_list = ['9.3Rate this123456789109.3/10X82Metascore', '9.2Rate this123456789109.2/10X100Metascore']\n",
    "output_list = []\n",
    "pattern = r'\\d+\\.\\d'\n",
    "for input_str in input_list:\n",
    "    match = re.search(pattern, input_str)\n",
    "    if match:\n",
    "        rating = match.group(0)\n",
    "        output_list.append(rating)\n",
    "print(output_list)"
   ]
  },
  {
   "cell_type": "code",
   "execution_count": null,
   "id": "a23a0357",
   "metadata": {},
   "outputs": [],
   "source": []
  }
 ],
 "metadata": {
  "kernelspec": {
   "display_name": "Python 3 (ipykernel)",
   "language": "python",
   "name": "python3"
  },
  "language_info": {
   "codemirror_mode": {
    "name": "ipython",
    "version": 3
   },
   "file_extension": ".py",
   "mimetype": "text/x-python",
   "name": "python",
   "nbconvert_exporter": "python",
   "pygments_lexer": "ipython3",
   "version": "3.11.4"
  }
 },
 "nbformat": 4,
 "nbformat_minor": 5
}
