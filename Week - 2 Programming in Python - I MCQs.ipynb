{
 "cells": [
  {
   "cell_type": "code",
   "execution_count": 1,
   "id": "8021385b",
   "metadata": {},
   "outputs": [
    {
     "name": "stdout",
     "output_type": "stream",
     "text": [
      "love\n"
     ]
    }
   ],
   "source": [
    "s='I love Python'\n",
    "print(s[2:6])"
   ]
  },
  {
   "cell_type": "code",
   "execution_count": 2,
   "id": "29a971e6",
   "metadata": {},
   "outputs": [
    {
     "name": "stdout",
     "output_type": "stream",
     "text": [
      "Upgr*d\n"
     ]
    }
   ],
   "source": [
    "input_string='Upgrad'\n",
    "output_string = ''\n",
    "for i in range(len(input_string)):\n",
    "    if input_string[i] == 'a':\n",
    "        output_string += '*'\n",
    "    else:\n",
    "        output_string += input_string[i]\n",
    "print(output_string)"
   ]
  },
  {
   "cell_type": "code",
   "execution_count": 3,
   "id": "ee59738e",
   "metadata": {},
   "outputs": [],
   "source": [
    "# List of processed order IDs\n",
    "processed_orders = [1050, 1051, 1052, 1054, 1058, 1060, 1061, 1062, 1065, 1066,\n",
    "                    1067, 1068, 1069, 1076, 1077, 1080, 1081, 1083, 1085, 1088,\n",
    "                    1089, 1091, 1092, 1094, 1095, 1099, 1102, 1103, 1104, 1106,\n",
    "                    1107, 1108, 1109, 1111, 1117, 1119, 1121, 1124, 1128, 1129,\n",
    "                    1131, 1136, 1137, 1139, 1140, 1141, 1144, 1148, 1150, 1152,\n",
    "                    1154, 1155, 1156, 1157, 1160, 1161, 1162, 1166, 1169, 1170,\n",
    "                    1172, 1176, 1178]\n",
    "\n",
    "# List of returned order IDs\n",
    "returned_orders = [1053, 1055, 1056, 1057, 1059, 1063, 1064, 1070, 1071,\n",
    "                   1072, 1073, 1074, 1075, 1078, 1079, 1082, 1084, 1086,\n",
    "                   1087, 1090, 1093, 1096, 1097, 1098, 1100, 1101, 1105,\n",
    "                   1110, 1112, 1113, 1114, 1115, 1116, 1118, 1120, 1122,\n",
    "                   1123, 1125, 1126, 1127, 1130, 1132, 1133, 1134, 1135,\n",
    "                   1138, 1142, 1143, 1145, 1146, 1147, 1149, 1151, 1153,\n",
    "                   1158, 1159, 1163, 1164, 1165, 1167, 1168, 1171, 1173,\n",
    "                   1174, 1175, 1177]"
   ]
  },
  {
   "cell_type": "markdown",
   "id": "8ef93cd3",
   "metadata": {},
   "source": [
    "Q1: Total Orders\n",
    "Count the total number of orders [Both processed and returned orders].\n",
    "\n",
    "63\n",
    "66\n",
    "126\n",
    "129"
   ]
  },
  {
   "cell_type": "code",
   "execution_count": 9,
   "id": "c037e0d0",
   "metadata": {},
   "outputs": [],
   "source": [
    "po=set(processed_orders)\n",
    "ro=set(returned_orders)"
   ]
  },
  {
   "cell_type": "code",
   "execution_count": 5,
   "id": "4a264bd0",
   "metadata": {},
   "outputs": [
    {
     "name": "stdout",
     "output_type": "stream",
     "text": [
      "{1152, 1154, 1155, 1156, 1157, 1160, 1161, 1162, 1166, 1169, 1170, 1172, 1176, 1050, 1051, 1052, 1178, 1054, 1058, 1060, 1061, 1062, 1065, 1066, 1067, 1068, 1069, 1076, 1077, 1080, 1081, 1083, 1085, 1088, 1089, 1091, 1092, 1094, 1095, 1099, 1102, 1103, 1104, 1106, 1107, 1108, 1109, 1111, 1117, 1119, 1121, 1124, 1128, 1129, 1131, 1136, 1137, 1139, 1140, 1141, 1144, 1148, 1150}\n"
     ]
    }
   ],
   "source": [
    "print(po)"
   ]
  },
  {
   "cell_type": "code",
   "execution_count": 11,
   "id": "2a40cc9b",
   "metadata": {},
   "outputs": [
    {
     "name": "stdout",
     "output_type": "stream",
     "text": [
      "66\n"
     ]
    }
   ],
   "source": [
    "print(len(ro))"
   ]
  },
  {
   "cell_type": "code",
   "execution_count": 12,
   "id": "48ff8369",
   "metadata": {},
   "outputs": [],
   "source": [
    "fo=po.union(ro)"
   ]
  },
  {
   "cell_type": "code",
   "execution_count": 13,
   "id": "d7b9d565",
   "metadata": {},
   "outputs": [
    {
     "name": "stdout",
     "output_type": "stream",
     "text": [
      "129\n"
     ]
    }
   ],
   "source": [
    "print(len(fo))"
   ]
  },
  {
   "cell_type": "code",
   "execution_count": 14,
   "id": "bc762118",
   "metadata": {},
   "outputs": [
    {
     "data": {
      "text/plain": [
       "True"
      ]
     },
     "execution_count": 14,
     "metadata": {},
     "output_type": "execute_result"
    }
   ],
   "source": [
    "Oid={1099}\n",
    "Oid.issubset(po)"
   ]
  },
  {
   "cell_type": "code",
   "execution_count": 15,
   "id": "4e8460e5",
   "metadata": {},
   "outputs": [
    {
     "data": {
      "text/plain": [
       "False"
      ]
     },
     "execution_count": 15,
     "metadata": {},
     "output_type": "execute_result"
    }
   ],
   "source": [
    "Oid.issubset(ro)"
   ]
  },
  {
   "cell_type": "code",
   "execution_count": 16,
   "id": "0dff925c",
   "metadata": {},
   "outputs": [
    {
     "data": {
      "text/plain": [
       "True"
      ]
     },
     "execution_count": 16,
     "metadata": {},
     "output_type": "execute_result"
    }
   ],
   "source": [
    "1099 in processed_orders"
   ]
  },
  {
   "cell_type": "code",
   "execution_count": 18,
   "id": "bdd6eaef",
   "metadata": {},
   "outputs": [
    {
     "name": "stdout",
     "output_type": "stream",
     "text": [
      "22\n",
      "66\n"
     ]
    }
   ],
   "source": [
    "count=0\n",
    "for i in range(0,len(returned_orders),1):\n",
    "    if i % 3 == 0:\n",
    "        count+=1\n",
    "print(count)\n",
    "print(len(returned_orders))"
   ]
  },
  {
   "cell_type": "code",
   "execution_count": 1,
   "id": "ce2f6bc1",
   "metadata": {},
   "outputs": [
    {
     "name": "stdout",
     "output_type": "stream",
     "text": [
      "1\n",
      "2\n",
      "3\n"
     ]
    }
   ],
   "source": [
    "D = {1:['Raj', 22], 2:['Simran', 21], 3:['Rahul', 40]}\n",
    "for val in D:\n",
    "     print(val)"
   ]
  },
  {
   "cell_type": "code",
   "execution_count": 10,
   "id": "df645b51",
   "metadata": {},
   "outputs": [
    {
     "data": {
      "text/plain": [
       "2770879"
      ]
     },
     "execution_count": 10,
     "metadata": {},
     "output_type": "execute_result"
    }
   ],
   "source": [
    "netflix = {'The Debt Collector': 1821195, 'Act of Vengeance': 2804479, 'Paradise Lost': 2195477, \"Gerald's Game\": 3650626, 'Long Shot': 638440, 'Mak Cun': 1010311, 'Our Souls at Night': 3028705, 'Out of Thin Air': 2681938, \"Paul Hollywood's Big Continental Road Trip\": 230689, 'Satu Hari': 1012350, 'Monster High: Boo York, Boo York': 1526025, 'Cultivating the Seas: History and Future of the Full-Cycle Cultured Kindai Tuna': 2762103, 'Domino': 872663, 'TUNA GIRL': 2574816, '5CM': 2647713, 'Animal World': 220789, 'Hold the Dark': 2307432, 'Lessons from a School Shooting: Notes from Dunblane': 2419534, 'Made in Mexico': 3653712, 'Single': 239278, 'The 3rd Eye': 196138, 'The Sinking Of Van Der Wijck': 2831856, 'Two Catalonias': 1337119, 'Bobby Sands: 66 Days': 2005623, 'Bard of Blood': 744998, 'Deliha 2': 3638900, 'Dragons: Rescue Riders': 3241239, 'In the Shadow of the Moon': 1213329, 'Skylines': 1840094, 'Sturgill Simpson Presents Sound & Fury': 1915540, 'The Politician': 1019394, 'Weeds on Fire': 2273090, 'Much Loved': 3039852, 'Joseph: King of Dreams': 1734449, 'Malaal': 1926128, 'The Grandmaster': 2549410, 'The Inmate': 130965, 'The Hurricane Heist': 2191538, 'Def Comedy Jam 25': 1392697, 'Restless Creature: Wendy Whelan': 2474412, 'Print the Legend': 548250, 'Birders': 3478883, 'Furie': 2755115, 'Leap!': 1401638, 'Oh! Baby (Malayalam)': 839139, 'Oh! Baby (Tamil)': 2691505, 'USS Indianapolis: Men of Courage': 3286014, 'A Wrinkle in Time': 1258861, 'Teach Us All': 2428947, 'White Island': 1152905, 'Inside Man: Most Wanted': 2812661, 'Jeff Dunham: Beside Himself': 2930368, 'China Salesman': 3377292, 'Swearnet: The Movie': 949689, 'The Bar': 620655, 'Manmadhudu 2': 1842761, 'Team Kaylie': 359856, 'Under the Eiffel Tower': 2298237, 'Audrie & Daisy': 1573055, 'Iliza Shlesinger: Confirmed Kills': 365220, 'BONDING': 1664242, 'Do Paise Ki Dhoop Chaar Aane Ki Baarish': 2770879, '20 Feet From Stardom': 2931730, 'In Darkness': 3248749, 'Gaga: Five Foot Two': 3719550, 'The Bad Batch': 3656264, 'SMOSH: The Movie': 3697506, 'King of Boys': 584112, 'Merry Men: The Real Yoruba Demons': 2035595, \"Sarah's Key\": 1337902, 'The Wedding Party 2: Destination Dubai': 1471204, 'Vagabond': 1600432, 'Battlefish': 723021, 'DRAGON PILOT: Hisone & Masotan': 602919, 'Hilda': 54948, 'Maniac': 1348196, 'Quincy': 2601704, 'Rafinha Bastos: Ultimatum': 3469996, 'The Good Cop': 2265521, 'Between Two Ferns: The Movie': 3146508, 'Criminal: France': 2021409, 'Criminal: Germany': 658824, 'Criminal: Spain': 3078634, 'Criminal: UK': 2721398, 'Daddy Issues': 2119035, \"Inside Bill's Brain: Decoding Bill Gates\": 1755104, 'The Hockey Girls': 2000507, 'Travel Mates 2': 707260, 'True: Tricky Treat Day': 3213199, 'Two Sentence Horror Stories': 2438329, 'Mad World': 2281773, 'Mobile Suit Gundam UC': 778879, 'The Bund': 1729892, 'The First Line': 674591, 'Maynard': 84986, 'Monkey Twins': 3277179, 'Bitcoin Heist': 1450158, 'I Am Not Madame Bovary': 2763830, 'Vincent N Roxxy': 1961810, \"Chef's Table: France\": 2065738}\n",
    "netflix.get('Do Paise Ki Dhoop Chaar Aane Ki Baarish')\n",
    "netflix['Do Paise Ki Dhoop Chaar Aane Ki Baarish']"
   ]
  },
  {
   "cell_type": "code",
   "execution_count": 13,
   "id": "5e3320c5",
   "metadata": {},
   "outputs": [
    {
     "name": "stdout",
     "output_type": "stream",
     "text": [
      "White Island\n",
      "20 Feet From Stardom\n"
     ]
    }
   ],
   "source": [
    "print(max(netflix))\n",
    "print(min(netflix))"
   ]
  },
  {
   "cell_type": "code",
   "execution_count": 20,
   "id": "c5014574",
   "metadata": {},
   "outputs": [
    {
     "name": "stdout",
     "output_type": "stream",
     "text": [
      "3277179\n",
      "84986\n",
      "3719550\n",
      "54948\n",
      "3650626\n",
      "1152905\n",
      "3469996\n",
      "674591\n"
     ]
    }
   ],
   "source": [
    "print(netflix['Monkey Twins'])\n",
    "print(netflix['Maynard'])\n",
    "print(netflix['Gaga: Five Foot Two'])\n",
    "print(netflix['Hilda'])\n",
    "print(netflix['Gerald\\'s Game'])\n",
    "print(netflix['White Island'])\n",
    "print(netflix['Rafinha Bastos: Ultimatum'])\n",
    "print(netflix['The First Line'])"
   ]
  },
  {
   "cell_type": "code",
   "execution_count": 28,
   "id": "32c1b0cc",
   "metadata": {},
   "outputs": [
    {
     "name": "stdout",
     "output_type": "stream",
     "text": [
      "Deliha 2 3943452\n",
      "Dragons: Rescue Riders 3996388\n",
      "Rafinha Bastos: Ultimatum 3575445\n",
      "Gaga: Five Foot Two 3756188\n"
     ]
    }
   ],
   "source": [
    "lwv={'Deliha 2':3943452,'Dragons: Rescue Riders':3996388,'Rafinha Bastos: Ultimatum':3575445,'Gaga: Five Foot Two':3756188}\n",
    "for i in lwv:\n",
    "    print(i,lwv[i])"
   ]
  },
  {
   "cell_type": "code",
   "execution_count": 29,
   "id": "9d8f61b3",
   "metadata": {},
   "outputs": [
    {
     "name": "stdout",
     "output_type": "stream",
     "text": [
      "{'Geeks': 100, 'geek': 200, 'for': 325}\n"
     ]
    }
   ],
   "source": [
    "dict1 = {'a': 12, 'for': 25, 'c': 9}\n",
    "dict2 = {'Geeks': 100, 'geek': 200, 'for': 300} \n",
    "# adding the values with common key\n",
    "for key in dict2:\n",
    "    if key in dict1:\n",
    "        dict2[key] = dict2[key] + dict1[key]\n",
    "    else:\n",
    "        pass\n",
    "print(dict2)"
   ]
  },
  {
   "cell_type": "code",
   "execution_count": 33,
   "id": "9d418fe8",
   "metadata": {},
   "outputs": [
    {
     "name": "stdout",
     "output_type": "stream",
     "text": [
      "{'Deliha 2': 7582352, 'Dragons: Rescue Riders': 7237627, 'Gaga: Five Foot Two': 7475738, 'Rafinha Bastos: Ultimatum': 7045441}\n",
      "Rafinha Bastos: Ultimatum\n"
     ]
    }
   ],
   "source": [
    "newdic={}\n",
    "for key in netflix:\n",
    "    if key in lwv:\n",
    "        newdic[key]=netflix[key]+lwv[key]\n",
    "    else:\n",
    "        pass\n",
    "print(newdic)\n",
    "print(max(newdic))"
   ]
  },
  {
   "cell_type": "code",
   "execution_count": 34,
   "id": "d0279a0d",
   "metadata": {},
   "outputs": [
    {
     "name": "stdout",
     "output_type": "stream",
     "text": [
      "Deliha 2 3943452\n",
      "Dragons: Rescue Riders 3996388\n",
      "Rafinha Bastos: Ultimatum 3575445\n",
      "Gaga: Five Foot Two 3756188\n"
     ]
    }
   ],
   "source": [
    "lwv={'Deliha 2':3943452,'Dragons: Rescue Riders':3996388,'Rafinha Bastos: Ultimatum':3575445,'Gaga: Five Foot Two':3756188}\n",
    "for i in lwv:\n",
    "    print(i,lwv[i])"
   ]
  },
  {
   "cell_type": "code",
   "execution_count": 35,
   "id": "062f61c7",
   "metadata": {},
   "outputs": [
    {
     "name": "stdout",
     "output_type": "stream",
     "text": [
      "Deliha 2 3638900\n",
      "Dragons: Rescue Riders 3241239\n",
      "Rafinha Bastos: Ultimatum 3469996\n",
      "Gaga: Five Foot Two 3719550\n"
     ]
    }
   ],
   "source": [
    "lwv={'Deliha 2':3943452,'Dragons: Rescue Riders':3996388,'Rafinha Bastos: Ultimatum':3575445,'Gaga: Five Foot Two':3756188}\n",
    "for i in lwv:\n",
    "    print(i,netflix[i])"
   ]
  },
  {
   "cell_type": "code",
   "execution_count": 37,
   "id": "1be85dfb",
   "metadata": {},
   "outputs": [
    {
     "name": "stdout",
     "output_type": "stream",
     "text": [
      "Deliha 2\n"
     ]
    }
   ],
   "source": [
    "Tv = {'BreakingBad':100, 'GameOfThrones':1292, 'TMKUC' : 88}\n",
    "Keymax = max(zip(newdic.values(), newdic.keys()))[1]\n",
    "print(Keymax)"
   ]
  },
  {
   "cell_type": "code",
   "execution_count": 39,
   "id": "eaeb5e48",
   "metadata": {},
   "outputs": [
    {
     "name": "stdout",
     "output_type": "stream",
     "text": [
      "[]\n"
     ]
    }
   ],
   "source": [
    "word = ['1','2','3','4']\n",
    "word[ : ] = [ ] \n",
    "print(word)"
   ]
  },
  {
   "cell_type": "code",
   "execution_count": 40,
   "id": "70f5726c",
   "metadata": {},
   "outputs": [
    {
     "name": "stdout",
     "output_type": "stream",
     "text": [
      "['five', 'four', 'one', 'six', 'three', 'two']\n",
      "['one', 'two', 'three', 'four', 'five', 'six']\n"
     ]
    }
   ],
   "source": [
    "L = ['one','two','three', 'four', 'five', 'six']\n",
    "print(sorted(L))\n",
    "print (L)"
   ]
  },
  {
   "cell_type": "code",
   "execution_count": 43,
   "id": "0c65a070",
   "metadata": {},
   "outputs": [
    {
     "name": "stdout",
     "output_type": "stream",
     "text": [
      "['SAS', 'R', 'PYTHON', 'SPARK']\n"
     ]
    }
   ],
   "source": [
    "#List_remove_append\n",
    "il=['SAS', 'R', 'PYTHON', 'SPSS']\n",
    "il.remove('SPSS')\n",
    "il.append('SPARK')\n",
    "print(il)"
   ]
  },
  {
   "cell_type": "code",
   "execution_count": 46,
   "id": "cb4c7d3d",
   "metadata": {},
   "outputs": [
    {
     "name": "stdout",
     "output_type": "stream",
     "text": [
      "Pythons syntax is easy to learn & Pythons syntax is very clear\n"
     ]
    }
   ],
   "source": [
    "#List to String\n",
    "ist=['Pythons syntax is easy to learn', 'Pythons syntax is very clear']\n",
    "ost=ist[0] + ' & ' + ist[1]\n",
    "print(ost)"
   ]
  },
  {
   "cell_type": "code",
   "execution_count": 47,
   "id": "06d97121",
   "metadata": {},
   "outputs": [
    {
     "data": {
      "text/plain": [
       "'Python'"
      ]
     },
     "execution_count": 47,
     "metadata": {},
     "output_type": "execute_result"
    }
   ],
   "source": [
    "input_list =  [['SAS','R'],['Tableau','SQL'],['Python','Java']]\n",
    "input_list[2][0]"
   ]
  },
  {
   "cell_type": "code",
   "execution_count": 49,
   "id": "806baee7",
   "metadata": {},
   "outputs": [
    {
     "name": "stdout",
     "output_type": "stream",
     "text": [
      "Ravi Kumar 003\n"
     ]
    }
   ],
   "source": [
    "input_str = 'Kumar_Ravi_003'\n",
    "splits=input_str.split('_')\n",
    "first_name=splits[1]\n",
    "second_name=splits[0]\n",
    "customer_code=splits[2]\n",
    "print(first_name,second_name,customer_code)"
   ]
  },
  {
   "cell_type": "code",
   "execution_count": 52,
   "id": "f8096255",
   "metadata": {},
   "outputs": [
    {
     "name": "stdout",
     "output_type": "stream",
     "text": [
      "[2, 6, 15, 4, 8]\n"
     ]
    }
   ],
   "source": [
    "L1 = [10, 20, 30, 24, 18] \n",
    "L2 = [8, 14, 15, 20, 10] \n",
    "L3 = [] \n",
    "for i in range(len(L1)):\n",
    "    L3.append(L1[i] - L2[i])\n",
    "print(L3)"
   ]
  },
  {
   "cell_type": "code",
   "execution_count": 53,
   "id": "35e11f88",
   "metadata": {},
   "outputs": [
    {
     "name": "stdout",
     "output_type": "stream",
     "text": [
      "[2, 6, 15, 4, 8]\n"
     ]
    }
   ],
   "source": [
    "L1 = [10, 20, 30, 24, 18] \n",
    "L2 = [8, 14, 15, 20, 10] \n",
    "L3 = [L1[i] - L2[i] for i in range(0, len(L1))] \n",
    "print(L3)"
   ]
  },
  {
   "cell_type": "code",
   "execution_count": null,
   "id": "507efad0",
   "metadata": {},
   "outputs": [],
   "source": [
    "#"
   ]
  }
 ],
 "metadata": {
  "kernelspec": {
   "display_name": "Python 3 (ipykernel)",
   "language": "python",
   "name": "python3"
  },
  "language_info": {
   "codemirror_mode": {
    "name": "ipython",
    "version": 3
   },
   "file_extension": ".py",
   "mimetype": "text/x-python",
   "name": "python",
   "nbconvert_exporter": "python",
   "pygments_lexer": "ipython3",
   "version": "3.11.4"
  }
 },
 "nbformat": 4,
 "nbformat_minor": 5
}
